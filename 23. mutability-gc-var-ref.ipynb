{
 "cells": [
  {
   "cell_type": "markdown",
   "id": "7d9f3710-696f-4b30-b369-b2d81d97cfe8",
   "metadata": {},
   "source": [
    "# Variable and Memory References"
   ]
  },
  {
   "cell_type": "code",
   "execution_count": 1,
   "id": "2f1f5e98-afab-475f-b404-ea122c08b2f8",
   "metadata": {},
   "outputs": [
    {
     "ename": "NameError",
     "evalue": "name 'a' is not defined",
     "output_type": "error",
     "traceback": [
      "\u001b[1;31m---------------------------------------------------------------------------\u001b[0m",
      "\u001b[1;31mNameError\u001b[0m                                 Traceback (most recent call last)",
      "Cell \u001b[1;32mIn[1], line 2\u001b[0m\n\u001b[0;32m      1\u001b[0m \u001b[38;5;66;03m# python calls variable as name\u001b[39;00m\n\u001b[1;32m----> 2\u001b[0m a\n",
      "\u001b[1;31mNameError\u001b[0m: name 'a' is not defined"
     ]
    }
   ],
   "source": [
    "# python calls variable as name\n",
    "a"
   ]
  },
  {
   "cell_type": "markdown",
   "id": "917dfc7b-cb9c-4b90-a6a8-ad42337dbba1",
   "metadata": {},
   "source": [
    "## Call by Object Reference\n",
    "## Variable Assignment:\n",
    "a = 4<br>\n",
    "a = 4: a points to memory location of 4.<br>\n",
    "4 stored in a: 4 in memory, a ---> 4's address."
   ]
  },
  {
   "cell_type": "code",
   "execution_count": 3,
   "id": "3cbba270-ed68-4701-83e1-7846f90dc59b",
   "metadata": {},
   "outputs": [
    {
     "data": {
      "text/plain": [
       "140723551187976"
      ]
     },
     "execution_count": 3,
     "metadata": {},
     "output_type": "execute_result"
    }
   ],
   "source": [
    "a=4\n",
    "id(a)"
   ]
  },
  {
   "cell_type": "code",
   "execution_count": 4,
   "id": "70de7bd5-c714-4a18-850f-44e5baf28dc3",
   "metadata": {},
   "outputs": [
    {
     "data": {
      "text/plain": [
       "'0x7ffcc147b408'"
      ]
     },
     "execution_count": 4,
     "metadata": {},
     "output_type": "execute_result"
    }
   ],
   "source": [
    "hex(140723551187976)"
   ]
  },
  {
   "cell_type": "code",
   "execution_count": 5,
   "id": "15cc8fc0-de43-4b8d-85d5-f0e6aa6d40b9",
   "metadata": {},
   "outputs": [
    {
     "data": {
      "text/plain": [
       "140723551187976"
      ]
     },
     "execution_count": 5,
     "metadata": {},
     "output_type": "execute_result"
    }
   ],
   "source": [
    "id(4)"
   ]
  },
  {
   "cell_type": "markdown",
   "id": "7421a680-2eea-4b3d-8401-d7b411d2c708",
   "metadata": {},
   "source": [
    "## Aliasing"
   ]
  },
  {
   "cell_type": "code",
   "execution_count": 6,
   "id": "8e4b9315-f880-491a-82a1-367842b0c193",
   "metadata": {},
   "outputs": [],
   "source": [
    "a = 5\n",
    "b = a\n",
    "# aliasing"
   ]
  },
  {
   "cell_type": "code",
   "execution_count": 7,
   "id": "75f80b91-ca2a-4151-9468-5ddbd259448f",
   "metadata": {},
   "outputs": [
    {
     "data": {
      "text/plain": [
       "140723551188008"
      ]
     },
     "execution_count": 7,
     "metadata": {},
     "output_type": "execute_result"
    }
   ],
   "source": [
    "id(a)"
   ]
  },
  {
   "cell_type": "code",
   "execution_count": 8,
   "id": "86ce699b-c8ff-462a-b28f-110070cf8ab4",
   "metadata": {},
   "outputs": [
    {
     "data": {
      "text/plain": [
       "140723551188008"
      ]
     },
     "execution_count": 8,
     "metadata": {},
     "output_type": "execute_result"
    }
   ],
   "source": [
    "id(b)"
   ]
  },
  {
   "cell_type": "code",
   "execution_count": 9,
   "id": "32771d00-156f-4fba-b654-ca480c18383a",
   "metadata": {},
   "outputs": [],
   "source": [
    "# a & b reference the same memory address."
   ]
  },
  {
   "cell_type": "code",
   "execution_count": 10,
   "id": "5c15aea3-bf36-408a-98db-953cc9bf728e",
   "metadata": {},
   "outputs": [],
   "source": [
    "c = b"
   ]
  },
  {
   "cell_type": "code",
   "execution_count": 11,
   "id": "ea00d694-777b-4ffb-826c-db0db97daadf",
   "metadata": {},
   "outputs": [
    {
     "data": {
      "text/plain": [
       "140723551188008"
      ]
     },
     "execution_count": 11,
     "metadata": {},
     "output_type": "execute_result"
    }
   ],
   "source": [
    "id(c)"
   ]
  },
  {
   "cell_type": "code",
   "execution_count": 12,
   "id": "e2fed56a-771d-4e7f-8938-e75134823c64",
   "metadata": {},
   "outputs": [],
   "source": [
    "# c also starts pointing the same memory address."
   ]
  },
  {
   "cell_type": "code",
   "execution_count": 13,
   "id": "f66c4654-b5d7-4c8d-b472-adcfc7912d47",
   "metadata": {},
   "outputs": [],
   "source": [
    "del(a)"
   ]
  },
  {
   "cell_type": "code",
   "execution_count": 14,
   "id": "f8260144-fa34-4608-a575-75bb9c9cb036",
   "metadata": {},
   "outputs": [
    {
     "data": {
      "text/plain": [
       "5"
      ]
     },
     "execution_count": 14,
     "metadata": {},
     "output_type": "execute_result"
    }
   ],
   "source": [
    "b"
   ]
  },
  {
   "cell_type": "code",
   "execution_count": 15,
   "id": "2b65a7b0-28cd-4ec2-b0cc-94de538e2243",
   "metadata": {},
   "outputs": [],
   "source": [
    "del(b)"
   ]
  },
  {
   "cell_type": "code",
   "execution_count": 16,
   "id": "745e5189-393b-4f43-945d-7bf6f60af6e2",
   "metadata": {},
   "outputs": [
    {
     "data": {
      "text/plain": [
       "5"
      ]
     },
     "execution_count": 16,
     "metadata": {},
     "output_type": "execute_result"
    }
   ],
   "source": [
    "c"
   ]
  },
  {
   "cell_type": "code",
   "execution_count": 17,
   "id": "70b4d597-e54d-42e9-90df-bdff6f7bbbdb",
   "metadata": {},
   "outputs": [],
   "source": [
    "# removing reference, not actual value/name. original value remains intact."
   ]
  },
  {
   "cell_type": "code",
   "execution_count": 18,
   "id": "ce057857-361e-4ef1-a99a-ae2c35403fc2",
   "metadata": {},
   "outputs": [],
   "source": [
    "a  = 5\n",
    "b = a\n",
    "a = 6"
   ]
  },
  {
   "cell_type": "code",
   "execution_count": 19,
   "id": "db3b5486-c292-4a5f-88cc-9f761e133a01",
   "metadata": {},
   "outputs": [
    {
     "data": {
      "text/plain": [
       "5"
      ]
     },
     "execution_count": 19,
     "metadata": {},
     "output_type": "execute_result"
    }
   ],
   "source": [
    "b"
   ]
  },
  {
   "cell_type": "code",
   "execution_count": 20,
   "id": "6bcc0be1-b089-4e57-8123-c419fd88ea78",
   "metadata": {},
   "outputs": [],
   "source": [
    "# Initially, a = b = 5\n",
    "# Changing a to 6 leaves b at 5"
   ]
  },
  {
   "cell_type": "markdown",
   "id": "82d94ffe-f36b-4715-a574-4f213fa5bbaa",
   "metadata": {},
   "source": [
    "## Reference Counting"
   ]
  },
  {
   "cell_type": "code",
   "execution_count": 21,
   "id": "9a80899c-056b-4239-a6b7-be1c07644353",
   "metadata": {},
   "outputs": [],
   "source": [
    "# Reference Counting tracks variables referencing a memory address.\n",
    "a = \"erherherh\" # Memory address X\n",
    "b = a           # b ---> X\n",
    "c = b           # c ---> X"
   ]
  },
  {
   "cell_type": "code",
   "execution_count": 22,
   "id": "14d325e4-2fc9-4efc-82e3-9453b6113f44",
   "metadata": {},
   "outputs": [
    {
     "data": {
      "text/plain": [
       "2350667564592"
      ]
     },
     "execution_count": 22,
     "metadata": {},
     "output_type": "execute_result"
    }
   ],
   "source": [
    "id(a)"
   ]
  },
  {
   "cell_type": "code",
   "execution_count": 23,
   "id": "1bf4c4df-f35c-4bc1-aa60-916c6c6920ad",
   "metadata": {},
   "outputs": [
    {
     "data": {
      "text/plain": [
       "2350667564592"
      ]
     },
     "execution_count": 23,
     "metadata": {},
     "output_type": "execute_result"
    }
   ],
   "source": [
    "id(b)"
   ]
  },
  {
   "cell_type": "code",
   "execution_count": 24,
   "id": "dd5e561e-2c65-4c2d-8d57-2779198d0f9e",
   "metadata": {},
   "outputs": [
    {
     "data": {
      "text/plain": [
       "2350667564592"
      ]
     },
     "execution_count": 24,
     "metadata": {},
     "output_type": "execute_result"
    }
   ],
   "source": [
    "id(c)"
   ]
  },
  {
   "cell_type": "code",
   "execution_count": 25,
   "id": "8048e6bd-8037-4ffc-841a-6250f40705df",
   "metadata": {},
   "outputs": [
    {
     "data": {
      "text/plain": [
       "'erherherh'"
      ]
     },
     "execution_count": 25,
     "metadata": {},
     "output_type": "execute_result"
    }
   ],
   "source": [
    "b"
   ]
  },
  {
   "cell_type": "code",
   "execution_count": 26,
   "id": "ca1ea432-7021-45b8-908d-112080141542",
   "metadata": {},
   "outputs": [
    {
     "data": {
      "text/plain": [
       "'erherherh'"
      ]
     },
     "execution_count": 26,
     "metadata": {},
     "output_type": "execute_result"
    }
   ],
   "source": [
    "c"
   ]
  },
  {
   "cell_type": "code",
   "execution_count": 27,
   "id": "43911708-f5b1-4cd8-b313-cc0bc3a8056f",
   "metadata": {},
   "outputs": [],
   "source": [
    "import sys"
   ]
  },
  {
   "cell_type": "code",
   "execution_count": 28,
   "id": "b8ce230d-ce5c-4a07-9d98-0fea051f9926",
   "metadata": {},
   "outputs": [
    {
     "data": {
      "text/plain": [
       "16"
      ]
     },
     "execution_count": 28,
     "metadata": {},
     "output_type": "execute_result"
    }
   ],
   "source": [
    "sys.getrefcount(a)"
   ]
  },
  {
   "cell_type": "markdown",
   "id": "a4053e4c-e767-414d-bf73-f447aa0a7cc8",
   "metadata": {},
   "source": [
    "<b>sys.getrefcount():</b><br>\n",
    "Shows +1 reference count.<br>\n",
    "Internally adds a temporary reference."
   ]
  },
  {
   "cell_type": "code",
   "execution_count": 30,
   "id": "6a8e3f8e-00f3-41eb-92f1-8184e6ff5148",
   "metadata": {},
   "outputs": [],
   "source": [
    "a = \"abcdef\"\n",
    "b = a\n",
    "c = b"
   ]
  },
  {
   "cell_type": "code",
   "execution_count": 31,
   "id": "72a49624-4522-49e9-b0a8-f6f2559fd486",
   "metadata": {
    "jupyter": {
     "source_hidden": true
    }
   },
   "outputs": [
    {
     "data": {
      "text/plain": [
       "4294967295"
      ]
     },
     "execution_count": 31,
     "metadata": {},
     "output_type": "execute_result"
    }
   ],
   "source": [
    "sys.getrefcount(a)"
   ]
  },
  {
   "cell_type": "markdown",
   "id": "5d8826d0-9722-4af4-94ca-6c0ed4d7ea8e",
   "metadata": {},
   "source": [
    "## Garbage Collection\n",
    "<b>Unused memory</b> remains after references are deleted.<br>\n",
    "<b>Garbage Collector</b> manages and frees this space.<br>\n",
    "Periodic deletion of unreferenced values is called <b>Garbage Collection</b><br>\n",
    "## Wierd Stuff\n",
    "### Python's Wierd Behaviour/Oddities:\n",
    "1.<b>Ref Count Anomaly/Getrefcount Anomaly:</b> sys.getrefcount() shows an extra count due to temp ref.<br>\n",
    "2.<b>Integer Caching:</b> Caches -5 to 256 integers for optimization.<br>\n",
    "3.<b>String Interning:</b> Same string literals share memory."
   ]
  },
  {
   "cell_type": "code",
   "execution_count": 32,
   "id": "f4b6954c-ecfc-4ef2-89f6-1294a4d4fe2b",
   "metadata": {},
   "outputs": [],
   "source": [
    "# WB 1\n",
    "a = 2\n",
    "b = a\n",
    "c = b"
   ]
  },
  {
   "cell_type": "code",
   "execution_count": 33,
   "id": "e5335d9a-d910-41fe-9e1d-a69ce439d78c",
   "metadata": {},
   "outputs": [
    {
     "data": {
      "text/plain": [
       "4294967295"
      ]
     },
     "execution_count": 33,
     "metadata": {},
     "output_type": "execute_result"
    }
   ],
   "source": [
    "sys.getrefcount(a)"
   ]
  },
  {
   "cell_type": "code",
   "execution_count": 34,
   "id": "7b59f37a-74d6-41b5-a44f-ee8bec903719",
   "metadata": {},
   "outputs": [],
   "source": [
    "# System vars often use 2.\n",
    "# a = 2 ---> a points to 2's existing mem loc, no new 2 created."
   ]
  },
  {
   "cell_type": "code",
   "execution_count": 35,
   "id": "b48ff67b-de82-47f2-83c6-cd7f8f4ff6ab",
   "metadata": {},
   "outputs": [],
   "source": [
    "a = 61\n",
    "b = a\n",
    "c = b"
   ]
  },
  {
   "cell_type": "code",
   "execution_count": 36,
   "id": "dc7c7440-5146-4991-9dd3-8b0daf1859f8",
   "metadata": {},
   "outputs": [
    {
     "data": {
      "text/plain": [
       "4294967295"
      ]
     },
     "execution_count": 36,
     "metadata": {},
     "output_type": "execute_result"
    }
   ],
   "source": [
    "sys.getrefcount(a)"
   ]
  },
  {
   "cell_type": "code",
   "execution_count": 37,
   "id": "eca01e6a-6400-42c1-a182-16a24942a480",
   "metadata": {},
   "outputs": [],
   "source": [
    "a = 717\n",
    "b = a\n",
    "c = b"
   ]
  },
  {
   "cell_type": "code",
   "execution_count": 38,
   "id": "68d50a38-eca3-4408-949b-34e8d935b735",
   "metadata": {},
   "outputs": [
    {
     "data": {
      "text/plain": [
       "4"
      ]
     },
     "execution_count": 38,
     "metadata": {},
     "output_type": "execute_result"
    }
   ],
   "source": [
    "sys.getrefcount(a)"
   ]
  },
  {
   "cell_type": "code",
   "execution_count": 39,
   "id": "a1428a53-247b-46e4-b65c-334e7ed7fe7e",
   "metadata": {},
   "outputs": [],
   "source": [
    "a = 717\n",
    "# this is not aliasing"
   ]
  },
  {
   "cell_type": "code",
   "execution_count": 40,
   "id": "7140668a-4e25-49df-be8d-51157601bff2",
   "metadata": {},
   "outputs": [
    {
     "data": {
      "text/plain": [
       "2"
      ]
     },
     "execution_count": 40,
     "metadata": {},
     "output_type": "execute_result"
    }
   ],
   "source": [
    "sys.getrefcount(a)"
   ]
  },
  {
   "cell_type": "code",
   "execution_count": 41,
   "id": "6adadebe-bb75-4296-ae13-5f4d45489363",
   "metadata": {},
   "outputs": [],
   "source": [
    "d = c\n",
    "# this is aliasing"
   ]
  },
  {
   "cell_type": "code",
   "execution_count": 42,
   "id": "5cda3345-b61d-47ab-bf01-29ca97189673",
   "metadata": {},
   "outputs": [
    {
     "data": {
      "text/plain": [
       "2"
      ]
     },
     "execution_count": 42,
     "metadata": {},
     "output_type": "execute_result"
    }
   ],
   "source": [
    "sys.getrefcount(a)"
   ]
  },
  {
   "cell_type": "code",
   "execution_count": 43,
   "id": "293805bc-fbd7-4c0e-b459-0078c97caccb",
   "metadata": {},
   "outputs": [],
   "source": [
    "a = 4\n",
    "b = 4"
   ]
  },
  {
   "cell_type": "code",
   "execution_count": 44,
   "id": "e3c7178b-c837-4397-9750-7d030c709df7",
   "metadata": {},
   "outputs": [
    {
     "data": {
      "text/plain": [
       "140723551187976"
      ]
     },
     "execution_count": 44,
     "metadata": {},
     "output_type": "execute_result"
    }
   ],
   "source": [
    "id(a)"
   ]
  },
  {
   "cell_type": "code",
   "execution_count": 45,
   "id": "ce3a1dcf-10fc-4176-90a5-17a3daa147d2",
   "metadata": {},
   "outputs": [
    {
     "data": {
      "text/plain": [
       "140723551187976"
      ]
     },
     "execution_count": 45,
     "metadata": {},
     "output_type": "execute_result"
    }
   ],
   "source": [
    "id(b)"
   ]
  },
  {
   "cell_type": "code",
   "execution_count": 46,
   "id": "783b5608-2cb3-4a26-8bd3-3ef14e079757",
   "metadata": {},
   "outputs": [],
   "source": [
    "a = 256\n",
    "b = 256"
   ]
  },
  {
   "cell_type": "code",
   "execution_count": 47,
   "id": "2e309809-84c3-4e8f-aa08-29ea2f1906da",
   "metadata": {},
   "outputs": [
    {
     "data": {
      "text/plain": [
       "140723551196040"
      ]
     },
     "execution_count": 47,
     "metadata": {},
     "output_type": "execute_result"
    }
   ],
   "source": [
    "id(a)"
   ]
  },
  {
   "cell_type": "code",
   "execution_count": 48,
   "id": "dc4eb0da-9020-4638-bd32-975e213c7593",
   "metadata": {},
   "outputs": [
    {
     "data": {
      "text/plain": [
       "140723551196040"
      ]
     },
     "execution_count": 48,
     "metadata": {},
     "output_type": "execute_result"
    }
   ],
   "source": [
    "id(b)"
   ]
  },
  {
   "cell_type": "code",
   "execution_count": 49,
   "id": "40a8aec0-2ede-4d4e-981f-d82d852b9ccb",
   "metadata": {},
   "outputs": [],
   "source": [
    "a = 257\n",
    "b = 257"
   ]
  },
  {
   "cell_type": "code",
   "execution_count": 50,
   "id": "b87cbcb8-5a83-447d-97dd-9308de53fae2",
   "metadata": {},
   "outputs": [
    {
     "data": {
      "text/plain": [
       "2350666407568"
      ]
     },
     "execution_count": 50,
     "metadata": {},
     "output_type": "execute_result"
    }
   ],
   "source": [
    "id(a)"
   ]
  },
  {
   "cell_type": "code",
   "execution_count": 51,
   "id": "248118d3-631a-4f53-9b49-28aadd0a1ffe",
   "metadata": {},
   "outputs": [
    {
     "data": {
      "text/plain": [
       "2350666408336"
      ]
     },
     "execution_count": 51,
     "metadata": {},
     "output_type": "execute_result"
    }
   ],
   "source": [
    "id(b)"
   ]
  },
  {
   "cell_type": "code",
   "execution_count": 52,
   "id": "e545b5b2-5c2c-4fdd-812b-23568f1f7749",
   "metadata": {},
   "outputs": [],
   "source": [
    "a = -5\n",
    "b = -5"
   ]
  },
  {
   "cell_type": "code",
   "execution_count": 53,
   "id": "cdeab3ee-6ebf-41f1-ac94-fd2237ab4496",
   "metadata": {},
   "outputs": [
    {
     "data": {
      "text/plain": [
       "140723551187688"
      ]
     },
     "execution_count": 53,
     "metadata": {},
     "output_type": "execute_result"
    }
   ],
   "source": [
    "id(a)"
   ]
  },
  {
   "cell_type": "code",
   "execution_count": 54,
   "id": "d2e21674-b78f-427e-a1c9-4cfd55b69b1d",
   "metadata": {},
   "outputs": [
    {
     "data": {
      "text/plain": [
       "140723551187688"
      ]
     },
     "execution_count": 54,
     "metadata": {},
     "output_type": "execute_result"
    }
   ],
   "source": [
    "id(b)"
   ]
  },
  {
   "cell_type": "code",
   "execution_count": 55,
   "id": "46173729-2354-4aa5-98e0-64c2d7306256",
   "metadata": {},
   "outputs": [],
   "source": [
    "a = -6\n",
    "b = -6"
   ]
  },
  {
   "cell_type": "code",
   "execution_count": 56,
   "id": "b1756956-11f4-4197-a464-753602020436",
   "metadata": {},
   "outputs": [
    {
     "data": {
      "text/plain": [
       "2350666411088"
      ]
     },
     "execution_count": 56,
     "metadata": {},
     "output_type": "execute_result"
    }
   ],
   "source": [
    "id(a)"
   ]
  },
  {
   "cell_type": "code",
   "execution_count": 57,
   "id": "24c10dcd-cfed-4aef-842a-5fb1c27fb75b",
   "metadata": {},
   "outputs": [
    {
     "data": {
      "text/plain": [
       "2350666410448"
      ]
     },
     "execution_count": 57,
     "metadata": {},
     "output_type": "execute_result"
    }
   ],
   "source": [
    "id(b)"
   ]
  },
  {
   "cell_type": "markdown",
   "id": "7ad65836-aae7-4097-a617-4fe76a6d33d4",
   "metadata": {},
   "source": [
    "## Variable IDs in Python\n",
    "- <b>Range -5 to 256:</b> Same ID for vars.<br>\n",
    "- <b>Outside this range:</b> Different IDs.<br>\n",
    "This is due to software optimization."
   ]
  },
  {
   "cell_type": "code",
   "execution_count": 58,
   "id": "8ea7428d-a8dc-4df8-ab23-d2393d1ca036",
   "metadata": {},
   "outputs": [],
   "source": [
    "a = 'haldia'\n",
    "b = 'haldia'"
   ]
  },
  {
   "cell_type": "code",
   "execution_count": 59,
   "id": "91473ec9-6f74-4335-b26d-58b362ff97b6",
   "metadata": {},
   "outputs": [
    {
     "data": {
      "text/plain": [
       "2350623808160"
      ]
     },
     "execution_count": 59,
     "metadata": {},
     "output_type": "execute_result"
    }
   ],
   "source": [
    "id(a)"
   ]
  },
  {
   "cell_type": "code",
   "execution_count": 60,
   "id": "a17d1df6-b621-4528-b9a1-7ac8845ab618",
   "metadata": {},
   "outputs": [
    {
     "data": {
      "text/plain": [
       "2350623808160"
      ]
     },
     "execution_count": 60,
     "metadata": {},
     "output_type": "execute_result"
    }
   ],
   "source": [
    "id(b)"
   ]
  },
  {
   "cell_type": "code",
   "execution_count": 61,
   "id": "30476d59-a874-4569-b83c-cda87aa1087b",
   "metadata": {},
   "outputs": [],
   "source": [
    "a = 'haldia inst tech'\n",
    "b = 'haldia inst tech'"
   ]
  },
  {
   "cell_type": "code",
   "execution_count": 62,
   "id": "9e2755a5-731a-442d-99bb-d7c46c87caa0",
   "metadata": {},
   "outputs": [
    {
     "data": {
      "text/plain": [
       "2350667797232"
      ]
     },
     "execution_count": 62,
     "metadata": {},
     "output_type": "execute_result"
    }
   ],
   "source": [
    "id(a)"
   ]
  },
  {
   "cell_type": "code",
   "execution_count": 63,
   "id": "7aeef408-ac30-494e-842e-0f2881518b17",
   "metadata": {},
   "outputs": [
    {
     "data": {
      "text/plain": [
       "2350667792560"
      ]
     },
     "execution_count": 63,
     "metadata": {},
     "output_type": "execute_result"
    }
   ],
   "source": [
    "id(b)"
   ]
  },
  {
   "cell_type": "code",
   "execution_count": 64,
   "id": "39c30e39-53b0-49cc-a21b-cd77479acf19",
   "metadata": {},
   "outputs": [],
   "source": [
    "a = 'haldia_inst_tech'\n",
    "b = 'haldia_inst_tech'"
   ]
  },
  {
   "cell_type": "code",
   "execution_count": 65,
   "id": "86d28814-edf7-464a-88cf-4b6f440f3e3d",
   "metadata": {},
   "outputs": [
    {
     "data": {
      "text/plain": [
       "2350667801520"
      ]
     },
     "execution_count": 65,
     "metadata": {},
     "output_type": "execute_result"
    }
   ],
   "source": [
    "id(a)"
   ]
  },
  {
   "cell_type": "code",
   "execution_count": 66,
   "id": "1db541a3-bd79-4900-8d15-13edfaa64454",
   "metadata": {},
   "outputs": [
    {
     "data": {
      "text/plain": [
       "2350667801520"
      ]
     },
     "execution_count": 66,
     "metadata": {},
     "output_type": "execute_result"
    }
   ],
   "source": [
    "id(b)"
   ]
  },
  {
   "cell_type": "code",
   "execution_count": 67,
   "id": "e4486b37-ef66-418f-93c7-2a3d2aff7d4d",
   "metadata": {},
   "outputs": [],
   "source": [
    "# Valid Identifiers yield Same IDs.\n",
    "# Invalid Identifiers creates Different IDs."
   ]
  },
  {
   "cell_type": "markdown",
   "id": "4b4358b8-a81d-4d4c-ab9f-456067f09bd9",
   "metadata": {},
   "source": [
    "## Mutability"
   ]
  },
  {
   "cell_type": "code",
   "execution_count": 68,
   "id": "8eb47113-292a-4d19-9636-3172223753c2",
   "metadata": {},
   "outputs": [],
   "source": [
    "L = [1, 2, 3]"
   ]
  },
  {
   "cell_type": "code",
   "execution_count": 69,
   "id": "07335991-c044-44d7-90fc-fa3016cf852a",
   "metadata": {},
   "outputs": [
    {
     "data": {
      "text/plain": [
       "2350667227776"
      ]
     },
     "execution_count": 69,
     "metadata": {},
     "output_type": "execute_result"
    }
   ],
   "source": [
    "id(L)"
   ]
  },
  {
   "cell_type": "code",
   "execution_count": 70,
   "id": "bf031057-4106-45b8-9198-a9942e5be148",
   "metadata": {},
   "outputs": [
    {
     "data": {
      "text/plain": [
       "140723551187880"
      ]
     },
     "execution_count": 70,
     "metadata": {},
     "output_type": "execute_result"
    }
   ],
   "source": [
    "id(1)"
   ]
  },
  {
   "cell_type": "code",
   "execution_count": 71,
   "id": "81181cf5-c310-42e0-bae3-a1bf4380a41e",
   "metadata": {},
   "outputs": [
    {
     "data": {
      "text/plain": [
       "140723551187880"
      ]
     },
     "execution_count": 71,
     "metadata": {},
     "output_type": "execute_result"
    }
   ],
   "source": [
    "id(L[0])"
   ]
  },
  {
   "cell_type": "code",
   "execution_count": 72,
   "id": "f9559914-7922-49c1-ba80-3ea869199766",
   "metadata": {},
   "outputs": [
    {
     "data": {
      "text/plain": [
       "140723551187912"
      ]
     },
     "execution_count": 72,
     "metadata": {},
     "output_type": "execute_result"
    }
   ],
   "source": [
    "id(2)"
   ]
  },
  {
   "cell_type": "code",
   "execution_count": 73,
   "id": "e6a0dc0c-f1eb-4281-a758-4c3a49f36c02",
   "metadata": {},
   "outputs": [
    {
     "data": {
      "text/plain": [
       "140723551187944"
      ]
     },
     "execution_count": 73,
     "metadata": {},
     "output_type": "execute_result"
    }
   ],
   "source": [
    "id(3)"
   ]
  },
  {
   "cell_type": "code",
   "execution_count": 74,
   "id": "6c7702fd-d2e0-4dff-9d75-cb3bb7b7e261",
   "metadata": {},
   "outputs": [],
   "source": [
    "L[2] = 1"
   ]
  },
  {
   "cell_type": "code",
   "execution_count": 75,
   "id": "704df31a-12cf-4286-ae7a-acca516fd452",
   "metadata": {},
   "outputs": [
    {
     "data": {
      "text/plain": [
       "[1, 2, 1]"
      ]
     },
     "execution_count": 75,
     "metadata": {},
     "output_type": "execute_result"
    }
   ],
   "source": [
    "L"
   ]
  },
  {
   "cell_type": "code",
   "execution_count": 76,
   "id": "479ac44c-3736-409a-b6a6-42f8395b00bf",
   "metadata": {},
   "outputs": [
    {
     "data": {
      "text/plain": [
       "140723551187880"
      ]
     },
     "execution_count": 76,
     "metadata": {},
     "output_type": "execute_result"
    }
   ],
   "source": [
    "id(L[2])"
   ]
  },
  {
   "cell_type": "code",
   "execution_count": 77,
   "id": "8cac1141-2404-4f94-ae28-0db09795db74",
   "metadata": {},
   "outputs": [],
   "source": [
    "L = [1, 2, 3, [4, 5]]"
   ]
  },
  {
   "cell_type": "markdown",
   "id": "f91a1a8a-6b01-49bb-89ad-01254bd32dae",
   "metadata": {},
   "source": [
    "## Mutability ---> Ability to modify data at its memory location.\n",
    "Depends on Data type.\n",
    "### Immutable Data Types\n",
    "- str, int, float, bool, complex, tuple\n",
    "### Mutable Data Types\n",
    "- list, dict, set"
   ]
  },
  {
   "cell_type": "code",
   "execution_count": 78,
   "id": "7b99f6bc-830a-42b0-b508-c8672f116fb8",
   "metadata": {},
   "outputs": [],
   "source": [
    "a = 'Hello'"
   ]
  },
  {
   "cell_type": "code",
   "execution_count": 79,
   "id": "3ddce4db-7410-44e8-a27b-b07d94517f2c",
   "metadata": {},
   "outputs": [
    {
     "data": {
      "text/plain": [
       "2350657981824"
      ]
     },
     "execution_count": 79,
     "metadata": {},
     "output_type": "execute_result"
    }
   ],
   "source": [
    "id(a)"
   ]
  },
  {
   "cell_type": "code",
   "execution_count": 80,
   "id": "0e2414fd-4530-45c1-8c5a-b5e896ba6a11",
   "metadata": {},
   "outputs": [],
   "source": [
    "a = a + 'World'"
   ]
  },
  {
   "cell_type": "code",
   "execution_count": 81,
   "id": "c2360b8c-5462-4b6a-8150-f20039b847da",
   "metadata": {},
   "outputs": [
    {
     "data": {
      "text/plain": [
       "'HelloWorld'"
      ]
     },
     "execution_count": 81,
     "metadata": {},
     "output_type": "execute_result"
    }
   ],
   "source": [
    "a"
   ]
  },
  {
   "cell_type": "code",
   "execution_count": 82,
   "id": "a2e98155-8ebd-47e9-baba-2cb69f8ea32d",
   "metadata": {},
   "outputs": [
    {
     "data": {
      "text/plain": [
       "2350667775536"
      ]
     },
     "execution_count": 82,
     "metadata": {},
     "output_type": "execute_result"
    }
   ],
   "source": [
    "id(a)"
   ]
  },
  {
   "cell_type": "code",
   "execution_count": 83,
   "id": "ec369971-ad43-41e5-9423-0c7eb9df552e",
   "metadata": {},
   "outputs": [],
   "source": [
    "T = (1, 2, 3)"
   ]
  },
  {
   "cell_type": "code",
   "execution_count": 84,
   "id": "c19823e4-4d65-4837-8296-df494bcec3d4",
   "metadata": {},
   "outputs": [
    {
     "data": {
      "text/plain": [
       "2350667795136"
      ]
     },
     "execution_count": 84,
     "metadata": {},
     "output_type": "execute_result"
    }
   ],
   "source": [
    "id(T)"
   ]
  },
  {
   "cell_type": "code",
   "execution_count": 85,
   "id": "0bfcceef-7408-424f-8d9d-7db1e6109202",
   "metadata": {},
   "outputs": [],
   "source": [
    "T = T + (5, 6)"
   ]
  },
  {
   "cell_type": "code",
   "execution_count": 86,
   "id": "1e312b63-abb2-4b3d-9c69-2ac82da05d90",
   "metadata": {},
   "outputs": [
    {
     "data": {
      "text/plain": [
       "(1, 2, 3, 5, 6)"
      ]
     },
     "execution_count": 86,
     "metadata": {},
     "output_type": "execute_result"
    }
   ],
   "source": [
    "T"
   ]
  },
  {
   "cell_type": "code",
   "execution_count": 87,
   "id": "71e24db6-68c2-40c1-80e8-482cdddecae9",
   "metadata": {},
   "outputs": [
    {
     "data": {
      "text/plain": [
       "2350667726368"
      ]
     },
     "execution_count": 87,
     "metadata": {},
     "output_type": "execute_result"
    }
   ],
   "source": [
    "id(T)"
   ]
  },
  {
   "cell_type": "code",
   "execution_count": 88,
   "id": "307a6519-9b65-4bc0-95b5-73ac84b34888",
   "metadata": {},
   "outputs": [],
   "source": [
    "L = [1, 2, 3]"
   ]
  },
  {
   "cell_type": "code",
   "execution_count": 89,
   "id": "ea36f65b-c425-42ae-9207-d4ea4d5ea433",
   "metadata": {},
   "outputs": [
    {
     "data": {
      "text/plain": [
       "2350652830976"
      ]
     },
     "execution_count": 89,
     "metadata": {},
     "output_type": "execute_result"
    }
   ],
   "source": [
    "id(L)"
   ]
  },
  {
   "cell_type": "code",
   "execution_count": 90,
   "id": "b7bc3f23-a1d4-4df0-83e1-632fe2be82d3",
   "metadata": {},
   "outputs": [],
   "source": [
    "L.append(4)"
   ]
  },
  {
   "cell_type": "code",
   "execution_count": 91,
   "id": "670a3b95-e852-4a8a-b2af-e1547f877edd",
   "metadata": {},
   "outputs": [
    {
     "data": {
      "text/plain": [
       "[1, 2, 3, 4]"
      ]
     },
     "execution_count": 91,
     "metadata": {},
     "output_type": "execute_result"
    }
   ],
   "source": [
    "L"
   ]
  },
  {
   "cell_type": "code",
   "execution_count": 92,
   "id": "a837d82a-0804-4ed3-8367-3fcf612f3b3b",
   "metadata": {},
   "outputs": [
    {
     "data": {
      "text/plain": [
       "2350652830976"
      ]
     },
     "execution_count": 92,
     "metadata": {},
     "output_type": "execute_result"
    }
   ],
   "source": [
    "id(L)"
   ]
  },
  {
   "cell_type": "code",
   "execution_count": 93,
   "id": "865c4573-48b3-4ff3-a6a5-f5398efcf740",
   "metadata": {},
   "outputs": [],
   "source": [
    "# Immutable Data Types:\n",
    "# Ops = new objs, new mem locs, new refs.\n",
    "\n",
    "# Mutable Data Types:\n",
    "# Ops = in-place, same addr."
   ]
  },
  {
   "cell_type": "markdown",
   "id": "b504c183-5376-4fdc-8af2-eeddc9780ce9",
   "metadata": {},
   "source": [
    "## Side Effects of Mutation"
   ]
  },
  {
   "cell_type": "code",
   "execution_count": 94,
   "id": "2ba6b5ef-0a08-4e34-9f4e-36fa204f1905",
   "metadata": {},
   "outputs": [],
   "source": [
    "# Mutability can be dangerous sometimes\n",
    "L = [1, 2, 3]"
   ]
  },
  {
   "cell_type": "code",
   "execution_count": 95,
   "id": "fdc3a0e5-3abe-4d17-94cc-334fb68e89fc",
   "metadata": {},
   "outputs": [],
   "source": [
    "L1 = L"
   ]
  },
  {
   "cell_type": "code",
   "execution_count": 96,
   "id": "552e5d2d-a6c4-4273-809b-ac84f1938ef0",
   "metadata": {},
   "outputs": [
    {
     "data": {
      "text/plain": [
       "[1, 2, 3]"
      ]
     },
     "execution_count": 96,
     "metadata": {},
     "output_type": "execute_result"
    }
   ],
   "source": [
    "L1"
   ]
  },
  {
   "cell_type": "code",
   "execution_count": 97,
   "id": "e057fe7a-b90f-417e-a6fe-1d01148fac45",
   "metadata": {},
   "outputs": [
    {
     "data": {
      "text/plain": [
       "2350667792768"
      ]
     },
     "execution_count": 97,
     "metadata": {},
     "output_type": "execute_result"
    }
   ],
   "source": [
    "id(L)"
   ]
  },
  {
   "cell_type": "code",
   "execution_count": 98,
   "id": "b78db5b9-5e2e-43f7-aa80-baee1e16ec4d",
   "metadata": {},
   "outputs": [
    {
     "data": {
      "text/plain": [
       "2350667792768"
      ]
     },
     "execution_count": 98,
     "metadata": {},
     "output_type": "execute_result"
    }
   ],
   "source": [
    "id(L1)"
   ]
  },
  {
   "cell_type": "code",
   "execution_count": 99,
   "id": "df9d50f3-496c-487e-9785-ff7aa904f029",
   "metadata": {},
   "outputs": [],
   "source": [
    "L1.append(4)"
   ]
  },
  {
   "cell_type": "code",
   "execution_count": 100,
   "id": "f68d0662-7eab-4cca-b412-a95cc60abe88",
   "metadata": {},
   "outputs": [
    {
     "data": {
      "text/plain": [
       "2350667792768"
      ]
     },
     "execution_count": 100,
     "metadata": {},
     "output_type": "execute_result"
    }
   ],
   "source": [
    "id(L1)"
   ]
  },
  {
   "cell_type": "code",
   "execution_count": 101,
   "id": "3c9f3ccc-91e3-4c83-b6c8-fe43e9bf5a3c",
   "metadata": {},
   "outputs": [
    {
     "data": {
      "text/plain": [
       "[1, 2, 3, 4]"
      ]
     },
     "execution_count": 101,
     "metadata": {},
     "output_type": "execute_result"
    }
   ],
   "source": [
    "L1"
   ]
  },
  {
   "cell_type": "code",
   "execution_count": 102,
   "id": "ef7a250d-61c7-407c-8e32-6a6e599a3de5",
   "metadata": {},
   "outputs": [
    {
     "data": {
      "text/plain": [
       "[1, 2, 3, 4]"
      ]
     },
     "execution_count": 102,
     "metadata": {},
     "output_type": "execute_result"
    }
   ],
   "source": [
    "L"
   ]
  },
  {
   "cell_type": "markdown",
   "id": "acb61a42-a50d-4cce-ac7d-b7560ce1e4ba",
   "metadata": {},
   "source": [
    "## Cloning"
   ]
  },
  {
   "cell_type": "code",
   "execution_count": 103,
   "id": "9216e417-f1ae-48b5-86cd-145eb4b6a974",
   "metadata": {},
   "outputs": [
    {
     "data": {
      "text/plain": [
       "[1, 2, 3, 4]"
      ]
     },
     "execution_count": 103,
     "metadata": {},
     "output_type": "execute_result"
    }
   ],
   "source": [
    "L"
   ]
  },
  {
   "cell_type": "code",
   "execution_count": 104,
   "id": "c864e010-8a90-44b3-af1c-66e2cc4b3651",
   "metadata": {},
   "outputs": [],
   "source": [
    "L1 = L[:]"
   ]
  },
  {
   "cell_type": "code",
   "execution_count": 105,
   "id": "9d6041f0-c8c0-46de-995f-3cccb7f242f9",
   "metadata": {},
   "outputs": [
    {
     "data": {
      "text/plain": [
       "2350667792768"
      ]
     },
     "execution_count": 105,
     "metadata": {},
     "output_type": "execute_result"
    }
   ],
   "source": [
    "id(L)"
   ]
  },
  {
   "cell_type": "code",
   "execution_count": 106,
   "id": "461421a3-fc26-4d09-9e40-94ed8c01da5a",
   "metadata": {},
   "outputs": [
    {
     "data": {
      "text/plain": [
       "2350667492608"
      ]
     },
     "execution_count": 106,
     "metadata": {},
     "output_type": "execute_result"
    }
   ],
   "source": [
    "id(L1)"
   ]
  },
  {
   "cell_type": "code",
   "execution_count": 107,
   "id": "396db40c-3831-4d27-b5e7-ae9bed0c0da7",
   "metadata": {},
   "outputs": [],
   "source": [
    "L1.append(5)"
   ]
  },
  {
   "cell_type": "code",
   "execution_count": 108,
   "id": "b1194c15-ec20-435f-8a74-7399796fde46",
   "metadata": {},
   "outputs": [
    {
     "data": {
      "text/plain": [
       "[1, 2, 3, 4, 5]"
      ]
     },
     "execution_count": 108,
     "metadata": {},
     "output_type": "execute_result"
    }
   ],
   "source": [
    "L1"
   ]
  },
  {
   "cell_type": "code",
   "execution_count": 109,
   "id": "53422648-36e1-4ee3-abfe-40f99bd5ef81",
   "metadata": {},
   "outputs": [
    {
     "data": {
      "text/plain": [
       "[1, 2, 3, 4]"
      ]
     },
     "execution_count": 109,
     "metadata": {},
     "output_type": "execute_result"
    }
   ],
   "source": [
    "L"
   ]
  },
  {
   "cell_type": "code",
   "execution_count": 110,
   "id": "2de1f55a-a8c6-4bbc-8dba-b204ce96fe8d",
   "metadata": {},
   "outputs": [],
   "source": [
    "# In cloning we create a copy of the list at a different memory address"
   ]
  },
  {
   "cell_type": "code",
   "execution_count": 111,
   "id": "9afc9248-e745-42dd-b847-01d87416b7a4",
   "metadata": {},
   "outputs": [],
   "source": [
    "a = (1, 2, 3, [4, 5])"
   ]
  },
  {
   "cell_type": "code",
   "execution_count": 112,
   "id": "bb1a601a-4b8c-46a8-aa47-d78f97b0cfeb",
   "metadata": {},
   "outputs": [
    {
     "data": {
      "text/plain": [
       "(1, 2, 3, [4, 5])"
      ]
     },
     "execution_count": 112,
     "metadata": {},
     "output_type": "execute_result"
    }
   ],
   "source": [
    "a"
   ]
  },
  {
   "cell_type": "code",
   "execution_count": 113,
   "id": "d0d12e99-0935-420e-8aee-4c9028fa51de",
   "metadata": {},
   "outputs": [],
   "source": [
    "a[-1][-1] = 500"
   ]
  },
  {
   "cell_type": "code",
   "execution_count": 114,
   "id": "8f9df64d-4216-41f1-9bc5-ec61cbb97628",
   "metadata": {},
   "outputs": [
    {
     "data": {
      "text/plain": [
       "(1, 2, 3, [4, 500])"
      ]
     },
     "execution_count": 114,
     "metadata": {},
     "output_type": "execute_result"
    }
   ],
   "source": [
    "a"
   ]
  },
  {
   "cell_type": "code",
   "execution_count": 115,
   "id": "1d95f8f3-d9bb-47d5-9ef6-38147064d732",
   "metadata": {},
   "outputs": [],
   "source": [
    "a = [1, 2, 3, (4, 5)]"
   ]
  },
  {
   "cell_type": "code",
   "execution_count": 116,
   "id": "57cb1095-da37-49f0-81c5-fdabe2639ea6",
   "metadata": {},
   "outputs": [
    {
     "data": {
      "text/plain": [
       "[1, 2, 3, (4, 5)]"
      ]
     },
     "execution_count": 116,
     "metadata": {},
     "output_type": "execute_result"
    }
   ],
   "source": [
    "a"
   ]
  },
  {
   "cell_type": "code",
   "execution_count": 117,
   "id": "98c3652c-0458-48ce-8357-25f22e2cde5e",
   "metadata": {},
   "outputs": [
    {
     "ename": "SyntaxError",
     "evalue": "cannot assign to function call here. Maybe you meant '==' instead of '='? (4218575189.py, line 1)",
     "output_type": "error",
     "traceback": [
      "\u001b[1;36m  Cell \u001b[1;32mIn[117], line 1\u001b[1;36m\u001b[0m\n\u001b[1;33m    a(-1)(-1) = 500\u001b[0m\n\u001b[1;37m    ^\u001b[0m\n\u001b[1;31mSyntaxError\u001b[0m\u001b[1;31m:\u001b[0m cannot assign to function call here. Maybe you meant '==' instead of '='?\n"
     ]
    }
   ],
   "source": [
    "a(-1)(-1) = 500"
   ]
  },
  {
   "cell_type": "code",
   "execution_count": 118,
   "id": "7e5eb0b8-d7cf-49c1-834e-c9bd64877072",
   "metadata": {},
   "outputs": [],
   "source": [
    "a = [1, 2]"
   ]
  },
  {
   "cell_type": "code",
   "execution_count": 119,
   "id": "6a667a88-899c-4dde-a159-4126cff3d7b9",
   "metadata": {},
   "outputs": [],
   "source": [
    "b = [3, 4]"
   ]
  },
  {
   "cell_type": "code",
   "execution_count": 120,
   "id": "4310b75e-e7a0-4fd9-950e-f129492110f8",
   "metadata": {},
   "outputs": [],
   "source": [
    "c = (a, b)"
   ]
  },
  {
   "cell_type": "code",
   "execution_count": 121,
   "id": "a3caa4c3-12aa-4b14-a4e8-e6d2806f5e7c",
   "metadata": {},
   "outputs": [
    {
     "data": {
      "text/plain": [
       "([1, 2], [3, 4])"
      ]
     },
     "execution_count": 121,
     "metadata": {},
     "output_type": "execute_result"
    }
   ],
   "source": [
    "c"
   ]
  },
  {
   "cell_type": "code",
   "execution_count": 122,
   "id": "e4ab96ed-7da0-416f-b815-af71f2864a09",
   "metadata": {},
   "outputs": [
    {
     "data": {
      "text/plain": [
       "2350667773376"
      ]
     },
     "execution_count": 122,
     "metadata": {},
     "output_type": "execute_result"
    }
   ],
   "source": [
    "id(a)"
   ]
  },
  {
   "cell_type": "code",
   "execution_count": 123,
   "id": "36876f89-34d5-41b9-8326-733d49f6db23",
   "metadata": {},
   "outputs": [
    {
     "data": {
      "text/plain": [
       "2350667730560"
      ]
     },
     "execution_count": 123,
     "metadata": {},
     "output_type": "execute_result"
    }
   ],
   "source": [
    "id(b)"
   ]
  },
  {
   "cell_type": "code",
   "execution_count": 124,
   "id": "cd745cc5-26f7-4423-9916-05f670ea27fd",
   "metadata": {},
   "outputs": [
    {
     "data": {
      "text/plain": [
       "2350667742912"
      ]
     },
     "execution_count": 124,
     "metadata": {},
     "output_type": "execute_result"
    }
   ],
   "source": [
    "id(c)"
   ]
  },
  {
   "cell_type": "code",
   "execution_count": 125,
   "id": "74a096ec-33d0-40b4-afa9-8d7d11bf9b74",
   "metadata": {},
   "outputs": [],
   "source": [
    "c[0][0] = 100"
   ]
  },
  {
   "cell_type": "code",
   "execution_count": 126,
   "id": "2670febe-7460-4835-a4b8-af5da4b32a5c",
   "metadata": {},
   "outputs": [
    {
     "data": {
      "text/plain": [
       "([100, 2], [3, 4])"
      ]
     },
     "execution_count": 126,
     "metadata": {},
     "output_type": "execute_result"
    }
   ],
   "source": [
    "c"
   ]
  },
  {
   "cell_type": "code",
   "execution_count": 127,
   "id": "845955eb-6ad9-4311-bf85-1ebf65f704e4",
   "metadata": {},
   "outputs": [
    {
     "data": {
      "text/plain": [
       "2350667773376"
      ]
     },
     "execution_count": 127,
     "metadata": {},
     "output_type": "execute_result"
    }
   ],
   "source": [
    "id(a)"
   ]
  },
  {
   "cell_type": "code",
   "execution_count": 128,
   "id": "65755023-0ebf-44af-83d5-9e033d0035f4",
   "metadata": {},
   "outputs": [
    {
     "data": {
      "text/plain": [
       "2350667742912"
      ]
     },
     "execution_count": 128,
     "metadata": {},
     "output_type": "execute_result"
    }
   ],
   "source": [
    "id(c)"
   ]
  },
  {
   "cell_type": "code",
   "execution_count": 129,
   "id": "0f0504e8-ef1b-429c-b02f-f48c424f3c2c",
   "metadata": {},
   "outputs": [],
   "source": [
    "L = [1, 2, 3]"
   ]
  },
  {
   "cell_type": "code",
   "execution_count": 130,
   "id": "0cc280e0-500f-49d3-a043-afbb87c720b3",
   "metadata": {},
   "outputs": [
    {
     "data": {
      "text/plain": [
       "2350653093696"
      ]
     },
     "execution_count": 130,
     "metadata": {},
     "output_type": "execute_result"
    }
   ],
   "source": [
    "id(L)"
   ]
  },
  {
   "cell_type": "code",
   "execution_count": 131,
   "id": "ede4247f-0617-4da0-a239-0dc15fada3f4",
   "metadata": {},
   "outputs": [],
   "source": [
    "L = L + [4, 5]"
   ]
  },
  {
   "cell_type": "code",
   "execution_count": 132,
   "id": "3cba5c23-39c9-4022-ba74-1acf8dbd2faf",
   "metadata": {},
   "outputs": [
    {
     "data": {
      "text/plain": [
       "2350667812672"
      ]
     },
     "execution_count": 132,
     "metadata": {},
     "output_type": "execute_result"
    }
   ],
   "source": [
    "id(L)"
   ]
  },
  {
   "cell_type": "markdown",
   "id": "7232a650-3123-40f4-af81-b0fe5cce6303",
   "metadata": {},
   "source": [
    "append, edit, insert, extend modifies list in place (mutable); same memory address.<br>\n",
    "Concatenation creates new list; different memory address."
   ]
  },
  {
   "cell_type": "code",
   "execution_count": 134,
   "id": "17bad69f-53cf-4854-bd0d-bf0a72772dc9",
   "metadata": {},
   "outputs": [
    {
     "data": {
      "text/plain": [
       "([100, 2], [3, 4])"
      ]
     },
     "execution_count": 134,
     "metadata": {},
     "output_type": "execute_result"
    }
   ],
   "source": [
    "c"
   ]
  },
  {
   "cell_type": "code",
   "execution_count": 135,
   "id": "55624a0f-57b9-458e-8067-412776c3772a",
   "metadata": {},
   "outputs": [
    {
     "ename": "TypeError",
     "evalue": "'tuple' object does not support item assignment",
     "output_type": "error",
     "traceback": [
      "\u001b[1;31m---------------------------------------------------------------------------\u001b[0m",
      "\u001b[1;31mTypeError\u001b[0m                                 Traceback (most recent call last)",
      "Cell \u001b[1;32mIn[135], line 1\u001b[0m\n\u001b[1;32m----> 1\u001b[0m c[\u001b[38;5;241m0\u001b[39m] \u001b[38;5;241m=\u001b[39m c[\u001b[38;5;241m0\u001b[39m] \u001b[38;5;241m+\u001b[39m [\u001b[38;5;241m5\u001b[39m, \u001b[38;5;241m6\u001b[39m]\n",
      "\u001b[1;31mTypeError\u001b[0m: 'tuple' object does not support item assignment"
     ]
    }
   ],
   "source": [
    "c[0] = c[0] + [5, 6]"
   ]
  },
  {
   "cell_type": "code",
   "execution_count": 136,
   "id": "6167c2ec-c650-49a6-887d-dd70693c9b86",
   "metadata": {},
   "outputs": [
    {
     "data": {
      "text/plain": [
       "([100, 2], [3, 4])"
      ]
     },
     "execution_count": 136,
     "metadata": {},
     "output_type": "execute_result"
    }
   ],
   "source": [
    "c"
   ]
  },
  {
   "cell_type": "code",
   "execution_count": 137,
   "id": "09acc170-477f-4c1d-b27b-96e34db61bbb",
   "metadata": {},
   "outputs": [
    {
     "data": {
      "text/plain": [
       "[100, 2]"
      ]
     },
     "execution_count": 137,
     "metadata": {},
     "output_type": "execute_result"
    }
   ],
   "source": [
    "a"
   ]
  },
  {
   "cell_type": "code",
   "execution_count": 138,
   "id": "41e566a8-0fd1-4e63-b285-3d97efa96436",
   "metadata": {},
   "outputs": [],
   "source": [
    "a = a + [5, 6]"
   ]
  },
  {
   "cell_type": "code",
   "execution_count": 139,
   "id": "3c53b687-9997-40d3-9cbf-f4c5c7c5b717",
   "metadata": {},
   "outputs": [
    {
     "data": {
      "text/plain": [
       "[100, 2, 5, 6]"
      ]
     },
     "execution_count": 139,
     "metadata": {},
     "output_type": "execute_result"
    }
   ],
   "source": [
    "a"
   ]
  },
  {
   "cell_type": "code",
   "execution_count": 140,
   "id": "b0034c46-c6b3-4155-a942-bfaaface3c71",
   "metadata": {},
   "outputs": [
    {
     "data": {
      "text/plain": [
       "([100, 2], [3, 4])"
      ]
     },
     "execution_count": 140,
     "metadata": {},
     "output_type": "execute_result"
    }
   ],
   "source": [
    "c"
   ]
  },
  {
   "cell_type": "code",
   "execution_count": null,
   "id": "a18bae40-a714-481b-a52f-da508145be5f",
   "metadata": {},
   "outputs": [],
   "source": []
  }
 ],
 "metadata": {
  "kernelspec": {
   "display_name": "Python 3 (ipykernel)",
   "language": "python",
   "name": "python3"
  },
  "language_info": {
   "codemirror_mode": {
    "name": "ipython",
    "version": 3
   },
   "file_extension": ".py",
   "mimetype": "text/x-python",
   "name": "python",
   "nbconvert_exporter": "python",
   "pygments_lexer": "ipython3",
   "version": "3.13.5"
  }
 },
 "nbformat": 4,
 "nbformat_minor": 5
}
