{
 "cells": [
  {
   "cell_type": "markdown",
   "id": "fa47f6d1-6bb0-432d-bd03-bcb1418ec400",
   "metadata": {},
   "source": [
    "## For Loop"
   ]
  },
  {
   "cell_type": "code",
   "execution_count": null,
   "id": "b4971e56-ea24-4375-9436-c04fe5eb0b6c",
   "metadata": {},
   "outputs": [],
   "source": [
    "# C, C++, Java Loop Syntax\n",
    "for(i=0; i<10; i++) {\n",
    "    // code\n",
    "}"
   ]
  },
  {
   "cell_type": "code",
   "execution_count": 1,
   "id": "440b55ee-754d-4c04-870e-0772ab91f4e1",
   "metadata": {},
   "outputs": [
    {
     "data": {
      "text/plain": [
       "range(1, 11)"
      ]
     },
     "execution_count": 1,
     "metadata": {},
     "output_type": "execute_result"
    }
   ],
   "source": [
    "# Range Function\n",
    "range(1, 11)"
   ]
  },
  {
   "cell_type": "code",
   "execution_count": 2,
   "id": "5f1682cb-31ac-4db0-80a4-2a110d7a7d35",
   "metadata": {},
   "outputs": [
    {
     "data": {
      "text/plain": [
       "[1, 2, 3, 4, 5, 6, 7, 8, 9, 10]"
      ]
     },
     "execution_count": 2,
     "metadata": {},
     "output_type": "execute_result"
    }
   ],
   "source": [
    "list(range(1, 11))"
   ]
  },
  {
   "cell_type": "code",
   "execution_count": 3,
   "id": "2d386021-859f-427c-9586-7d71b5c7cf0c",
   "metadata": {},
   "outputs": [
    {
     "data": {
      "text/plain": [
       "[0, 1, 2, 3, 4]"
      ]
     },
     "execution_count": 3,
     "metadata": {},
     "output_type": "execute_result"
    }
   ],
   "source": [
    "list(range(5))"
   ]
  },
  {
   "cell_type": "code",
   "execution_count": 4,
   "id": "ca165cec-8482-4f54-ad44-7aab7089dfb1",
   "metadata": {},
   "outputs": [
    {
     "data": {
      "text/plain": [
       "[0, 1, 2, 3, 4, 5, 6, 7, 8, 9, 10, 11, 12, 13, 14]"
      ]
     },
     "execution_count": 4,
     "metadata": {},
     "output_type": "execute_result"
    }
   ],
   "source": [
    "list(range(15))"
   ]
  },
  {
   "cell_type": "code",
   "execution_count": 5,
   "id": "74a28967-d736-4bb5-9c06-acc55246c1e4",
   "metadata": {},
   "outputs": [
    {
     "data": {
      "text/plain": [
       "[1, 3, 5, 7, 9]"
      ]
     },
     "execution_count": 5,
     "metadata": {},
     "output_type": "execute_result"
    }
   ],
   "source": [
    "list(range(1, 11, 2))"
   ]
  },
  {
   "cell_type": "code",
   "execution_count": 6,
   "id": "d68d4645-e66f-4567-9939-7a49241e2867",
   "metadata": {},
   "outputs": [
    {
     "data": {
      "text/plain": [
       "[1, 4, 7, 10]"
      ]
     },
     "execution_count": 6,
     "metadata": {},
     "output_type": "execute_result"
    }
   ],
   "source": [
    "list(range(1, 11, 3))"
   ]
  },
  {
   "cell_type": "code",
   "execution_count": 7,
   "id": "f8e023dd-aca1-4dd1-b0da-2074be1a8d9c",
   "metadata": {},
   "outputs": [
    {
     "data": {
      "text/plain": [
       "[10, 9, 8, 7, 6, 5, 4, 3, 2, 1]"
      ]
     },
     "execution_count": 7,
     "metadata": {},
     "output_type": "execute_result"
    }
   ],
   "source": [
    "list(range(10, 0, -1))"
   ]
  },
  {
   "cell_type": "code",
   "execution_count": 8,
   "id": "6e60cf27-c05e-4d6d-aa04-3e0308cdb4b7",
   "metadata": {},
   "outputs": [
    {
     "data": {
      "text/plain": [
       "'Kolkata'"
      ]
     },
     "execution_count": 8,
     "metadata": {},
     "output_type": "execute_result"
    }
   ],
   "source": [
    "# Sequence\n",
    "# String\n",
    "\"Kolkata\"\n"
   ]
  },
  {
   "cell_type": "code",
   "execution_count": 9,
   "id": "9a3ee230-77c7-4033-bd3b-c4c5926472bf",
   "metadata": {},
   "outputs": [
    {
     "data": {
      "text/plain": [
       "['Kolkata', 'Delhi', 'Mumbai']"
      ]
     },
     "execution_count": 9,
     "metadata": {},
     "output_type": "execute_result"
    }
   ],
   "source": [
    "[\"Kolkata\", \"Delhi\", \"Mumbai\"]"
   ]
  },
  {
   "cell_type": "code",
   "execution_count": 11,
   "id": "3a861c87-2b92-4204-aab7-ad1e3891131e",
   "metadata": {},
   "outputs": [
    {
     "data": {
      "text/plain": [
       "('Kolkata', 'Delhi', 'Mumbai')"
      ]
     },
     "execution_count": 11,
     "metadata": {},
     "output_type": "execute_result"
    }
   ],
   "source": [
    "(\"Kolkata\", \"Delhi\", \"Mumbai\")"
   ]
  },
  {
   "cell_type": "code",
   "execution_count": 12,
   "id": "c5c001c7-fbe2-4684-a603-b07de9b8b354",
   "metadata": {},
   "outputs": [
    {
     "data": {
      "text/plain": [
       "{'Delhi', 'Kolkata', 'Mumbai'}"
      ]
     },
     "execution_count": 12,
     "metadata": {},
     "output_type": "execute_result"
    }
   ],
   "source": [
    "{\"Kolkata\", \"Delhi\", \"Mumbai\"}"
   ]
  },
  {
   "cell_type": "code",
   "execution_count": 13,
   "id": "fa361c86-4007-4c8f-bffa-b5de41500bb3",
   "metadata": {},
   "outputs": [
    {
     "name": "stdout",
     "output_type": "stream",
     "text": [
      "1\n",
      "2\n",
      "3\n",
      "4\n",
      "5\n",
      "6\n",
      "7\n",
      "8\n",
      "9\n",
      "10\n"
     ]
    }
   ],
   "source": [
    "for i in range(1, 11):\n",
    "    print(i)"
   ]
  },
  {
   "cell_type": "code",
   "execution_count": 14,
   "id": "fe1a45fd-9ad5-47dd-82bb-03ec3fc6ae5a",
   "metadata": {},
   "outputs": [
    {
     "name": "stdout",
     "output_type": "stream",
     "text": [
      "1\n",
      "3\n",
      "5\n",
      "7\n",
      "9\n"
     ]
    }
   ],
   "source": [
    "for i in range(1, 11, 2):\n",
    "    print(i)"
   ]
  },
  {
   "cell_type": "code",
   "execution_count": 15,
   "id": "d27340a0-0bf1-4715-a5d6-537906248e4e",
   "metadata": {},
   "outputs": [
    {
     "name": "stdout",
     "output_type": "stream",
     "text": [
      "10\n",
      "9\n",
      "8\n",
      "7\n",
      "6\n",
      "5\n",
      "4\n",
      "3\n",
      "2\n",
      "1\n"
     ]
    }
   ],
   "source": [
    "for i in range(10, 0, -1):\n",
    "    print(i)"
   ]
  },
  {
   "cell_type": "code",
   "execution_count": 16,
   "id": "75e7ad4d-a288-4ea0-8096-63d6b084a254",
   "metadata": {},
   "outputs": [
    {
     "name": "stdout",
     "output_type": "stream",
     "text": [
      "K\n",
      "o\n",
      "l\n",
      "k\n",
      "a\n",
      "t\n",
      "a\n"
     ]
    }
   ],
   "source": [
    "for i in \"Kolkata\":\n",
    "    print(i)"
   ]
  },
  {
   "cell_type": "code",
   "execution_count": 17,
   "id": "62ffac67-3074-4fae-887d-8a38f41c6555",
   "metadata": {},
   "outputs": [
    {
     "name": "stdout",
     "output_type": "stream",
     "text": [
      "1\n",
      "2\n",
      "3\n",
      "5\n"
     ]
    }
   ],
   "source": [
    "for i in [1, 2, 3, 5]:\n",
    "    print(i)"
   ]
  },
  {
   "cell_type": "code",
   "execution_count": 18,
   "id": "3e7adbea-d4f7-40cf-8811-279754f93339",
   "metadata": {},
   "outputs": [
    {
     "name": "stdout",
     "output_type": "stream",
     "text": [
      "1\n",
      "2\n",
      "3\n",
      "5\n"
     ]
    }
   ],
   "source": [
    "for i in (1, 2, 3, 5):\n",
    "    print(i)"
   ]
  },
  {
   "cell_type": "code",
   "execution_count": 19,
   "id": "0c758eac-7daa-41f7-ad49-e323b791ed04",
   "metadata": {},
   "outputs": [
    {
     "name": "stdout",
     "output_type": "stream",
     "text": [
      "1\n",
      "2\n",
      "3\n",
      "5\n"
     ]
    }
   ],
   "source": [
    "for i in {1, 2, 3, 5}:\n",
    "    print(i)"
   ]
  },
  {
   "cell_type": "code",
   "execution_count": 20,
   "id": "215c36a0-4fd8-4204-ad8b-be985a25b77f",
   "metadata": {},
   "outputs": [
    {
     "name": "stdout",
     "output_type": "stream",
     "text": [
      "10 10000\n",
      "9 9090.90909090909\n",
      "8 8264.462809917353\n",
      "7 7513.148009015775\n",
      "6 6830.134553650703\n",
      "5 6209.213230591548\n",
      "4 5644.739300537771\n",
      "3 5131.5811823070635\n",
      "2 4665.07380209733\n",
      "1 4240.976183724845\n"
     ]
    }
   ],
   "source": [
    "# 1. Population Growth Calculation\n",
    "\n",
    "# Initial Population: 10000\n",
    "# Growth Rate: 10% annually\n",
    "# Duration: 10 years\n",
    "\n",
    "curr_pop = 10000\n",
    "for i in range(10, 0, -1):\n",
    "    print(i, curr_pop)\n",
    "    curr_pop = curr_pop / 1.1"
   ]
  },
  {
   "cell_type": "code",
   "execution_count": 21,
   "id": "3cf4bc43-cc3a-4412-a605-0eedb8e4f5e1",
   "metadata": {},
   "outputs": [
    {
     "name": "stdin",
     "output_type": "stream",
     "text": [
      "enter n:  2\n"
     ]
    },
    {
     "name": "stdout",
     "output_type": "stream",
     "text": [
      "2.0\n"
     ]
    }
   ],
   "source": [
    "# 2. Sequence Sum\n",
    "\n",
    "# Formula: 1/1! + 2/2! + 3/3! + ...\n",
    "\n",
    "n = int(input('enter n: '))\n",
    "result = 0\n",
    "fact = 1\n",
    "for i in range(1, n+1):\n",
    "    fact *= i\n",
    "    result += i / fact\n",
    "print(result)"
   ]
  },
  {
   "cell_type": "markdown",
   "id": "21a69db2-5aa5-473e-920c-61db0fe21a70",
   "metadata": {},
   "source": [
    "### For Loop : Known iterations.\n",
    "for item in iterable:\n",
    "    # Code block\n",
    "iterable: list, tuple, string, etc.\n",
    "### While Loop: Unknown iterations.\n",
    "while condition:\n",
    "    # Code block\n",
    "condition: boolean expression.\n",
    "\n",
    "- Key Differences is For Loop iterates a fixed number of times\n",
    "- While Loop iterates until condition is False.\n",
    "\n",
    "- For Loop Usage - Known iterations/sequence traversal\n",
    "- While Loop Usage - Uncertain iterations/condition-based."
   ]
  },
  {
   "cell_type": "code",
   "execution_count": null,
   "id": "054dc41b-0b51-458d-87f5-2ae9f8a55fae",
   "metadata": {},
   "outputs": [],
   "source": []
  }
 ],
 "metadata": {
  "kernelspec": {
   "display_name": "Python 3 (ipykernel)",
   "language": "python",
   "name": "python3"
  },
  "language_info": {
   "codemirror_mode": {
    "name": "ipython",
    "version": 3
   },
   "file_extension": ".py",
   "mimetype": "text/x-python",
   "name": "python",
   "nbconvert_exporter": "python",
   "pygments_lexer": "ipython3",
   "version": "3.13.5"
  }
 },
 "nbformat": 4,
 "nbformat_minor": 5
}
