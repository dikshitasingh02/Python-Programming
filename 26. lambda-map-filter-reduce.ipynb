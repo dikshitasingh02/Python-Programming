{
 "cells": [
  {
   "cell_type": "markdown",
   "id": "890a90fd-c87c-48a6-91b7-2e38db41d16c",
   "metadata": {},
   "source": [
    "# Lambda Functions\n",
    "Anonymous functions.<br>\n",
    "Single Expression Limit.<br>\n",
    "<b>Syntax:</b> lambda args: expr<br>\n",
    "<b>Example:</b> lambda a, b: a + b"
   ]
  },
  {
   "cell_type": "code",
   "execution_count": 1,
   "id": "f5ffe9d2-d883-40f8-af4e-95255d842821",
   "metadata": {},
   "outputs": [
    {
     "data": {
      "text/plain": [
       "81"
      ]
     },
     "execution_count": 1,
     "metadata": {},
     "output_type": "execute_result"
    }
   ],
   "source": [
    "x = lambda x : x**2\n",
    "x(9)"
   ]
  },
  {
   "cell_type": "code",
   "execution_count": 2,
   "id": "6857d2ba-0183-4a08-8c61-dcd314388677",
   "metadata": {},
   "outputs": [
    {
     "data": {
      "text/plain": [
       "9"
      ]
     },
     "execution_count": 2,
     "metadata": {},
     "output_type": "execute_result"
    }
   ],
   "source": [
    "a = lambda x, y : x + y\n",
    "a(4, 5)"
   ]
  },
  {
   "cell_type": "code",
   "execution_count": 3,
   "id": "8fb7edce-3f3e-41ff-b84c-d5ddc87c7bd5",
   "metadata": {},
   "outputs": [
    {
     "data": {
      "text/plain": [
       "function"
      ]
     },
     "execution_count": 3,
     "metadata": {},
     "output_type": "execute_result"
    }
   ],
   "source": [
    "type(a)"
   ]
  },
  {
   "cell_type": "markdown",
   "id": "05be87a2-97fd-433c-b444-ccb6b590ac38",
   "metadata": {},
   "source": [
    "## Lambda Function vs. Normal Function\n",
    "### Lambda function:\n",
    "- No return value.\n",
    "- Written in Single-line.\n",
    "- Not used for code reusability.\n",
    "- Anonymous/No name.\n",
    "### Normal function:\n",
    "- Has a return value.\n",
    "- Multi-line.\n",
    "- Encourages code reusability via named functions."
   ]
  },
  {
   "cell_type": "code",
   "execution_count": 1,
   "id": "f4199dca-c9f9-4fb6-85ef-7579cba6b0fa",
   "metadata": {},
   "outputs": [],
   "source": [
    "# Why?\n",
    "\n",
    "# Lambda functions are Anonymous functions ---> `lambda args: expr`,\n",
    "# ideal for Higher-order functions, offers Concise function writing without naming."
   ]
  },
  {
   "cell_type": "code",
   "execution_count": 2,
   "id": "be2acca8-415c-4ddc-8ff1-9ea00e090141",
   "metadata": {},
   "outputs": [],
   "source": [
    "# Higher Order Functions:\n",
    "\n",
    "# Functions that take/return other functions.\n",
    "# Useful for Abstraction, Code reuse.\n",
    "\n",
    "# Enhances code modularity, readability.\n",
    "# Encourages functional programming.\n",
    "\n",
    "# Can lead to Complexity and Performance overhead (if overused)."
   ]
  },
  {
   "cell_type": "code",
   "execution_count": 3,
   "id": "410fbe94-33ea-49d9-9122-f7bec2074081",
   "metadata": {},
   "outputs": [
    {
     "data": {
      "text/plain": [
       "True"
      ]
     },
     "execution_count": 3,
     "metadata": {},
     "output_type": "execute_result"
    }
   ],
   "source": [
    "b = lambda x : x[0] == 'a'\n",
    "b('apple')"
   ]
  },
  {
   "cell_type": "code",
   "execution_count": 4,
   "id": "4ce236a4-9b8f-435a-95c8-68449a25b7c2",
   "metadata": {},
   "outputs": [
    {
     "data": {
      "text/plain": [
       "False"
      ]
     },
     "execution_count": 4,
     "metadata": {},
     "output_type": "execute_result"
    }
   ],
   "source": [
    "b('banana')"
   ]
  },
  {
   "cell_type": "code",
   "execution_count": 5,
   "id": "dd2357c0-985c-4f13-a8df-b87cfdb29d70",
   "metadata": {},
   "outputs": [
    {
     "data": {
      "text/plain": [
       "'Odd'"
      ]
     },
     "execution_count": 5,
     "metadata": {},
     "output_type": "execute_result"
    }
   ],
   "source": [
    "b = lambda x :'Even' if x%2 == 0 else 'Odd'\n",
    "b(3)"
   ]
  },
  {
   "cell_type": "code",
   "execution_count": 6,
   "id": "7d0d457c-cbef-4c9e-a5d3-ba3dad72154f",
   "metadata": {},
   "outputs": [
    {
     "data": {
      "text/plain": [
       "'Even'"
      ]
     },
     "execution_count": 6,
     "metadata": {},
     "output_type": "execute_result"
    }
   ],
   "source": [
    "b(2)"
   ]
  },
  {
   "cell_type": "markdown",
   "id": "4fe4225f-29e1-41c6-a6f2-6e136dcdda8c",
   "metadata": {},
   "source": [
    "# HOF"
   ]
  },
  {
   "cell_type": "code",
   "execution_count": 1,
   "id": "29dc07f8-0de4-4f4e-ba68-b0b4589162e2",
   "metadata": {},
   "outputs": [
    {
     "name": "stdout",
     "output_type": "stream",
     "text": [
      "(206, 195, 240)\n"
     ]
    }
   ],
   "source": [
    "L = [11, 14, 27, 21, 23, 56, 78, 39, 45, 29, 28, 30]\n",
    "\n",
    "# Even Sum\n",
    "# Odd Sum\n",
    "# Div3 Sum\n",
    "\n",
    "def return_sum(L):\n",
    "    even_sum = 0\n",
    "    odd_sum = 0\n",
    "    div3_sum = 0\n",
    "    for i in L:\n",
    "        if i%2 == 0:\n",
    "            even_sum = even_sum + i\n",
    "    for i in L:\n",
    "        if i%2 != 0:\n",
    "            odd_sum = odd_sum + i\n",
    "    for i in L:\n",
    "        if i%3 == 0:\n",
    "            div3_sum = div3_sum + i\n",
    "    return(even_sum, odd_sum, div3_sum)\n",
    "print(return_sum(L))"
   ]
  },
  {
   "cell_type": "code",
   "execution_count": 2,
   "id": "41a4524a-2267-4baa-bbc1-decd347c4bd0",
   "metadata": {},
   "outputs": [
    {
     "name": "stdout",
     "output_type": "stream",
     "text": [
      "206\n",
      "195\n",
      "240\n"
     ]
    }
   ],
   "source": [
    "L = [11, 14, 27, 21, 23, 56, 78, 39, 45, 29, 28, 30]\n",
    "def return_sum(func, L):\n",
    "    result = 0\n",
    "    for i in L:\n",
    "        if func(i):\n",
    "            result = result + i\n",
    "    return result\n",
    "x = lambda x : x%2 == 0 # Even Sum\n",
    "y = lambda x : x%2 != 0 # Odd Sum\n",
    "z = lambda x : x%3 == 0 # Div3 Sum\n",
    "print(return_sum(x, L))\n",
    "print(return_sum(y, L))\n",
    "print(return_sum(z, L))"
   ]
  },
  {
   "cell_type": "markdown",
   "id": "8c0de49d-ecd5-495e-8dae-70f1f5486048",
   "metadata": {},
   "source": [
    "Higher-order functions (HOF) accepts input + define operation of function.\n",
    "# Higher-Order Functions\n",
    "1.Map<br>\n",
    "2.Filter<br>\n",
    "3.Reduce<br>\n",
    "## 1. Map\n",
    "Applies a function to each item in iterable.<br>\n",
    "<b>Syntax:</b><br>\n",
    "map(function, iterable)<br>\n",
    "Returns an Iterator of results."
   ]
  },
  {
   "cell_type": "code",
   "execution_count": 4,
   "id": "c1a25451-137b-4787-ac6e-f2a2a47b4cc2",
   "metadata": {},
   "outputs": [
    {
     "data": {
      "text/plain": [
       "[1, 2, 3, 4, 5, 6, 7]"
      ]
     },
     "execution_count": 4,
     "metadata": {},
     "output_type": "execute_result"
    }
   ],
   "source": [
    "L = [1, 2, 3, 4, 5, 6, 7]\n",
    "L"
   ]
  },
  {
   "cell_type": "code",
   "execution_count": 5,
   "id": "429e605d-900c-4d95-89f7-54147b19cb12",
   "metadata": {},
   "outputs": [
    {
     "data": {
      "text/plain": [
       "<map at 0x1e52a176290>"
      ]
     },
     "execution_count": 5,
     "metadata": {},
     "output_type": "execute_result"
    }
   ],
   "source": [
    "map(lambda x : x * 2, L)"
   ]
  },
  {
   "cell_type": "code",
   "execution_count": 6,
   "id": "b15ad288-0291-456d-9237-f3409ba4649d",
   "metadata": {},
   "outputs": [
    {
     "data": {
      "text/plain": [
       "[2, 4, 6, 8, 10, 12, 14]"
      ]
     },
     "execution_count": 6,
     "metadata": {},
     "output_type": "execute_result"
    }
   ],
   "source": [
    "list(map(lambda x : x * 2, L))"
   ]
  },
  {
   "cell_type": "code",
   "execution_count": 7,
   "id": "e72e743b-1fb0-4fa3-ae02-ffd6d327d62c",
   "metadata": {},
   "outputs": [
    {
     "data": {
      "text/plain": [
       "[False, True, False, True, False, True, False]"
      ]
     },
     "execution_count": 7,
     "metadata": {},
     "output_type": "execute_result"
    }
   ],
   "source": [
    "list(map(lambda x : x % 2 == 0, L))"
   ]
  },
  {
   "cell_type": "code",
   "execution_count": 8,
   "id": "d0caa269-9c9d-4580-aca4-32f94b840496",
   "metadata": {},
   "outputs": [
    {
     "data": {
      "text/plain": [
       "['Jacob Martin', 'Angela Stevens', 'Ricky Smart']"
      ]
     },
     "execution_count": 8,
     "metadata": {},
     "output_type": "execute_result"
    }
   ],
   "source": [
    "students = [\n",
    "    {\n",
    "        \"name\" : \"Jacob Martin\",\n",
    "        \"Father name\" : \"Ros Martin\",\n",
    "        \"Address\" : \"123 Hills Street\",\n",
    "    },{\n",
    "        \"name\" : \"Angela Stevens\",\n",
    "        \"Father name\" : \"Robert Stevens\",\n",
    "        \"Address\" : \"3 Upper Street London\",\n",
    "    },{\n",
    "        \"name\" : \"Ricky Smart\",\n",
    "        \"Father name\" : \"William Smart\",\n",
    "        \"Address\" : \"Unknown\",\n",
    "    }\n",
    "    \n",
    "]\n",
    "list(map(lambda student : student[\"name\"], students))"
   ]
  },
  {
   "cell_type": "markdown",
   "id": "89c53271-dfb6-4df8-a6bf-3f06a2e215e1",
   "metadata": {},
   "source": [
    "## 2. Filter\n",
    "Applies a function to sequence.<br>\n",
    "<b>Syntax:</b><br>\n",
    "filter(function, sequence)<br>\n",
    "Returns elements where function is True."
   ]
  },
  {
   "cell_type": "code",
   "execution_count": 9,
   "id": "7581edb8-2bab-4ee2-8cba-d537d1562f60",
   "metadata": {},
   "outputs": [
    {
     "data": {
      "text/plain": [
       "[1, 2, 3, 4, 5, 6, 7]"
      ]
     },
     "execution_count": 9,
     "metadata": {},
     "output_type": "execute_result"
    }
   ],
   "source": [
    "L"
   ]
  },
  {
   "cell_type": "code",
   "execution_count": 10,
   "id": "f5f2135e-c0d6-4272-a454-3d3dfac2e4fd",
   "metadata": {},
   "outputs": [
    {
     "data": {
      "text/plain": [
       "[5, 6, 7]"
      ]
     },
     "execution_count": 10,
     "metadata": {},
     "output_type": "execute_result"
    }
   ],
   "source": [
    "list(filter(lambda x : x > 4, L))"
   ]
  },
  {
   "cell_type": "code",
   "execution_count": 11,
   "id": "6bb3c9aa-fe41-4f65-8be5-7cf80de2cf63",
   "metadata": {},
   "outputs": [],
   "source": [
    "fruits = [\"Apple\", \"Orange\", \"Mango\", \"Guava\"]"
   ]
  },
  {
   "cell_type": "code",
   "execution_count": 12,
   "id": "dfecf2ed-3d7b-4254-b04c-5c5c4c41ba79",
   "metadata": {},
   "outputs": [
    {
     "data": {
      "text/plain": [
       "['Apple', 'Orange']"
      ]
     },
     "execution_count": 12,
     "metadata": {},
     "output_type": "execute_result"
    }
   ],
   "source": [
    "list(filter(lambda fruit : \"e\" in  fruit, fruits))"
   ]
  },
  {
   "cell_type": "markdown",
   "id": "1e34a99f-dbef-487b-b20c-5fba8530bd29",
   "metadata": {},
   "source": [
    "## 3. Reduce\n",
    "Reduces an iterable to a single value.<br>\n",
    "<b>Syntax:</b><br>\n",
    "from functools import reduce<br>\n",
    "reduce(function, iterable)<br>\n",
    "Operates on pairs of elements until a single value remains.<br>\n",
    "Useful for Cumulative Operations (e.g., sum, product).<br>"
   ]
  },
  {
   "cell_type": "code",
   "execution_count": 14,
   "id": "9fbc6506-c04f-405f-99e8-cbb1f632d2d6",
   "metadata": {},
   "outputs": [],
   "source": [
    "import functools"
   ]
  },
  {
   "cell_type": "code",
   "execution_count": 15,
   "id": "9739d51c-6b6f-4359-9452-4274e1faa4eb",
   "metadata": {},
   "outputs": [
    {
     "data": {
      "text/plain": [
       "[1, 2, 3, 4, 5, 6, 7]"
      ]
     },
     "execution_count": 15,
     "metadata": {},
     "output_type": "execute_result"
    }
   ],
   "source": [
    "L"
   ]
  },
  {
   "cell_type": "code",
   "execution_count": 16,
   "id": "59794726-335e-4716-bf69-600d37a5d675",
   "metadata": {},
   "outputs": [
    {
     "data": {
      "text/plain": [
       "28"
      ]
     },
     "execution_count": 16,
     "metadata": {},
     "output_type": "execute_result"
    }
   ],
   "source": [
    "functools.reduce(lambda x, y : x + y, L)"
   ]
  },
  {
   "cell_type": "code",
   "execution_count": 17,
   "id": "ec496f13-ed3f-478e-9feb-1af4da71dcec",
   "metadata": {},
   "outputs": [
    {
     "data": {
      "text/plain": [
       "[12, 34, 56, 11, 21, 58]"
      ]
     },
     "execution_count": 17,
     "metadata": {},
     "output_type": "execute_result"
    }
   ],
   "source": [
    "L1 = [12, 34, 56, 11, 21, 58]\n",
    "L1"
   ]
  },
  {
   "cell_type": "code",
   "execution_count": 18,
   "id": "93db4cb3-6134-4dc0-b548-3338a16da65b",
   "metadata": {},
   "outputs": [
    {
     "data": {
      "text/plain": [
       "58"
      ]
     },
     "execution_count": 18,
     "metadata": {},
     "output_type": "execute_result"
    }
   ],
   "source": [
    "functools.reduce(lambda x, y : x if x>y else y, L1)"
   ]
  },
  {
   "cell_type": "code",
   "execution_count": 19,
   "id": "84c6fe86-a130-46fd-a6aa-42bedac1a3ba",
   "metadata": {},
   "outputs": [
    {
     "data": {
      "text/plain": [
       "11"
      ]
     },
     "execution_count": 19,
     "metadata": {},
     "output_type": "execute_result"
    }
   ],
   "source": [
    "functools.reduce(lambda x, y : x if x<y else y, L1)"
   ]
  },
  {
   "cell_type": "code",
   "execution_count": null,
   "id": "364cb597-e5e8-4e39-9c64-9fd740258f83",
   "metadata": {},
   "outputs": [],
   "source": []
  }
 ],
 "metadata": {
  "kernelspec": {
   "display_name": "Python 3 (ipykernel)",
   "language": "python",
   "name": "python3"
  },
  "language_info": {
   "codemirror_mode": {
    "name": "ipython",
    "version": 3
   },
   "file_extension": ".py",
   "mimetype": "text/x-python",
   "name": "python",
   "nbconvert_exporter": "python",
   "pygments_lexer": "ipython3",
   "version": "3.13.5"
  }
 },
 "nbformat": 4,
 "nbformat_minor": 5
}
