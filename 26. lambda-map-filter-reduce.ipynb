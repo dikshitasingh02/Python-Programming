{
 "cells": [
  {
   "cell_type": "markdown",
   "id": "890a90fd-c87c-48a6-91b7-2e38db41d16c",
   "metadata": {},
   "source": [
    "# Lambda Functions\n",
    "Anonymous functions.<br>\n",
    "Single Expression Limit.<br>\n",
    "<b>Syntax:</b> lambda args: expr<br>\n",
    "<b>Example:</b> lambda a, b: a + b"
   ]
  },
  {
   "cell_type": "code",
   "execution_count": 1,
   "id": "f5ffe9d2-d883-40f8-af4e-95255d842821",
   "metadata": {},
   "outputs": [
    {
     "data": {
      "text/plain": [
       "81"
      ]
     },
     "execution_count": 1,
     "metadata": {},
     "output_type": "execute_result"
    }
   ],
   "source": [
    "x = lambda x : x**2\n",
    "x(9)"
   ]
  },
  {
   "cell_type": "code",
   "execution_count": 2,
   "id": "6857d2ba-0183-4a08-8c61-dcd314388677",
   "metadata": {},
   "outputs": [
    {
     "data": {
      "text/plain": [
       "9"
      ]
     },
     "execution_count": 2,
     "metadata": {},
     "output_type": "execute_result"
    }
   ],
   "source": [
    "a = lambda x, y : x + y\n",
    "a(4, 5)"
   ]
  },
  {
   "cell_type": "code",
   "execution_count": 3,
   "id": "8fb7edce-3f3e-41ff-b84c-d5ddc87c7bd5",
   "metadata": {},
   "outputs": [
    {
     "data": {
      "text/plain": [
       "function"
      ]
     },
     "execution_count": 3,
     "metadata": {},
     "output_type": "execute_result"
    }
   ],
   "source": [
    "type(a)"
   ]
  },
  {
   "cell_type": "markdown",
   "id": "05be87a2-97fd-433c-b444-ccb6b590ac38",
   "metadata": {},
   "source": [
    "## Lambda Function vs. Normal Function\n",
    "### Lambda function:\n",
    "- No return value.\n",
    "- Written in Single-line.\n",
    "- Not used for code reusability.\n",
    "- Anonymous/No name.\n",
    "### Normal function:\n",
    "- Has a return value.\n",
    "- Multi-line.\n",
    "- Encourages code reusability via named functions."
   ]
  },
  {
   "cell_type": "code",
   "execution_count": 1,
   "id": "f4199dca-c9f9-4fb6-85ef-7579cba6b0fa",
   "metadata": {},
   "outputs": [],
   "source": [
    "# Why?\n",
    "\n",
    "# Lambda functions are Anonymous functions ---> `lambda args: expr`,\n",
    "# ideal for Higher-order functions, offers Concise function writing without naming."
   ]
  },
  {
   "cell_type": "code",
   "execution_count": 2,
   "id": "be2acca8-415c-4ddc-8ff1-9ea00e090141",
   "metadata": {},
   "outputs": [],
   "source": [
    "# Higher Order Functions:\n",
    "\n",
    "# Functions that take/return other functions.\n",
    "# Useful for Abstraction, Code reuse.\n",
    "\n",
    "# Enhances code modularity, readability.\n",
    "# Encourages functional programming.\n",
    "\n",
    "# Can lead to Complexity and Performance overhead (if overused)."
   ]
  },
  {
   "cell_type": "code",
   "execution_count": 3,
   "id": "410fbe94-33ea-49d9-9122-f7bec2074081",
   "metadata": {},
   "outputs": [
    {
     "data": {
      "text/plain": [
       "True"
      ]
     },
     "execution_count": 3,
     "metadata": {},
     "output_type": "execute_result"
    }
   ],
   "source": [
    "b = lambda x : x[0] == 'a'\n",
    "b('apple')"
   ]
  },
  {
   "cell_type": "code",
   "execution_count": 4,
   "id": "4ce236a4-9b8f-435a-95c8-68449a25b7c2",
   "metadata": {},
   "outputs": [
    {
     "data": {
      "text/plain": [
       "False"
      ]
     },
     "execution_count": 4,
     "metadata": {},
     "output_type": "execute_result"
    }
   ],
   "source": [
    "b('banana')"
   ]
  },
  {
   "cell_type": "code",
   "execution_count": 5,
   "id": "dd2357c0-985c-4f13-a8df-b87cfdb29d70",
   "metadata": {},
   "outputs": [
    {
     "data": {
      "text/plain": [
       "'Odd'"
      ]
     },
     "execution_count": 5,
     "metadata": {},
     "output_type": "execute_result"
    }
   ],
   "source": [
    "b = lambda x :'Even' if x%2 == 0 else 'Odd'\n",
    "b(3)"
   ]
  },
  {
   "cell_type": "code",
   "execution_count": 6,
   "id": "7d0d457c-cbef-4c9e-a5d3-ba3dad72154f",
   "metadata": {},
   "outputs": [
    {
     "data": {
      "text/plain": [
       "'Even'"
      ]
     },
     "execution_count": 6,
     "metadata": {},
     "output_type": "execute_result"
    }
   ],
   "source": [
    "b(2)"
   ]
  },
  {
   "cell_type": "code",
   "execution_count": null,
   "id": "db4ddb7f-6d98-474a-b677-f3f4a71dc289",
   "metadata": {},
   "outputs": [],
   "source": []
  }
 ],
 "metadata": {
  "kernelspec": {
   "display_name": "Python 3 (ipykernel)",
   "language": "python",
   "name": "python3"
  },
  "language_info": {
   "codemirror_mode": {
    "name": "ipython",
    "version": 3
   },
   "file_extension": ".py",
   "mimetype": "text/x-python",
   "name": "python",
   "nbconvert_exporter": "python",
   "pygments_lexer": "ipython3",
   "version": "3.13.5"
  }
 },
 "nbformat": 4,
 "nbformat_minor": 5
}
