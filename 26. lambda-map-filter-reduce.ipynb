{
 "cells": [
  {
   "cell_type": "code",
   "execution_count": null,
   "id": "8ca01698-d752-4eda-80a7-111e37c4a275",
   "metadata": {},
   "outputs": [],
   "source": [
    "Lambda Functions\n",
    "Anonymous functions.\n",
    "\n",
    "Single Expression Limit.\n",
    "\n",
    "Syntax: lambda args: expr\n",
    "\n",
    "Example: lambda a, b: a + b"
   ]
  }
 ],
 "metadata": {
  "kernelspec": {
   "display_name": "Python 3 (ipykernel)",
   "language": "python",
   "name": "python3"
  },
  "language_info": {
   "codemirror_mode": {
    "name": "ipython",
    "version": 3
   },
   "file_extension": ".py",
   "mimetype": "text/x-python",
   "name": "python",
   "nbconvert_exporter": "python",
   "pygments_lexer": "ipython3",
   "version": "3.13.5"
  }
 },
 "nbformat": 4,
 "nbformat_minor": 5
}
