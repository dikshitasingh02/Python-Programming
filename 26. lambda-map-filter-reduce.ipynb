{
 "cells": [
  {
   "cell_type": "markdown",
   "id": "890a90fd-c87c-48a6-91b7-2e38db41d16c",
   "metadata": {},
   "source": [
    "# Lambda Functions\n",
    "Anonymous functions.<br>\n",
    "Single Expression Limit.<br>\n",
    "<b>Syntax:</b> lambda args: expr<br>\n",
    "<b>Example:</b> lambda a, b: a + b"
   ]
  },
  {
   "cell_type": "code",
   "execution_count": 1,
   "id": "f5ffe9d2-d883-40f8-af4e-95255d842821",
   "metadata": {},
   "outputs": [
    {
     "data": {
      "text/plain": [
       "81"
      ]
     },
     "execution_count": 1,
     "metadata": {},
     "output_type": "execute_result"
    }
   ],
   "source": [
    "x = lambda x : x**2\n",
    "x(9)"
   ]
  },
  {
   "cell_type": "code",
   "execution_count": 2,
   "id": "6857d2ba-0183-4a08-8c61-dcd314388677",
   "metadata": {},
   "outputs": [
    {
     "data": {
      "text/plain": [
       "9"
      ]
     },
     "execution_count": 2,
     "metadata": {},
     "output_type": "execute_result"
    }
   ],
   "source": [
    "a = lambda x, y : x + y\n",
    "a(4, 5)"
   ]
  },
  {
   "cell_type": "code",
   "execution_count": 3,
   "id": "8fb7edce-3f3e-41ff-b84c-d5ddc87c7bd5",
   "metadata": {},
   "outputs": [
    {
     "data": {
      "text/plain": [
       "function"
      ]
     },
     "execution_count": 3,
     "metadata": {},
     "output_type": "execute_result"
    }
   ],
   "source": [
    "type(a)"
   ]
  },
  {
   "cell_type": "code",
   "execution_count": null,
   "id": "e7a6f392-e56c-463a-ad10-2565c8d39e7c",
   "metadata": {},
   "outputs": [],
   "source": []
  }
 ],
 "metadata": {
  "kernelspec": {
   "display_name": "Python 3 (ipykernel)",
   "language": "python",
   "name": "python3"
  },
  "language_info": {
   "codemirror_mode": {
    "name": "ipython",
    "version": 3
   },
   "file_extension": ".py",
   "mimetype": "text/x-python",
   "name": "python",
   "nbconvert_exporter": "python",
   "pygments_lexer": "ipython3",
   "version": "3.13.5"
  }
 },
 "nbformat": 4,
 "nbformat_minor": 5
}
