{
 "cells": [
  {
   "cell_type": "markdown",
   "id": "58ef976c-28df-4207-abc5-199c402a4641",
   "metadata": {},
   "source": [
    "# Sets\n",
    "Unordered, unique elements.\n",
    "\n",
    "Set is mutable; elements are immutable.\n",
    "\n",
    "Operations: Union, intersection, symmetric difference, etc."
   ]
  },
  {
   "cell_type": "markdown",
   "id": "6dfda93f-c49b-49b8-b35c-b70eba4ee81c",
   "metadata": {},
   "source": [
    "## Characteristics:\n",
    "- Unordered\n",
    "- Mutable\n",
    "- Unique Elements\n",
    "- No Mutable Data Types"
   ]
  },
  {
   "cell_type": "markdown",
   "id": "57ee8518-6f9d-4a2f-9d00-18383daa0cca",
   "metadata": {},
   "source": [
    "## Important Rules about Sets\n",
    "- No Duplicates\n",
    "- No Indexing/Slicing\n",
    "- No Mutable Elements\n",
    "- Set is Mutable"
   ]
  },
  {
   "cell_type": "markdown",
   "id": "cb9c7410-5e71-4e7c-a9ef-61df751d7dbc",
   "metadata": {},
   "source": [
    "1.Create<br>\n",
    "2.Access<br>\n",
    "3.Edit<br>\n",
    "4.Add<br>\n",
    "5.Delete<br>\n",
    "6.Operations<br>\n",
    "7.Functions"
   ]
  },
  {
   "cell_type": "markdown",
   "id": "a2d59998-6c34-4c6d-a1ed-5b93790ae432",
   "metadata": {},
   "source": [
    "### 1.Create"
   ]
  },
  {
   "cell_type": "code",
   "execution_count": 2,
   "id": "d4957d42-99b4-48c0-a599-119245cf9410",
   "metadata": {},
   "outputs": [
    {
     "data": {
      "text/plain": [
       "{}"
      ]
     },
     "execution_count": 2,
     "metadata": {},
     "output_type": "execute_result"
    }
   ],
   "source": [
    "# empty\n",
    "S1 = {}\n",
    "S1"
   ]
  },
  {
   "cell_type": "code",
   "execution_count": 3,
   "id": "3c423497-8934-47e4-94af-a4d878121f01",
   "metadata": {},
   "outputs": [
    {
     "data": {
      "text/plain": [
       "dict"
      ]
     },
     "execution_count": 3,
     "metadata": {},
     "output_type": "execute_result"
    }
   ],
   "source": [
    "type(S1)"
   ]
  },
  {
   "cell_type": "code",
   "execution_count": 4,
   "id": "846f7a34-d1df-4245-9515-59eaf5d28269",
   "metadata": {},
   "outputs": [
    {
     "data": {
      "text/plain": [
       "set()"
      ]
     },
     "execution_count": 4,
     "metadata": {},
     "output_type": "execute_result"
    }
   ],
   "source": [
    "S1 = set()\n",
    "S1"
   ]
  },
  {
   "cell_type": "code",
   "execution_count": 5,
   "id": "c3cabb2d-ee54-49d4-88b7-3a9dddbf1b52",
   "metadata": {},
   "outputs": [
    {
     "data": {
      "text/plain": [
       "set"
      ]
     },
     "execution_count": 5,
     "metadata": {},
     "output_type": "execute_result"
    }
   ],
   "source": [
    "type(S1)"
   ]
  },
  {
   "cell_type": "code",
   "execution_count": 6,
   "id": "d0d7dc70-20a0-4200-98db-d6e46bed3937",
   "metadata": {},
   "outputs": [
    {
     "data": {
      "text/plain": [
       "{1, 2, 3, 4, 5}"
      ]
     },
     "execution_count": 6,
     "metadata": {},
     "output_type": "execute_result"
    }
   ],
   "source": [
    "# 1D & 2D Sets\n",
    "S1 = {1, 2, 3, 4, 5} # 1D Set\n",
    "S1\n",
    "# S2 = {1, 2, 3, {4, 5}} # 2D Set\n",
    "# S2"
   ]
  },
  {
   "cell_type": "code",
   "execution_count": 7,
   "id": "4890b78b-79d0-411c-bfd9-158da78388c8",
   "metadata": {},
   "outputs": [
    {
     "data": {
      "text/plain": [
       "{4.5, 'Hello', True}"
      ]
     },
     "execution_count": 7,
     "metadata": {},
     "output_type": "execute_result"
    }
   ],
   "source": [
    "# homo and hetro\n",
    "S2 = {\"Hello\", 4.5, True}\n",
    "S2"
   ]
  },
  {
   "cell_type": "code",
   "execution_count": 8,
   "id": "8f8bf018-a741-48cc-ae64-2a48c7851f05",
   "metadata": {},
   "outputs": [
    {
     "name": "stdout",
     "output_type": "stream",
     "text": [
      "{1, 2, 3}\n"
     ]
    }
   ],
   "source": [
    "# Type Conversion\n",
    "s4 = set([1, 2, 3])\n",
    "print(s4)"
   ]
  },
  {
   "cell_type": "code",
   "execution_count": 9,
   "id": "02c8e773-a3e9-4f12-a48e-066e31a8cd43",
   "metadata": {},
   "outputs": [
    {
     "data": {
      "text/plain": [
       "{1, 2, 3}"
      ]
     },
     "execution_count": 9,
     "metadata": {},
     "output_type": "execute_result"
    }
   ],
   "source": [
    "# duplicates not allowed\n",
    "S3 = {1, 1, 2, 2, 3, 3}\n",
    "S3"
   ]
  },
  {
   "cell_type": "code",
   "execution_count": 10,
   "id": "8c6a3986-4174-4e23-bef6-95f448f60908",
   "metadata": {},
   "outputs": [
    {
     "ename": "TypeError",
     "evalue": "unhashable type: 'list'",
     "output_type": "error",
     "traceback": [
      "\u001b[1;31m---------------------------------------------------------------------------\u001b[0m",
      "\u001b[1;31mTypeError\u001b[0m                                 Traceback (most recent call last)",
      "Cell \u001b[1;32mIn[10], line 1\u001b[0m\n\u001b[1;32m----> 1\u001b[0m S4 \u001b[38;5;241m=\u001b[39m {[\u001b[38;5;241m1\u001b[39m, \u001b[38;5;241m2\u001b[39m, \u001b[38;5;241m3\u001b[39m], \u001b[38;5;124m\"\u001b[39m\u001b[38;5;124mHello\u001b[39m\u001b[38;5;124m\"\u001b[39m}\n\u001b[0;32m      2\u001b[0m S4\n",
      "\u001b[1;31mTypeError\u001b[0m: unhashable type: 'list'"
     ]
    }
   ],
   "source": [
    "S4 = {[1, 2, 3], \"Hello\"}\n",
    "S4"
   ]
  },
  {
   "cell_type": "code",
   "execution_count": 11,
   "id": "86a71570-6e6e-46b5-80ce-507b6a14d0b1",
   "metadata": {},
   "outputs": [
    {
     "data": {
      "text/plain": [
       "{(1, 2, 3), 'Hello'}"
      ]
     },
     "execution_count": 11,
     "metadata": {},
     "output_type": "execute_result"
    }
   ],
   "source": [
    "S4 = {(1, 2, 3), \"Hello\"}\n",
    "S4"
   ]
  },
  {
   "cell_type": "code",
   "execution_count": 12,
   "id": "e8c1c2a0-1f0b-4b00-b6f6-27649c666b13",
   "metadata": {},
   "outputs": [
    {
     "ename": "TypeError",
     "evalue": "unhashable type: 'list'",
     "output_type": "error",
     "traceback": [
      "\u001b[1;31m---------------------------------------------------------------------------\u001b[0m",
      "\u001b[1;31mTypeError\u001b[0m                                 Traceback (most recent call last)",
      "Cell \u001b[1;32mIn[12], line 2\u001b[0m\n\u001b[0;32m      1\u001b[0m \u001b[38;5;66;03m# set can't have mutable items\u001b[39;00m\n\u001b[1;32m----> 2\u001b[0m s6 \u001b[38;5;241m=\u001b[39m {\u001b[38;5;241m1\u001b[39m, \u001b[38;5;241m2\u001b[39m, [\u001b[38;5;241m3\u001b[39m, \u001b[38;5;241m4\u001b[39m]}\n\u001b[0;32m      3\u001b[0m \u001b[38;5;28mprint\u001b[39m(s6)\n",
      "\u001b[1;31mTypeError\u001b[0m: unhashable type: 'list'"
     ]
    }
   ],
   "source": [
    "# set can't have mutable items\n",
    "s6 = {1, 2, [3, 4]}\n",
    "print(s6)"
   ]
  },
  {
   "cell_type": "code",
   "execution_count": 13,
   "id": "8841e418-643b-45b3-a682-a3d6e4972950",
   "metadata": {},
   "outputs": [],
   "source": [
    "# Sets have no indexing\n",
    "# Hashing"
   ]
  },
  {
   "cell_type": "code",
   "execution_count": 14,
   "id": "65a5571d-5bd4-4454-a848-a3cbddc26fa4",
   "metadata": {},
   "outputs": [
    {
     "ename": "TypeError",
     "evalue": "unhashable type: 'set'",
     "output_type": "error",
     "traceback": [
      "\u001b[1;31m---------------------------------------------------------------------------\u001b[0m",
      "\u001b[1;31mTypeError\u001b[0m                                 Traceback (most recent call last)",
      "Cell \u001b[1;32mIn[14], line 1\u001b[0m\n\u001b[1;32m----> 1\u001b[0m S5 \u001b[38;5;241m=\u001b[39m {{\u001b[38;5;241m1\u001b[39m}, {\u001b[38;5;241m2\u001b[39m}}\n",
      "\u001b[1;31mTypeError\u001b[0m: unhashable type: 'set'"
     ]
    }
   ],
   "source": [
    "S5 = {{1}, {2}}"
   ]
  },
  {
   "cell_type": "code",
   "execution_count": 15,
   "id": "2845d56a-92e4-404e-bfb9-c27b20bf0b40",
   "metadata": {},
   "outputs": [
    {
     "name": "stdout",
     "output_type": "stream",
     "text": [
      "True\n"
     ]
    }
   ],
   "source": [
    "s1 = {1, 2, 3}\n",
    "s2 = {3, 2, 1}\n",
    "print(s1 == s2)"
   ]
  },
  {
   "cell_type": "markdown",
   "id": "6c84c690-119d-4a31-87b2-b48246d41327",
   "metadata": {},
   "source": [
    "### 1.Access"
   ]
  },
  {
   "cell_type": "code",
   "execution_count": 16,
   "id": "9bc03d29-f70e-471b-91d5-860310d2ef3a",
   "metadata": {},
   "outputs": [
    {
     "data": {
      "text/plain": [
       "{1, 2, 3, 4, 5}"
      ]
     },
     "execution_count": 16,
     "metadata": {},
     "output_type": "execute_result"
    }
   ],
   "source": [
    "S1"
   ]
  },
  {
   "cell_type": "code",
   "execution_count": 17,
   "id": "d2eba88d-2eaf-49de-b35b-a293ef362749",
   "metadata": {},
   "outputs": [
    {
     "ename": "TypeError",
     "evalue": "'set' object is not subscriptable",
     "output_type": "error",
     "traceback": [
      "\u001b[1;31m---------------------------------------------------------------------------\u001b[0m",
      "\u001b[1;31mTypeError\u001b[0m                                 Traceback (most recent call last)",
      "Cell \u001b[1;32mIn[17], line 1\u001b[0m\n\u001b[1;32m----> 1\u001b[0m S1[\u001b[38;5;241m0\u001b[39m]\n",
      "\u001b[1;31mTypeError\u001b[0m: 'set' object is not subscriptable"
     ]
    }
   ],
   "source": [
    "S1[0]"
   ]
  },
  {
   "cell_type": "code",
   "execution_count": 18,
   "id": "37aa90db-1a95-40d8-b0a0-dd6dcec93bed",
   "metadata": {},
   "outputs": [
    {
     "ename": "TypeError",
     "evalue": "'set' object is not subscriptable",
     "output_type": "error",
     "traceback": [
      "\u001b[1;31m---------------------------------------------------------------------------\u001b[0m",
      "\u001b[1;31mTypeError\u001b[0m                                 Traceback (most recent call last)",
      "Cell \u001b[1;32mIn[18], line 1\u001b[0m\n\u001b[1;32m----> 1\u001b[0m S1[\u001b[38;5;241m-\u001b[39m\u001b[38;5;241m1\u001b[39m]\n",
      "\u001b[1;31mTypeError\u001b[0m: 'set' object is not subscriptable"
     ]
    }
   ],
   "source": [
    "S1[-1]"
   ]
  },
  {
   "cell_type": "code",
   "execution_count": 19,
   "id": "6b7d2563-dc56-409f-bebf-895e1f51d182",
   "metadata": {},
   "outputs": [
    {
     "ename": "TypeError",
     "evalue": "'set' object is not subscriptable",
     "output_type": "error",
     "traceback": [
      "\u001b[1;31m---------------------------------------------------------------------------\u001b[0m",
      "\u001b[1;31mTypeError\u001b[0m                                 Traceback (most recent call last)",
      "Cell \u001b[1;32mIn[19], line 1\u001b[0m\n\u001b[1;32m----> 1\u001b[0m S1[\u001b[38;5;241m0\u001b[39m:\u001b[38;5;241m3\u001b[39m]\n",
      "\u001b[1;31mTypeError\u001b[0m: 'set' object is not subscriptable"
     ]
    }
   ],
   "source": [
    "S1[0:3]"
   ]
  },
  {
   "cell_type": "markdown",
   "id": "7a78b279-978b-4e06-9b67-eab8e7a8b1b1",
   "metadata": {},
   "source": [
    "### 3.Edit"
   ]
  },
  {
   "cell_type": "code",
   "execution_count": 20,
   "id": "f02794f4-7b7e-4ae1-92f4-f5d518b03a0f",
   "metadata": {},
   "outputs": [
    {
     "ename": "TypeError",
     "evalue": "'set' object does not support item assignment",
     "output_type": "error",
     "traceback": [
      "\u001b[1;31m---------------------------------------------------------------------------\u001b[0m",
      "\u001b[1;31mTypeError\u001b[0m                                 Traceback (most recent call last)",
      "Cell \u001b[1;32mIn[20], line 1\u001b[0m\n\u001b[1;32m----> 1\u001b[0m S1[\u001b[38;5;241m2\u001b[39m] \u001b[38;5;241m=\u001b[39m \u001b[38;5;241m100\u001b[39m\n",
      "\u001b[1;31mTypeError\u001b[0m: 'set' object does not support item assignment"
     ]
    }
   ],
   "source": [
    "S1[2] = 100"
   ]
  },
  {
   "cell_type": "code",
   "execution_count": 22,
   "id": "68c67ef8-0592-47c5-99bc-9df32bdeee6b",
   "metadata": {},
   "outputs": [
    {
     "data": {
      "text/plain": [
       "{1, 2, 3, 4, 5}"
      ]
     },
     "execution_count": 22,
     "metadata": {},
     "output_type": "execute_result"
    }
   ],
   "source": [
    "S1"
   ]
  },
  {
   "cell_type": "code",
   "execution_count": 23,
   "id": "629789f7-2235-481d-afe8-b0dba36d140a",
   "metadata": {},
   "outputs": [
    {
     "data": {
      "text/plain": [
       "2413264969440"
      ]
     },
     "execution_count": 23,
     "metadata": {},
     "output_type": "execute_result"
    }
   ],
   "source": [
    "id(S1)"
   ]
  },
  {
   "cell_type": "code",
   "execution_count": 24,
   "id": "0a56e7c4-c7ae-45b5-b0b4-5696c7d0c28c",
   "metadata": {},
   "outputs": [
    {
     "data": {
      "text/plain": [
       "[1, 2, 3, 4, 5]"
      ]
     },
     "execution_count": 24,
     "metadata": {},
     "output_type": "execute_result"
    }
   ],
   "source": [
    "L = list(S1)\n",
    "L"
   ]
  },
  {
   "cell_type": "code",
   "execution_count": 25,
   "id": "92fbd553-fd1a-46ac-afc2-dc054cd2db04",
   "metadata": {},
   "outputs": [
    {
     "data": {
      "text/plain": [
       "[100, 2, 3, 4, 5]"
      ]
     },
     "execution_count": 25,
     "metadata": {},
     "output_type": "execute_result"
    }
   ],
   "source": [
    "L[0] = 100\n",
    "L"
   ]
  },
  {
   "cell_type": "code",
   "execution_count": 26,
   "id": "92502c07-0007-4fbe-abb5-4416a24f2c6f",
   "metadata": {},
   "outputs": [
    {
     "data": {
      "text/plain": [
       "{2, 3, 4, 5, 100}"
      ]
     },
     "execution_count": 26,
     "metadata": {},
     "output_type": "execute_result"
    }
   ],
   "source": [
    "S1 = set(L)\n",
    "S1"
   ]
  },
  {
   "cell_type": "code",
   "execution_count": 27,
   "id": "58697bbd-ef60-4af3-b50c-b227bacf8b79",
   "metadata": {},
   "outputs": [
    {
     "data": {
      "text/plain": [
       "2413279293312"
      ]
     },
     "execution_count": 27,
     "metadata": {},
     "output_type": "execute_result"
    }
   ],
   "source": [
    "id(S1)"
   ]
  },
  {
   "cell_type": "markdown",
   "id": "75418e8e-9d5b-4e73-a44f-da03e1843acd",
   "metadata": {},
   "source": [
    "### 4. Add"
   ]
  },
  {
   "cell_type": "code",
   "execution_count": 28,
   "id": "96b96c6b-7156-483e-8495-271a608c5717",
   "metadata": {},
   "outputs": [
    {
     "data": {
      "text/plain": [
       "{2, 3, 4, 5, 100}"
      ]
     },
     "execution_count": 28,
     "metadata": {},
     "output_type": "execute_result"
    }
   ],
   "source": [
    "S1"
   ]
  },
  {
   "cell_type": "code",
   "execution_count": 29,
   "id": "5c09d40e-ceba-4b63-9e9c-b48d1d926819",
   "metadata": {},
   "outputs": [
    {
     "data": {
      "text/plain": [
       "{2, 3, 4, 5, 6, 100}"
      ]
     },
     "execution_count": 29,
     "metadata": {},
     "output_type": "execute_result"
    }
   ],
   "source": [
    "S1.add(6)\n",
    "S1"
   ]
  },
  {
   "cell_type": "code",
   "execution_count": 30,
   "id": "95466f84-1d57-4c2d-9842-0b0c672432e2",
   "metadata": {},
   "outputs": [
    {
     "data": {
      "text/plain": [
       "2413279293312"
      ]
     },
     "execution_count": 30,
     "metadata": {},
     "output_type": "execute_result"
    }
   ],
   "source": [
    "id(S1)"
   ]
  },
  {
   "cell_type": "code",
   "execution_count": 31,
   "id": "da359ebe-31c6-41ad-b625-c748eec7008b",
   "metadata": {},
   "outputs": [
    {
     "data": {
      "text/plain": [
       "{2, 3, 4, 5, 6, 7, 100}"
      ]
     },
     "execution_count": 31,
     "metadata": {},
     "output_type": "execute_result"
    }
   ],
   "source": [
    "S1.add(7)\n",
    "S1"
   ]
  },
  {
   "cell_type": "code",
   "execution_count": 32,
   "id": "86af20d5-1e48-422c-bd76-4bb9808ecc85",
   "metadata": {},
   "outputs": [
    {
     "data": {
      "text/plain": [
       "2413279293312"
      ]
     },
     "execution_count": 32,
     "metadata": {},
     "output_type": "execute_result"
    }
   ],
   "source": [
    "id(S1)"
   ]
  },
  {
   "cell_type": "code",
   "execution_count": 33,
   "id": "aadb3292-c308-4ea8-bd6e-68bb825c466d",
   "metadata": {},
   "outputs": [
    {
     "name": "stdout",
     "output_type": "stream",
     "text": [
      "{2, 3, 100, 5, 4, 6, 7}\n"
     ]
    }
   ],
   "source": [
    "S1.update([5, 6, 7])\n",
    "print(S1)"
   ]
  },
  {
   "cell_type": "markdown",
   "id": "401a096c-0e2e-4090-8fff-d662152b446f",
   "metadata": {},
   "source": [
    "### 5. Delete\n",
    "- del\n",
    "- remove()\n",
    "- pop()\n",
    "- discard()\n",
    "- clear()"
   ]
  },
  {
   "cell_type": "code",
   "execution_count": 34,
   "id": "3fc0c57b-e3c1-4b6c-9197-f363ea00e4bf",
   "metadata": {},
   "outputs": [
    {
     "data": {
      "text/plain": [
       "{4.5, 'Hello', True}"
      ]
     },
     "execution_count": 34,
     "metadata": {},
     "output_type": "execute_result"
    }
   ],
   "source": [
    "S2"
   ]
  },
  {
   "cell_type": "code",
   "execution_count": 35,
   "id": "cd09872e-a7d8-4c7d-ba15-068265b0b3ed",
   "metadata": {},
   "outputs": [
    {
     "ename": "NameError",
     "evalue": "name 'S2' is not defined",
     "output_type": "error",
     "traceback": [
      "\u001b[1;31m---------------------------------------------------------------------------\u001b[0m",
      "\u001b[1;31mNameError\u001b[0m                                 Traceback (most recent call last)",
      "Cell \u001b[1;32mIn[35], line 2\u001b[0m\n\u001b[0;32m      1\u001b[0m \u001b[38;5;28;01mdel\u001b[39;00m S2\n\u001b[1;32m----> 2\u001b[0m S2\n",
      "\u001b[1;31mNameError\u001b[0m: name 'S2' is not defined"
     ]
    }
   ],
   "source": [
    "del S2\n",
    "S2"
   ]
  },
  {
   "cell_type": "code",
   "execution_count": 36,
   "id": "1783d007-8027-4c28-a700-08fdcfbd6d22",
   "metadata": {},
   "outputs": [
    {
     "ename": "TypeError",
     "evalue": "'set' object doesn't support item deletion",
     "output_type": "error",
     "traceback": [
      "\u001b[1;31m---------------------------------------------------------------------------\u001b[0m",
      "\u001b[1;31mTypeError\u001b[0m                                 Traceback (most recent call last)",
      "Cell \u001b[1;32mIn[36], line 1\u001b[0m\n\u001b[1;32m----> 1\u001b[0m \u001b[38;5;28;01mdel\u001b[39;00m S1[\u001b[38;5;241m0\u001b[39m]\n",
      "\u001b[1;31mTypeError\u001b[0m: 'set' object doesn't support item deletion"
     ]
    }
   ],
   "source": [
    "del S1[0]"
   ]
  },
  {
   "cell_type": "code",
   "execution_count": 37,
   "id": "c6546758-df63-4fbc-b68a-e08bfa38a84d",
   "metadata": {},
   "outputs": [
    {
     "data": {
      "text/plain": [
       "{2, 3, 4, 5, 6, 7, 100}"
      ]
     },
     "execution_count": 37,
     "metadata": {},
     "output_type": "execute_result"
    }
   ],
   "source": [
    "S1"
   ]
  },
  {
   "cell_type": "code",
   "execution_count": 38,
   "id": "d2339a16-2915-4330-8ccb-17647c40d1fb",
   "metadata": {},
   "outputs": [
    {
     "data": {
      "text/plain": [
       "{2, 3, 4, 5, 6, 7}"
      ]
     },
     "execution_count": 38,
     "metadata": {},
     "output_type": "execute_result"
    }
   ],
   "source": [
    "S1.remove(100)\n",
    "S1"
   ]
  },
  {
   "cell_type": "code",
   "execution_count": 39,
   "id": "19d55574-faf6-409a-bace-27ba0bea9824",
   "metadata": {},
   "outputs": [
    {
     "data": {
      "text/plain": [
       "{3, 4, 5, 6, 7}"
      ]
     },
     "execution_count": 39,
     "metadata": {},
     "output_type": "execute_result"
    }
   ],
   "source": [
    "S1.pop()\n",
    "S1"
   ]
  },
  {
   "cell_type": "code",
   "execution_count": 40,
   "id": "938df946-d3a2-414d-9b25-37863678651c",
   "metadata": {},
   "outputs": [
    {
     "data": {
      "text/plain": [
       "{4, 5, 6, 7}"
      ]
     },
     "execution_count": 40,
     "metadata": {},
     "output_type": "execute_result"
    }
   ],
   "source": [
    "S1.pop()\n",
    "S1"
   ]
  },
  {
   "cell_type": "code",
   "execution_count": 41,
   "id": "59c9ea2a-c961-4ed7-9257-c5fd7cea0236",
   "metadata": {},
   "outputs": [
    {
     "data": {
      "text/plain": [
       "{4, 5, 6}"
      ]
     },
     "execution_count": 41,
     "metadata": {},
     "output_type": "execute_result"
    }
   ],
   "source": [
    "S1.discard(7)\n",
    "S1"
   ]
  },
  {
   "cell_type": "code",
   "execution_count": 42,
   "id": "1cc7d9f0-aea6-4f89-bf8c-04ca35a979aa",
   "metadata": {},
   "outputs": [
    {
     "data": {
      "text/plain": [
       "set()"
      ]
     },
     "execution_count": 42,
     "metadata": {},
     "output_type": "execute_result"
    }
   ],
   "source": [
    "S1.clear()\n",
    "S1"
   ]
  },
  {
   "cell_type": "markdown",
   "id": "6ab57482-442b-4c54-8da2-a7d41d3755f8",
   "metadata": {},
   "source": [
    "### 6.Operations"
   ]
  },
  {
   "cell_type": "code",
   "execution_count": 43,
   "id": "8f10f9d2-7abe-405a-b2ec-dd4d68432764",
   "metadata": {},
   "outputs": [],
   "source": [
    "S1 = {1, 2, 3, 4, 5}\n",
    "S2 = {3, 4, 5, 6, 7}"
   ]
  },
  {
   "cell_type": "code",
   "execution_count": 44,
   "id": "9442f0b3-2d9b-44e8-a97c-d04788b36625",
   "metadata": {},
   "outputs": [
    {
     "ename": "TypeError",
     "evalue": "unsupported operand type(s) for +: 'set' and 'set'",
     "output_type": "error",
     "traceback": [
      "\u001b[1;31m---------------------------------------------------------------------------\u001b[0m",
      "\u001b[1;31mTypeError\u001b[0m                                 Traceback (most recent call last)",
      "Cell \u001b[1;32mIn[44], line 1\u001b[0m\n\u001b[1;32m----> 1\u001b[0m S1 \u001b[38;5;241m+\u001b[39m S2\n",
      "\u001b[1;31mTypeError\u001b[0m: unsupported operand type(s) for +: 'set' and 'set'"
     ]
    }
   ],
   "source": [
    "S1 + S2"
   ]
  },
  {
   "cell_type": "code",
   "execution_count": 45,
   "id": "7e7c8b97-de85-4883-ae51-54dbf6bba682",
   "metadata": {},
   "outputs": [
    {
     "ename": "TypeError",
     "evalue": "unsupported operand type(s) for *: 'set' and 'int'",
     "output_type": "error",
     "traceback": [
      "\u001b[1;31m---------------------------------------------------------------------------\u001b[0m",
      "\u001b[1;31mTypeError\u001b[0m                                 Traceback (most recent call last)",
      "Cell \u001b[1;32mIn[45], line 1\u001b[0m\n\u001b[1;32m----> 1\u001b[0m S1 \u001b[38;5;241m*\u001b[39m \u001b[38;5;241m3\u001b[39m\n",
      "\u001b[1;31mTypeError\u001b[0m: unsupported operand type(s) for *: 'set' and 'int'"
     ]
    }
   ],
   "source": [
    "S1 * 3"
   ]
  },
  {
   "cell_type": "code",
   "execution_count": 46,
   "id": "d639cd42-f4ca-4a20-86b8-fecc0d8ece6f",
   "metadata": {},
   "outputs": [
    {
     "name": "stdout",
     "output_type": "stream",
     "text": [
      "1\n",
      "2\n",
      "3\n",
      "4\n",
      "5\n"
     ]
    }
   ],
   "source": [
    "# Iteration\n",
    "for i in S1:\n",
    "    print(i)"
   ]
  },
  {
   "cell_type": "code",
   "execution_count": 47,
   "id": "5d182007-de38-410e-87db-7344011e95bc",
   "metadata": {},
   "outputs": [
    {
     "data": {
      "text/plain": [
       "True"
      ]
     },
     "execution_count": 47,
     "metadata": {},
     "output_type": "execute_result"
    }
   ],
   "source": [
    "# Membership Test\n",
    "1 in S1"
   ]
  },
  {
   "cell_type": "code",
   "execution_count": 48,
   "id": "4a2209be-4a6e-4bcf-be85-e765f8ede63f",
   "metadata": {},
   "outputs": [
    {
     "data": {
      "text/plain": [
       "False"
      ]
     },
     "execution_count": 48,
     "metadata": {},
     "output_type": "execute_result"
    }
   ],
   "source": [
    "1 not in S1"
   ]
  },
  {
   "cell_type": "code",
   "execution_count": 49,
   "id": "bc14477a-dba4-493e-a009-5ea0476a9089",
   "metadata": {},
   "outputs": [],
   "source": [
    "s1 = {1, 2, 3, 4, 5}\n",
    "s2 = {4, 5, 6, 7, 8}"
   ]
  },
  {
   "cell_type": "code",
   "execution_count": 50,
   "id": "cb70faa0-2e4e-4ca3-9fe2-8daed6a8cb69",
   "metadata": {},
   "outputs": [
    {
     "data": {
      "text/plain": [
       "{1, 2, 3, 4, 5, 6, 7, 8}"
      ]
     },
     "execution_count": 50,
     "metadata": {},
     "output_type": "execute_result"
    }
   ],
   "source": [
    "# Union(|)\n",
    "s1 | s2"
   ]
  },
  {
   "cell_type": "code",
   "execution_count": 51,
   "id": "1f182009-2a09-4060-b9a0-d8f9daa9b61c",
   "metadata": {},
   "outputs": [
    {
     "data": {
      "text/plain": [
       "{4, 5}"
      ]
     },
     "execution_count": 51,
     "metadata": {},
     "output_type": "execute_result"
    }
   ],
   "source": [
    "# Intersection(&)\n",
    "s1 & s2"
   ]
  },
  {
   "cell_type": "code",
   "execution_count": 52,
   "id": "e8659399-f639-4c83-8609-fee976889a07",
   "metadata": {},
   "outputs": [
    {
     "data": {
      "text/plain": [
       "{6, 7, 8}"
      ]
     },
     "execution_count": 52,
     "metadata": {},
     "output_type": "execute_result"
    }
   ],
   "source": [
    "# Difference(-)\n",
    "s1 - s2\n",
    "s2 - s1"
   ]
  },
  {
   "cell_type": "code",
   "execution_count": 53,
   "id": "7bca0929-b5e2-40fb-8b9f-b4471f911e56",
   "metadata": {},
   "outputs": [
    {
     "data": {
      "text/plain": [
       "{1, 2, 3, 6, 7, 8}"
      ]
     },
     "execution_count": 53,
     "metadata": {},
     "output_type": "execute_result"
    }
   ],
   "source": [
    "# Symmetric Difference(^)\n",
    "s1 ^ s2"
   ]
  },
  {
   "cell_type": "markdown",
   "id": "85a3af13-d29f-4ba8-a40a-868c5d796d71",
   "metadata": {},
   "source": [
    "### 7. Functions\n",
    "- len()\n",
    "- min()\n",
    "- max()\n",
    "- sorted()"
   ]
  },
  {
   "cell_type": "code",
   "execution_count": 55,
   "id": "d406e02a-c814-4e16-bea9-184be6bb5376",
   "metadata": {},
   "outputs": [
    {
     "data": {
      "text/plain": [
       "5"
      ]
     },
     "execution_count": 55,
     "metadata": {},
     "output_type": "execute_result"
    }
   ],
   "source": [
    "len(S1)"
   ]
  },
  {
   "cell_type": "code",
   "execution_count": 56,
   "id": "ff90a9f6-91ba-4042-b9df-e3859f4bb7e5",
   "metadata": {},
   "outputs": [
    {
     "data": {
      "text/plain": [
       "1"
      ]
     },
     "execution_count": 56,
     "metadata": {},
     "output_type": "execute_result"
    }
   ],
   "source": [
    "min(S1)"
   ]
  },
  {
   "cell_type": "code",
   "execution_count": 57,
   "id": "582a9483-e095-4a59-b8cd-f350fe7c8d58",
   "metadata": {},
   "outputs": [
    {
     "data": {
      "text/plain": [
       "5"
      ]
     },
     "execution_count": 57,
     "metadata": {},
     "output_type": "execute_result"
    }
   ],
   "source": [
    "max(S1)"
   ]
  },
  {
   "cell_type": "code",
   "execution_count": 58,
   "id": "c6b354ca-ed27-44e6-a6a8-f68222311fd1",
   "metadata": {},
   "outputs": [
    {
     "data": {
      "text/plain": [
       "[1, 2, 3, 4, 5]"
      ]
     },
     "execution_count": 58,
     "metadata": {},
     "output_type": "execute_result"
    }
   ],
   "source": [
    "sorted(S1)"
   ]
  },
  {
   "cell_type": "code",
   "execution_count": 59,
   "id": "c9171d69-cf25-4abd-9854-47fd23648119",
   "metadata": {},
   "outputs": [
    {
     "data": {
      "text/plain": [
       "[5, 4, 3, 2, 1]"
      ]
     },
     "execution_count": 59,
     "metadata": {},
     "output_type": "execute_result"
    }
   ],
   "source": [
    "sorted(S1, reverse = True)"
   ]
  },
  {
   "cell_type": "code",
   "execution_count": 60,
   "id": "253969d1-b71e-4d1f-ab8e-f2c9855eefad",
   "metadata": {},
   "outputs": [
    {
     "data": {
      "text/plain": [
       "{1, 2, 3, 4, 5}"
      ]
     },
     "execution_count": 60,
     "metadata": {},
     "output_type": "execute_result"
    }
   ],
   "source": [
    "S1"
   ]
  },
  {
   "cell_type": "code",
   "execution_count": 61,
   "id": "56bd0dff-55fb-48e9-87ed-2a059bdf20e9",
   "metadata": {},
   "outputs": [
    {
     "data": {
      "text/plain": [
       "{3, 4, 5, 6, 7}"
      ]
     },
     "execution_count": 61,
     "metadata": {},
     "output_type": "execute_result"
    }
   ],
   "source": [
    "S2"
   ]
  },
  {
   "cell_type": "code",
   "execution_count": 62,
   "id": "bdd93275-3502-4b41-b685-f086647984fb",
   "metadata": {},
   "outputs": [
    {
     "data": {
      "text/plain": [
       "{1, 2, 3, 4, 5, 6, 7}"
      ]
     },
     "execution_count": 62,
     "metadata": {},
     "output_type": "execute_result"
    }
   ],
   "source": [
    "S1.union(S2)"
   ]
  },
  {
   "cell_type": "code",
   "execution_count": 63,
   "id": "031bcddf-9707-4d57-812c-9892ea6435cb",
   "metadata": {},
   "outputs": [
    {
     "data": {
      "text/plain": [
       "{3, 4, 5}"
      ]
     },
     "execution_count": 63,
     "metadata": {},
     "output_type": "execute_result"
    }
   ],
   "source": [
    "S1.intersection(S2)"
   ]
  },
  {
   "cell_type": "code",
   "execution_count": 64,
   "id": "ce6563ac-fc49-48b9-9bc6-22d785782e95",
   "metadata": {},
   "outputs": [
    {
     "data": {
      "text/plain": [
       "{1, 2}"
      ]
     },
     "execution_count": 64,
     "metadata": {},
     "output_type": "execute_result"
    }
   ],
   "source": [
    "S1.difference(S2)"
   ]
  },
  {
   "cell_type": "code",
   "execution_count": 65,
   "id": "d90918fa-c879-4e33-975b-41fb66fa1a46",
   "metadata": {},
   "outputs": [
    {
     "data": {
      "text/plain": [
       "{6, 7}"
      ]
     },
     "execution_count": 65,
     "metadata": {},
     "output_type": "execute_result"
    }
   ],
   "source": [
    "S2.difference(S1)"
   ]
  },
  {
   "cell_type": "code",
   "execution_count": 66,
   "id": "f8d3ad03-f44f-45e4-ac44-129c754368da",
   "metadata": {},
   "outputs": [
    {
     "data": {
      "text/plain": [
       "{1, 2, 6, 7}"
      ]
     },
     "execution_count": 66,
     "metadata": {},
     "output_type": "execute_result"
    }
   ],
   "source": [
    "S1.symmetric_difference(S2)"
   ]
  },
  {
   "cell_type": "code",
   "execution_count": 67,
   "id": "2bb93f0e-44da-4d29-93ed-272de8da0d5a",
   "metadata": {},
   "outputs": [
    {
     "data": {
      "text/plain": [
       "False"
      ]
     },
     "execution_count": 67,
     "metadata": {},
     "output_type": "execute_result"
    }
   ],
   "source": [
    "S1.isdisjoint(S2)"
   ]
  },
  {
   "cell_type": "code",
   "execution_count": 68,
   "id": "15a261e5-72a7-4a1d-9c7d-855409da2b54",
   "metadata": {},
   "outputs": [
    {
     "data": {
      "text/plain": [
       "False"
      ]
     },
     "execution_count": 68,
     "metadata": {},
     "output_type": "execute_result"
    }
   ],
   "source": [
    "S1.issubset(S2)"
   ]
  },
  {
   "cell_type": "code",
   "execution_count": 69,
   "id": "601c088d-c43e-4ec0-937a-013795aa80f2",
   "metadata": {},
   "outputs": [
    {
     "data": {
      "text/plain": [
       "False"
      ]
     },
     "execution_count": 69,
     "metadata": {},
     "output_type": "execute_result"
    }
   ],
   "source": [
    "S1.issuperset(S2)"
   ]
  },
  {
   "cell_type": "code",
   "execution_count": 70,
   "id": "f9858f4c-ff8c-4f6b-ba61-48f623ced50d",
   "metadata": {},
   "outputs": [
    {
     "data": {
      "text/plain": [
       "set()"
      ]
     },
     "execution_count": 70,
     "metadata": {},
     "output_type": "execute_result"
    }
   ],
   "source": [
    "S1.clear()\n",
    "S1"
   ]
  },
  {
   "cell_type": "code",
   "execution_count": 71,
   "id": "6f325d41-4ab7-4642-885e-bdf67b2a57a3",
   "metadata": {},
   "outputs": [
    {
     "name": "stdout",
     "output_type": "stream",
     "text": [
      "{1, 2, 3}\n",
      "{1, 2, 3}\n"
     ]
    }
   ],
   "source": [
    "# copy\n",
    "s1 = {1, 2, 3}\n",
    "s2 = s1.copy()\n",
    "print(s1)\n",
    "print(s2)"
   ]
  },
  {
   "cell_type": "markdown",
   "id": "04611388-b2ae-4a0e-bff1-5e90011720c2",
   "metadata": {},
   "source": [
    "## Frozen set\n",
    "- Immutable set.\n",
    "- Created via frozenset().\n",
    "- No modifications post-creation.\n",
    "- Ideal for hashable items: strings, numbers."
   ]
  },
  {
   "cell_type": "code",
   "execution_count": 72,
   "id": "3b27fdec-6878-4499-bd58-453cd66168cd",
   "metadata": {},
   "outputs": [
    {
     "data": {
      "text/plain": [
       "frozenset({1, 2, 3, 4, 5})"
      ]
     },
     "execution_count": 72,
     "metadata": {},
     "output_type": "execute_result"
    }
   ],
   "source": [
    "# create frozenset\n",
    "fs1 = frozenset([1, 2, 3])\n",
    "fs2 = frozenset([3, 4, 5])\n",
    "fs1 | fs2"
   ]
  },
  {
   "cell_type": "code",
   "execution_count": 73,
   "id": "93c67f97-2427-4129-b500-a99cae198ce1",
   "metadata": {},
   "outputs": [],
   "source": [
    "# what works and what does not\n",
    "# Works       ---> all read functions\n",
    "# Doesn't Work ---> write operations"
   ]
  },
  {
   "cell_type": "code",
   "execution_count": 74,
   "id": "dfe1e40c-e321-4cb6-b55f-cec1cbe6748d",
   "metadata": {},
   "outputs": [
    {
     "data": {
      "text/plain": [
       "frozenset({1, 2, frozenset({3, 4})})"
      ]
     },
     "execution_count": 74,
     "metadata": {},
     "output_type": "execute_result"
    }
   ],
   "source": [
    "# When to use\n",
    "# 2D sets\n",
    "fs = frozenset([1, 2, frozenset([3, 4])])\n",
    "fs"
   ]
  },
  {
   "cell_type": "markdown",
   "id": "7cd2345e-f41b-4bbf-a8ee-b2797af022a4",
   "metadata": {},
   "source": [
    "## Set Comprehension"
   ]
  },
  {
   "cell_type": "code",
   "execution_count": 75,
   "id": "b01ba069-5cfb-469c-bdf0-ee5414e5ddf7",
   "metadata": {},
   "outputs": [
    {
     "data": {
      "text/plain": [
       "{36, 49, 64, 81, 100}"
      ]
     },
     "execution_count": 75,
     "metadata": {},
     "output_type": "execute_result"
    }
   ],
   "source": [
    "# examples\n",
    "{i**2 for i in range(1, 11) if i>5}"
   ]
  },
  {
   "cell_type": "code",
   "execution_count": null,
   "id": "8a13239a-3687-4c0c-aae6-0bd793085223",
   "metadata": {},
   "outputs": [],
   "source": []
  }
 ],
 "metadata": {
  "kernelspec": {
   "display_name": "Python 3 (ipykernel)",
   "language": "python",
   "name": "python3"
  },
  "language_info": {
   "codemirror_mode": {
    "name": "ipython",
    "version": 3
   },
   "file_extension": ".py",
   "mimetype": "text/x-python",
   "name": "python",
   "nbconvert_exporter": "python",
   "pygments_lexer": "ipython3",
   "version": "3.13.5"
  }
 },
 "nbformat": 4,
 "nbformat_minor": 5
}
