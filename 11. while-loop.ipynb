{
 "cells": [
  {
   "cell_type": "markdown",
   "id": "d880a326-52c0-4bb5-a492-1d74362f624f",
   "metadata": {},
   "source": [
    "## Loops in Python\n",
    "### Need\n",
    "- Repeat code block.\n",
    "- Iteration: Execute same code repeatedly.\n",
    "### While Loop\n",
    "- Executes while condition true.\n",
    "### For Loop\n",
    "- Executes for each item in iterable."
   ]
  },
  {
   "cell_type": "markdown",
   "id": "11da7288-1cef-4794-941b-5146620c3bf0",
   "metadata": {},
   "source": [
    "## While Loop"
   ]
  },
  {
   "cell_type": "code",
   "execution_count": 1,
   "id": "e4583ced-8ebb-4983-a0e4-a449af1d9e53",
   "metadata": {},
   "outputs": [],
   "source": [
    "# While Loop Example"
   ]
  },
  {
   "cell_type": "code",
   "execution_count": null,
   "id": "529c1bcf-b00a-4642-8942-553504fe0687",
   "metadata": {},
   "outputs": [],
   "source": [
    "# C\n",
    "while(condition){\n",
    "    code\n",
    "}"
   ]
  },
  {
   "cell_type": "code",
   "execution_count": null,
   "id": "3aa7c680-bccd-453a-8713-925caa9e4524",
   "metadata": {},
   "outputs": [],
   "source": [
    "# Python\n",
    "while condition:\n",
    "    code"
   ]
  },
  {
   "cell_type": "code",
   "execution_count": 3,
   "id": "065d60d8-1f18-47a8-8498-482954fe6b24",
   "metadata": {},
   "outputs": [
    {
     "name": "stdin",
     "output_type": "stream",
     "text": [
      "Enter the number:  11\n"
     ]
    },
    {
     "name": "stdout",
     "output_type": "stream",
     "text": [
      "11\n",
      "22\n",
      "33\n",
      "44\n",
      "55\n",
      "66\n",
      "77\n",
      "88\n",
      "99\n",
      "110\n"
     ]
    }
   ],
   "source": [
    "# 1. Print Multiplication Table\n",
    "number = int(input(\"Enter the number: \"))\n",
    "i = 1\n",
    "while i < 11:\n",
    "    print(number * i)\n",
    "    i += 1"
   ]
  },
  {
   "cell_type": "code",
   "execution_count": 4,
   "id": "317f10ce-0d2a-4b74-94c0-3433b4e75910",
   "metadata": {},
   "outputs": [
    {
     "name": "stdin",
     "output_type": "stream",
     "text": [
      "Enter the number:  22\n"
     ]
    },
    {
     "name": "stdout",
     "output_type": "stream",
     "text": [
      "22 * 1 = 22\n",
      "22 * 2 = 44\n",
      "22 * 3 = 66\n",
      "22 * 4 = 88\n",
      "22 * 5 = 110\n",
      "22 * 6 = 132\n",
      "22 * 7 = 154\n",
      "22 * 8 = 176\n",
      "22 * 9 = 198\n",
      "22 * 10 = 220\n"
     ]
    }
   ],
   "source": [
    "number = int(input(\"Enter the number: \"))\n",
    "i = 1\n",
    "while i < 11:\n",
    "    print(number, \"*\", i, \"=\", number * i)\n",
    "    i += 1"
   ]
  },
  {
   "cell_type": "code",
   "execution_count": 5,
   "id": "891f4b12-d3d0-462c-a0a1-59e22e418a9e",
   "metadata": {},
   "outputs": [
    {
     "name": "stdout",
     "output_type": "stream",
     "text": [
      "1\n",
      "2\n",
      "limit crossed\n"
     ]
    }
   ],
   "source": [
    "# while loop with else\n",
    "x = 1\n",
    "while x < 3:\n",
    "  print(x)\n",
    "  x += 1\n",
    "else:\n",
    "  print('limit crossed')"
   ]
  },
  {
   "cell_type": "code",
   "execution_count": 6,
   "id": "7f7a9607-9553-491a-9372-b204ac6ff4fc",
   "metadata": {},
   "outputs": [
    {
     "name": "stdin",
     "output_type": "stream",
     "text": [
      "Enter the number:  1234\n"
     ]
    },
    {
     "name": "stdout",
     "output_type": "stream",
     "text": [
      "Sum of digits: 10\n"
     ]
    }
   ],
   "source": [
    "# 2. Sum of Digits\n",
    "number = int(input(\"Enter the number: \"))\n",
    "sum_digits = 0\n",
    "while number > 0:\n",
    "    digit = number % 10\n",
    "    sum_digits += digit\n",
    "    number //= 10\n",
    "print(f\"Sum of digits: {sum_digits}\")"
   ]
  },
  {
   "cell_type": "code",
   "execution_count": 8,
   "id": "f874443c-d7b8-49f0-b9b9-3eeec1c28172",
   "metadata": {},
   "outputs": [
    {
     "name": "stdin",
     "output_type": "stream",
     "text": [
      "Enter a number (0 to stop):  5\n",
      "Enter a number (0 to stop):  4\n",
      "Enter a number (0 to stop):  3\n",
      "Enter a number (0 to stop):  2\n",
      "Enter a number (0 to stop):  1\n",
      "Enter a number (0 to stop):  0\n"
     ]
    },
    {
     "name": "stdout",
     "output_type": "stream",
     "text": [
      "Average of entered numbers: 3.0\n"
     ]
    }
   ],
   "source": [
    "# 3. Average of Numbers Until 0\n",
    "count = 0\n",
    "total = 0\n",
    "while True:\n",
    "    number = int(input(\"Enter a number (0 to stop): \"))\n",
    "    if number == 0:\n",
    "        break\n",
    "    total += number\n",
    "    count += 1\n",
    "if count > 0:\n",
    "    average = total / count\n",
    "    print(f\"Average of entered numbers: {average}\")\n",
    "else:\n",
    "    print(\"No numbers entered.\")"
   ]
  },
  {
   "cell_type": "code",
   "execution_count": null,
   "id": "7909379f-6d55-4943-b55b-990c9eb04f85",
   "metadata": {},
   "outputs": [],
   "source": []
  }
 ],
 "metadata": {
  "kernelspec": {
   "display_name": "Python 3 (ipykernel)",
   "language": "python",
   "name": "python3"
  },
  "language_info": {
   "codemirror_mode": {
    "name": "ipython",
    "version": 3
   },
   "file_extension": ".py",
   "mimetype": "text/x-python",
   "name": "python",
   "nbconvert_exporter": "python",
   "pygments_lexer": "ipython3",
   "version": "3.13.5"
  }
 },
 "nbformat": 4,
 "nbformat_minor": 5
}
