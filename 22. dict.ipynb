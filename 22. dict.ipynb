{
 "cells": [
  {
   "cell_type": "markdown",
   "id": "2ff6c48a-a9d1-4a98-8ccd-489fd8d707cd",
   "metadata": {},
   "source": [
    "# Dictionary\n",
    "- Key-Value Pairs: Data mapping.\n",
    "- Aliases: Map, associative array.<br>\n",
    "dict = { 'name': 'Dikshita', 'age': 22, 'gender': 'female' }\n",
    "## Traits:\n",
    "- Mutable\n",
    "- No indexing\n",
    "- Unique keys\n",
    "- Immutable keys"
   ]
  },
  {
   "cell_type": "code",
   "execution_count": 1,
   "id": "2502caa9-d9dc-4245-a0db-7f00a6b8ed51",
   "metadata": {},
   "outputs": [
    {
     "data": {
      "text/plain": [
       "{'Name': 'Dikshita', 'Gender': 'Female'}"
      ]
     },
     "execution_count": 1,
     "metadata": {},
     "output_type": "execute_result"
    }
   ],
   "source": [
    "{\"Name\":\"Dikshita\", \"Gender\":\"Female\"}"
   ]
  },
  {
   "cell_type": "markdown",
   "id": "bd8b2937-468e-426f-bc4b-a93032ecc63f",
   "metadata": {},
   "source": [
    "## 4 Key Rules About Dictionaries\n",
    "1. No Indexing: No index support.<br>\n",
    "2. Mutable: Can modify post-creation.<br>\n",
    "3. Keys: Immutable (str, num, tuple); Values: Any type.<br>\n",
    "4. Unique Keys: Keys must be unique; overwrite on reassignment."
   ]
  },
  {
   "cell_type": "code",
   "execution_count": 3,
   "id": "11086ac7-7208-4b45-a104-8bf1b9f9b2fd",
   "metadata": {},
   "outputs": [],
   "source": [
    "# Mutable Types   ---> Lists, Sets, Dicts\n",
    "\n",
    "# Immutable Types ---> Str, Tuples, Int, Float, Bool, Complex"
   ]
  },
  {
   "cell_type": "markdown",
   "id": "dd117e8c-953b-4563-9ce7-c9b26885c5f6",
   "metadata": {},
   "source": [
    "1. Create<br>\n",
    "2. Access<br>\n",
    "3. Edit<br>\n",
    "4. Add<br>\n",
    "5. Delete<br>\n",
    "6. Operations<br>\n",
    "7. Functions"
   ]
  },
  {
   "cell_type": "markdown",
   "id": "53a86162-df79-424e-8565-d900384770e8",
   "metadata": {},
   "source": [
    "## 1. Create"
   ]
  },
  {
   "cell_type": "code",
   "execution_count": 5,
   "id": "523de02f-42f8-48f3-8b94-922ed75be154",
   "metadata": {},
   "outputs": [
    {
     "data": {
      "text/plain": [
       "{}"
      ]
     },
     "execution_count": 5,
     "metadata": {},
     "output_type": "execute_result"
    }
   ],
   "source": [
    "# empty dictionary\n",
    "D = {}\n",
    "D"
   ]
  },
  {
   "cell_type": "code",
   "execution_count": 7,
   "id": "c2ed93c5-decb-4472-8602-5e73a61842a1",
   "metadata": {},
   "outputs": [
    {
     "data": {
      "text/plain": [
       "{'Name': 'Dikshita', 'Gender': 'Female'}"
      ]
     },
     "execution_count": 7,
     "metadata": {},
     "output_type": "execute_result"
    }
   ],
   "source": [
    "# 1D dictionary\n",
    "D = {\"Name\":\"Dikshita\", \"Gender\":\"Female\"}\n",
    "D"
   ]
  },
  {
   "cell_type": "code",
   "execution_count": 8,
   "id": "c41133ed-c0ab-46a3-8c8b-3c888685b68f",
   "metadata": {},
   "outputs": [
    {
     "ename": "TypeError",
     "evalue": "unhashable type: 'list'",
     "output_type": "error",
     "traceback": [
      "\u001b[1;31m---------------------------------------------------------------------------\u001b[0m",
      "\u001b[1;31mTypeError\u001b[0m                                 Traceback (most recent call last)",
      "Cell \u001b[1;32mIn[8], line 1\u001b[0m\n\u001b[1;32m----> 1\u001b[0m D1 \u001b[38;5;241m=\u001b[39m {[\u001b[38;5;241m1\u001b[39m, \u001b[38;5;241m2\u001b[39m, \u001b[38;5;241m3\u001b[39m]:\u001b[38;5;124m\"\u001b[39m\u001b[38;5;124mDikshita\u001b[39m\u001b[38;5;124m\"\u001b[39m}\n",
      "\u001b[1;31mTypeError\u001b[0m: unhashable type: 'list'"
     ]
    }
   ],
   "source": [
    "D1 = {[1, 2, 3]:\"Dikshita\"}"
   ]
  },
  {
   "cell_type": "code",
   "execution_count": 9,
   "id": "9ea95912-3ae3-47b3-9f60-8b032362b601",
   "metadata": {},
   "outputs": [
    {
     "data": {
      "text/plain": [
       "{(1, 2, 3): 'Dikshita'}"
      ]
     },
     "execution_count": 9,
     "metadata": {},
     "output_type": "execute_result"
    }
   ],
   "source": [
    "# with mixed keys\n",
    "D1 = {(1, 2, 3):\"Dikshita\"}\n",
    "D1"
   ]
  },
  {
   "cell_type": "code",
   "execution_count": 10,
   "id": "6dbf175c-9336-4ad2-ab1d-c74f9f16d08a",
   "metadata": {},
   "outputs": [
    {
     "data": {
      "text/plain": [
       "{'Name': 'Maru'}"
      ]
     },
     "execution_count": 10,
     "metadata": {},
     "output_type": "execute_result"
    }
   ],
   "source": [
    "# duplicate keys\n",
    "D2 = {\"Name\":\"Natty\", \"Name\":\"Maru\"}\n",
    "D2"
   ]
  },
  {
   "cell_type": "code",
   "execution_count": 11,
   "id": "3ad8dd62-2da7-4b59-9776-4a382a71d120",
   "metadata": {},
   "outputs": [
    {
     "data": {
      "text/plain": [
       "{'Name': 'Dikshita',\n",
       " 'College': 'BTU',\n",
       " 'Marks': {'M1': 99, 'DS': 97, 'Eng': 98}}"
      ]
     },
     "execution_count": 11,
     "metadata": {},
     "output_type": "execute_result"
    }
   ],
   "source": [
    "D3 = {\"Name\":\"Dikshita\", \"College\":\"BTU\", \"Marks\":{\"M1\":99, \"DS\":97, \"Eng\":98}}\n",
    "D3"
   ]
  },
  {
   "cell_type": "code",
   "execution_count": 13,
   "id": "e89893f8-39ac-4066-9258-8f2aefbf6ab9",
   "metadata": {},
   "outputs": [],
   "source": [
    "# 2D dictionary ---> JSON\n",
    "s = {\n",
    "    'name':'nitish',\n",
    "     'college':'bit',\n",
    "     'sem':4,\n",
    "     'subjects':{\n",
    "         'dsa':50,\n",
    "         'maths':67,\n",
    "         'english':34\n",
    "     }\n",
    "}"
   ]
  },
  {
   "cell_type": "code",
   "execution_count": 14,
   "id": "7a94e1d3-6245-42ff-8ac4-233515610830",
   "metadata": {},
   "outputs": [
    {
     "name": "stdout",
     "output_type": "stream",
     "text": [
      "{'name': 'nitish', (1, 2, 3): 2}\n"
     ]
    }
   ],
   "source": [
    "# mutable items as keys\n",
    "D4 = {'name':'nitish', (1, 2, 3):2}\n",
    "print(D4)"
   ]
  },
  {
   "cell_type": "code",
   "execution_count": 15,
   "id": "2c62b0c5-f908-402e-ba8e-992c39756391",
   "metadata": {},
   "outputs": [
    {
     "data": {
      "text/plain": [
       "{'name': 'nitish', 'age': 32, 3: 3}"
      ]
     },
     "execution_count": 15,
     "metadata": {},
     "output_type": "execute_result"
    }
   ],
   "source": [
    "# using sequence and dict function\n",
    "D5 = dict([('name', 'nitish'), ('age', 32), (3, 3)])\n",
    "D5"
   ]
  },
  {
   "cell_type": "markdown",
   "id": "02ae890c-c018-4fa1-87cb-59b8b2cf2c16",
   "metadata": {},
   "source": [
    "## 2. Access"
   ]
  },
  {
   "cell_type": "code",
   "execution_count": 16,
   "id": "d0469fd4-3495-43cd-8014-b33020978f35",
   "metadata": {},
   "outputs": [
    {
     "data": {
      "text/plain": [
       "{'Name': 'Dikshita', 'Gender': 'Female'}"
      ]
     },
     "execution_count": 16,
     "metadata": {},
     "output_type": "execute_result"
    }
   ],
   "source": [
    "D"
   ]
  },
  {
   "cell_type": "code",
   "execution_count": 17,
   "id": "99f90a8c-6979-45ef-a658-2f884aaa0dc8",
   "metadata": {},
   "outputs": [
    {
     "ename": "KeyError",
     "evalue": "0",
     "output_type": "error",
     "traceback": [
      "\u001b[1;31m---------------------------------------------------------------------------\u001b[0m",
      "\u001b[1;31mKeyError\u001b[0m                                  Traceback (most recent call last)",
      "Cell \u001b[1;32mIn[17], line 1\u001b[0m\n\u001b[1;32m----> 1\u001b[0m D[\u001b[38;5;241m0\u001b[39m]\n",
      "\u001b[1;31mKeyError\u001b[0m: 0"
     ]
    }
   ],
   "source": [
    "D[0]"
   ]
  },
  {
   "cell_type": "code",
   "execution_count": 20,
   "id": "fc5afbf5-1c35-40bc-b016-1ee3b639835f",
   "metadata": {},
   "outputs": [
    {
     "data": {
      "text/plain": [
       "'Dikshita'"
      ]
     },
     "execution_count": 20,
     "metadata": {},
     "output_type": "execute_result"
    }
   ],
   "source": [
    "D[\"Name\"]"
   ]
  },
  {
   "cell_type": "code",
   "execution_count": 19,
   "id": "afa70c41-46c2-4497-810a-5108218c259b",
   "metadata": {},
   "outputs": [
    {
     "data": {
      "text/plain": [
       "'Dikshita'"
      ]
     },
     "execution_count": 19,
     "metadata": {},
     "output_type": "execute_result"
    }
   ],
   "source": [
    "D.get(\"Name\")"
   ]
  },
  {
   "cell_type": "code",
   "execution_count": 21,
   "id": "f6337dfd-6833-4728-b39a-3fe34afd6bb1",
   "metadata": {},
   "outputs": [
    {
     "data": {
      "text/plain": [
       "'Female'"
      ]
     },
     "execution_count": 21,
     "metadata": {},
     "output_type": "execute_result"
    }
   ],
   "source": [
    "D[\"Gender\"]"
   ]
  },
  {
   "cell_type": "code",
   "execution_count": 22,
   "id": "b6dff711-d819-4817-9fab-19b6c7d55f53",
   "metadata": {},
   "outputs": [
    {
     "data": {
      "text/plain": [
       "'Female'"
      ]
     },
     "execution_count": 22,
     "metadata": {},
     "output_type": "execute_result"
    }
   ],
   "source": [
    "D.get(\"Gender\")\n",
    "# .get() ---> 1-D dicts only; Not for 2-D/nested dicts."
   ]
  },
  {
   "cell_type": "code",
   "execution_count": 23,
   "id": "6d765e01-1d14-44ac-adc6-80aec40fc340",
   "metadata": {},
   "outputs": [
    {
     "data": {
      "text/plain": [
       "{'Name': 'Dikshita',\n",
       " 'College': 'BTU',\n",
       " 'Marks': {'M1': 99, 'DS': 97, 'Eng': 98}}"
      ]
     },
     "execution_count": 23,
     "metadata": {},
     "output_type": "execute_result"
    }
   ],
   "source": [
    "D3"
   ]
  },
  {
   "cell_type": "code",
   "execution_count": 24,
   "id": "633e5dac-1f59-4153-859a-22ae38a2b3c8",
   "metadata": {},
   "outputs": [
    {
     "data": {
      "text/plain": [
       "97"
      ]
     },
     "execution_count": 24,
     "metadata": {},
     "output_type": "execute_result"
    }
   ],
   "source": [
    "D3[\"Marks\"][\"DS\"]"
   ]
  },
  {
   "cell_type": "markdown",
   "id": "6a23e8da-bc58-4a98-9e94-008418137f7c",
   "metadata": {},
   "source": [
    "## 3. Edit"
   ]
  },
  {
   "cell_type": "code",
   "execution_count": 26,
   "id": "36d3d925-23f7-46c7-9450-89dcb305352b",
   "metadata": {},
   "outputs": [
    {
     "data": {
      "text/plain": [
       "{'Name': 'Dikshita', 'Gender': 'Female'}"
      ]
     },
     "execution_count": 26,
     "metadata": {},
     "output_type": "execute_result"
    }
   ],
   "source": [
    "D"
   ]
  },
  {
   "cell_type": "code",
   "execution_count": 28,
   "id": "4f65c8a4-b67b-4802-94aa-64d421f4351d",
   "metadata": {},
   "outputs": [
    {
     "data": {
      "text/plain": [
       "{'Name': 'Kartik', 'Gender': 'Female'}"
      ]
     },
     "execution_count": 28,
     "metadata": {},
     "output_type": "execute_result"
    }
   ],
   "source": [
    "D[\"Name\"] = \"Kartik\"\n",
    "D"
   ]
  },
  {
   "cell_type": "code",
   "execution_count": 29,
   "id": "4c71e536-8294-4a1a-8e8d-25ff9154c10e",
   "metadata": {},
   "outputs": [
    {
     "data": {
      "text/plain": [
       "{'Name': 'Dikshita',\n",
       " 'College': 'BTU',\n",
       " 'Marks': {'M1': 99, 'DS': 10, 'Eng': 98}}"
      ]
     },
     "execution_count": 29,
     "metadata": {},
     "output_type": "execute_result"
    }
   ],
   "source": [
    "D3[\"Marks\"][\"DS\"] = 10\n",
    "D3"
   ]
  },
  {
   "cell_type": "markdown",
   "id": "877d6e36-72ed-4f19-9843-41e1469bfc53",
   "metadata": {},
   "source": [
    "## 4. Add"
   ]
  },
  {
   "cell_type": "code",
   "execution_count": 30,
   "id": "58bcda71-cf14-49a7-8dcc-1066ff77eca2",
   "metadata": {},
   "outputs": [
    {
     "data": {
      "text/plain": [
       "{'Name': 'Kartik', 'Gender': 'Female'}"
      ]
     },
     "execution_count": 30,
     "metadata": {},
     "output_type": "execute_result"
    }
   ],
   "source": [
    "D"
   ]
  },
  {
   "cell_type": "code",
   "execution_count": 31,
   "id": "5603d6a9-1f1d-4023-ba16-1db8b22d8b2e",
   "metadata": {},
   "outputs": [
    {
     "data": {
      "text/plain": [
       "{'Name': 'Kartik', 'Gender': 'Female', 'Age': 22}"
      ]
     },
     "execution_count": 31,
     "metadata": {},
     "output_type": "execute_result"
    }
   ],
   "source": [
    "D[\"Age\"] = 22\n",
    "D"
   ]
  },
  {
   "cell_type": "code",
   "execution_count": 32,
   "id": "f2838b86-038e-4ae9-9fe1-c3d67a8b038e",
   "metadata": {},
   "outputs": [
    {
     "data": {
      "text/plain": [
       "{'Name': 'Dikshita',\n",
       " 'College': 'BTU',\n",
       " 'Marks': {'M1': 99, 'DS': 10, 'Eng': 98, 'M2': 95}}"
      ]
     },
     "execution_count": 32,
     "metadata": {},
     "output_type": "execute_result"
    }
   ],
   "source": [
    "D3[\"Marks\"][\"M2\"] = 95\n",
    "D3"
   ]
  },
  {
   "cell_type": "markdown",
   "id": "cedcf494-3109-43b2-9da4-596dae7c5728",
   "metadata": {},
   "source": [
    "## 5. Delete"
   ]
  },
  {
   "cell_type": "code",
   "execution_count": 33,
   "id": "e47f2df8-43ab-422f-97ea-81dedbe99b4b",
   "metadata": {},
   "outputs": [
    {
     "data": {
      "text/plain": [
       "{}"
      ]
     },
     "execution_count": 33,
     "metadata": {},
     "output_type": "execute_result"
    }
   ],
   "source": [
    "D5 = {}\n",
    "D5"
   ]
  },
  {
   "cell_type": "code",
   "execution_count": 34,
   "id": "8030ddf9-7cba-47bb-a7e4-b64676d790e8",
   "metadata": {},
   "outputs": [
    {
     "ename": "NameError",
     "evalue": "name 'D5' is not defined",
     "output_type": "error",
     "traceback": [
      "\u001b[1;31m---------------------------------------------------------------------------\u001b[0m",
      "\u001b[1;31mNameError\u001b[0m                                 Traceback (most recent call last)",
      "Cell \u001b[1;32mIn[34], line 2\u001b[0m\n\u001b[0;32m      1\u001b[0m \u001b[38;5;28;01mdel\u001b[39;00m D5\n\u001b[1;32m----> 2\u001b[0m D5\n",
      "\u001b[1;31mNameError\u001b[0m: name 'D5' is not defined"
     ]
    }
   ],
   "source": [
    "del D5\n",
    "D5"
   ]
  },
  {
   "cell_type": "code",
   "execution_count": 35,
   "id": "83ddfb03-96bd-4c70-95cf-73fd60e19abe",
   "metadata": {},
   "outputs": [
    {
     "data": {
      "text/plain": [
       "'Kartik'"
      ]
     },
     "execution_count": 35,
     "metadata": {},
     "output_type": "execute_result"
    }
   ],
   "source": [
    "D.pop('Name')"
   ]
  },
  {
   "cell_type": "code",
   "execution_count": 36,
   "id": "c10c8b16-9f34-4d5d-81a6-70cc7a8c95ae",
   "metadata": {},
   "outputs": [
    {
     "data": {
      "text/plain": [
       "('Age', 22)"
      ]
     },
     "execution_count": 36,
     "metadata": {},
     "output_type": "execute_result"
    }
   ],
   "source": [
    "D.popitem()"
   ]
  },
  {
   "cell_type": "code",
   "execution_count": 37,
   "id": "60b0e60b-3312-43ac-b1d0-831dc71b928c",
   "metadata": {},
   "outputs": [
    {
     "data": {
      "text/plain": [
       "{'Gender': 'Female'}"
      ]
     },
     "execution_count": 37,
     "metadata": {},
     "output_type": "execute_result"
    }
   ],
   "source": [
    "D"
   ]
  },
  {
   "cell_type": "code",
   "execution_count": 38,
   "id": "3f81e129-44f9-4ffa-84fa-d30c8d45450a",
   "metadata": {},
   "outputs": [
    {
     "data": {
      "text/plain": [
       "{}"
      ]
     },
     "execution_count": 38,
     "metadata": {},
     "output_type": "execute_result"
    }
   ],
   "source": [
    "del D[\"Gender\"]\n",
    "D"
   ]
  },
  {
   "cell_type": "code",
   "execution_count": 39,
   "id": "4429b83d-788e-412e-9578-4873172f489e",
   "metadata": {},
   "outputs": [
    {
     "data": {
      "text/plain": [
       "{}"
      ]
     },
     "execution_count": 39,
     "metadata": {},
     "output_type": "execute_result"
    }
   ],
   "source": [
    "D.clear()\n",
    "D"
   ]
  },
  {
   "cell_type": "markdown",
   "id": "13b11c2a-71a8-4637-b46a-8efc866fabc6",
   "metadata": {},
   "source": [
    "## 6. Operations"
   ]
  },
  {
   "cell_type": "code",
   "execution_count": 40,
   "id": "b87389df-5033-4489-92b8-e24485742db2",
   "metadata": {},
   "outputs": [
    {
     "data": {
      "text/plain": [
       "{'Name': 'Dikshita',\n",
       " 'College': 'BTU',\n",
       " 'Marks': {'M1': 99, 'DS': 10, 'Eng': 98, 'M2': 95}}"
      ]
     },
     "execution_count": 40,
     "metadata": {},
     "output_type": "execute_result"
    }
   ],
   "source": [
    "D3"
   ]
  },
  {
   "cell_type": "code",
   "execution_count": 41,
   "id": "8b295296-e924-4c63-92c5-4e9f2903709e",
   "metadata": {},
   "outputs": [
    {
     "data": {
      "text/plain": [
       "{'name': 'nitish', (1, 2, 3): 2}"
      ]
     },
     "execution_count": 41,
     "metadata": {},
     "output_type": "execute_result"
    }
   ],
   "source": [
    "D4"
   ]
  },
  {
   "cell_type": "code",
   "execution_count": 42,
   "id": "ed3857a8-86c6-4feb-bf80-42e1fd60cb4c",
   "metadata": {},
   "outputs": [
    {
     "ename": "TypeError",
     "evalue": "unsupported operand type(s) for +: 'dict' and 'dict'",
     "output_type": "error",
     "traceback": [
      "\u001b[1;31m---------------------------------------------------------------------------\u001b[0m",
      "\u001b[1;31mTypeError\u001b[0m                                 Traceback (most recent call last)",
      "Cell \u001b[1;32mIn[42], line 1\u001b[0m\n\u001b[1;32m----> 1\u001b[0m D3 \u001b[38;5;241m+\u001b[39m D4\n",
      "\u001b[1;31mTypeError\u001b[0m: unsupported operand type(s) for +: 'dict' and 'dict'"
     ]
    }
   ],
   "source": [
    "D3 + D4"
   ]
  },
  {
   "cell_type": "code",
   "execution_count": 43,
   "id": "de728421-f5a0-4e7e-9b6b-fabb9d89e009",
   "metadata": {},
   "outputs": [
    {
     "ename": "TypeError",
     "evalue": "unsupported operand type(s) for *: 'dict' and 'int'",
     "output_type": "error",
     "traceback": [
      "\u001b[1;31m---------------------------------------------------------------------------\u001b[0m",
      "\u001b[1;31mTypeError\u001b[0m                                 Traceback (most recent call last)",
      "Cell \u001b[1;32mIn[43], line 1\u001b[0m\n\u001b[1;32m----> 1\u001b[0m D3 \u001b[38;5;241m*\u001b[39m \u001b[38;5;241m3\u001b[39m\n",
      "\u001b[1;31mTypeError\u001b[0m: unsupported operand type(s) for *: 'dict' and 'int'"
     ]
    }
   ],
   "source": [
    "D3 * 3"
   ]
  },
  {
   "cell_type": "code",
   "execution_count": 44,
   "id": "0702a09e-5116-44fe-8120-97266af8d721",
   "metadata": {},
   "outputs": [
    {
     "data": {
      "text/plain": [
       "{'Name': 'Dikshita',\n",
       " 'College': 'BTU',\n",
       " 'Marks': {'M1': 99, 'DS': 10, 'Eng': 98, 'M2': 95}}"
      ]
     },
     "execution_count": 44,
     "metadata": {},
     "output_type": "execute_result"
    }
   ],
   "source": [
    "D3"
   ]
  },
  {
   "cell_type": "code",
   "execution_count": 45,
   "id": "36794c36-0894-4dc7-829f-492591e2793e",
   "metadata": {},
   "outputs": [
    {
     "name": "stdout",
     "output_type": "stream",
     "text": [
      "Name\n",
      "College\n",
      "Marks\n"
     ]
    }
   ],
   "source": [
    "# Iteration\n",
    "for i in D3:\n",
    "    print(i)"
   ]
  },
  {
   "cell_type": "code",
   "execution_count": 46,
   "id": "f1a2e92a-949c-4514-9144-7e804e3c8be6",
   "metadata": {},
   "outputs": [
    {
     "name": "stdout",
     "output_type": "stream",
     "text": [
      "Name Dikshita\n",
      "College BTU\n",
      "Marks {'M1': 99, 'DS': 10, 'Eng': 98, 'M2': 95}\n"
     ]
    }
   ],
   "source": [
    "for i in D3:\n",
    "    print(i, D3[i])"
   ]
  },
  {
   "cell_type": "code",
   "execution_count": 47,
   "id": "2f4767b9-2a57-4b12-89dd-902f2ba7a320",
   "metadata": {},
   "outputs": [
    {
     "data": {
      "text/plain": [
       "False"
      ]
     },
     "execution_count": 47,
     "metadata": {},
     "output_type": "execute_result"
    }
   ],
   "source": [
    "# Membership\n",
    "\"Saurabh\" in  D3"
   ]
  },
  {
   "cell_type": "code",
   "execution_count": 48,
   "id": "8fc8a7ff-ef04-4d59-9d24-762504fece55",
   "metadata": {},
   "outputs": [
    {
     "data": {
      "text/plain": [
       "True"
      ]
     },
     "execution_count": 48,
     "metadata": {},
     "output_type": "execute_result"
    }
   ],
   "source": [
    "\"Name\" in  D3"
   ]
  },
  {
   "cell_type": "markdown",
   "id": "3a26efa2-416e-493c-98e9-de8ad3175b79",
   "metadata": {},
   "source": [
    "## 7. Functions"
   ]
  },
  {
   "cell_type": "code",
   "execution_count": 49,
   "id": "983dcca2-d2b0-4c1a-bd27-056076f2ca87",
   "metadata": {},
   "outputs": [
    {
     "data": {
      "text/plain": [
       "3"
      ]
     },
     "execution_count": 49,
     "metadata": {},
     "output_type": "execute_result"
    }
   ],
   "source": [
    "len(D3)"
   ]
  },
  {
   "cell_type": "code",
   "execution_count": 50,
   "id": "f00ecc75-0714-445c-8aa8-84294918caab",
   "metadata": {},
   "outputs": [
    {
     "data": {
      "text/plain": [
       "'College'"
      ]
     },
     "execution_count": 50,
     "metadata": {},
     "output_type": "execute_result"
    }
   ],
   "source": [
    "min(D3)"
   ]
  },
  {
   "cell_type": "code",
   "execution_count": 51,
   "id": "6395385d-4376-48d7-ab78-32d5ba700d76",
   "metadata": {},
   "outputs": [
    {
     "data": {
      "text/plain": [
       "'Name'"
      ]
     },
     "execution_count": 51,
     "metadata": {},
     "output_type": "execute_result"
    }
   ],
   "source": [
    "max(D3)"
   ]
  },
  {
   "cell_type": "code",
   "execution_count": 52,
   "id": "c1c59d9d-5a1c-484f-9d52-1a4c4beb36c3",
   "metadata": {},
   "outputs": [
    {
     "data": {
      "text/plain": [
       "['College', 'Marks', 'Name']"
      ]
     },
     "execution_count": 52,
     "metadata": {},
     "output_type": "execute_result"
    }
   ],
   "source": [
    "sorted(D3)"
   ]
  },
  {
   "cell_type": "code",
   "execution_count": 53,
   "id": "8b43d023-9bf0-4c7d-bec6-50aef55ec907",
   "metadata": {},
   "outputs": [
    {
     "data": {
      "text/plain": [
       "['Name', 'Marks', 'College']"
      ]
     },
     "execution_count": 53,
     "metadata": {},
     "output_type": "execute_result"
    }
   ],
   "source": [
    "sorted(D3, reverse = True)"
   ]
  },
  {
   "cell_type": "code",
   "execution_count": 54,
   "id": "b8ab5736-bae0-4adb-b29b-92f317e98eae",
   "metadata": {},
   "outputs": [
    {
     "data": {
      "text/plain": [
       "dict_items([('Name', 'Dikshita'), ('College', 'BTU'), ('Marks', {'M1': 99, 'DS': 10, 'Eng': 98, 'M2': 95})])"
      ]
     },
     "execution_count": 54,
     "metadata": {},
     "output_type": "execute_result"
    }
   ],
   "source": [
    "D3.items()"
   ]
  },
  {
   "cell_type": "code",
   "execution_count": 55,
   "id": "74f25c54-a8f9-433e-9dd7-53d09128fd16",
   "metadata": {},
   "outputs": [
    {
     "data": {
      "text/plain": [
       "dict_keys(['Name', 'College', 'Marks'])"
      ]
     },
     "execution_count": 55,
     "metadata": {},
     "output_type": "execute_result"
    }
   ],
   "source": [
    "D3.keys()"
   ]
  },
  {
   "cell_type": "code",
   "execution_count": 56,
   "id": "ec829f33-80dc-4b5f-bb0e-2f46bd99b552",
   "metadata": {},
   "outputs": [
    {
     "data": {
      "text/plain": [
       "dict_values(['Dikshita', 'BTU', {'M1': 99, 'DS': 10, 'Eng': 98, 'M2': 95}])"
      ]
     },
     "execution_count": 56,
     "metadata": {},
     "output_type": "execute_result"
    }
   ],
   "source": [
    "D3.values()"
   ]
  },
  {
   "cell_type": "code",
   "execution_count": 57,
   "id": "0a53b362-0f6a-44ce-b5c0-be73ceafc831",
   "metadata": {},
   "outputs": [
    {
     "name": "stdout",
     "output_type": "stream",
     "text": [
      "{1: 2, 3: 4, 4: 7, 6: 8}\n"
     ]
    }
   ],
   "source": [
    "# update\n",
    "d1 = {1:2, 3:4, 4:5}\n",
    "d2 = {4:7, 6:8}\n",
    "d1.update(d2)\n",
    "print(d1)"
   ]
  },
  {
   "cell_type": "markdown",
   "id": "66f19b42-087f-4b0f-909d-bcaad1864f7b",
   "metadata": {},
   "source": [
    "## Dictionary Comprehension\n",
    "{key : value for var in iterable}<br>\n",
    "Creates dicts from iterables.\n",
    "#### Example:\n",
    "squares_dict = {x: x**2 for x in range(5)}<br>\n",
    "Maps numbers to squares.<br>\n",
    "Supports conditions & expressions."
   ]
  },
  {
   "cell_type": "code",
   "execution_count": 58,
   "id": "7883ca21-ed0c-4236-ab30-c3bf8f1039af",
   "metadata": {},
   "outputs": [],
   "source": [
    "D = {\"Name\":\"Nitish\", \"Gender\":\"Male\", \"Age\":30}"
   ]
  },
  {
   "cell_type": "code",
   "execution_count": 59,
   "id": "b37b52e2-af42-42eb-9e4e-cb6990a14638",
   "metadata": {},
   "outputs": [
    {
     "data": {
      "text/plain": [
       "dict_items([('Name', 'Nitish'), ('Gender', 'Male'), ('Age', 30)])"
      ]
     },
     "execution_count": 59,
     "metadata": {},
     "output_type": "execute_result"
    }
   ],
   "source": [
    "D.items()"
   ]
  },
  {
   "cell_type": "code",
   "execution_count": 60,
   "id": "72cf589d-58ee-454c-8776-d6690ef98668",
   "metadata": {},
   "outputs": [
    {
     "data": {
      "text/plain": [
       "{'Name': 'Nitish', 'Gender': 'Male'}"
      ]
     },
     "execution_count": 60,
     "metadata": {},
     "output_type": "execute_result"
    }
   ],
   "source": [
    "D1 = {key:value for key, value in D.items() if len(key)>3}\n",
    "D1"
   ]
  },
  {
   "cell_type": "code",
   "execution_count": 61,
   "id": "3c082db8-408f-4d05-a633-ed9c7a0fdde0",
   "metadata": {},
   "outputs": [],
   "source": [
    "L = [1, 2, 3, 4, 5, 6, 7]"
   ]
  },
  {
   "cell_type": "code",
   "execution_count": 62,
   "id": "41d691dc-b63c-4da7-90b9-056333fb458c",
   "metadata": {},
   "outputs": [
    {
     "data": {
      "text/plain": [
       "{1: 1, 2: 4, 3: 9, 4: 16, 5: 25, 6: 36, 7: 49}"
      ]
     },
     "execution_count": 62,
     "metadata": {},
     "output_type": "execute_result"
    }
   ],
   "source": [
    "D2 = {item : item**2 for item in L}\n",
    "D2"
   ]
  },
  {
   "cell_type": "code",
   "execution_count": 64,
   "id": "65719f57-1b56-423b-98bc-7bad202e17e4",
   "metadata": {},
   "outputs": [
    {
     "data": {
      "text/plain": [
       "{2: 4, 4: 16, 6: 36}"
      ]
     },
     "execution_count": 64,
     "metadata": {},
     "output_type": "execute_result"
    }
   ],
   "source": [
    "D2 = {item : item**2 for item in L if item%2 == 0}\n",
    "D2"
   ]
  },
  {
   "cell_type": "code",
   "execution_count": 66,
   "id": "ea2f1e91-65f3-41bc-8ea7-f5d8aa166524",
   "metadata": {},
   "outputs": [
    {
     "data": {
      "text/plain": [
       "{1: 1, 2: 4, 3: 9, 4: 16, 5: 25, 6: 36, 7: 49, 8: 64, 9: 81, 10: 100}"
      ]
     },
     "execution_count": 66,
     "metadata": {},
     "output_type": "execute_result"
    }
   ],
   "source": [
    "# Print 1st 10 nums & squares\n",
    "{i:i**2 for i in range(1, 11)}"
   ]
  },
  {
   "cell_type": "code",
   "execution_count": 67,
   "id": "73037b98-0081-4c02-a531-f4353d4bbbb5",
   "metadata": {},
   "outputs": [
    {
     "name": "stdout",
     "output_type": "stream",
     "text": [
      "dict_items([('delhi', 1000), ('mumbai', 2000), ('bangalore', 3000)])\n"
     ]
    }
   ],
   "source": [
    "distances = {'delhi':1000, 'mumbai':2000, 'bangalore':3000}\n",
    "print(distances.items())"
   ]
  },
  {
   "cell_type": "code",
   "execution_count": 68,
   "id": "a04c4bab-ffac-4284-9ac4-6f5b85e5c00b",
   "metadata": {},
   "outputs": [
    {
     "data": {
      "text/plain": [
       "{'delhi': 620.0, 'mumbai': 1240.0, 'bangalore': 1860.0}"
      ]
     },
     "execution_count": 68,
     "metadata": {},
     "output_type": "execute_result"
    }
   ],
   "source": [
    "# using existing dict\n",
    "distances = {'delhi':1000, 'mumbai':2000, 'bangalore':3000}\n",
    "{key:value*0.62 for (key, value) in distances.items()}"
   ]
  },
  {
   "cell_type": "code",
   "execution_count": 69,
   "id": "705b6b88-ef0b-4ff8-9589-38e24e029304",
   "metadata": {},
   "outputs": [
    {
     "data": {
      "text/plain": [
       "{'Sunday': 30.5,\n",
       " 'Monday': 32.6,\n",
       " 'Tuesday': 31.8,\n",
       " 'Wednesday': 33.4,\n",
       " 'Thursday': 29.8,\n",
       " 'Friday': 30.2,\n",
       " 'Saturday': 29.9}"
      ]
     },
     "execution_count": 69,
     "metadata": {},
     "output_type": "execute_result"
    }
   ],
   "source": [
    "# using zip\n",
    "days = [\"Sunday\", \"Monday\", \"Tuesday\", \"Wednesday\", \"Thursday\", \"Friday\", \"Saturday\"]\n",
    "temp_C = [30.5, 32.6, 31.8, 33.4, 29.8, 30.2, 29.9]\n",
    "{i:j for (i, j) in zip(days, temp_C)}"
   ]
  },
  {
   "cell_type": "code",
   "execution_count": 70,
   "id": "abdbf925-df68-4bb5-a403-351f58e88d4b",
   "metadata": {},
   "outputs": [
    {
     "data": {
      "text/plain": [
       "{'phone': 10, 'charger': 32}"
      ]
     },
     "execution_count": 70,
     "metadata": {},
     "output_type": "execute_result"
    }
   ],
   "source": [
    "# using if condition\n",
    "products = {'phone':10, 'laptop':0, 'charger':32, 'tablet':0}\n",
    "{key:value for (key, value) in products.items() if value>0}"
   ]
  },
  {
   "cell_type": "code",
   "execution_count": 71,
   "id": "58e083aa-a966-4721-a23e-13d8cfe9df61",
   "metadata": {},
   "outputs": [
    {
     "data": {
      "text/plain": [
       "{2: {1: 2, 2: 4, 3: 6, 4: 8, 5: 10, 6: 12, 7: 14, 8: 16, 9: 18, 10: 20},\n",
       " 3: {1: 3, 2: 6, 3: 9, 4: 12, 5: 15, 6: 18, 7: 21, 8: 24, 9: 27, 10: 30},\n",
       " 4: {1: 4, 2: 8, 3: 12, 4: 16, 5: 20, 6: 24, 7: 28, 8: 32, 9: 36, 10: 40}}"
      ]
     },
     "execution_count": 71,
     "metadata": {},
     "output_type": "execute_result"
    }
   ],
   "source": [
    "# Nested Comprehension\n",
    "# Print multiplication tables for 2 to 4\n",
    "{i:{j:i*j for j in range(1, 11)} for i in range(2, 5)}"
   ]
  },
  {
   "cell_type": "code",
   "execution_count": 72,
   "id": "08123b2a-1b98-4f62-bf17-0705e681e179",
   "metadata": {},
   "outputs": [
    {
     "data": {
      "text/plain": [
       "{2: {1: 2, 2: 4, 3: 6, 4: 8},\n",
       " 3: {1: 3, 2: 6, 3: 9, 4: 12},\n",
       " 4: {1: 4, 2: 8, 3: 12, 4: 16}}"
      ]
     },
     "execution_count": 72,
     "metadata": {},
     "output_type": "execute_result"
    }
   ],
   "source": [
    "{\n",
    "    2:{1:2, 2:4, 3:6, 4:8},\n",
    "    3:{1:3, 2:6, 3:9, 4:12},\n",
    "    4:{1:4, 2:8, 3:12, 4:16}\n",
    "}"
   ]
  },
  {
   "cell_type": "code",
   "execution_count": null,
   "id": "9ebbb3d8-4665-4572-a1cd-23d23aa92c95",
   "metadata": {},
   "outputs": [],
   "source": []
  }
 ],
 "metadata": {
  "kernelspec": {
   "display_name": "Python 3 (ipykernel)",
   "language": "python",
   "name": "python3"
  },
  "language_info": {
   "codemirror_mode": {
    "name": "ipython",
    "version": 3
   },
   "file_extension": ".py",
   "mimetype": "text/x-python",
   "name": "python",
   "nbconvert_exporter": "python",
   "pygments_lexer": "ipython3",
   "version": "3.13.5"
  }
 },
 "nbformat": 4,
 "nbformat_minor": 5
}
