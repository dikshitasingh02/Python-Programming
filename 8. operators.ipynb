{
 "cells": [
  {
   "cell_type": "markdown",
   "id": "dcef87ab-49a2-4cd4-8139-dc95b03886e6",
   "metadata": {},
   "source": [
    "## Operators in Python \n",
    "- Arithmetic: +, -, *, /, %, **, //\n",
    "- Comparison: ==, !=, >, <, >=, <=\n",
    "- Logical: and, or, not\n",
    "- Bitwise: &, |, ^, ~, <<, >>\n",
    "- Assignment: =, +=, -=, *=, /=, %=, **=, //=\n",
    "- Identity: is, is not\n",
    "- Membership: in, not in"
   ]
  },
  {
   "cell_type": "markdown",
   "id": "d406d7f1-cba9-4db7-8d80-af9b03255264",
   "metadata": {},
   "source": [
    "### Arithmetic Operators"
   ]
  },
  {
   "cell_type": "code",
   "execution_count": 1,
   "id": "c45106e8-64e6-41d4-91f4-df5a508a5877",
   "metadata": {},
   "outputs": [
    {
     "name": "stdout",
     "output_type": "stream",
     "text": [
      "7\n"
     ]
    }
   ],
   "source": [
    "x = 5\n",
    "y = 2\n",
    "print(x + y)"
   ]
  },
  {
   "cell_type": "code",
   "execution_count": 2,
   "id": "ae04a4c6-7898-47f2-9175-f59db1f7fb36",
   "metadata": {},
   "outputs": [
    {
     "name": "stdout",
     "output_type": "stream",
     "text": [
      "3\n"
     ]
    }
   ],
   "source": [
    "print(x - y)"
   ]
  },
  {
   "cell_type": "code",
   "execution_count": 3,
   "id": "eed66c13-5058-4dc4-8cd7-dfaeeaf184f2",
   "metadata": {},
   "outputs": [
    {
     "name": "stdout",
     "output_type": "stream",
     "text": [
      "10\n"
     ]
    }
   ],
   "source": [
    "print(x * y)"
   ]
  },
  {
   "cell_type": "code",
   "execution_count": 4,
   "id": "15006579-43fa-48c2-a5d9-8b843526f11d",
   "metadata": {},
   "outputs": [
    {
     "name": "stdout",
     "output_type": "stream",
     "text": [
      "2.5\n"
     ]
    }
   ],
   "source": [
    "print(x / y)"
   ]
  },
  {
   "cell_type": "code",
   "execution_count": 5,
   "id": "73b0b0f3-2833-4ada-a0af-2ab39386bfef",
   "metadata": {},
   "outputs": [
    {
     "name": "stdout",
     "output_type": "stream",
     "text": [
      "1\n"
     ]
    }
   ],
   "source": [
    "print(x % y)"
   ]
  },
  {
   "cell_type": "code",
   "execution_count": 6,
   "id": "1a54839f-9b8a-452f-85e2-c3744cbecffb",
   "metadata": {},
   "outputs": [
    {
     "name": "stdout",
     "output_type": "stream",
     "text": [
      "25\n"
     ]
    }
   ],
   "source": [
    "print( x ** y)"
   ]
  },
  {
   "cell_type": "code",
   "execution_count": 7,
   "id": "24f61b08-d6b3-4ff4-8658-fedb6d69b58a",
   "metadata": {},
   "outputs": [
    {
     "name": "stdout",
     "output_type": "stream",
     "text": [
      "2\n"
     ]
    }
   ],
   "source": [
    "print(x // y)"
   ]
  },
  {
   "cell_type": "markdown",
   "id": "8b2af787-a782-4744-a4b5-ed0097f2de95",
   "metadata": {},
   "source": [
    "### Comparison Operators"
   ]
  },
  {
   "cell_type": "code",
   "execution_count": 8,
   "id": "29869d34-af5d-40b0-81ac-86ce37aafff5",
   "metadata": {},
   "outputs": [
    {
     "name": "stdout",
     "output_type": "stream",
     "text": [
      "True\n"
     ]
    }
   ],
   "source": [
    "print(x > y)"
   ]
  },
  {
   "cell_type": "code",
   "execution_count": 9,
   "id": "85dacf85-9372-4175-83a9-d57978ce475c",
   "metadata": {},
   "outputs": [
    {
     "name": "stdout",
     "output_type": "stream",
     "text": [
      "False\n"
     ]
    }
   ],
   "source": [
    "print(x < y)"
   ]
  },
  {
   "cell_type": "code",
   "execution_count": 10,
   "id": "0cdbae55-0188-4424-8f9c-0ef34a9de783",
   "metadata": {},
   "outputs": [
    {
     "name": "stdout",
     "output_type": "stream",
     "text": [
      "True\n"
     ]
    }
   ],
   "source": [
    "print(x >= y)"
   ]
  },
  {
   "cell_type": "code",
   "execution_count": 11,
   "id": "b00d612b-defe-4f64-a6c2-8c0a6bd17fee",
   "metadata": {},
   "outputs": [
    {
     "name": "stdout",
     "output_type": "stream",
     "text": [
      "False\n"
     ]
    }
   ],
   "source": [
    "print(x <= y)"
   ]
  },
  {
   "cell_type": "code",
   "execution_count": 12,
   "id": "0d735d56-da3c-4ecb-b791-a30ae00a6623",
   "metadata": {},
   "outputs": [
    {
     "name": "stdout",
     "output_type": "stream",
     "text": [
      "False\n"
     ]
    }
   ],
   "source": [
    "print(x == y)"
   ]
  },
  {
   "cell_type": "code",
   "execution_count": 13,
   "id": "d7c3d0c9-1a91-4577-8839-1189b8fe8252",
   "metadata": {},
   "outputs": [
    {
     "name": "stdout",
     "output_type": "stream",
     "text": [
      "True\n"
     ]
    }
   ],
   "source": [
    "print(x != y)"
   ]
  },
  {
   "cell_type": "markdown",
   "id": "ad0ccc25-c87b-473f-8770-6a295e245aa5",
   "metadata": {},
   "source": [
    "### Logical Operators"
   ]
  },
  {
   "cell_type": "code",
   "execution_count": 14,
   "id": "406f7809-99a0-4f1c-a970-d594a59cfdb9",
   "metadata": {},
   "outputs": [
    {
     "name": "stdout",
     "output_type": "stream",
     "text": [
      "True\n"
     ]
    }
   ],
   "source": [
    "x = True\n",
    "y = False\n",
    "print( x or y)"
   ]
  },
  {
   "cell_type": "code",
   "execution_count": 15,
   "id": "940595a4-4108-4619-9e52-71cbcb3ac08e",
   "metadata": {},
   "outputs": [
    {
     "name": "stdout",
     "output_type": "stream",
     "text": [
      "False\n"
     ]
    }
   ],
   "source": [
    "print(x and y)"
   ]
  },
  {
   "cell_type": "code",
   "execution_count": 16,
   "id": "65999dc6-821f-4aab-8ec0-84efe5ed2db4",
   "metadata": {},
   "outputs": [
    {
     "name": "stdout",
     "output_type": "stream",
     "text": [
      "False\n",
      "True\n"
     ]
    }
   ],
   "source": [
    "print(not x)\n",
    "print(not y)"
   ]
  },
  {
   "cell_type": "markdown",
   "id": "ea5875f4-9402-495d-b51b-adb7a0ffa4be",
   "metadata": {},
   "source": [
    "### Bitwise Operators"
   ]
  },
  {
   "cell_type": "code",
   "execution_count": 17,
   "id": "7aaf6f69-825c-49f6-9ac3-6876f2f417d2",
   "metadata": {},
   "outputs": [],
   "source": [
    "x = 2\n",
    "y = 3"
   ]
  },
  {
   "cell_type": "code",
   "execution_count": 18,
   "id": "17d5e75a-df95-4cfb-bf8c-569ecbb90fba",
   "metadata": {},
   "outputs": [
    {
     "name": "stdout",
     "output_type": "stream",
     "text": [
      "2\n"
     ]
    }
   ],
   "source": [
    "print(x & y) # AND"
   ]
  },
  {
   "cell_type": "code",
   "execution_count": 19,
   "id": "a33b005c-ec2f-4607-8eb9-b3f926a316f4",
   "metadata": {},
   "outputs": [
    {
     "name": "stdout",
     "output_type": "stream",
     "text": [
      "3\n"
     ]
    }
   ],
   "source": [
    "print(x | y) # OR"
   ]
  },
  {
   "cell_type": "code",
   "execution_count": 20,
   "id": "e39fe0f4-16df-4258-b000-de38e5266c3c",
   "metadata": {},
   "outputs": [
    {
     "name": "stdout",
     "output_type": "stream",
     "text": [
      "1\n"
     ]
    }
   ],
   "source": [
    "print(2 ^ 3) # XOR"
   ]
  },
  {
   "cell_type": "code",
   "execution_count": 21,
   "id": "490f5e00-01c3-4ac8-b410-a4f22538f7c9",
   "metadata": {},
   "outputs": [
    {
     "name": "stdout",
     "output_type": "stream",
     "text": [
      "0\n"
     ]
    }
   ],
   "source": [
    "print(x >> 2) # Right Shift"
   ]
  },
  {
   "cell_type": "code",
   "execution_count": 22,
   "id": "75585d8c-09cd-4ab7-b444-1c8a95983dc0",
   "metadata": {},
   "outputs": [
    {
     "name": "stdout",
     "output_type": "stream",
     "text": [
      "24\n"
     ]
    }
   ],
   "source": [
    "print(y << 3) # Left Shift"
   ]
  },
  {
   "cell_type": "code",
   "execution_count": 23,
   "id": "5baf30b1-ad1e-4053-ae66-98559f4a860d",
   "metadata": {},
   "outputs": [
    {
     "name": "stdout",
     "output_type": "stream",
     "text": [
      "-3\n"
     ]
    }
   ],
   "source": [
    "print(~ x) # NOT"
   ]
  },
  {
   "cell_type": "markdown",
   "id": "793a9e56-7d0c-4a14-91b2-208c92ae6995",
   "metadata": {},
   "source": [
    "### Assignment Operators"
   ]
  },
  {
   "cell_type": "code",
   "execution_count": 24,
   "id": "c6938bb8-df47-4fda-adb3-0ab19fe39afb",
   "metadata": {},
   "outputs": [
    {
     "name": "stdout",
     "output_type": "stream",
     "text": [
      "3\n"
     ]
    }
   ],
   "source": [
    "a = 3\n",
    "print(a)"
   ]
  },
  {
   "cell_type": "code",
   "execution_count": 25,
   "id": "4e8fe2eb-5db0-4f98-b762-03e29bce531d",
   "metadata": {},
   "outputs": [
    {
     "name": "stdout",
     "output_type": "stream",
     "text": [
      "6\n"
     ]
    }
   ],
   "source": [
    "a += 3   # a = a + 3\n",
    "print(a)"
   ]
  },
  {
   "cell_type": "code",
   "execution_count": 26,
   "id": "e7cc1f15-d120-4778-bd73-e7c40967916e",
   "metadata": {},
   "outputs": [
    {
     "name": "stdout",
     "output_type": "stream",
     "text": [
      "3\n"
     ]
    }
   ],
   "source": [
    "a -= 3   # a = a - 3\n",
    "print(a)"
   ]
  },
  {
   "cell_type": "code",
   "execution_count": 27,
   "id": "d0c9b68a-a811-4673-8cc0-44867f7731a1",
   "metadata": {},
   "outputs": [
    {
     "name": "stdout",
     "output_type": "stream",
     "text": [
      "9\n"
     ]
    }
   ],
   "source": [
    "a *= 3   # a = a * 3\n",
    "print(a)"
   ]
  },
  {
   "cell_type": "code",
   "execution_count": 28,
   "id": "cf00d863-1f79-45f0-9bc8-e946b09fff12",
   "metadata": {},
   "outputs": [
    {
     "name": "stdout",
     "output_type": "stream",
     "text": [
      "3.0\n"
     ]
    }
   ],
   "source": [
    "a /= 3   # a = a / 3\n",
    "print(a)"
   ]
  },
  {
   "cell_type": "code",
   "execution_count": 29,
   "id": "dcbd31c8-c567-4137-b8a0-92cdf00fca6e",
   "metadata": {},
   "outputs": [
    {
     "ename": "SyntaxError",
     "evalue": "invalid syntax (3802894139.py, line 1)",
     "output_type": "error",
     "traceback": [
      "\u001b[1;36m  Cell \u001b[1;32mIn[29], line 1\u001b[1;36m\u001b[0m\n\u001b[1;33m    a++\u001b[0m\n\u001b[1;37m       ^\u001b[0m\n\u001b[1;31mSyntaxError\u001b[0m\u001b[1;31m:\u001b[0m invalid syntax\n"
     ]
    }
   ],
   "source": [
    "a++\n",
    "++a"
   ]
  },
  {
   "cell_type": "code",
   "execution_count": 30,
   "id": "f44716c4-c8a8-4de9-a7d6-fdb187e2b7eb",
   "metadata": {},
   "outputs": [],
   "source": [
    "a = a + 3\n",
    "a += 3"
   ]
  },
  {
   "cell_type": "markdown",
   "id": "7d3c0550-9801-4dc2-8442-4ab0dda03fbd",
   "metadata": {},
   "source": [
    "### Identity Operators"
   ]
  },
  {
   "cell_type": "code",
   "execution_count": 31,
   "id": "7d2519d5-1047-4adc-9a1c-053f36792cb8",
   "metadata": {},
   "outputs": [
    {
     "name": "stdout",
     "output_type": "stream",
     "text": [
      "True\n"
     ]
    }
   ],
   "source": [
    "a = 3\n",
    "b = 3\n",
    "print(a is b)"
   ]
  },
  {
   "cell_type": "code",
   "execution_count": 32,
   "id": "5df185e9-d885-44a4-8f12-7fd6babab047",
   "metadata": {},
   "outputs": [
    {
     "name": "stdout",
     "output_type": "stream",
     "text": [
      "True\n"
     ]
    }
   ],
   "source": [
    "a = \"Hello\"\n",
    "b = \"Hello\"\n",
    "print(a is b)"
   ]
  },
  {
   "cell_type": "code",
   "execution_count": 33,
   "id": "2dfe1093-e705-4e6d-a127-bb184024ac29",
   "metadata": {},
   "outputs": [
    {
     "name": "stdout",
     "output_type": "stream",
     "text": [
      "False\n"
     ]
    }
   ],
   "source": [
    "a = [1, 2, 3]\n",
    "b = [1, 2, 3]\n",
    "print(a is b)"
   ]
  },
  {
   "cell_type": "code",
   "execution_count": 34,
   "id": "00f2ad8c-6731-4c3c-8bfc-b3c197262a4e",
   "metadata": {},
   "outputs": [
    {
     "name": "stdout",
     "output_type": "stream",
     "text": [
      "False\n",
      "True\n"
     ]
    }
   ],
   "source": [
    "a = \"Hello-World\"\n",
    "b = \"Hello-World\"\n",
    "print(a is b)\n",
    "print(a is not b)"
   ]
  },
  {
   "cell_type": "markdown",
   "id": "bc0994c4-5451-47f0-a031-f960f39ce9d3",
   "metadata": {},
   "source": [
    "### Membership Operators"
   ]
  },
  {
   "cell_type": "code",
   "execution_count": 35,
   "id": "17fbb6e9-fe4a-4ab2-acf4-8e665c86446d",
   "metadata": {},
   "outputs": [
    {
     "name": "stdout",
     "output_type": "stream",
     "text": [
      "True\n",
      "False\n"
     ]
    }
   ],
   "source": [
    "x = \"Delhi\"\n",
    "print(\"D\" in x)\n",
    "print(\"D\" not in x)"
   ]
  },
  {
   "cell_type": "code",
   "execution_count": 36,
   "id": "e8236b83-920b-4c3c-8c04-20dc148c54a7",
   "metadata": {},
   "outputs": [
    {
     "name": "stdout",
     "output_type": "stream",
     "text": [
      "True\n",
      "False\n"
     ]
    }
   ],
   "source": [
    "x = [1, 2, 3]\n",
    "print(1 in x)\n",
    "print(5 in x)"
   ]
  },
  {
   "cell_type": "code",
   "execution_count": 38,
   "id": "862628ab-6992-4d33-aaf9-2c7f37d6121c",
   "metadata": {},
   "outputs": [
    {
     "name": "stdout",
     "output_type": "stream",
     "text": [
      "True\n",
      "False\n"
     ]
    }
   ],
   "source": [
    "x = (1, 2, 3)\n",
    "print(1 in x)\n",
    "print(5 in x)"
   ]
  },
  {
   "cell_type": "code",
   "execution_count": 39,
   "id": "1ac97ee6-63c1-4874-94e1-7f00370c9f48",
   "metadata": {},
   "outputs": [
    {
     "name": "stdin",
     "output_type": "stream",
     "text": [
      "Enter a 3 digit number:  666\n"
     ]
    },
    {
     "name": "stdout",
     "output_type": "stream",
     "text": [
      "18\n"
     ]
    }
   ],
   "source": [
    "# Sum of digits of a 3-digit number\n",
    "number = int(input('Enter a 3 digit number: '))\n",
    "\n",
    "# Units digit\n",
    "a = number % 10\n",
    "number //= 10\n",
    "\n",
    "# Tens digit\n",
    "b = number % 10\n",
    "number //= 10\n",
    "\n",
    "# Hundreds digit\n",
    "c = number % 10\n",
    "\n",
    "print(a + b + c)"
   ]
  },
  {
   "cell_type": "code",
   "execution_count": null,
   "id": "078be717-27eb-4c4c-81f8-4dd387f43e79",
   "metadata": {},
   "outputs": [],
   "source": []
  }
 ],
 "metadata": {
  "kernelspec": {
   "display_name": "Python 3 (ipykernel)",
   "language": "python",
   "name": "python3"
  },
  "language_info": {
   "codemirror_mode": {
    "name": "ipython",
    "version": 3
   },
   "file_extension": ".py",
   "mimetype": "text/x-python",
   "name": "python",
   "nbconvert_exporter": "python",
   "pygments_lexer": "ipython3",
   "version": "3.13.5"
  }
 },
 "nbformat": 4,
 "nbformat_minor": 5
}
