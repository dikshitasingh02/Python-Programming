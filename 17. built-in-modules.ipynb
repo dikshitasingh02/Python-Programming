{
 "cells": [
  {
   "cell_type": "markdown",
   "id": "6c8079a4-05e0-4e5b-bf07-71dd4619cd3c",
   "metadata": {},
   "source": [
    "## What are Modules?\n",
    "- Code libraries in Python.\n",
    "- Contain functions for use.\n",
    "#### Examples:\n",
    "- Math: Math ops\n",
    "- Random: Random numbers\n",
    "- os: OS interaction\n",
    "- time: Time tasks"
   ]
  },
  {
   "cell_type": "code",
   "execution_count": 2,
   "id": "c0a6b9ac-1a0f-482e-b1a7-24a44fb88b14",
   "metadata": {},
   "outputs": [
    {
     "name": "stdout",
     "output_type": "stream",
     "text": [
      "\n",
      "Please wait a moment while I gather a list of all available modules...\n",
      "\n"
     ]
    },
    {
     "name": "stderr",
     "output_type": "stream",
     "text": [
      "C:\\Users\\singh\\anaconda3\\Lib\\site-packages\\nltk\\twitter\\__init__.py:20: UserWarning: The twython library has not been installed. Some functionality from the twitter package will not be available.\n",
      "  warnings.warn(\n",
      "C:\\Users\\singh\\anaconda3\\Lib\\site-packages\\pydantic\\experimental\\__init__.py:7: PydanticExperimentalWarning:\n",
      "\n",
      "This module is experimental, its contents are subject to change and deprecation.\n",
      "\n",
      "C:\\Users\\singh\\anaconda3\\Lib\\pkgutil.py:78: UserWarning:\n",
      "\n",
      "The superqt.qtcompat module is deprecated as of v0.3.0. Please import from `qtpy` instead.\n",
      "\n"
     ]
    },
    {
     "name": "stdout",
     "output_type": "stream",
     "text": [
      "3204bda914b7f2c6f497__mypyc cloudpickle         marshal             six\n",
      "IPython             cmath               math                skimage\n",
      "OpenSSL             cmd                 matplotlib          sklearn\n",
      "PIL                 code                matplotlib_inline   sklearn_compat\n",
      "PyQt5               codecs              mccabe              slugify\n",
      "__future__          codeop              mdit_py_plugins     smmap\n",
      "__hello__           collections         mdurl               smtplib\n",
      "__phello__          colorama            menuinst            sniffio\n",
      "_abc                colorcet            mimetypes           snowballstemmer\n",
      "_aix_support        colorsys            mistune             socket\n",
      "_android_support    comm                mkl                 socketserver\n",
      "_apple_support      commctrl            mkl_fft             socks\n",
      "_argon2_cffi_bindings compileall          mkl_random          sockshandler\n",
      "_ast                concurrent          mmap                sortedcontainers\n",
      "_asyncio            conda               mmapfile            soupsieve\n",
      "_bisect             conda_anaconda_telemetry mmsystem            sphinx\n",
      "_black_version      conda_anaconda_tos  modulefinder        spyder\n",
      "_blake2             conda_build         more_itertools      spyder_kernels\n",
      "_brotli             conda_content_trust mpmath              sqlalchemy\n",
      "_bz2                conda_env           msgpack             sqlite3\n",
      "_cffi_backend       conda_index         msvcrt              sre_compile\n",
      "_codecs             conda_libmamba_solver multidict           sre_constants\n",
      "_codecs_cn          conda_pack          multipledispatch    sre_parse\n",
      "_codecs_hk          conda_package_handling multiprocessing     ssl\n",
      "_codecs_iso2022     conda_package_streaming mypy                sspi\n",
      "_codecs_jp          conda_token         mypy_extensions     sspicon\n",
      "_codecs_kr          configparser        mypyc               stack_data\n",
      "_codecs_tw          constantly          nacl                start_pythonwin\n",
      "_collections        contextlib          narwhals            stat\n",
      "_collections_abc    contextvars         navigator_updater   statistics\n",
      "_colorize           contourpy           nbclient            statsmodels\n",
      "_compat_pickle      cookiecutter        nbconvert           streamlit\n",
      "_compression        copy                nbformat            string\n",
      "_contextvars        copyreg             nest_asyncio        stringprep\n",
      "_csv                cpuinfo             netbios             struct\n",
      "_ctypes             cryptography        netrc               subprocess\n",
      "_ctypes_test        cssselect           networkx            superqt\n",
      "_datetime           csv                 nltk                sympy\n",
      "_decimal            ctypes              notebook            symtable\n",
      "_distutils_hack     curl                notebook_shim       sys\n",
      "_elementtree        curses              nt                  sysconfig\n",
      "_functools          cwp                 ntpath              tables\n",
      "_hashlib            cycler              ntsecuritycon       tabnanny\n",
      "_heapq              cytoolz             nturl2path          tabulate\n",
      "_imp                dask                numba               tarfile\n",
      "_interpchannels     dask_expr           numbergen           tblib\n",
      "_interpqueues       dataclasses         numbers             tempfile\n",
      "_interpreters       datashader          numexpr             tenacity\n",
      "_io                 datetime            numpy               terminado\n",
      "_ios_support        dateutil            numpydoc            test\n",
      "_json               dbm                 odbc                test_pycosat\n",
      "_locale             dde                 opcode              text_unidecode\n",
      "_lsprof             debugpy             openpyxl            textdistance\n",
      "_lzma               decimal             operator            textwrap\n",
      "_markupbase         decorator           optparse            this\n",
      "_md5                defusedxml          ordered_set         threading\n",
      "_multibytecodec     deprecated          os                  threadpoolctl\n",
      "_multiprocessing    diff_match_patch    overrides           three_merge\n",
      "_nsis               difflib             packaging           tifffile\n",
      "_opcode             dill                pandas              time\n",
      "_opcode_metadata    dis                 pandocfilters       timeit\n",
      "_operator           distributed         panel               timer\n",
      "_osx_support        distro              param               tinycss2\n",
      "_overlapped         docstring_to_markdown parsel              tkinter\n",
      "_pickle             doctest             parso               tldextract\n",
      "_plotly_future_     docutils            partd               tlz\n",
      "_plotly_utils       dotenv              pathlib             token\n",
      "_py_abc             email               pathspec            tokenize\n",
      "_pydatetime         encodings           patsy               toml\n",
      "_pydecimal          ensurepip           pdb                 tomli\n",
      "_pyio               enum                perfmon             tomlkit\n",
      "_pylong             erfa                pexpect             tomllib\n",
      "_pyrepl             errno               pickle              toolz\n",
      "_pytest             et_xmlfile          pickleshare         tornado\n",
      "_queue              evalidate           pickletools         tqdm\n",
      "_random             executing           pip                 trace\n",
      "_ruamel_yaml        fastjsonschema      pkce                traceback\n",
      "_sha1               faulthandler        pkg_resources       tracemalloc\n",
      "_sha2               filecmp             pkginfo             traitlets\n",
      "_sha3               fileinput           pkgutil             truststore\n",
      "_signal             filelock            platform            tty\n",
      "_sitebuiltins       flake8              platformdirs        turtle\n",
      "_socket             flask               plistlib            turtledemo\n",
      "_sqlite3            fnmatch             plotly              twisted\n",
      "_sre                fontTools           pluggy              typeguard\n",
      "_ssl                fractions           ply                 typer\n",
      "_stat               frozendict          poplib              types\n",
      "_statistics         frozenlist          posixpath           typing\n",
      "_string             fsspec              poyo                typing_extensions\n",
      "_strptime           ftplib              pprint              tzdata\n",
      "_struct             functools           profile             uc_micro\n",
      "_suggestions        gc                  prometheus_client   ujson\n",
      "_symtable           genericpath         prompt_toolkit      unicodedata\n",
      "_sysconfig          getopt              propcache           unidecode\n",
      "_system_path        getpass             protego             unittest\n",
      "_testbuffer         gettext             pstats              urllib\n",
      "_testcapi           git                 psutil              urllib3\n",
      "_testclinic         gitdb               pty                 uuid\n",
      "_testclinic_limited github              ptyprocess          venv\n",
      "_testconsole        glob                pure_eval           w3lib\n",
      "_testimportmultiple gmpy2               py                  warnings\n",
      "_testinternalcapi   graphlib            py_compile          watchdog\n",
      "_testlimitedcapi    greenlet            pyarrow             wave\n",
      "_testmultiphase     gzip                pyasn1              wcwidth\n",
      "_testsinglephase    h11                 pyasn1_modules      weakref\n",
      "_thread             h5py                pyclbr              webbrowser\n",
      "_threading_local    hashlib             pycodestyle         webencodings\n",
      "_tkinter            heapdict            pycosat             websocket\n",
      "_tokenize           heapq               pycparser           werkzeug\n",
      "_tracemalloc        hmac                pyct                whatthepatch\n",
      "_typing             holoviews           pycurl              wheel\n",
      "_uuid               html                pydantic            widgetsnbextension\n",
      "_warnings           http                pydantic_core       win2kras\n",
      "_weakref            httpcore            pydantic_settings   win32api\n",
      "_weakrefset         httpx               pydispatch          win32clipboard\n",
      "_win32sysloader     hvplot              pydoc               win32com\n",
      "_win32verstamp_pywin32ctypes hyperlink           pydoc_data          win32con\n",
      "_winapi             idlelib             pydocstyle          win32console\n",
      "_winxptheme         idna                pyexpat             win32cred\n",
      "_wmi                imageio             pyflakes            win32crypt\n",
      "_yaml               imagesize           pygments            win32cryptcon\n",
      "_zoneinfo           imaplib             pylab               win32ctypes\n",
      "abc                 imblearn            pylint              win32event\n",
      "adodbapi            importlib           pylint_venv         win32evtlog\n",
      "afxres              importlib_metadata  pyls_spyder         win32evtlogutil\n",
      "aiobotocore         importlib_resources pylsp               win32file\n",
      "aiohappyeyeballs    incremental         pylsp_black         win32gui\n",
      "aiohttp             inflect             pylsp_jsonrpc       win32gui_struct\n",
      "aioitertools        inflection          pyodbc              win32help\n",
      "aiosignal           iniconfig           pyparsing           win32inet\n",
      "alabaster           inspect             pytest              win32inetcon\n",
      "altair              intake              pythoncom           win32job\n",
      "anaconda_anon_usage intervaltree        pythonjsonlogger    win32lz\n",
      "anaconda_auth       io                  pytoolconfig        win32net\n",
      "anaconda_catalogs   ipaddress           pytz                win32netcon\n",
      "anaconda_cli_base   ipykernel           pyuca               win32pdh\n",
      "anaconda_cloud_auth ipykernel_launcher  pyviz_comms         win32pdhquery\n",
      "anaconda_navigator  ipywidgets          pywin               win32pdhutil\n",
      "anaconda_project    isapi               pywin32_bootstrap   win32pipe\n",
      "annotated_types     isort               pywin32_testutil    win32print\n",
      "antigravity         isympy              pywintypes          win32process\n",
      "anyio               itemadapter         pywt                win32profile\n",
      "appdirs             itemloaders         qdarkstyle          win32ras\n",
      "archspec            itertools           qstylizer           win32rcparser\n",
      "argon2              itsdangerous        qtawesome           win32security\n",
      "argparse            jedi                qtconsole           win32service\n",
      "array               jellyfish           qtpy                win32serviceutil\n",
      "arrow               jinja2              queue               win32timezone\n",
      "ast                 jinja2_time         queuelib            win32trace\n",
      "astroid             jmespath            quopri              win32traceutil\n",
      "astropy             joblib              random              win32transaction\n",
      "astropy_iers_data   json                rasutil             win32ts\n",
      "asttokens           json5               re                  win32ui\n",
      "async_lru           jsonpatch           readchar            win32uiole\n",
      "asyncio             jsonpointer         referencing         win32verstamp\n",
      "asyncssh            jsonschema          regcheck            win32wnet\n",
      "atexit              jsonschema_specifications regex               win_inet_pton\n",
      "atomicwrites        jupyter             regutil             winerror\n",
      "attr                jupyter_client      repo_cli            winioctlcon\n",
      "attrs               jupyter_console     reprlib             winnt\n",
      "autocommand         jupyter_core        requests            winperf\n",
      "automat             jupyter_events      requests_file       winpty\n",
      "autopep8            jupyter_lsp         requests_toolbelt   winreg\n",
      "babel               jupyter_server      rfc3339_validator   winsound\n",
      "backports           jupyter_server_terminals rfc3986_validator   winxpgui\n",
      "base64              jupyterlab          rich                winxptheme\n",
      "bcrypt              jupyterlab_plotly   rlcompleter         wrapt\n",
      "bdb                 jupyterlab_pygments roman_numerals      wsgiref\n",
      "binaryornot         jupyterlab_server   rope                xarray\n",
      "binascii            jupyterlab_widgets  rpds                xlwings\n",
      "binstar_client      jwt                 rtree               xlwingsjs\n",
      "bisect              keyring             ruamel_yaml         xml\n",
      "black               keyword             runpy               xmlrpc\n",
      "blackd              kiwisolver          s3fs                xxlimited\n",
      "bleach              lazy_loader         sched               xxlimited_35\n",
      "blib2to3            lckr_jupyterlab_variableinspector scipy               xxsubtype\n",
      "blinker             libarchive          scrapy              xyzservices\n",
      "bokeh               libmambapy          seaborn             yaml\n",
      "boltons             lief                secrets             yapf\n",
      "botocore            linecache           select              yapf_third_party\n",
      "bottleneck          linkify_it          selectors           yapftests\n",
      "brotli              llvmlite            semver              yarl\n",
      "bs4                 lmdb                send2trash          zict\n",
      "builtins            locale              service_identity    zipapp\n",
      "bz2                 locket              servicemanager      zipfile\n",
      "cProfile            logging             setuptools          zipimport\n",
      "cachetools          lxml                shellingham         zipp\n",
      "calendar            lz4                 shelve              zlib\n",
      "certifi             lzma                shlex               zmq\n",
      "cffi                mailbox             shutil              zoneinfo\n",
      "chardet             markdown            signal              zope\n",
      "charset_normalizer  markdown_it         sipbuild            zstandard\n",
      "click               markupsafe          site                \n",
      "\n",
      "Enter any module name to get more help.  Or, type \"modules spam\" to search\n",
      "for modules whose name or summary contain the string \"spam\".\n",
      "\n"
     ]
    }
   ],
   "source": [
    "help('modules')"
   ]
  },
  {
   "cell_type": "code",
   "execution_count": 3,
   "id": "a547f18c-f812-44ad-af23-40aac97f6b5a",
   "metadata": {},
   "outputs": [
    {
     "name": "stdout",
     "output_type": "stream",
     "text": [
      "['False', 'None', 'True', 'and', 'as', 'assert', 'async', 'await', 'break', 'class', 'continue', 'def', 'del', 'elif', 'else', 'except', 'finally', 'for', 'from', 'global', 'if', 'import', 'in', 'is', 'lambda', 'nonlocal', 'not', 'or', 'pass', 'raise', 'return', 'try', 'while', 'with', 'yield']\n"
     ]
    }
   ],
   "source": [
    "# keyword module\n",
    "import keyword\n",
    "print(keyword.kwlist)  # Reserved keywords in Python"
   ]
  },
  {
   "cell_type": "markdown",
   "id": "336adf5e-1dab-48e4-a13a-fba69ff35e4d",
   "metadata": {},
   "source": [
    "### Math Module"
   ]
  },
  {
   "cell_type": "code",
   "execution_count": 4,
   "id": "1663c774-73fe-4a76-a44f-ddc089e717b9",
   "metadata": {},
   "outputs": [],
   "source": [
    "# include <stdio.h>\n",
    "import math"
   ]
  },
  {
   "cell_type": "code",
   "execution_count": 5,
   "id": "d1438153-c302-4f96-b854-cdfdf26c0149",
   "metadata": {},
   "outputs": [
    {
     "data": {
      "text/plain": [
       "3.141592653589793"
      ]
     },
     "execution_count": 5,
     "metadata": {},
     "output_type": "execute_result"
    }
   ],
   "source": [
    "math.pi"
   ]
  },
  {
   "cell_type": "code",
   "execution_count": 6,
   "id": "6c077956-d2a6-4b62-bd4a-9b2f7c10542c",
   "metadata": {},
   "outputs": [
    {
     "data": {
      "text/plain": [
       "2.718281828459045"
      ]
     },
     "execution_count": 6,
     "metadata": {},
     "output_type": "execute_result"
    }
   ],
   "source": [
    "math.e"
   ]
  },
  {
   "cell_type": "code",
   "execution_count": 7,
   "id": "19176275-be77-4b35-ab1d-47fbe9d481e8",
   "metadata": {},
   "outputs": [
    {
     "data": {
      "text/plain": [
       "120"
      ]
     },
     "execution_count": 7,
     "metadata": {},
     "output_type": "execute_result"
    }
   ],
   "source": [
    "math.factorial(5)"
   ]
  },
  {
   "cell_type": "code",
   "execution_count": 8,
   "id": "698101ee-2936-4b05-8e46-cc6d60149edf",
   "metadata": {},
   "outputs": [
    {
     "data": {
      "text/plain": [
       "7"
      ]
     },
     "execution_count": 8,
     "metadata": {},
     "output_type": "execute_result"
    }
   ],
   "source": [
    "math.ceil(6.3)"
   ]
  },
  {
   "cell_type": "code",
   "execution_count": 9,
   "id": "8de0d020-d802-4b5a-a5e4-2b5b4d739a88",
   "metadata": {},
   "outputs": [
    {
     "data": {
      "text/plain": [
       "6"
      ]
     },
     "execution_count": 9,
     "metadata": {},
     "output_type": "execute_result"
    }
   ],
   "source": [
    "math.floor(6.9)"
   ]
  },
  {
   "cell_type": "markdown",
   "id": "a86dcd5f-bf2e-408c-a690-7cd8f78e9883",
   "metadata": {},
   "source": [
    "### Random Module"
   ]
  },
  {
   "cell_type": "code",
   "execution_count": 10,
   "id": "4396aeb5-c87f-4a84-824c-fce8da59a237",
   "metadata": {},
   "outputs": [],
   "source": [
    "import random"
   ]
  },
  {
   "cell_type": "code",
   "execution_count": 11,
   "id": "92277414-d4a2-494e-8eae-f96dbcc56fe1",
   "metadata": {},
   "outputs": [
    {
     "data": {
      "text/plain": [
       "5"
      ]
     },
     "execution_count": 11,
     "metadata": {},
     "output_type": "execute_result"
    }
   ],
   "source": [
    "random.randint(1, 100)"
   ]
  },
  {
   "cell_type": "code",
   "execution_count": 12,
   "id": "5f0d2621-8d03-4849-a199-0bc5d7382892",
   "metadata": {},
   "outputs": [
    {
     "data": {
      "text/plain": [
       "[1, 5, 4, 3, 2]"
      ]
     },
     "execution_count": 12,
     "metadata": {},
     "output_type": "execute_result"
    }
   ],
   "source": [
    "a = [1, 2, 3, 4, 5]\n",
    "random.shuffle(a)\n",
    "a"
   ]
  },
  {
   "cell_type": "markdown",
   "id": "f9bec20c-8a69-49eb-ab3b-a0ff1af1ea20",
   "metadata": {},
   "source": [
    "### Time Module"
   ]
  },
  {
   "cell_type": "code",
   "execution_count": 13,
   "id": "e2f7429b-aefb-438e-a064-0e1d6441b15f",
   "metadata": {},
   "outputs": [],
   "source": [
    "import time"
   ]
  },
  {
   "cell_type": "code",
   "execution_count": 14,
   "id": "cf53b188-1420-4a3d-ac76-7e6e57776b1c",
   "metadata": {},
   "outputs": [
    {
     "data": {
      "text/plain": [
       "1755948109.5485055"
      ]
     },
     "execution_count": 14,
     "metadata": {},
     "output_type": "execute_result"
    }
   ],
   "source": [
    "time.time() # Current time (seconds)"
   ]
  },
  {
   "cell_type": "code",
   "execution_count": 15,
   "id": "bed451e3-d6b8-472e-84fb-cd9aef8ba5ad",
   "metadata": {},
   "outputs": [
    {
     "data": {
      "text/plain": [
       "'Sat Aug 23 16:51:55 2025'"
      ]
     },
     "execution_count": 15,
     "metadata": {},
     "output_type": "execute_result"
    }
   ],
   "source": [
    "time.ctime() # Current time (string)"
   ]
  },
  {
   "cell_type": "code",
   "execution_count": 16,
   "id": "a76386d7-edaf-4feb-8273-17cd71db30aa",
   "metadata": {},
   "outputs": [
    {
     "name": "stdout",
     "output_type": "stream",
     "text": [
      "Hello\n",
      "World\n"
     ]
    }
   ],
   "source": [
    "print(\"Hello\")\n",
    "time.sleep(5) # Delay for 5 seconds\n",
    "print(\"World\")"
   ]
  },
  {
   "cell_type": "markdown",
   "id": "86b37a0a-20f5-4488-921f-45d3674d6b26",
   "metadata": {},
   "source": [
    "### Datetime Module"
   ]
  },
  {
   "cell_type": "code",
   "execution_count": 18,
   "id": "eab776b0-3e51-41f9-a385-284ce05d659b",
   "metadata": {},
   "outputs": [
    {
     "name": "stdout",
     "output_type": "stream",
     "text": [
      "2025-08-23 16:52:33.504919\n"
     ]
    }
   ],
   "source": [
    "import datetime\n",
    "print(datetime.datetime.now()) # Current date/time"
   ]
  },
  {
   "cell_type": "markdown",
   "id": "4cc19992-59e8-4952-b3b1-4b4edd71afce",
   "metadata": {},
   "source": [
    "### OS Module"
   ]
  },
  {
   "cell_type": "code",
   "execution_count": 19,
   "id": "3ffda3a7-33ea-4150-8267-2c13d282a4f4",
   "metadata": {},
   "outputs": [],
   "source": [
    "import os"
   ]
  },
  {
   "cell_type": "code",
   "execution_count": 20,
   "id": "5ad4491e-337c-49d6-9717-dfc4a673771b",
   "metadata": {},
   "outputs": [
    {
     "data": {
      "text/plain": [
       "'D:\\\\python-programming'"
      ]
     },
     "execution_count": 20,
     "metadata": {},
     "output_type": "execute_result"
    }
   ],
   "source": [
    "os.getcwd() # Current working dir"
   ]
  },
  {
   "cell_type": "code",
   "execution_count": 21,
   "id": "f8a39cc7-7ef2-4d03-ac80-bfff9e742ce0",
   "metadata": {},
   "outputs": [
    {
     "data": {
      "text/plain": [
       "['.ipynb_checkpoints',\n",
       " '1. print-function.ipynb',\n",
       " '10. indentation.ipynb',\n",
       " '11. while-loop.ipynb',\n",
       " '12. guessing-game.ipynb',\n",
       " '13. for-loop.ipynb',\n",
       " '14. nested-loops.ipynb',\n",
       " '15. break-continue-pass.ipynb',\n",
       " '16. built-in-function.ipynb',\n",
       " '2. data-types.ipynb',\n",
       " '3. comments.ipynb',\n",
       " '4. variables.ipynb',\n",
       " '5. keywords-identifiers.ipynb',\n",
       " '6. user-input-type-conversion.ipynb',\n",
       " '7. literals.ipynb',\n",
       " '8. operators.ipynb',\n",
       " '9. decision-control.ipynb',\n",
       " 'Untitled.ipynb']"
      ]
     },
     "execution_count": 21,
     "metadata": {},
     "output_type": "execute_result"
    }
   ],
   "source": [
    "os.listdir() # Files in dir"
   ]
  },
  {
   "cell_type": "code",
   "execution_count": null,
   "id": "28981bba-4a89-4c93-b6d7-caed902ef5be",
   "metadata": {},
   "outputs": [],
   "source": []
  }
 ],
 "metadata": {
  "kernelspec": {
   "display_name": "Python 3 (ipykernel)",
   "language": "python",
   "name": "python3"
  },
  "language_info": {
   "codemirror_mode": {
    "name": "ipython",
    "version": 3
   },
   "file_extension": ".py",
   "mimetype": "text/x-python",
   "name": "python",
   "nbconvert_exporter": "python",
   "pygments_lexer": "ipython3",
   "version": "3.13.5"
  }
 },
 "nbformat": 4,
 "nbformat_minor": 5
}
