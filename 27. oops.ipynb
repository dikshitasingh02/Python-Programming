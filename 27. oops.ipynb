{
 "cells": [
  {
   "cell_type": "markdown",
   "id": "1761197c-c6d4-47cb-80f0-5b0b49e6130d",
   "metadata": {},
   "source": [
    "# OBJECT-ORIENTED PROGRAMMING\n",
    "**OOP** is a programming paradigm using objects & classes."
   ]
  },
  {
   "cell_type": "markdown",
   "id": "330eb9c9-3d85-41aa-a87b-c70c43eb71ee",
   "metadata": {},
   "source": [
    "### The Observation"
   ]
  },
  {
   "cell_type": "code",
   "execution_count": 2,
   "id": "95b02351-036f-45d0-aa78-c56ee15f6007",
   "metadata": {},
   "outputs": [],
   "source": [
    "L = [1, 2, 3, 4]"
   ]
  },
  {
   "cell_type": "code",
   "execution_count": 3,
   "id": "27e46fd1-92ed-4e00-b0eb-2ba6f15cb2d2",
   "metadata": {},
   "outputs": [
    {
     "data": {
      "text/plain": [
       "[1, 2, 3, 4]"
      ]
     },
     "execution_count": 3,
     "metadata": {},
     "output_type": "execute_result"
    }
   ],
   "source": [
    "L"
   ]
  },
  {
   "cell_type": "code",
   "execution_count": 4,
   "id": "28876274-aa53-42ae-8fd6-cdd8d47672d2",
   "metadata": {},
   "outputs": [
    {
     "ename": "AttributeError",
     "evalue": "'list' object has no attribute 'upper'",
     "output_type": "error",
     "traceback": [
      "\u001b[1;31m---------------------------------------------------------------------------\u001b[0m",
      "\u001b[1;31mAttributeError\u001b[0m                            Traceback (most recent call last)",
      "Cell \u001b[1;32mIn[4], line 1\u001b[0m\n\u001b[1;32m----> 1\u001b[0m L\u001b[38;5;241m.\u001b[39mupper()\n",
      "\u001b[1;31mAttributeError\u001b[0m: 'list' object has no attribute 'upper'"
     ]
    }
   ],
   "source": [
    "L.upper()"
   ]
  },
  {
   "cell_type": "code",
   "execution_count": 5,
   "id": "b33b8496-d4d8-416c-a2d8-89964c666fcb",
   "metadata": {},
   "outputs": [],
   "source": [
    "city = 'Kolkata'"
   ]
  },
  {
   "cell_type": "code",
   "execution_count": 6,
   "id": "761bf0ba-2d12-4752-ae54-2d46615d9b92",
   "metadata": {},
   "outputs": [
    {
     "ename": "AttributeError",
     "evalue": "'str' object has no attribute 'append'",
     "output_type": "error",
     "traceback": [
      "\u001b[1;31m---------------------------------------------------------------------------\u001b[0m",
      "\u001b[1;31mAttributeError\u001b[0m                            Traceback (most recent call last)",
      "Cell \u001b[1;32mIn[6], line 1\u001b[0m\n\u001b[1;32m----> 1\u001b[0m city\u001b[38;5;241m.\u001b[39mappend(\u001b[38;5;124m'\u001b[39m\u001b[38;5;124ma\u001b[39m\u001b[38;5;124m'\u001b[39m)\n",
      "\u001b[1;31mAttributeError\u001b[0m: 'str' object has no attribute 'append'"
     ]
    }
   ],
   "source": [
    "city.append('a')"
   ]
  },
  {
   "cell_type": "code",
   "execution_count": 7,
   "id": "45021ad1-d2a3-405a-8a78-009e31dc9574",
   "metadata": {},
   "outputs": [],
   "source": [
    "a = 3"
   ]
  },
  {
   "cell_type": "code",
   "execution_count": 8,
   "id": "513b9ff6-1be3-4321-b89b-2d16b6c98202",
   "metadata": {},
   "outputs": [
    {
     "ename": "AttributeError",
     "evalue": "'int' object has no attribute 'upper'",
     "output_type": "error",
     "traceback": [
      "\u001b[1;31m---------------------------------------------------------------------------\u001b[0m",
      "\u001b[1;31mAttributeError\u001b[0m                            Traceback (most recent call last)",
      "Cell \u001b[1;32mIn[8], line 1\u001b[0m\n\u001b[1;32m----> 1\u001b[0m a\u001b[38;5;241m.\u001b[39mupper()\n",
      "\u001b[1;31mAttributeError\u001b[0m: 'int' object has no attribute 'upper'"
     ]
    }
   ],
   "source": [
    "a.upper()"
   ]
  },
  {
   "cell_type": "markdown",
   "id": "5d3b6c2d-d287-495f-8cbd-da60f8ee2787",
   "metadata": {},
   "source": [
    "### \"Everything in Python is an Object\"\n",
    "### But, What is an Object?  \n",
    "### What is OOP?  \n",
    "### The PROBLEM!  \n",
    "### Generality to Specificity  \n",
    "\n",
    "**The Core Fundamental Feature of OOP:**  \n",
    "*One of the core fundamental features of OOP is the ability to create **Custom Data Types** tailored to specific needs (e.g., LinkedIn platform).*  \n",
    "\n",
    "**Without OOP:**  \n",
    "- **Reliance on primitive data types:** `int`, `list`, `tuple`  \n",
    "- **Less optimal** Not tailored, harder to manage  \n",
    "\n",
    "**With OOP:**  \n",
    "- **Custom Types:** Efficient, intuitive, scalable  \n",
    "- **Encapsulation:** Better feature management  \n",
    "- **Manageable Codebase**  \n",
    "\n",
    "### So, What is Object Oriented Programming?  \n",
    "***Key Concepts of OOP:***  \n",
    "- **Object**  \n",
    "- **Class**  \n",
    "- **Polymorphism**  \n",
    "- **Encapsulation**  \n",
    "- **Inheritance**  \n",
    "- **Abstraction**  \n"
   ]
  },
  {
   "cell_type": "markdown",
   "id": "0f01ed70-b4e0-403f-a8f1-f99e274f9395",
   "metadata": {},
   "source": [
    "## CLASS\n",
    "- Blueprint for objects\n",
    "- Defines object behavior\n",
    "  \n",
    "*(from now onwards variable == object)*"
   ]
  },
  {
   "cell_type": "code",
   "execution_count": 9,
   "id": "4ab7b166-a3b2-4eea-abf6-268a679204bc",
   "metadata": {},
   "outputs": [],
   "source": [
    "a = 2"
   ]
  },
  {
   "cell_type": "code",
   "execution_count": 10,
   "id": "8fcd493d-7642-4878-b145-0f34a81eb78a",
   "metadata": {},
   "outputs": [
    {
     "data": {
      "text/plain": [
       "int"
      ]
     },
     "execution_count": 10,
     "metadata": {},
     "output_type": "execute_result"
    }
   ],
   "source": [
    "type(a)"
   ]
  },
  {
   "cell_type": "code",
   "execution_count": 11,
   "id": "710bd155-8e60-4f6e-bc5f-7342f91ac2f5",
   "metadata": {},
   "outputs": [
    {
     "data": {
      "text/plain": [
       "[1, 2, 3, 4]"
      ]
     },
     "execution_count": 11,
     "metadata": {},
     "output_type": "execute_result"
    }
   ],
   "source": [
    "L"
   ]
  },
  {
   "cell_type": "markdown",
   "id": "72c5f710-a73f-4e02-925e-083b6e78d7ec",
   "metadata": {},
   "source": [
    "In Python,\n",
    "\n",
    "Datatype = Class\n",
    "\n",
    "Variable = Object of Class"
   ]
  },
  {
   "cell_type": "markdown",
   "id": "0236fbee-763a-41cd-8783-7465b240d68f",
   "metadata": {},
   "source": [
    "**Class:**\n",
    "\n",
    "1. **Attributes:** Data/Properties<br>\n",
    "2. **Methods:** Functions/Behavior"
   ]
  },
  {
   "cell_type": "markdown",
   "id": "572b76a5-d16d-4714-a2a8-8bde775f321c",
   "metadata": {},
   "source": [
    "### Class Basic Structure"
   ]
  },
  {
   "cell_type": "code",
   "execution_count": null,
   "id": "719df3b9-9310-4a48-a7a5-451021812173",
   "metadata": {},
   "outputs": [],
   "source": [
    "class Car:\n",
    "    color = \"blue\"   # data\n",
    "    model = \"sports\" # data\n",
    "    def calculate_avg_speed(km, time): # method\n",
    "        # some code"
   ]
  },
  {
   "cell_type": "code",
   "execution_count": null,
   "id": "5f6c08e1-82b9-4069-8a95-8db05fa31c2f",
   "metadata": {},
   "outputs": [],
   "source": [
    "# Naming Conventions:\n",
    "\n",
    "Class names    ---> PascalCase\n",
    "\n",
    "Data/functions ---> snake_case\n",
    "\n",
    "# Examples:\n",
    "\n",
    "PascalCase     ---> ThisIsPascalCase\n",
    "\n",
    "CamelCase      ---> thisIsCamelCase\n",
    "\n",
    "snake_case     ---> snake_case"
   ]
  },
  {
   "cell_type": "code",
   "execution_count": null,
   "id": "ba878bcd-3b8b-472c-9061-bd1b19210a76",
   "metadata": {},
   "outputs": [],
   "source": [
    "Class Representation:\n",
    "\n",
    "+-------------------------+ \n",
    "|          - Car          |\n",
    "|-------------------------| \n",
    "|         - Color         | \n",
    "|        - mileage        | # attributes/data (private)\n",
    "|         - engine        |\n",
    "|-------------------------|\n",
    "|     + cal_avg_speed     | \n",
    "|     + open_airbags      | # methods/functions (public)\n",
    "|       + show_gps        |\n",
    "+-------------------------+"
   ]
  },
  {
   "cell_type": "markdown",
   "id": "a47ce8d4-4650-4450-ab59-dee5a5bb1483",
   "metadata": {},
   "source": [
    "## OBJECT\n",
    "**Object** is an instance of a **Class**\n",
    "\n",
    "**Class** is the data type; **Object** is a variable of a **Class**"
   ]
  },
  {
   "cell_type": "code",
   "execution_count": null,
   "id": "12361ca6-87fa-4c24-a9a5-b15742bd47f9",
   "metadata": {},
   "outputs": [],
   "source": [
    "# Object Examples:\n",
    "\n",
    "1. Car     ---> WagonR      | wagonr     = Car()\n",
    "2. Sports  ---> Gilli Danda | gillidanda = Sports()\n",
    "3. Animals ---> Langoor     | langoor    = Animals()"
   ]
  },
  {
   "cell_type": "code",
   "execution_count": 13,
   "id": "93a4a53d-85e0-4d38-8e7f-f50b1b336c98",
   "metadata": {},
   "outputs": [],
   "source": [
    "L = [1, 2, 3] # Obj Literal ---> Built-in classes"
   ]
  },
  {
   "cell_type": "code",
   "execution_count": 12,
   "id": "aed07ea7-b779-4043-b14e-1ca5cdd5e8f4",
   "metadata": {},
   "outputs": [
    {
     "data": {
      "text/plain": [
       "[1, 2, 3, 4]"
      ]
     },
     "execution_count": 12,
     "metadata": {},
     "output_type": "execute_result"
    }
   ],
   "source": [
    "L"
   ]
  },
  {
   "cell_type": "code",
   "execution_count": 13,
   "id": "b0ac872a-282a-43a3-9d22-25d4870952f8",
   "metadata": {},
   "outputs": [],
   "source": [
    "L = list()"
   ]
  },
  {
   "cell_type": "code",
   "execution_count": 14,
   "id": "b6d5db76-8cac-4c49-92a0-7547a0bc37ab",
   "metadata": {},
   "outputs": [
    {
     "data": {
      "text/plain": [
       "[]"
      ]
     },
     "execution_count": 14,
     "metadata": {},
     "output_type": "execute_result"
    }
   ],
   "source": [
    "L"
   ]
  },
  {
   "cell_type": "code",
   "execution_count": 15,
   "id": "58f2b337-edbf-4865-95d3-ea21a8b00d82",
   "metadata": {},
   "outputs": [],
   "source": [
    "city = str()"
   ]
  },
  {
   "cell_type": "code",
   "execution_count": 16,
   "id": "8d1d7f4f-e7ce-4720-aada-8d384b70fbb4",
   "metadata": {},
   "outputs": [
    {
     "data": {
      "text/plain": [
       "''"
      ]
     },
     "execution_count": 16,
     "metadata": {},
     "output_type": "execute_result"
    }
   ],
   "source": [
    "city"
   ]
  },
  {
   "cell_type": "markdown",
   "id": "d17d4e1e-2c21-4513-bed9-d1430161b50d",
   "metadata": {},
   "source": [
    "### Practical Implementation of Class and Object"
   ]
  },
  {
   "cell_type": "markdown",
   "id": "a0be5bbd-90a6-4edb-af58-74206e1b792d",
   "metadata": {},
   "source": [
    "### Lets Create a Class"
   ]
  },
  {
   "cell_type": "markdown",
   "id": "94a458ee-5555-4ffe-a3f6-884bf59bd265",
   "metadata": {},
   "source": [
    "Functions Vs Methods:\n",
    "\n",
    "Methods   ---> Defined inside a class.\n",
    "          ---> Accessed via object of the class.\n",
    "\n",
    "Functions ---> Not inside a class.\n",
    "          ---> General, accessible everywhere."
   ]
  },
  {
   "cell_type": "markdown",
   "id": "a895d044-8327-41a9-a409-396d0b8bcdfb",
   "metadata": {},
   "source": [
    "len(L) ---> Function\n",
    "            General-purpose, applicable to types like `str`, `int`."
   ]
  },
  {
   "cell_type": "code",
   "execution_count": null,
   "id": "52955009-7056-4262-be85-5ed6549410f2",
   "metadata": {},
   "outputs": [],
   "source": [
    "L.append(1) ---> Method\n",
    "                 Defined in `list` class; usable only with `list` objects."
   ]
  },
  {
   "cell_type": "code",
   "execution_count": 17,
   "id": "b406d45d-d4bc-4c08-8f5a-8ce36dd19143",
   "metadata": {},
   "outputs": [
    {
     "data": {
      "text/plain": [
       "[]"
      ]
     },
     "execution_count": 17,
     "metadata": {},
     "output_type": "execute_result"
    }
   ],
   "source": [
    "L"
   ]
  },
  {
   "cell_type": "markdown",
   "id": "48225fa2-a9f7-41f2-abb0-e490838dc1db",
   "metadata": {},
   "source": [
    "Functions Inside Class will be called Methods."
   ]
  },
  {
   "cell_type": "code",
   "execution_count": 2,
   "id": "3d546ae9-da6f-478a-92e5-1c3ada7f47c0",
   "metadata": {},
   "outputs": [],
   "source": [
    "class Atm:\n",
    "    __counter = 1 # static/class var\n",
    "    \n",
    "    def __init__(self): # `__init__` ---> Constructor\n",
    "                        # Special method inside a class.\n",
    "                        # Initializes instance members.\n",
    "                        # Executes automatically on object creation.\n",
    "\n",
    "        self.__pin = \"\"\n",
    "        self.__balance = 0\n",
    "        \n",
    "        self.sno = Atm.__counter # instance var\n",
    "        Atm.__counter = Atm.__counter + 1\n",
    "        print(id(self))\n",
    "        self.__menu()\n",
    "    \n",
    "    @staticmethod\n",
    "    def get_counter():\n",
    "        return Atm.__counter\n",
    "    \n",
    "    @staticmethod\n",
    "    def set_counter(new):\n",
    "        if type(new) == int:\n",
    "            Atm.__counter = new\n",
    "        else:\n",
    "            print('Not Allowed')\n",
    "    \n",
    "    def get_pin(self):\n",
    "        return self.__pin\n",
    "    \n",
    "    def set_pin(self, new_pin):\n",
    "        if type(new_pin) == str:\n",
    "            self.__pin = new_pin\n",
    "            print(\"Pin changed\")\n",
    "        else:\n",
    "            print(\"Not allowed\")\n",
    "        \n",
    "    def __menu(self):\n",
    "        user_input = input(\"\"\"\n",
    "                    Hello, how would you like to proceed?\n",
    "                    1. Enter 1 to create pin\n",
    "                    2. Enter 2 to deposit\n",
    "                    3. Enter 3 to withdraw\n",
    "                    4. Enter 4 to check balance\n",
    "                    5. Enter 5 to exit\n",
    "        \"\"\")\n",
    "        if user_input == \"1\":\n",
    "            self.create_pin()\n",
    "        elif user_input == \"2\":\n",
    "            self.deposit()\n",
    "        elif user_input == \"3\":\n",
    "            self.withdraw()\n",
    "        elif user_input == \"4\":\n",
    "            self.check_balance()\n",
    "        else:\n",
    "            print(\"bye\")\n",
    "            \n",
    "    def create_pin(self):\n",
    "        self.__pin = input(\"Enter your pin: \")\n",
    "        print(\"Pin set successfully\")\n",
    "        \n",
    "    def deposit(self):\n",
    "        temp = input(\"Enter your pin: \")\n",
    "        if temp == self.__pin:\n",
    "            amount = int(input(\"Enter the amount: \"))\n",
    "            self.__balance = self.__balance + amount\n",
    "            print(\"Deposit successful\")\n",
    "        else:\n",
    "            print(\"Invalid pin\")\n",
    "    \n",
    "    def withdraw(self):\n",
    "        temp = input(\"Enter your pin: \")\n",
    "        if temp == self.__pin:\n",
    "            amount = int(input(\"Enter the amount: \"))\n",
    "            if amount <= self.__balance:\n",
    "                self.__balance = self.__balance - amount\n",
    "                print(\"Operation successful\")\n",
    "            else:\n",
    "                print(\"insufficient funds\")\n",
    "        else:\n",
    "            print(\"invalid pin\")\n",
    "    \n",
    "    def check_balance(self):\n",
    "        temp = input(\"Enter your pin: \")\n",
    "        if temp == self.__pin:\n",
    "            print(self.__balance)\n",
    "        else:\n",
    "            print(\"invalid pin\")"
   ]
  },
  {
   "cell_type": "code",
   "execution_count": 19,
   "id": "16d933ad-6ef3-450d-941e-dfb137ee1d8a",
   "metadata": {},
   "outputs": [
    {
     "name": "stdout",
     "output_type": "stream",
     "text": [
      "1798932883040\n"
     ]
    },
    {
     "name": "stdin",
     "output_type": "stream",
     "text": [
      "\n",
      "                    Hello, how would you like to proceed?\n",
      "                    1. Enter 1 to create pin\n",
      "                    2. Enter 2 to deposit\n",
      "                    3. Enter 3 to withdraw\n",
      "                    4. Enter 4 to check balance\n",
      "                    5. Enter 5 to exit\n",
      "         1\n",
      "Enter your pin:  1234\n"
     ]
    },
    {
     "name": "stdout",
     "output_type": "stream",
     "text": [
      "Pin set successfully\n"
     ]
    }
   ],
   "source": [
    "sbi = Atm()"
   ]
  },
  {
   "cell_type": "code",
   "execution_count": 20,
   "id": "984ad76b-23e5-45f2-9b01-46d716120ceb",
   "metadata": {},
   "outputs": [
    {
     "name": "stdin",
     "output_type": "stream",
     "text": [
      "Enter your pin:  1234\n",
      "Enter the amount:  50000\n"
     ]
    },
    {
     "name": "stdout",
     "output_type": "stream",
     "text": [
      "Deposit successful\n"
     ]
    }
   ],
   "source": [
    "sbi.deposit()"
   ]
  },
  {
   "cell_type": "code",
   "execution_count": 21,
   "id": "aae9d8dc-3d37-462e-a14b-17fb8691e637",
   "metadata": {},
   "outputs": [
    {
     "name": "stdin",
     "output_type": "stream",
     "text": [
      "Enter your pin:  1234\n"
     ]
    },
    {
     "name": "stdout",
     "output_type": "stream",
     "text": [
      "50000\n"
     ]
    }
   ],
   "source": [
    "sbi.check_balance()"
   ]
  },
  {
   "cell_type": "code",
   "execution_count": 22,
   "id": "e48fee0c-c3c9-4c8b-b843-002a549afdfa",
   "metadata": {},
   "outputs": [
    {
     "name": "stdin",
     "output_type": "stream",
     "text": [
      "Enter your pin:  1234\n",
      "Enter the amount:  10000\n"
     ]
    },
    {
     "name": "stdout",
     "output_type": "stream",
     "text": [
      "Operation successful\n"
     ]
    }
   ],
   "source": [
    "sbi.withdraw()"
   ]
  },
  {
   "cell_type": "code",
   "execution_count": 23,
   "id": "9a1fee29-2c39-49d2-9691-cf2ada23648c",
   "metadata": {},
   "outputs": [
    {
     "name": "stdin",
     "output_type": "stream",
     "text": [
      "Enter your pin:  123\n"
     ]
    },
    {
     "name": "stdout",
     "output_type": "stream",
     "text": [
      "invalid pin\n"
     ]
    }
   ],
   "source": [
    "sbi.check_balance()"
   ]
  },
  {
   "cell_type": "code",
   "execution_count": 24,
   "id": "5afe7b0d-01a0-4e97-b131-526fd71d94f7",
   "metadata": {},
   "outputs": [
    {
     "name": "stdout",
     "output_type": "stream",
     "text": [
      "1798944417552\n"
     ]
    },
    {
     "name": "stdin",
     "output_type": "stream",
     "text": [
      "\n",
      "                    Hello, how would you like to proceed?\n",
      "                    1. Enter 1 to create pin\n",
      "                    2. Enter 2 to deposit\n",
      "                    3. Enter 3 to withdraw\n",
      "                    4. Enter 4 to check balance\n",
      "                    5. Enter 5 to exit\n",
      "         1\n",
      "Enter your pin:  3214\n"
     ]
    },
    {
     "name": "stdout",
     "output_type": "stream",
     "text": [
      "Pin set successfully\n"
     ]
    }
   ],
   "source": [
    "hdfc = Atm()"
   ]
  },
  {
   "cell_type": "code",
   "execution_count": 25,
   "id": "d0dbbd58-6f70-4d19-8f22-fd98e502c5fa",
   "metadata": {},
   "outputs": [
    {
     "name": "stdin",
     "output_type": "stream",
     "text": [
      "Enter your pin:  3214\n",
      "Enter the amount:  100000\n"
     ]
    },
    {
     "name": "stdout",
     "output_type": "stream",
     "text": [
      "Deposit successful\n"
     ]
    }
   ],
   "source": [
    "hdfc.deposit()"
   ]
  },
  {
   "cell_type": "code",
   "execution_count": 27,
   "id": "c1281060-e2f7-4516-9536-565f0a07bdeb",
   "metadata": {},
   "outputs": [
    {
     "name": "stdin",
     "output_type": "stream",
     "text": [
      "Enter your pin:  1234\n"
     ]
    },
    {
     "name": "stdout",
     "output_type": "stream",
     "text": [
      "40000\n"
     ]
    }
   ],
   "source": [
    "sbi.check_balance()"
   ]
  },
  {
   "cell_type": "code",
   "execution_count": 28,
   "id": "c01697f2-ff6a-449c-83a9-0590a02ae92b",
   "metadata": {},
   "outputs": [
    {
     "name": "stdin",
     "output_type": "stream",
     "text": [
      "Enter your pin:  3214\n"
     ]
    },
    {
     "name": "stdout",
     "output_type": "stream",
     "text": [
      "100000\n"
     ]
    }
   ],
   "source": [
    "hdfc.check_balance()"
   ]
  },
  {
   "cell_type": "code",
   "execution_count": 6,
   "id": "f97f17bf-34fc-469f-a45c-ec9f7f5c1309",
   "metadata": {},
   "outputs": [],
   "source": [
    "# Constructor ---> Special/Magic/Dunder Methods"
   ]
  },
  {
   "cell_type": "code",
   "execution_count": 29,
   "id": "d82ccb5d-d8eb-43ee-8a47-ed152eba13b0",
   "metadata": {},
   "outputs": [
    {
     "data": {
      "text/plain": [
       "['__abs__',\n",
       " '__add__',\n",
       " '__and__',\n",
       " '__bool__',\n",
       " '__ceil__',\n",
       " '__class__',\n",
       " '__delattr__',\n",
       " '__dir__',\n",
       " '__divmod__',\n",
       " '__doc__',\n",
       " '__eq__',\n",
       " '__float__',\n",
       " '__floor__',\n",
       " '__floordiv__',\n",
       " '__format__',\n",
       " '__ge__',\n",
       " '__getattribute__',\n",
       " '__getnewargs__',\n",
       " '__getstate__',\n",
       " '__gt__',\n",
       " '__hash__',\n",
       " '__index__',\n",
       " '__init__',\n",
       " '__init_subclass__',\n",
       " '__int__',\n",
       " '__invert__',\n",
       " '__le__',\n",
       " '__lshift__',\n",
       " '__lt__',\n",
       " '__mod__',\n",
       " '__mul__',\n",
       " '__ne__',\n",
       " '__neg__',\n",
       " '__new__',\n",
       " '__or__',\n",
       " '__pos__',\n",
       " '__pow__',\n",
       " '__radd__',\n",
       " '__rand__',\n",
       " '__rdivmod__',\n",
       " '__reduce__',\n",
       " '__reduce_ex__',\n",
       " '__repr__',\n",
       " '__rfloordiv__',\n",
       " '__rlshift__',\n",
       " '__rmod__',\n",
       " '__rmul__',\n",
       " '__ror__',\n",
       " '__round__',\n",
       " '__rpow__',\n",
       " '__rrshift__',\n",
       " '__rshift__',\n",
       " '__rsub__',\n",
       " '__rtruediv__',\n",
       " '__rxor__',\n",
       " '__setattr__',\n",
       " '__sizeof__',\n",
       " '__str__',\n",
       " '__sub__',\n",
       " '__subclasshook__',\n",
       " '__truediv__',\n",
       " '__trunc__',\n",
       " '__xor__',\n",
       " 'as_integer_ratio',\n",
       " 'bit_count',\n",
       " 'bit_length',\n",
       " 'conjugate',\n",
       " 'denominator',\n",
       " 'from_bytes',\n",
       " 'imag',\n",
       " 'is_integer',\n",
       " 'numerator',\n",
       " 'real',\n",
       " 'to_bytes']"
      ]
     },
     "execution_count": 29,
     "metadata": {},
     "output_type": "execute_result"
    }
   ],
   "source": [
    "dir(int)"
   ]
  },
  {
   "cell_type": "markdown",
   "id": "dccf0969-e683-4791-a39c-8baf826ed71a",
   "metadata": {},
   "source": [
    "## Magic Methods\n",
    "Predefined (e.g., `__and__`, `__bool__`,` __float__`)\n",
    "\n",
    "Triggered automatically, not called directly by objects.\n",
    "\n",
    "Constructor is a magic method invoked during object creation."
   ]
  },
  {
   "cell_type": "code",
   "execution_count": null,
   "id": "37920649-3ba4-47cf-aa6a-9f2bcbc9fa21",
   "metadata": {},
   "outputs": [],
   "source": [
    "# What is Utility of Constructor?\n",
    "\n",
    "Special method auto-executed at app start.\n",
    "\n",
    "Handles ---> DB/Internet/Hardware connectivity\n",
    "             Initial configurations"
   ]
  },
  {
   "cell_type": "code",
   "execution_count": null,
   "id": "102a6ab6-16db-4918-a532-914d89980a70",
   "metadata": {},
   "outputs": [],
   "source": [
    "# Highly Philosophical Perspective:\n",
    "\n",
    "If World  == Class\n",
    "   God    == Programmer\n",
    "   Humans == Object\n",
    " \n",
    "Code Not Controlled by Humans == ?\n",
    "\n",
    "Breathing, Eating, Drinking is under human control\n",
    "\n",
    "But, ---> D E A T H\n",
    "\n",
    "Death is controlled by constructor (God)\n",
    "\n",
    "constructor's code includes death at birth"
   ]
  },
  {
   "cell_type": "markdown",
   "id": "40cae754-2153-4dc5-9452-9b80ae09eda2",
   "metadata": {},
   "source": [
    "### `self`"
   ]
  },
  {
   "cell_type": "code",
   "execution_count": 30,
   "id": "5ed6cb19-4655-4271-ba29-06eece768d51",
   "metadata": {},
   "outputs": [
    {
     "name": "stdout",
     "output_type": "stream",
     "text": [
      "1798944416592\n"
     ]
    },
    {
     "name": "stdin",
     "output_type": "stream",
     "text": [
      "\n",
      "                    Hello, how would you like to proceed?\n",
      "                    1. Enter 1 to create pin\n",
      "                    2. Enter 2 to deposit\n",
      "                    3. Enter 3 to withdraw\n",
      "                    4. Enter 4 to check balance\n",
      "                    5. Enter 5 to exit\n",
      "         5\n"
     ]
    },
    {
     "name": "stdout",
     "output_type": "stream",
     "text": [
      "bye\n"
     ]
    }
   ],
   "source": [
    "sbi = Atm()"
   ]
  },
  {
   "cell_type": "code",
   "execution_count": 31,
   "id": "eb93addd-e7d3-4dfb-8eb9-61985747fafa",
   "metadata": {},
   "outputs": [
    {
     "data": {
      "text/plain": [
       "1798944416592"
      ]
     },
     "execution_count": 31,
     "metadata": {},
     "output_type": "execute_result"
    }
   ],
   "source": [
    "id(sbi)"
   ]
  },
  {
   "cell_type": "code",
   "execution_count": null,
   "id": "5132b466-91c7-4a2b-b83f-1eed67b53fab",
   "metadata": {},
   "outputs": [],
   "source": [
    "# sbi = self"
   ]
  },
  {
   "cell_type": "code",
   "execution_count": 32,
   "id": "ff4b9314-672d-467c-837e-a281751d3e38",
   "metadata": {},
   "outputs": [
    {
     "name": "stdout",
     "output_type": "stream",
     "text": [
      "1798930049504\n"
     ]
    },
    {
     "name": "stdin",
     "output_type": "stream",
     "text": [
      "\n",
      "                    Hello, how would you like to proceed?\n",
      "                    1. Enter 1 to create pin\n",
      "                    2. Enter 2 to deposit\n",
      "                    3. Enter 3 to withdraw\n",
      "                    4. Enter 4 to check balance\n",
      "                    5. Enter 5 to exit\n",
      "         5\n"
     ]
    },
    {
     "name": "stdout",
     "output_type": "stream",
     "text": [
      "bye\n"
     ]
    }
   ],
   "source": [
    "hdfc = Atm()"
   ]
  },
  {
   "cell_type": "code",
   "execution_count": 33,
   "id": "899bba55-e713-4263-ab5b-783e64b6b983",
   "metadata": {},
   "outputs": [
    {
     "data": {
      "text/plain": [
       "1798930049504"
      ]
     },
     "execution_count": 33,
     "metadata": {},
     "output_type": "execute_result"
    }
   ],
   "source": [
    "id(hdfc)"
   ]
  },
  {
   "cell_type": "code",
   "execution_count": null,
   "id": "6d5707f1-9ebb-47d2-bfa3-25b43aaa5261",
   "metadata": {},
   "outputs": [],
   "source": [
    "# hdfc = self"
   ]
  },
  {
   "cell_type": "code",
   "execution_count": 34,
   "id": "369616be-0421-49f6-bdc7-e67de14f3df1",
   "metadata": {},
   "outputs": [
    {
     "data": {
      "text/plain": [
       "1798944416592"
      ]
     },
     "execution_count": 34,
     "metadata": {},
     "output_type": "execute_result"
    }
   ],
   "source": [
    "id(sbi)"
   ]
  },
  {
   "cell_type": "markdown",
   "id": "5101dc7f-b51e-4c0f-829e-451eae40de8f",
   "metadata": {},
   "source": [
    "*`self` refers to the current object instance.*"
   ]
  },
  {
   "cell_type": "markdown",
   "id": "1d67630f-f37d-4d55-90b0-2b20f8acb6de",
   "metadata": {},
   "source": [
    "### The need of self\n",
    "`class` holds data & methods; access via object.\n",
    "\n",
    "`self` refers to current object; needed for inter-method/data access within a class.\n",
    "\n",
    "Methods can't access other methods/data directly without `self`."
   ]
  },
  {
   "cell_type": "markdown",
   "id": "586382f6-f54d-4a0f-b6fe-bef4831f95a4",
   "metadata": {},
   "source": [
    "### Creating Custom Data Type (Fraction) & Corresponding Methods to Add, Sub, Mul and Divide Fractions"
   ]
  },
  {
   "cell_type": "code",
   "execution_count": 2,
   "id": "9a2b05a6-a139-405d-b2d1-cfb881234861",
   "metadata": {},
   "outputs": [],
   "source": [
    "class Fraction:\n",
    "    \n",
    "    def __init__(self, n, d):\n",
    "        self.num = n\n",
    "        self.den = d\n",
    "        \n",
    "    def __str__(self):\n",
    "        return\"{}/{}\".format(self.num, self.den)\n",
    "    \n",
    "    def __add__(self, other):\n",
    "        temp_num = self.num * other.den + other.num * self.den\n",
    "        temp_den = self.den * other.den\n",
    "        return\"{}/{}\".format(temp_num, temp_den)\n",
    "    \n",
    "    def __sub__(self, other):\n",
    "        temp_num = self.num * other.den - other.num * self.den\n",
    "        temp_den = self.den * other.den\n",
    "        return\"{}/{}\".format(temp_num, temp_den)\n",
    "    \n",
    "    def __mul__(self, other):\n",
    "        temp_num = self.num * other.num\n",
    "        temp_den = self.den * other.den\n",
    "        return\"{}/{}\".format(temp_num, temp_den)\n",
    "    \n",
    "    def __truediv__(self, other):\n",
    "        temp_num = self.num * other.den\n",
    "        temp_den = self.den * other.num\n",
    "        return\"{}/{}\".format(temp_num, temp_den)"
   ]
  },
  {
   "cell_type": "code",
   "execution_count": 2,
   "id": "083e7db3-c192-4348-b71e-b76b9f5ad79e",
   "metadata": {},
   "outputs": [],
   "source": [
    "x = Fraction(4, 5)"
   ]
  },
  {
   "cell_type": "code",
   "execution_count": 3,
   "id": "ed9d7ce7-28e0-4024-a017-3e1e04bd1d01",
   "metadata": {},
   "outputs": [
    {
     "name": "stdout",
     "output_type": "stream",
     "text": [
      "4/5\n"
     ]
    }
   ],
   "source": [
    "print(x)"
   ]
  },
  {
   "cell_type": "code",
   "execution_count": 4,
   "id": "8a2fa513-c7c8-43ca-add7-1af18625a1a3",
   "metadata": {},
   "outputs": [
    {
     "data": {
      "text/plain": [
       "__main__.Fraction"
      ]
     },
     "execution_count": 4,
     "metadata": {},
     "output_type": "execute_result"
    }
   ],
   "source": [
    "type(x)"
   ]
  },
  {
   "cell_type": "code",
   "execution_count": 5,
   "id": "3ffb1c61-57e3-43ca-8275-d99b9e792034",
   "metadata": {},
   "outputs": [],
   "source": [
    "y = Fraction(5, 6)"
   ]
  },
  {
   "cell_type": "code",
   "execution_count": 6,
   "id": "0f9c6463-2cf6-488d-a608-81ff74752391",
   "metadata": {},
   "outputs": [
    {
     "name": "stdout",
     "output_type": "stream",
     "text": [
      "5/6\n"
     ]
    }
   ],
   "source": [
    "print(y)"
   ]
  },
  {
   "cell_type": "code",
   "execution_count": 7,
   "id": "072be46e-6cf0-44e1-bedf-aac7e5a52da5",
   "metadata": {},
   "outputs": [],
   "source": [
    "L = [1, 2, 3, x]"
   ]
  },
  {
   "cell_type": "code",
   "execution_count": 8,
   "id": "e696638f-6d48-4cf4-8939-cc0ba7226039",
   "metadata": {},
   "outputs": [
    {
     "data": {
      "text/plain": [
       "[1, 2, 3, <__main__.Fraction at 0x1b2158b3cb0>]"
      ]
     },
     "execution_count": 8,
     "metadata": {},
     "output_type": "execute_result"
    }
   ],
   "source": [
    "L"
   ]
  },
  {
   "cell_type": "code",
   "execution_count": 9,
   "id": "351fc07b-0a46-41eb-8608-496cda3d447d",
   "metadata": {},
   "outputs": [
    {
     "name": "stdout",
     "output_type": "stream",
     "text": [
      "49/30\n"
     ]
    }
   ],
   "source": [
    "print(x + y)"
   ]
  },
  {
   "cell_type": "code",
   "execution_count": 10,
   "id": "e59d4e40-7101-4b60-9c75-7bf67a460a99",
   "metadata": {},
   "outputs": [
    {
     "name": "stdout",
     "output_type": "stream",
     "text": [
      "-1/30\n"
     ]
    }
   ],
   "source": [
    "print(x - y)"
   ]
  },
  {
   "cell_type": "code",
   "execution_count": 11,
   "id": "651c6d1b-f775-449e-9a49-8818d0ed8141",
   "metadata": {},
   "outputs": [
    {
     "name": "stdout",
     "output_type": "stream",
     "text": [
      "20/30\n"
     ]
    }
   ],
   "source": [
    "print(x * y)"
   ]
  },
  {
   "cell_type": "code",
   "execution_count": 13,
   "id": "8a094799-1437-47a8-87b8-ecd0f8a1750a",
   "metadata": {},
   "outputs": [
    {
     "name": "stdout",
     "output_type": "stream",
     "text": [
      "24/25\n"
     ]
    }
   ],
   "source": [
    "print(x / y)"
   ]
  },
  {
   "cell_type": "markdown",
   "id": "e5028526-0111-4b8b-bcc0-7be70423af36",
   "metadata": {},
   "source": [
    "## ENCAPSULATION"
   ]
  },
  {
   "cell_type": "markdown",
   "id": "7219c72c-9a85-4e3c-b772-4e869fabde86",
   "metadata": {},
   "source": [
    "### Instance Variable\n",
    "Unique value per object.\n",
    "\n",
    "Defined inside the constructor (e.g.,`self.pin`,`self.balance`).\n",
    "\n",
    "Different values for each object."
   ]
  },
  {
   "cell_type": "code",
   "execution_count": 5,
   "id": "cac04486-f5ba-44c2-8904-10c2988210b6",
   "metadata": {},
   "outputs": [
    {
     "name": "stdout",
     "output_type": "stream",
     "text": [
      "1370612733600\n"
     ]
    },
    {
     "name": "stdin",
     "output_type": "stream",
     "text": [
      "\n",
      "                    Hello, how would you like to proceed?\n",
      "                    1. Enter 1 to create pin\n",
      "                    2. Enter 2 to deposit\n",
      "                    3. Enter 3 to withdraw\n",
      "                    4. Enter 4 to check balance\n",
      "                    5. Enter 5 to exit\n",
      "         1\n",
      "Enter your pin:  1234\n"
     ]
    },
    {
     "name": "stdout",
     "output_type": "stream",
     "text": [
      "Pin set successfully\n"
     ]
    }
   ],
   "source": [
    "sbi = Atm()"
   ]
  },
  {
   "cell_type": "code",
   "execution_count": 6,
   "id": "c84a95bb-18ac-483f-853c-c89d1995e4c9",
   "metadata": {},
   "outputs": [
    {
     "ename": "AttributeError",
     "evalue": "'Atm' object has no attribute 'balance'",
     "output_type": "error",
     "traceback": [
      "\u001b[1;31m---------------------------------------------------------------------------\u001b[0m",
      "\u001b[1;31mAttributeError\u001b[0m                            Traceback (most recent call last)",
      "Cell \u001b[1;32mIn[6], line 1\u001b[0m\n\u001b[1;32m----> 1\u001b[0m sbi\u001b[38;5;241m.\u001b[39mbalance\n",
      "\u001b[1;31mAttributeError\u001b[0m: 'Atm' object has no attribute 'balance'"
     ]
    }
   ],
   "source": [
    "sbi.balance"
   ]
  },
  {
   "cell_type": "code",
   "execution_count": 7,
   "id": "41d6952d-0c6e-4a11-ac91-621e4aa61414",
   "metadata": {},
   "outputs": [],
   "source": [
    "sbi.balance = 'ahjhaja'"
   ]
  },
  {
   "cell_type": "code",
   "execution_count": 8,
   "id": "ffb225a7-8fbc-4957-86e5-a21a5f802682",
   "metadata": {},
   "outputs": [
    {
     "name": "stdin",
     "output_type": "stream",
     "text": [
      "Enter your pin:  1234\n",
      "Enter the amount:  50000\n"
     ]
    },
    {
     "name": "stdout",
     "output_type": "stream",
     "text": [
      "Deposit successful\n"
     ]
    }
   ],
   "source": [
    "sbi.deposit()"
   ]
  },
  {
   "cell_type": "code",
   "execution_count": null,
   "id": "4278cb3d-0f0a-4d7b-8c66-7650186c77ba",
   "metadata": {},
   "outputs": [],
   "source": [
    "# Class Data Encapsulation:\n",
    "\n",
    "Data should not be left exposed in a class.\n",
    "\n",
    "Java   ---> Use access modifiers (e.g., `private`) to hide data.\n",
    "\n",
    "Python ---> Use `__` prefix (e.g., `self.__pin`, `self.__balance`) for data hiding."
   ]
  },
  {
   "cell_type": "code",
   "execution_count": 9,
   "id": "cd51cc1a-b207-4bf8-9057-c5c8bd50cd8d",
   "metadata": {},
   "outputs": [
    {
     "name": "stdout",
     "output_type": "stream",
     "text": [
      "1370624252560\n"
     ]
    },
    {
     "name": "stdin",
     "output_type": "stream",
     "text": [
      "\n",
      "                    Hello, how would you like to proceed?\n",
      "                    1. Enter 1 to create pin\n",
      "                    2. Enter 2 to deposit\n",
      "                    3. Enter 3 to withdraw\n",
      "                    4. Enter 4 to check balance\n",
      "                    5. Enter 5 to exit\n",
      "         1\n",
      "Enter your pin:  1234\n"
     ]
    },
    {
     "name": "stdout",
     "output_type": "stream",
     "text": [
      "Pin set successfully\n"
     ]
    }
   ],
   "source": [
    "sbi = Atm()"
   ]
  },
  {
   "cell_type": "markdown",
   "id": "9de5ef5f-210c-48cd-b4e0-19048126a68d",
   "metadata": {},
   "source": [
    "*Class Design ---> Hide (Encapsulate ) data members & Hide non-public methods.*"
   ]
  },
  {
   "cell_type": "code",
   "execution_count": null,
   "id": "a3a737ae-16fd-4729-81f7-ad5ba411e1aa",
   "metadata": {},
   "outputs": [],
   "source": [
    "# Python Name Mangling:\n",
    "\n",
    "How does it hide? What happens behind the scenes?\n",
    "\n",
    "Atm\n",
    "__pin\n",
    "\n",
    "python interpreter internally converts __pin ---> _Atm__pin\n",
    "\n",
    "Why?\n",
    "Name mangling to prevent direct access."
   ]
  },
  {
   "cell_type": "code",
   "execution_count": 10,
   "id": "a6da6737-dc4b-431f-a01f-ddd760a7aba8",
   "metadata": {},
   "outputs": [],
   "source": [
    "sbi.__balance = \"abcdefg\""
   ]
  },
  {
   "cell_type": "code",
   "execution_count": 11,
   "id": "ab3705a1-e2ff-4ef2-b2b3-756ed1f681c4",
   "metadata": {},
   "outputs": [
    {
     "name": "stdin",
     "output_type": "stream",
     "text": [
      "Enter your pin:  1234\n",
      "Enter the amount:  50000\n"
     ]
    },
    {
     "name": "stdout",
     "output_type": "stream",
     "text": [
      "Deposit successful\n"
     ]
    }
   ],
   "source": [
    "sbi.deposit()"
   ]
  },
  {
   "cell_type": "code",
   "execution_count": 12,
   "id": "2070757a-3334-455b-9db6-d6491fd8e1ec",
   "metadata": {},
   "outputs": [
    {
     "name": "stdin",
     "output_type": "stream",
     "text": [
      "Enter your pin:  1234\n"
     ]
    },
    {
     "name": "stdout",
     "output_type": "stream",
     "text": [
      "50000\n"
     ]
    }
   ],
   "source": [
    "sbi.check_balance() # no error"
   ]
  },
  {
   "cell_type": "code",
   "execution_count": null,
   "id": "a0b1dd80-a004-49bd-a00c-cbedbb242165",
   "metadata": {},
   "outputs": [],
   "source": [
    "the above code worked because,\n",
    "\n",
    "`__balance` ---> `_Atm__balance` (name mangling)\n",
    "\n",
    "`sbi.__balance` = `\"\"`, creates `__balance` in `Atm` but unused.\n",
    "\n",
    "`__balance` not used; `_Atm__balance` is used.\n",
    "\n",
    "`__balance` creation doesn't affect code logic due to `__balance` not being utilized.\n",
    "\n",
    "Code logic remains unchanged; class functionality remains unaffected."
   ]
  },
  {
   "cell_type": "code",
   "execution_count": 13,
   "id": "d61a8717-5500-4904-b444-0e30da8bfe4d",
   "metadata": {},
   "outputs": [],
   "source": [
    "# Suprising thing:\n",
    "\n",
    "sbi._Atm__balance = \"wgwwg\""
   ]
  },
  {
   "cell_type": "code",
   "execution_count": 14,
   "id": "35b2b70b-7f90-45a4-99ef-7cb30e3d0475",
   "metadata": {},
   "outputs": [
    {
     "name": "stdin",
     "output_type": "stream",
     "text": [
      "Enter your pin:  1234\n",
      "Enter the amount:  20000\n"
     ]
    },
    {
     "ename": "TypeError",
     "evalue": "can only concatenate str (not \"int\") to str",
     "output_type": "error",
     "traceback": [
      "\u001b[1;31m---------------------------------------------------------------------------\u001b[0m",
      "\u001b[1;31mTypeError\u001b[0m                                 Traceback (most recent call last)",
      "Cell \u001b[1;32mIn[14], line 1\u001b[0m\n\u001b[1;32m----> 1\u001b[0m sbi\u001b[38;5;241m.\u001b[39mdeposit()\n",
      "Cell \u001b[1;32mIn[4], line 66\u001b[0m, in \u001b[0;36mAtm.deposit\u001b[1;34m(self)\u001b[0m\n\u001b[0;32m     64\u001b[0m \u001b[38;5;28;01mif\u001b[39;00m temp \u001b[38;5;241m==\u001b[39m \u001b[38;5;28mself\u001b[39m\u001b[38;5;241m.\u001b[39m__pin:\n\u001b[0;32m     65\u001b[0m     amount \u001b[38;5;241m=\u001b[39m \u001b[38;5;28mint\u001b[39m(\u001b[38;5;28minput\u001b[39m(\u001b[38;5;124m\"\u001b[39m\u001b[38;5;124mEnter the amount: \u001b[39m\u001b[38;5;124m\"\u001b[39m))\n\u001b[1;32m---> 66\u001b[0m     \u001b[38;5;28mself\u001b[39m\u001b[38;5;241m.\u001b[39m__balance \u001b[38;5;241m=\u001b[39m \u001b[38;5;28mself\u001b[39m\u001b[38;5;241m.\u001b[39m__balance \u001b[38;5;241m+\u001b[39m amount\n\u001b[0;32m     67\u001b[0m     \u001b[38;5;28mprint\u001b[39m(\u001b[38;5;124m\"\u001b[39m\u001b[38;5;124mDeposit successful\u001b[39m\u001b[38;5;124m\"\u001b[39m)\n\u001b[0;32m     68\u001b[0m \u001b[38;5;28;01melse\u001b[39;00m:\n",
      "\u001b[1;31mTypeError\u001b[0m: can only concatenate str (not \"int\") to str"
     ]
    }
   ],
   "source": [
    "sbi.deposit() # code crashed"
   ]
  },
  {
   "cell_type": "code",
   "execution_count": null,
   "id": "29180e2a-cdb9-49cb-a636-4f8f86b31037",
   "metadata": {},
   "outputs": [],
   "source": [
    "# Python Variable Privacy:\n",
    "\n",
    "`__balance` ---> Name-mangled to `_Atm__balance`.\n",
    "\n",
    "_Truly private_ is not a concept in Python.\n",
    "\n",
    "`__balance` is _pseudo-private_, but accessible via `_Atm__balance` if known."
   ]
  },
  {
   "cell_type": "markdown",
   "id": "e4e29db7-1882-4d64-8929-cf98d663871f",
   "metadata": {},
   "source": [
    "Reason for Why \"**Nothing in Python is Truly Private**\"?\n",
    "\n",
    "\"Python targets adults; privacy is a convention, not enforcement.\"\n",
    "\n",
    "`__balance` indicates intent for privacy; **convention**\n",
    "\n",
    "`__` prefix suggests private elements; use with caution, understanding implications."
   ]
  },
  {
   "cell_type": "code",
   "execution_count": null,
   "id": "f13c6870-cbbe-4329-8253-df14d1bbeffe",
   "metadata": {},
   "outputs": [],
   "source": [
    "Also, for every Data Members we can create 2 Functions:\n",
    "\n",
    "Getter ---> Retrieve value\n",
    "         &\n",
    "Setter ---> Update value\n",
    "\n",
    "Although we have hidden Pin and Balance,\n",
    "But if needed, `get_pin()` & `set_pin()` to get and set pin."
   ]
  },
  {
   "cell_type": "code",
   "execution_count": 16,
   "id": "25fcc8da-a8b1-460f-a16c-9b8f7b69186e",
   "metadata": {},
   "outputs": [
    {
     "name": "stdout",
     "output_type": "stream",
     "text": [
      "1370609953248\n"
     ]
    },
    {
     "name": "stdin",
     "output_type": "stream",
     "text": [
      "\n",
      "                    Hello, how would you like to proceed?\n",
      "                    1. Enter 1 to create pin\n",
      "                    2. Enter 2 to deposit\n",
      "                    3. Enter 3 to withdraw\n",
      "                    4. Enter 4 to check balance\n",
      "                    5. Enter 5 to exit\n",
      "         1\n",
      "Enter your pin:  1234\n"
     ]
    },
    {
     "name": "stdout",
     "output_type": "stream",
     "text": [
      "Pin set successfully\n"
     ]
    }
   ],
   "source": [
    "sbi = Atm()"
   ]
  },
  {
   "cell_type": "code",
   "execution_count": 17,
   "id": "ee274276-af85-4c17-a362-728a1affd931",
   "metadata": {},
   "outputs": [
    {
     "data": {
      "text/plain": [
       "'1234'"
      ]
     },
     "execution_count": 17,
     "metadata": {},
     "output_type": "execute_result"
    }
   ],
   "source": [
    "sbi.get_pin()"
   ]
  },
  {
   "cell_type": "code",
   "execution_count": 18,
   "id": "1c9d2c78-663e-49be-9804-f10c6dc28d06",
   "metadata": {},
   "outputs": [
    {
     "name": "stdout",
     "output_type": "stream",
     "text": [
      "Pin changed\n"
     ]
    }
   ],
   "source": [
    "sbi.set_pin(\"235235\")"
   ]
  },
  {
   "cell_type": "code",
   "execution_count": 19,
   "id": "5823f76f-c5b2-40b3-ac17-cd2ee26d8f4c",
   "metadata": {},
   "outputs": [
    {
     "data": {
      "text/plain": [
       "'235235'"
      ]
     },
     "execution_count": 19,
     "metadata": {},
     "output_type": "execute_result"
    }
   ],
   "source": [
    "sbi.get_pin()"
   ]
  },
  {
   "cell_type": "code",
   "execution_count": null,
   "id": "21038ea9-6ca3-40a0-9dc7-322ca258a936",
   "metadata": {},
   "outputs": [],
   "source": [
    "# let's set a Rule ---> PIN must be a String"
   ]
  },
  {
   "cell_type": "code",
   "execution_count": 20,
   "id": "a922010a-3119-45b4-bd51-9388adb33b85",
   "metadata": {},
   "outputs": [
    {
     "name": "stdout",
     "output_type": "stream",
     "text": [
      "Not allowed\n"
     ]
    }
   ],
   "source": [
    "sbi.set_pin(5.6)"
   ]
  },
  {
   "cell_type": "code",
   "execution_count": null,
   "id": "5b9510c3-3f69-4f87-b154-ee335b2b5bcd",
   "metadata": {},
   "outputs": [],
   "source": [
    "Whats the purpose of `get` and `set` functions if,\n",
    "`sbi.set_pin` & `sbi.pin` ---> Same functionality\n",
    "\n",
    "Purpose ---> Hide Data & Control Access (Encapsulation)\n",
    "\n",
    "controlled access (sbi.get_pin/sbi.set_pin) vs. direct access (sbi.pin)\n",
    "\n",
    "Input values are processed through functions this allows logical control over data."
   ]
  },
  {
   "cell_type": "code",
   "execution_count": null,
   "id": "de8114d3-802d-4f00-bfbf-975a6071c706",
   "metadata": {},
   "outputs": [],
   "source": [
    "sbi.set_pin(\"2345\") # Encapsulation"
   ]
  },
  {
   "cell_type": "code",
   "execution_count": null,
   "id": "465d0b91-3938-41e5-8663-7efefb8d9fa8",
   "metadata": {},
   "outputs": [],
   "source": [
    "Summary:\n",
    "\n",
    "The whole idea is to prevent direct public access to data to avoid breaches.\n",
    "\n",
    "Solution:\n",
    "Hide data using `__`.\n",
    "\n",
    "if anyone wants access, must follow 2 methods:\n",
    "1. `get` ---> Fetch value.\n",
    "2. `set` ---> Modify value under set conditions.\n",
    "        \n",
    "Protecting our Data, Access Data via Functions, Set Data via Logic.\n",
    "\n",
    "Concept ---> Encapsulation i.e. Protect and Access data through controlled methods.\n",
    "\n",
    "Use getter and setter functions.\n",
    "\n",
    "Data is protected and accessible through controlled means."
   ]
  },
  {
   "cell_type": "code",
   "execution_count": null,
   "id": "5117be69-b728-46e4-9101-e657731d8c66",
   "metadata": {},
   "outputs": [],
   "source": [
    "Class diagram:\n",
    "\n",
    "+-------------------------------------+\n",
    "|              - Atm                  |\n",
    "|-------------------------------------|\n",
    "|              - pin                  |\n",
    "|            - balance                | \n",
    "|-------------------------------------|\n",
    "|           - __init__()              |\n",
    "|              - menu                 |\n",
    "|           + change_pin()            |     \n",
    "|             + deposit               |\n",
    "|             + withdraw              |\n",
    "|          + check_balance()          |\n",
    "+-------------------------------------+"
   ]
  },
  {
   "cell_type": "markdown",
   "id": "d731cfc5-8cd9-489a-9923-4c7db588d057",
   "metadata": {},
   "source": [
    "### Reference Variable"
   ]
  },
  {
   "cell_type": "code",
   "execution_count": 3,
   "id": "5e4cdaa5-8435-4404-9a5c-434b82541fed",
   "metadata": {},
   "outputs": [
    {
     "name": "stdout",
     "output_type": "stream",
     "text": [
      "1847147057840\n"
     ]
    },
    {
     "name": "stdin",
     "output_type": "stream",
     "text": [
      "\n",
      "                    Hello, how would you like to proceed?\n",
      "                    1. Enter 1 to create pin\n",
      "                    2. Enter 2 to deposit\n",
      "                    3. Enter 3 to withdraw\n",
      "                    4. Enter 4 to check balance\n",
      "                    5. Enter 5 to exit\n",
      "         1\n",
      "Enter your pin:  1234\n"
     ]
    },
    {
     "name": "stdout",
     "output_type": "stream",
     "text": [
      "Pin set successfully\n"
     ]
    },
    {
     "data": {
      "text/plain": [
       "<__main__.Atm at 0x1ae128b52b0>"
      ]
     },
     "execution_count": 3,
     "metadata": {},
     "output_type": "execute_result"
    }
   ],
   "source": [
    "Atm()"
   ]
  },
  {
   "cell_type": "code",
   "execution_count": null,
   "id": "b38616de-f6a4-42b9-ba1c-1eed5fbea42e",
   "metadata": {},
   "outputs": [],
   "source": [
    "Object created but unusable.\n",
    "\n",
    "Reason ---> Not stored in any variable.\n",
    "\n",
    "Result ---> Object lost, memory inaccessible."
   ]
  },
  {
   "cell_type": "code",
   "execution_count": 4,
   "id": "871aa8fe-8c59-45e1-97c4-a1a0958e06a9",
   "metadata": {},
   "outputs": [
    {
     "name": "stdout",
     "output_type": "stream",
     "text": [
      "1847158594512\n"
     ]
    },
    {
     "name": "stdin",
     "output_type": "stream",
     "text": [
      "\n",
      "                    Hello, how would you like to proceed?\n",
      "                    1. Enter 1 to create pin\n",
      "                    2. Enter 2 to deposit\n",
      "                    3. Enter 3 to withdraw\n",
      "                    4. Enter 4 to check balance\n",
      "                    5. Enter 5 to exit\n",
      "         1\n",
      "Enter your pin:  1234\n"
     ]
    },
    {
     "name": "stdout",
     "output_type": "stream",
     "text": [
      "Pin set successfully\n"
     ]
    }
   ],
   "source": [
    "# whenever creating object, write this code:\n",
    "\n",
    "sbi = Atm()"
   ]
  },
  {
   "cell_type": "code",
   "execution_count": null,
   "id": "f91140e0-6c82-4e4b-a7bb-4a8a2ae8381e",
   "metadata": {},
   "outputs": [],
   "source": [
    "# Reference vs. Object:\n",
    "\n",
    "reference ---> `sbi`\n",
    "object    ---> `Atm()`\n",
    "\n",
    "`sbi` ≠ object\n",
    "`sbi` is a reference variable\n",
    "`sbi` points to the memory address of the actual object `Atm()`"
   ]
  }
 ],
 "metadata": {
  "kernelspec": {
   "display_name": "Python 3 (ipykernel)",
   "language": "python",
   "name": "python3"
  },
  "language_info": {
   "codemirror_mode": {
    "name": "ipython",
    "version": 3
   },
   "file_extension": ".py",
   "mimetype": "text/x-python",
   "name": "python",
   "nbconvert_exporter": "python",
   "pygments_lexer": "ipython3",
   "version": "3.13.5"
  }
 },
 "nbformat": 4,
 "nbformat_minor": 5
}
