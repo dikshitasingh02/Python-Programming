{
 "cells": [
  {
   "cell_type": "markdown",
   "id": "1761197c-c6d4-47cb-80f0-5b0b49e6130d",
   "metadata": {},
   "source": [
    "# OBJECT-ORIENTED PROGRAMMING\n",
    "**OOP** is a programming paradigm using objects & classes."
   ]
  },
  {
   "cell_type": "markdown",
   "id": "330eb9c9-3d85-41aa-a87b-c70c43eb71ee",
   "metadata": {},
   "source": [
    "### The Observation"
   ]
  },
  {
   "cell_type": "code",
   "execution_count": 1,
   "id": "95b02351-036f-45d0-aa78-c56ee15f6007",
   "metadata": {},
   "outputs": [],
   "source": [
    "L = [1, 2, 3, 4]"
   ]
  },
  {
   "cell_type": "code",
   "execution_count": 3,
   "id": "27e46fd1-92ed-4e00-b0eb-2ba6f15cb2d2",
   "metadata": {},
   "outputs": [
    {
     "data": {
      "text/plain": [
       "[1, 2, 3, 4]"
      ]
     },
     "execution_count": 3,
     "metadata": {},
     "output_type": "execute_result"
    }
   ],
   "source": [
    "L"
   ]
  },
  {
   "cell_type": "code",
   "execution_count": 4,
   "id": "28876274-aa53-42ae-8fd6-cdd8d47672d2",
   "metadata": {},
   "outputs": [
    {
     "ename": "AttributeError",
     "evalue": "'list' object has no attribute 'upper'",
     "output_type": "error",
     "traceback": [
      "\u001b[1;31m---------------------------------------------------------------------------\u001b[0m",
      "\u001b[1;31mAttributeError\u001b[0m                            Traceback (most recent call last)",
      "Cell \u001b[1;32mIn[4], line 1\u001b[0m\n\u001b[1;32m----> 1\u001b[0m L\u001b[38;5;241m.\u001b[39mupper()\n",
      "\u001b[1;31mAttributeError\u001b[0m: 'list' object has no attribute 'upper'"
     ]
    }
   ],
   "source": [
    "L.upper()"
   ]
  },
  {
   "cell_type": "code",
   "execution_count": 5,
   "id": "b33b8496-d4d8-416c-a2d8-89964c666fcb",
   "metadata": {},
   "outputs": [],
   "source": [
    "city = 'Kolkata'"
   ]
  },
  {
   "cell_type": "code",
   "execution_count": 6,
   "id": "761bf0ba-2d12-4752-ae54-2d46615d9b92",
   "metadata": {},
   "outputs": [
    {
     "ename": "AttributeError",
     "evalue": "'str' object has no attribute 'append'",
     "output_type": "error",
     "traceback": [
      "\u001b[1;31m---------------------------------------------------------------------------\u001b[0m",
      "\u001b[1;31mAttributeError\u001b[0m                            Traceback (most recent call last)",
      "Cell \u001b[1;32mIn[6], line 1\u001b[0m\n\u001b[1;32m----> 1\u001b[0m city\u001b[38;5;241m.\u001b[39mappend(\u001b[38;5;124m'\u001b[39m\u001b[38;5;124ma\u001b[39m\u001b[38;5;124m'\u001b[39m)\n",
      "\u001b[1;31mAttributeError\u001b[0m: 'str' object has no attribute 'append'"
     ]
    }
   ],
   "source": [
    "city.append('a')"
   ]
  },
  {
   "cell_type": "code",
   "execution_count": 7,
   "id": "45021ad1-d2a3-405a-8a78-009e31dc9574",
   "metadata": {},
   "outputs": [],
   "source": [
    "a = 3"
   ]
  },
  {
   "cell_type": "code",
   "execution_count": 8,
   "id": "513b9ff6-1be3-4321-b89b-2d16b6c98202",
   "metadata": {},
   "outputs": [
    {
     "ename": "AttributeError",
     "evalue": "'int' object has no attribute 'upper'",
     "output_type": "error",
     "traceback": [
      "\u001b[1;31m---------------------------------------------------------------------------\u001b[0m",
      "\u001b[1;31mAttributeError\u001b[0m                            Traceback (most recent call last)",
      "Cell \u001b[1;32mIn[8], line 1\u001b[0m\n\u001b[1;32m----> 1\u001b[0m a\u001b[38;5;241m.\u001b[39mupper()\n",
      "\u001b[1;31mAttributeError\u001b[0m: 'int' object has no attribute 'upper'"
     ]
    }
   ],
   "source": [
    "a.upper()"
   ]
  },
  {
   "cell_type": "markdown",
   "id": "5d3b6c2d-d287-495f-8cbd-da60f8ee2787",
   "metadata": {},
   "source": [
    "### \"Everything in Python is an Object\"\n",
    "### But, What is an Object?  \n",
    "### What is OOP?  \n",
    "### The PROBLEM!  \n",
    "### Generality to Specificity  \n",
    "\n",
    "**The Core Fundamental Feature of OOP:**  \n",
    "*One of the core fundamental features of OOP is the ability to create **Custom Data Types** tailored to specific needs (e.g., LinkedIn platform).*  \n",
    "\n",
    "**Without OOP:**  \n",
    "- **Reliance on primitive data types:** `int`, `list`, `tuple`  \n",
    "- **Less optimal** Not tailored, harder to manage  \n",
    "\n",
    "**With OOP:**  \n",
    "- **Custom Types:** Efficient, intuitive, scalable  \n",
    "- **Encapsulation:** Better feature management  \n",
    "- **Manageable Codebase**  \n",
    "\n",
    "### So, What is Object Oriented Programming?  \n",
    "***Key Concepts of OOP:***  \n",
    "- **Object**  \n",
    "- **Class**  \n",
    "- **Polymorphism**  \n",
    "- **Encapsulation**  \n",
    "- **Inheritance**  \n",
    "- **Abstraction**  \n"
   ]
  },
  {
   "cell_type": "code",
   "execution_count": null,
   "id": "e0a485c0-2bf5-4a72-89a0-41f970395955",
   "metadata": {},
   "outputs": [],
   "source": []
  }
 ],
 "metadata": {
  "kernelspec": {
   "display_name": "Python 3 (ipykernel)",
   "language": "python",
   "name": "python3"
  },
  "language_info": {
   "codemirror_mode": {
    "name": "ipython",
    "version": 3
   },
   "file_extension": ".py",
   "mimetype": "text/x-python",
   "name": "python",
   "nbconvert_exporter": "python",
   "pygments_lexer": "ipython3",
   "version": "3.13.5"
  }
 },
 "nbformat": 4,
 "nbformat_minor": 5
}
