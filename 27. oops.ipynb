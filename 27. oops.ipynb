{
 "cells": [
  {
   "cell_type": "markdown",
   "id": "1761197c-c6d4-47cb-80f0-5b0b49e6130d",
   "metadata": {},
   "source": [
    "# OBJECT-ORIENTED PROGRAMMING\n",
    "**OOP** is a programming paradigm using objects & classes."
   ]
  },
  {
   "cell_type": "markdown",
   "id": "330eb9c9-3d85-41aa-a87b-c70c43eb71ee",
   "metadata": {},
   "source": [
    "### The Observation"
   ]
  },
  {
   "cell_type": "code",
   "execution_count": 1,
   "id": "95b02351-036f-45d0-aa78-c56ee15f6007",
   "metadata": {},
   "outputs": [],
   "source": [
    "L = [1, 2, 3, 4]"
   ]
  },
  {
   "cell_type": "code",
   "execution_count": 2,
   "id": "27e46fd1-92ed-4e00-b0eb-2ba6f15cb2d2",
   "metadata": {},
   "outputs": [
    {
     "data": {
      "text/plain": [
       "[1, 2, 3, 4]"
      ]
     },
     "execution_count": 2,
     "metadata": {},
     "output_type": "execute_result"
    }
   ],
   "source": [
    "L"
   ]
  },
  {
   "cell_type": "code",
   "execution_count": 3,
   "id": "28876274-aa53-42ae-8fd6-cdd8d47672d2",
   "metadata": {},
   "outputs": [
    {
     "ename": "AttributeError",
     "evalue": "'list' object has no attribute 'upper'",
     "output_type": "error",
     "traceback": [
      "\u001b[1;31m---------------------------------------------------------------------------\u001b[0m",
      "\u001b[1;31mAttributeError\u001b[0m                            Traceback (most recent call last)",
      "Cell \u001b[1;32mIn[3], line 1\u001b[0m\n\u001b[1;32m----> 1\u001b[0m L\u001b[38;5;241m.\u001b[39mupper()\n",
      "\u001b[1;31mAttributeError\u001b[0m: 'list' object has no attribute 'upper'"
     ]
    }
   ],
   "source": [
    "L.upper()"
   ]
  },
  {
   "cell_type": "code",
   "execution_count": null,
   "id": "b33b8496-d4d8-416c-a2d8-89964c666fcb",
   "metadata": {},
   "outputs": [],
   "source": [
    "city = 'Kolkata'"
   ]
  },
  {
   "cell_type": "code",
   "execution_count": null,
   "id": "761bf0ba-2d12-4752-ae54-2d46615d9b92",
   "metadata": {},
   "outputs": [],
   "source": [
    "city.append('a')"
   ]
  },
  {
   "cell_type": "code",
   "execution_count": 4,
   "id": "45021ad1-d2a3-405a-8a78-009e31dc9574",
   "metadata": {},
   "outputs": [],
   "source": [
    "a = 3"
   ]
  },
  {
   "cell_type": "code",
   "execution_count": 5,
   "id": "513b9ff6-1be3-4321-b89b-2d16b6c98202",
   "metadata": {},
   "outputs": [
    {
     "ename": "AttributeError",
     "evalue": "'int' object has no attribute 'upper'",
     "output_type": "error",
     "traceback": [
      "\u001b[1;31m---------------------------------------------------------------------------\u001b[0m",
      "\u001b[1;31mAttributeError\u001b[0m                            Traceback (most recent call last)",
      "Cell \u001b[1;32mIn[5], line 1\u001b[0m\n\u001b[1;32m----> 1\u001b[0m a\u001b[38;5;241m.\u001b[39mupper()\n",
      "\u001b[1;31mAttributeError\u001b[0m: 'int' object has no attribute 'upper'"
     ]
    }
   ],
   "source": [
    "a.upper()"
   ]
  },
  {
   "cell_type": "markdown",
   "id": "5d3b6c2d-d287-495f-8cbd-da60f8ee2787",
   "metadata": {},
   "source": [
    "### \"Everything in Python is an Object\"\n",
    "### But, What is an Object?  \n",
    "### What is OOP?  \n",
    "### The PROBLEM!  \n",
    "### Generality to Specificity  \n",
    "\n",
    "**The Core Fundamental Feature of OOP:**  \n",
    "*One of the core fundamental features of OOP is the ability to create **Custom Data Types** tailored to specific needs (e.g., LinkedIn platform).*  \n",
    "\n",
    "**Without OOP:**  \n",
    "- **Reliance on primitive data types:** `int`, `list`, `tuple`  \n",
    "- **Less optimal** Not tailored, harder to manage  \n",
    "\n",
    "**With OOP:**  \n",
    "- **Custom Types:** Efficient, intuitive, scalable  \n",
    "- **Encapsulation:** Better feature management  \n",
    "- **Manageable Codebase**  \n",
    "\n",
    "### So, What is Object Oriented Programming?  \n",
    "***Key Concepts of OOP:***  \n",
    "- **Object**  \n",
    "- **Class**  \n",
    "- **Polymorphism**  \n",
    "- **Encapsulation**  \n",
    "- **Inheritance**  \n",
    "- **Abstraction**  \n"
   ]
  },
  {
   "cell_type": "markdown",
   "id": "0f01ed70-b4e0-403f-a8f1-f99e274f9395",
   "metadata": {},
   "source": [
    "## CLASS\n",
    "- Blueprint for objects\n",
    "- Defines object behavior\n",
    "  \n",
    "*(from now onwards variable == object)*"
   ]
  },
  {
   "cell_type": "code",
   "execution_count": 6,
   "id": "4ab7b166-a3b2-4eea-abf6-268a679204bc",
   "metadata": {},
   "outputs": [],
   "source": [
    "a = 2"
   ]
  },
  {
   "cell_type": "code",
   "execution_count": 7,
   "id": "8fcd493d-7642-4878-b145-0f34a81eb78a",
   "metadata": {},
   "outputs": [
    {
     "data": {
      "text/plain": [
       "int"
      ]
     },
     "execution_count": 7,
     "metadata": {},
     "output_type": "execute_result"
    }
   ],
   "source": [
    "type(a)"
   ]
  },
  {
   "cell_type": "code",
   "execution_count": 8,
   "id": "710bd155-8e60-4f6e-bc5f-7342f91ac2f5",
   "metadata": {},
   "outputs": [
    {
     "data": {
      "text/plain": [
       "[1, 2, 3, 4]"
      ]
     },
     "execution_count": 8,
     "metadata": {},
     "output_type": "execute_result"
    }
   ],
   "source": [
    "L"
   ]
  },
  {
   "cell_type": "markdown",
   "id": "72c5f710-a73f-4e02-925e-083b6e78d7ec",
   "metadata": {},
   "source": [
    "In Python,\n",
    "\n",
    "Datatype = Class\n",
    "\n",
    "Variable = Object of Class"
   ]
  },
  {
   "cell_type": "markdown",
   "id": "0236fbee-763a-41cd-8783-7465b240d68f",
   "metadata": {},
   "source": [
    "**Class:**\n",
    "\n",
    "1. **Attributes:** Data/Properties<br>\n",
    "2. **Methods:** Functions/Behavior"
   ]
  },
  {
   "cell_type": "markdown",
   "id": "572b76a5-d16d-4714-a2a8-8bde775f321c",
   "metadata": {},
   "source": [
    "### Class Basic Structure"
   ]
  },
  {
   "cell_type": "code",
   "execution_count": null,
   "id": "719df3b9-9310-4a48-a7a5-451021812173",
   "metadata": {},
   "outputs": [],
   "source": [
    "class Car:\n",
    "    color = \"blue\"   # data\n",
    "    model = \"sports\" # data\n",
    "    def calculate_avg_speed(km, time): # method\n",
    "        # some code"
   ]
  },
  {
   "cell_type": "code",
   "execution_count": null,
   "id": "5f6c08e1-82b9-4069-8a95-8db05fa31c2f",
   "metadata": {},
   "outputs": [],
   "source": [
    "# Naming Conventions:\n",
    "\n",
    "Class names    ---> PascalCase\n",
    "\n",
    "Data/functions ---> snake_case\n",
    "\n",
    "# Examples:\n",
    "\n",
    "PascalCase     ---> ThisIsPascalCase\n",
    "\n",
    "CamelCase      ---> thisIsCamelCase\n",
    "\n",
    "snake_case     ---> snake_case"
   ]
  },
  {
   "cell_type": "code",
   "execution_count": null,
   "id": "ba878bcd-3b8b-472c-9061-bd1b19210a76",
   "metadata": {},
   "outputs": [],
   "source": [
    "Class Representation:\n",
    "\n",
    "+-------------------------+ \n",
    "|          - Car          |\n",
    "|-------------------------| \n",
    "|         - Color         | \n",
    "|        - mileage        | # attributes/data (private)\n",
    "|         - engine        |\n",
    "|-------------------------|\n",
    "|     + cal_avg_speed     | \n",
    "|     + open_airbags      | # methods/functions (public)\n",
    "|       + show_gps        |\n",
    "+-------------------------+"
   ]
  },
  {
   "cell_type": "markdown",
   "id": "a47ce8d4-4650-4450-ab59-dee5a5bb1483",
   "metadata": {},
   "source": [
    "## OBJECT\n",
    "**Object** is an instance of a **Class**\n",
    "\n",
    "**Class** is the data type; **Object** is a variable of a **Class**"
   ]
  },
  {
   "cell_type": "code",
   "execution_count": null,
   "id": "12361ca6-87fa-4c24-a9a5-b15742bd47f9",
   "metadata": {},
   "outputs": [],
   "source": [
    "# Object Examples:\n",
    "\n",
    "1. Car     ---> WagonR      | wagonr     = Car()\n",
    "2. Sports  ---> Gilli Danda | gillidanda = Sports()\n",
    "3. Animals ---> Langoor     | langoor    = Animals()"
   ]
  },
  {
   "cell_type": "code",
   "execution_count": 13,
   "id": "93a4a53d-85e0-4d38-8e7f-f50b1b336c98",
   "metadata": {},
   "outputs": [],
   "source": [
    "L = [1, 2, 3] # Obj Literal ---> Built-in classes"
   ]
  },
  {
   "cell_type": "code",
   "execution_count": 15,
   "id": "aed07ea7-b779-4043-b14e-1ca5cdd5e8f4",
   "metadata": {},
   "outputs": [
    {
     "data": {
      "text/plain": [
       "[1, 2, 3, 4]"
      ]
     },
     "execution_count": 15,
     "metadata": {},
     "output_type": "execute_result"
    }
   ],
   "source": [
    "L"
   ]
  },
  {
   "cell_type": "code",
   "execution_count": 16,
   "id": "b0ac872a-282a-43a3-9d22-25d4870952f8",
   "metadata": {},
   "outputs": [],
   "source": [
    "L = list()"
   ]
  },
  {
   "cell_type": "code",
   "execution_count": 17,
   "id": "b6d5db76-8cac-4c49-92a0-7547a0bc37ab",
   "metadata": {},
   "outputs": [
    {
     "data": {
      "text/plain": [
       "[]"
      ]
     },
     "execution_count": 17,
     "metadata": {},
     "output_type": "execute_result"
    }
   ],
   "source": [
    "L"
   ]
  },
  {
   "cell_type": "code",
   "execution_count": 18,
   "id": "58f2b337-edbf-4865-95d3-ea21a8b00d82",
   "metadata": {},
   "outputs": [],
   "source": [
    "city = str()"
   ]
  },
  {
   "cell_type": "code",
   "execution_count": 19,
   "id": "8d1d7f4f-e7ce-4720-aada-8d384b70fbb4",
   "metadata": {},
   "outputs": [
    {
     "data": {
      "text/plain": [
       "''"
      ]
     },
     "execution_count": 19,
     "metadata": {},
     "output_type": "execute_result"
    }
   ],
   "source": [
    "city"
   ]
  },
  {
   "cell_type": "markdown",
   "id": "d17d4e1e-2c21-4513-bed9-d1430161b50d",
   "metadata": {},
   "source": [
    "### Practical Implementation of Class and Object"
   ]
  },
  {
   "cell_type": "markdown",
   "id": "a0be5bbd-90a6-4edb-af58-74206e1b792d",
   "metadata": {},
   "source": [
    "### Lets Create a Class"
   ]
  },
  {
   "cell_type": "markdown",
   "id": "94a458ee-5555-4ffe-a3f6-884bf59bd265",
   "metadata": {},
   "source": [
    "Functions Vs Methods:\n",
    "\n",
    "Methods   ---> Defined inside a class.\n",
    "          ---> Accessed via object of the class.\n",
    "\n",
    "Functions ---> Not inside a class.\n",
    "          ---> General, accessible everywhere."
   ]
  },
  {
   "cell_type": "markdown",
   "id": "a895d044-8327-41a9-a409-396d0b8bcdfb",
   "metadata": {},
   "source": [
    "len(L) ---> Function\n",
    "            General-purpose, applicable to types like `str`, `int`."
   ]
  },
  {
   "cell_type": "code",
   "execution_count": null,
   "id": "52955009-7056-4262-be85-5ed6549410f2",
   "metadata": {},
   "outputs": [],
   "source": [
    "L.append(1) ---> Method\n",
    "                 Defined in `list` class; usable only with `list` objects."
   ]
  },
  {
   "cell_type": "code",
   "execution_count": 20,
   "id": "b406d45d-d4bc-4c08-8f5a-8ce36dd19143",
   "metadata": {},
   "outputs": [
    {
     "data": {
      "text/plain": [
       "[]"
      ]
     },
     "execution_count": 20,
     "metadata": {},
     "output_type": "execute_result"
    }
   ],
   "source": [
    "L"
   ]
  },
  {
   "cell_type": "markdown",
   "id": "48225fa2-a9f7-41f2-abb0-e490838dc1db",
   "metadata": {},
   "source": [
    "Functions Inside Class will be called Methods."
   ]
  },
  {
   "cell_type": "code",
   "execution_count": 16,
   "id": "3d546ae9-da6f-478a-92e5-1c3ada7f47c0",
   "metadata": {},
   "outputs": [],
   "source": [
    "class Atm:\n",
    "    __counter = 1 # static/class var\n",
    "    \n",
    "    def __init__(self): # `__init__` ---> Constructor\n",
    "                        # Special method inside a class.\n",
    "                        # Initializes instance members.\n",
    "                        # Executes automatically on object creation.\n",
    "\n",
    "        self.__pin = \"\"\n",
    "        self.__balance = 0\n",
    "        \n",
    "        self.sno = Atm.__counter # instance var\n",
    "        Atm.__counter = Atm.__counter + 1\n",
    "        print(id(self))\n",
    "        self.__menu()\n",
    "    \n",
    "    @staticmethod\n",
    "    def get_counter():\n",
    "        return Atm.__counter\n",
    "    \n",
    "    @staticmethod\n",
    "    def set_counter(new):\n",
    "        if type(new) == int:\n",
    "            Atm.__counter = new\n",
    "        else:\n",
    "            print('Not Allowed')\n",
    "    \n",
    "    def get_pin(self):\n",
    "        return self.__pin\n",
    "    \n",
    "    def set_pin(self, new_pin):\n",
    "        if type(new_pin) == str:\n",
    "            self.__pin = new_pin\n",
    "            print(\"Pin changed\")\n",
    "        else:\n",
    "            print(\"Not allowed\")\n",
    "        \n",
    "    def __menu(self):\n",
    "        user_input = input(\"\"\"\n",
    "                    Hello, how would you like to proceed?\n",
    "                    1. Enter 1 to create pin\n",
    "                    2. Enter 2 to deposit\n",
    "                    3. Enter 3 to withdraw\n",
    "                    4. Enter 4 to check balance\n",
    "                    5. Enter 5 to exit\n",
    "        \"\"\")\n",
    "        if user_input == \"1\":\n",
    "            self.create_pin()\n",
    "        elif user_input == \"2\":\n",
    "            self.deposit()\n",
    "        elif user_input == \"3\":\n",
    "            self.withdraw()\n",
    "        elif user_input == \"4\":\n",
    "            self.check_balance()\n",
    "        else:\n",
    "            print(\"bye\")\n",
    "            \n",
    "    def create_pin(self):\n",
    "        self.__pin = input(\"Enter your pin: \")\n",
    "        print(\"Pin set successfully\")\n",
    "        \n",
    "    def deposit(self):\n",
    "        temp = input(\"Enter your pin: \")\n",
    "        if temp == self.__pin:\n",
    "            amount = int(input(\"Enter the amount: \"))\n",
    "            self.__balance = self.__balance + amount\n",
    "            print(\"Deposit successful\")\n",
    "        else:\n",
    "            print(\"Invalid pin\")\n",
    "    \n",
    "    def withdraw(self):\n",
    "        temp = input(\"Enter your pin: \")\n",
    "        if temp == self.__pin:\n",
    "            amount = int(input(\"Enter the amount: \"))\n",
    "            if amount <= self.__balance:\n",
    "                self.__balance = self.__balance - amount\n",
    "                print(\"Operation successful\")\n",
    "            else:\n",
    "                print(\"insufficient funds\")\n",
    "        else:\n",
    "            print(\"invalid pin\")\n",
    "    \n",
    "    def check_balance(self):\n",
    "        temp = input(\"Enter your pin: \")\n",
    "        if temp == self.__pin:\n",
    "            print(self.__balance)\n",
    "        else:\n",
    "            print(\"invalid pin\")"
   ]
  },
  {
   "cell_type": "code",
   "execution_count": 17,
   "id": "16d933ad-6ef3-450d-941e-dfb137ee1d8a",
   "metadata": {},
   "outputs": [
    {
     "name": "stdout",
     "output_type": "stream",
     "text": [
      "2236279810976\n"
     ]
    },
    {
     "name": "stdin",
     "output_type": "stream",
     "text": [
      "\n",
      "                    Hello, how would you like to proceed?\n",
      "                    1. Enter 1 to create pin\n",
      "                    2. Enter 2 to deposit\n",
      "                    3. Enter 3 to withdraw\n",
      "                    4. Enter 4 to check balance\n",
      "                    5. Enter 5 to exit\n",
      "         1\n",
      "Enter your pin:  12345\n"
     ]
    },
    {
     "name": "stdout",
     "output_type": "stream",
     "text": [
      "Pin set successfully\n"
     ]
    }
   ],
   "source": [
    "sbi = Atm()"
   ]
  },
  {
   "cell_type": "code",
   "execution_count": 18,
   "id": "984ad76b-23e5-45f2-9b01-46d716120ceb",
   "metadata": {},
   "outputs": [
    {
     "name": "stdin",
     "output_type": "stream",
     "text": [
      "Enter your pin:  12345\n",
      "Enter the amount:  50000\n"
     ]
    },
    {
     "name": "stdout",
     "output_type": "stream",
     "text": [
      "Deposit successful\n"
     ]
    }
   ],
   "source": [
    "sbi.deposit()"
   ]
  },
  {
   "cell_type": "code",
   "execution_count": 19,
   "id": "aae9d8dc-3d37-462e-a14b-17fb8691e637",
   "metadata": {},
   "outputs": [
    {
     "name": "stdin",
     "output_type": "stream",
     "text": [
      "Enter your pin:  12345\n"
     ]
    },
    {
     "name": "stdout",
     "output_type": "stream",
     "text": [
      "50000\n"
     ]
    }
   ],
   "source": [
    "sbi.check_balance()"
   ]
  },
  {
   "cell_type": "code",
   "execution_count": 20,
   "id": "e48fee0c-c3c9-4c8b-b843-002a549afdfa",
   "metadata": {},
   "outputs": [
    {
     "name": "stdin",
     "output_type": "stream",
     "text": [
      "Enter your pin:  12345\n",
      "Enter the amount:  10000\n"
     ]
    },
    {
     "name": "stdout",
     "output_type": "stream",
     "text": [
      "Operation successful\n"
     ]
    }
   ],
   "source": [
    "sbi.withdraw()"
   ]
  },
  {
   "cell_type": "code",
   "execution_count": 21,
   "id": "9a1fee29-2c39-49d2-9691-cf2ada23648c",
   "metadata": {},
   "outputs": [
    {
     "name": "stdin",
     "output_type": "stream",
     "text": [
      "Enter your pin:  12345\n"
     ]
    },
    {
     "name": "stdout",
     "output_type": "stream",
     "text": [
      "40000\n"
     ]
    }
   ],
   "source": [
    "sbi.check_balance()"
   ]
  },
  {
   "cell_type": "code",
   "execution_count": 22,
   "id": "5afe7b0d-01a0-4e97-b131-526fd71d94f7",
   "metadata": {},
   "outputs": [
    {
     "name": "stdout",
     "output_type": "stream",
     "text": [
      "2236293770256\n"
     ]
    },
    {
     "name": "stdin",
     "output_type": "stream",
     "text": [
      "\n",
      "                    Hello, how would you like to proceed?\n",
      "                    1. Enter 1 to create pin\n",
      "                    2. Enter 2 to deposit\n",
      "                    3. Enter 3 to withdraw\n",
      "                    4. Enter 4 to check balance\n",
      "                    5. Enter 5 to exit\n",
      "         1\n",
      "Enter your pin:  3214\n"
     ]
    },
    {
     "name": "stdout",
     "output_type": "stream",
     "text": [
      "Pin set successfully\n"
     ]
    }
   ],
   "source": [
    "hdfc = Atm()"
   ]
  },
  {
   "cell_type": "code",
   "execution_count": 23,
   "id": "d0dbbd58-6f70-4d19-8f22-fd98e502c5fa",
   "metadata": {},
   "outputs": [
    {
     "name": "stdin",
     "output_type": "stream",
     "text": [
      "Enter your pin:  3214\n",
      "Enter the amount:  100000\n"
     ]
    },
    {
     "name": "stdout",
     "output_type": "stream",
     "text": [
      "Deposit successful\n"
     ]
    }
   ],
   "source": [
    "hdfc.deposit()"
   ]
  },
  {
   "cell_type": "code",
   "execution_count": 24,
   "id": "c1281060-e2f7-4516-9536-565f0a07bdeb",
   "metadata": {},
   "outputs": [
    {
     "name": "stdin",
     "output_type": "stream",
     "text": [
      "Enter your pin:  12345\n"
     ]
    },
    {
     "name": "stdout",
     "output_type": "stream",
     "text": [
      "40000\n"
     ]
    }
   ],
   "source": [
    "sbi.check_balance()"
   ]
  },
  {
   "cell_type": "code",
   "execution_count": 25,
   "id": "c01697f2-ff6a-449c-83a9-0590a02ae92b",
   "metadata": {},
   "outputs": [
    {
     "name": "stdin",
     "output_type": "stream",
     "text": [
      "Enter your pin:  3214\n"
     ]
    },
    {
     "name": "stdout",
     "output_type": "stream",
     "text": [
      "100000\n"
     ]
    }
   ],
   "source": [
    "hdfc.check_balance()"
   ]
  },
  {
   "cell_type": "code",
   "execution_count": 6,
   "id": "f97f17bf-34fc-469f-a45c-ec9f7f5c1309",
   "metadata": {},
   "outputs": [],
   "source": [
    "# Constructor ---> Special/Magic/Dunder Methods"
   ]
  },
  {
   "cell_type": "code",
   "execution_count": 7,
   "id": "d82ccb5d-d8eb-43ee-8a47-ed152eba13b0",
   "metadata": {},
   "outputs": [
    {
     "data": {
      "text/plain": [
       "['__abs__',\n",
       " '__add__',\n",
       " '__and__',\n",
       " '__bool__',\n",
       " '__ceil__',\n",
       " '__class__',\n",
       " '__delattr__',\n",
       " '__dir__',\n",
       " '__divmod__',\n",
       " '__doc__',\n",
       " '__eq__',\n",
       " '__float__',\n",
       " '__floor__',\n",
       " '__floordiv__',\n",
       " '__format__',\n",
       " '__ge__',\n",
       " '__getattribute__',\n",
       " '__getnewargs__',\n",
       " '__getstate__',\n",
       " '__gt__',\n",
       " '__hash__',\n",
       " '__index__',\n",
       " '__init__',\n",
       " '__init_subclass__',\n",
       " '__int__',\n",
       " '__invert__',\n",
       " '__le__',\n",
       " '__lshift__',\n",
       " '__lt__',\n",
       " '__mod__',\n",
       " '__mul__',\n",
       " '__ne__',\n",
       " '__neg__',\n",
       " '__new__',\n",
       " '__or__',\n",
       " '__pos__',\n",
       " '__pow__',\n",
       " '__radd__',\n",
       " '__rand__',\n",
       " '__rdivmod__',\n",
       " '__reduce__',\n",
       " '__reduce_ex__',\n",
       " '__repr__',\n",
       " '__rfloordiv__',\n",
       " '__rlshift__',\n",
       " '__rmod__',\n",
       " '__rmul__',\n",
       " '__ror__',\n",
       " '__round__',\n",
       " '__rpow__',\n",
       " '__rrshift__',\n",
       " '__rshift__',\n",
       " '__rsub__',\n",
       " '__rtruediv__',\n",
       " '__rxor__',\n",
       " '__setattr__',\n",
       " '__sizeof__',\n",
       " '__str__',\n",
       " '__sub__',\n",
       " '__subclasshook__',\n",
       " '__truediv__',\n",
       " '__trunc__',\n",
       " '__xor__',\n",
       " 'as_integer_ratio',\n",
       " 'bit_count',\n",
       " 'bit_length',\n",
       " 'conjugate',\n",
       " 'denominator',\n",
       " 'from_bytes',\n",
       " 'imag',\n",
       " 'is_integer',\n",
       " 'numerator',\n",
       " 'real',\n",
       " 'to_bytes']"
      ]
     },
     "execution_count": 7,
     "metadata": {},
     "output_type": "execute_result"
    }
   ],
   "source": [
    "dir(int)"
   ]
  },
  {
   "cell_type": "code",
   "execution_count": null,
   "id": "60ab9e6c-9ab8-41d8-9865-4f31fbafb13d",
   "metadata": {},
   "outputs": [],
   "source": []
  }
 ],
 "metadata": {
  "kernelspec": {
   "display_name": "Python 3 (ipykernel)",
   "language": "python",
   "name": "python3"
  },
  "language_info": {
   "codemirror_mode": {
    "name": "ipython",
    "version": 3
   },
   "file_extension": ".py",
   "mimetype": "text/x-python",
   "name": "python",
   "nbconvert_exporter": "python",
   "pygments_lexer": "ipython3",
   "version": "3.13.5"
  }
 },
 "nbformat": 4,
 "nbformat_minor": 5
}
