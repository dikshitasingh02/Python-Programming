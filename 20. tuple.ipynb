{
 "cells": [
  {
   "cell_type": "markdown",
   "id": "0dc6d189-939a-459e-856b-1ca94042a2b7",
   "metadata": {},
   "source": [
    "# Tuples\n",
    "Immutable list-like collection.\n",
    "## Characteristics:\n",
    "- Ordered elements.\n",
    "- Unmodifiable post-creation.\n",
    "- Allows duplicates.\n",
    "1. Create\n",
    "2. Access\n",
    "3. Edit\n",
    "4. Add\n",
    "5. Delete\n",
    "6. Operations\n",
    "7. Functions"
   ]
  },
  {
   "cell_type": "markdown",
   "id": "7c30b4af-a97a-42a2-a24e-df692d8e52a3",
   "metadata": {},
   "source": [
    "### 1. Create"
   ]
  },
  {
   "cell_type": "code",
   "execution_count": 1,
   "id": "a15e7736-8fcb-4e08-a822-f1f47f7b1bc0",
   "metadata": {},
   "outputs": [
    {
     "data": {
      "text/plain": [
       "()"
      ]
     },
     "execution_count": 1,
     "metadata": {},
     "output_type": "execute_result"
    }
   ],
   "source": [
    "# empty\n",
    "T1 = ()\n",
    "T1"
   ]
  },
  {
   "cell_type": "code",
   "execution_count": 2,
   "id": "0d997f29-d7a2-430e-8089-90222a161d4d",
   "metadata": {},
   "outputs": [
    {
     "data": {
      "text/plain": [
       "(1, 2, 3, 4, 5)"
      ]
     },
     "execution_count": 2,
     "metadata": {},
     "output_type": "execute_result"
    }
   ],
   "source": [
    "# homo\n",
    "T2 = (1, 2, 3, 4, 5)\n",
    "T2"
   ]
  },
  {
   "cell_type": "code",
   "execution_count": 3,
   "id": "e4d777d1-5929-43d1-a6f0-c8dec3b44bd0",
   "metadata": {},
   "outputs": [
    {
     "data": {
      "text/plain": [
       "('Hello', 4, 5, 6)"
      ]
     },
     "execution_count": 3,
     "metadata": {},
     "output_type": "execute_result"
    }
   ],
   "source": [
    "# hetro\n",
    "T3 = (\"Hello\", 4, 5, 6)\n",
    "T3"
   ]
  },
  {
   "cell_type": "code",
   "execution_count": 4,
   "id": "150d4781-0efb-4754-99fa-c3234c9e0c85",
   "metadata": {},
   "outputs": [
    {
     "data": {
      "text/plain": [
       "(1, 2, 3, (4, 5))"
      ]
     },
     "execution_count": 4,
     "metadata": {},
     "output_type": "execute_result"
    }
   ],
   "source": [
    "# tuple\n",
    "T4 = (1, 2, 3, (4, 5))\n",
    "T4"
   ]
  },
  {
   "cell_type": "code",
   "execution_count": 5,
   "id": "8ccba608-e184-4ccc-be8a-cf12bee40429",
   "metadata": {},
   "outputs": [
    {
     "data": {
      "text/plain": [
       "1"
      ]
     },
     "execution_count": 5,
     "metadata": {},
     "output_type": "execute_result"
    }
   ],
   "source": [
    "T5 = (1)\n",
    "T5"
   ]
  },
  {
   "cell_type": "code",
   "execution_count": 6,
   "id": "5207f40f-1db1-4b08-af80-23c6f3493c26",
   "metadata": {},
   "outputs": [
    {
     "data": {
      "text/plain": [
       "int"
      ]
     },
     "execution_count": 6,
     "metadata": {},
     "output_type": "execute_result"
    }
   ],
   "source": [
    "type(T5)"
   ]
  },
  {
   "cell_type": "code",
   "execution_count": 7,
   "id": "d66aa163-d0bc-4553-b669-c6b086b28081",
   "metadata": {},
   "outputs": [
    {
     "data": {
      "text/plain": [
       "str"
      ]
     },
     "execution_count": 7,
     "metadata": {},
     "output_type": "execute_result"
    }
   ],
   "source": [
    "# Type Conversion\n",
    "T5 = (\"Hello\")\n",
    "type(T5)"
   ]
  },
  {
   "cell_type": "code",
   "execution_count": 8,
   "id": "3a38e021-65d4-466e-a222-703cb0b4f5b9",
   "metadata": {},
   "outputs": [
    {
     "data": {
      "text/plain": [
       "tuple"
      ]
     },
     "execution_count": 8,
     "metadata": {},
     "output_type": "execute_result"
    }
   ],
   "source": [
    "# Single-item tuple creation\n",
    "T5 = (\"Hello\",)\n",
    "type(T5)"
   ]
  },
  {
   "cell_type": "code",
   "execution_count": 9,
   "id": "85f9cfae-9cf0-4755-a378-480dca562090",
   "metadata": {},
   "outputs": [
    {
     "data": {
      "text/plain": [
       "('G', 'o', 'a')"
      ]
     },
     "execution_count": 9,
     "metadata": {},
     "output_type": "execute_result"
    }
   ],
   "source": [
    "T6 = tuple(\"Goa\")\n",
    "T6"
   ]
  },
  {
   "cell_type": "code",
   "execution_count": 10,
   "id": "fac1a252-0224-4dc3-a306-bdfd6cf3855b",
   "metadata": {},
   "outputs": [
    {
     "data": {
      "text/plain": [
       "(1, 2, 3, 4)"
      ]
     },
     "execution_count": 10,
     "metadata": {},
     "output_type": "execute_result"
    }
   ],
   "source": [
    "T6 = tuple([1, 2, 3, 4])\n",
    "T6"
   ]
  },
  {
   "cell_type": "markdown",
   "id": "9b68efc5-3576-4ed7-9ada-f1da3ed8adab",
   "metadata": {},
   "source": [
    "### 2. Access\n",
    "- Indexing\n",
    "- Slicing"
   ]
  },
  {
   "cell_type": "code",
   "execution_count": 11,
   "id": "5fcf41ac-7b3b-4ef1-ac36-3d331a0a2d0e",
   "metadata": {},
   "outputs": [
    {
     "data": {
      "text/plain": [
       "(1, 2, 3, 4, 5)"
      ]
     },
     "execution_count": 11,
     "metadata": {},
     "output_type": "execute_result"
    }
   ],
   "source": [
    "T2"
   ]
  },
  {
   "cell_type": "code",
   "execution_count": 12,
   "id": "f878d562-1d59-4f6d-9657-551e0a26fb51",
   "metadata": {},
   "outputs": [
    {
     "data": {
      "text/plain": [
       "1"
      ]
     },
     "execution_count": 12,
     "metadata": {},
     "output_type": "execute_result"
    }
   ],
   "source": [
    "T2[0]"
   ]
  },
  {
   "cell_type": "code",
   "execution_count": 13,
   "id": "b16372da-8309-40c9-a855-faa8ba34cee7",
   "metadata": {},
   "outputs": [
    {
     "data": {
      "text/plain": [
       "5"
      ]
     },
     "execution_count": 13,
     "metadata": {},
     "output_type": "execute_result"
    }
   ],
   "source": [
    "T2[-1]"
   ]
  },
  {
   "cell_type": "code",
   "execution_count": 14,
   "id": "ba6b14f9-e4eb-49d0-b4e3-95d3893ab7f9",
   "metadata": {},
   "outputs": [
    {
     "data": {
      "text/plain": [
       "(1, 2, 3, 4)"
      ]
     },
     "execution_count": 14,
     "metadata": {},
     "output_type": "execute_result"
    }
   ],
   "source": [
    "T2[:4]"
   ]
  },
  {
   "cell_type": "code",
   "execution_count": 15,
   "id": "b9dbdc28-d61b-4de0-8ae1-484b1f91c0b8",
   "metadata": {},
   "outputs": [
    {
     "data": {
      "text/plain": [
       "(1, 2, 3, (4, 5))"
      ]
     },
     "execution_count": 15,
     "metadata": {},
     "output_type": "execute_result"
    }
   ],
   "source": [
    "T4"
   ]
  },
  {
   "cell_type": "code",
   "execution_count": 16,
   "id": "0a0cca0f-a282-4730-8cb9-f57e5e87b05b",
   "metadata": {},
   "outputs": [
    {
     "data": {
      "text/plain": [
       "4"
      ]
     },
     "execution_count": 16,
     "metadata": {},
     "output_type": "execute_result"
    }
   ],
   "source": [
    "T4[-1][0]"
   ]
  },
  {
   "cell_type": "markdown",
   "id": "3bf0349e-509b-4d01-84e8-c192a4fed7dd",
   "metadata": {},
   "source": [
    "### 3. Edit"
   ]
  },
  {
   "cell_type": "code",
   "execution_count": 17,
   "id": "cb5182bc-8dd9-4d3a-ae33-7e33bba5219c",
   "metadata": {},
   "outputs": [],
   "source": [
    "L = [1, 2, 3, 4, 5]"
   ]
  },
  {
   "cell_type": "code",
   "execution_count": 18,
   "id": "08b00fbd-a59a-4917-af4e-7ca4b2a96d40",
   "metadata": {},
   "outputs": [
    {
     "data": {
      "text/plain": [
       "[100, 2, 3, 4, 5]"
      ]
     },
     "execution_count": 18,
     "metadata": {},
     "output_type": "execute_result"
    }
   ],
   "source": [
    "L[0] = 100\n",
    "L"
   ]
  },
  {
   "cell_type": "code",
   "execution_count": 19,
   "id": "0493a956-54a4-42fa-9b57-9f6d823c7556",
   "metadata": {},
   "outputs": [
    {
     "data": {
      "text/plain": [
       "(1, 2, 3, 4, 5)"
      ]
     },
     "execution_count": 19,
     "metadata": {},
     "output_type": "execute_result"
    }
   ],
   "source": [
    "T2"
   ]
  },
  {
   "cell_type": "code",
   "execution_count": 20,
   "id": "f5d8cabc-c7e9-43ec-81af-9d9ec22bb1c5",
   "metadata": {},
   "outputs": [
    {
     "ename": "TypeError",
     "evalue": "'tuple' object does not support item assignment",
     "output_type": "error",
     "traceback": [
      "\u001b[1;31m---------------------------------------------------------------------------\u001b[0m",
      "\u001b[1;31mTypeError\u001b[0m                                 Traceback (most recent call last)",
      "Cell \u001b[1;32mIn[20], line 1\u001b[0m\n\u001b[1;32m----> 1\u001b[0m T2[\u001b[38;5;241m0\u001b[39m] \u001b[38;5;241m=\u001b[39m \u001b[38;5;241m100\u001b[39m\n",
      "\u001b[1;31mTypeError\u001b[0m: 'tuple' object does not support item assignment"
     ]
    }
   ],
   "source": [
    "T2[0] = 100\n",
    "# Immutable, like strings"
   ]
  },
  {
   "cell_type": "code",
   "execution_count": null,
   "id": "abbcc8f2-8fcc-47d4-ae1a-a384db0772e3",
   "metadata": {},
   "outputs": [],
   "source": [
    "# Tuples = immutable (like strings)"
   ]
  },
  {
   "cell_type": "markdown",
   "id": "6c7f2b64-92e7-4b62-99cf-e5cb6ff66fec",
   "metadata": {},
   "source": [
    "### 4. Add"
   ]
  },
  {
   "cell_type": "code",
   "execution_count": null,
   "id": "f54a8e8d-ceec-45fc-966a-10cd86835540",
   "metadata": {},
   "outputs": [],
   "source": [
    "# not possible\n",
    "# Tuples: immutable"
   ]
  },
  {
   "cell_type": "markdown",
   "id": "9fd5cc5c-bb0e-4fd1-bc1c-ee8792368756",
   "metadata": {},
   "source": [
    "### 5. Delete"
   ]
  },
  {
   "cell_type": "code",
   "execution_count": 21,
   "id": "d16d1d9f-57ac-45c1-ab0a-82e74f88c8b2",
   "metadata": {},
   "outputs": [
    {
     "data": {
      "text/plain": [
       "()"
      ]
     },
     "execution_count": 21,
     "metadata": {},
     "output_type": "execute_result"
    }
   ],
   "source": [
    "T1"
   ]
  },
  {
   "cell_type": "code",
   "execution_count": 22,
   "id": "022ec346-ff22-4054-8a5b-0bac8257db8d",
   "metadata": {},
   "outputs": [
    {
     "ename": "NameError",
     "evalue": "name 'T1' is not defined",
     "output_type": "error",
     "traceback": [
      "\u001b[1;31m---------------------------------------------------------------------------\u001b[0m",
      "\u001b[1;31mNameError\u001b[0m                                 Traceback (most recent call last)",
      "Cell \u001b[1;32mIn[22], line 2\u001b[0m\n\u001b[0;32m      1\u001b[0m \u001b[38;5;28;01mdel\u001b[39;00m T1\n\u001b[1;32m----> 2\u001b[0m T1\n",
      "\u001b[1;31mNameError\u001b[0m: name 'T1' is not defined"
     ]
    }
   ],
   "source": [
    "del T1\n",
    "T1"
   ]
  },
  {
   "cell_type": "code",
   "execution_count": 23,
   "id": "c079dfa9-6388-4a52-a0ff-8f0d702a3a51",
   "metadata": {},
   "outputs": [
    {
     "data": {
      "text/plain": [
       "('Hello', 4, 5, 6)"
      ]
     },
     "execution_count": 23,
     "metadata": {},
     "output_type": "execute_result"
    }
   ],
   "source": [
    "T3"
   ]
  },
  {
   "cell_type": "code",
   "execution_count": 24,
   "id": "7c1604c3-6dcd-4097-b48b-31946ec09943",
   "metadata": {},
   "outputs": [
    {
     "data": {
      "text/plain": [
       "(1, 2, 3, 4, 5)"
      ]
     },
     "execution_count": 24,
     "metadata": {},
     "output_type": "execute_result"
    }
   ],
   "source": [
    "T2"
   ]
  },
  {
   "cell_type": "code",
   "execution_count": 25,
   "id": "e05c1623-9cff-4f0e-9448-5462eb40eb7c",
   "metadata": {},
   "outputs": [
    {
     "ename": "SyntaxError",
     "evalue": "cannot delete function call (1610192391.py, line 1)",
     "output_type": "error",
     "traceback": [
      "\u001b[1;36m  Cell \u001b[1;32mIn[25], line 1\u001b[1;36m\u001b[0m\n\u001b[1;33m    del T2(-1)\u001b[0m\n\u001b[1;37m        ^\u001b[0m\n\u001b[1;31mSyntaxError\u001b[0m\u001b[1;31m:\u001b[0m cannot delete function call\n"
     ]
    }
   ],
   "source": [
    "del T2(-1)"
   ]
  },
  {
   "cell_type": "code",
   "execution_count": 26,
   "id": "fe61ac57-4f5b-4595-bb3b-2cfc9c5c1cae",
   "metadata": {},
   "outputs": [],
   "source": [
    "# Tuples are immutable"
   ]
  },
  {
   "cell_type": "markdown",
   "id": "1ba6664c-cb4a-413e-bf91-fa1f7b675f51",
   "metadata": {},
   "source": [
    "### 6. Operations"
   ]
  },
  {
   "cell_type": "code",
   "execution_count": 27,
   "id": "b9a7334d-1024-4e8e-9462-1ea80e091ea8",
   "metadata": {},
   "outputs": [
    {
     "data": {
      "text/plain": [
       "(1, 2, 3, 4, 5)"
      ]
     },
     "execution_count": 27,
     "metadata": {},
     "output_type": "execute_result"
    }
   ],
   "source": [
    "T2"
   ]
  },
  {
   "cell_type": "code",
   "execution_count": 28,
   "id": "97ae7ea1-b643-44fe-86f5-aaa1c78463af",
   "metadata": {},
   "outputs": [
    {
     "data": {
      "text/plain": [
       "('Hello', 4, 5, 6)"
      ]
     },
     "execution_count": 28,
     "metadata": {},
     "output_type": "execute_result"
    }
   ],
   "source": [
    "T3"
   ]
  },
  {
   "cell_type": "code",
   "execution_count": 29,
   "id": "42574dc2-21af-49fb-a8ca-51a61440a8df",
   "metadata": {},
   "outputs": [],
   "source": [
    "# + and *"
   ]
  },
  {
   "cell_type": "code",
   "execution_count": 30,
   "id": "fa9ee349-8a8d-4769-88f7-92d171d1393f",
   "metadata": {},
   "outputs": [
    {
     "data": {
      "text/plain": [
       "(1, 2, 3, 4, 5, 'Hello', 4, 5, 6)"
      ]
     },
     "execution_count": 30,
     "metadata": {},
     "output_type": "execute_result"
    }
   ],
   "source": [
    "T2 + T3"
   ]
  },
  {
   "cell_type": "code",
   "execution_count": 31,
   "id": "0a4810c8-eaf7-41f8-a6a7-163f97dbfafa",
   "metadata": {},
   "outputs": [
    {
     "data": {
      "text/plain": [
       "(1, 2, 3, 4, 5, 1, 2, 3, 4, 5, 1, 2, 3, 4, 5)"
      ]
     },
     "execution_count": 31,
     "metadata": {},
     "output_type": "execute_result"
    }
   ],
   "source": [
    "T2 * 3"
   ]
  },
  {
   "cell_type": "code",
   "execution_count": 32,
   "id": "8fdc4579-4602-4795-9710-6ab66bfcb80c",
   "metadata": {},
   "outputs": [
    {
     "name": "stdout",
     "output_type": "stream",
     "text": [
      "1\n",
      "2\n",
      "3\n",
      "4\n",
      "5\n"
     ]
    }
   ],
   "source": [
    "# iteration\n",
    "for i in T2:\n",
    "    print(i)"
   ]
  },
  {
   "cell_type": "code",
   "execution_count": 33,
   "id": "814cf7ce-821d-47be-8c34-92641996f7f5",
   "metadata": {},
   "outputs": [
    {
     "data": {
      "text/plain": [
       "True"
      ]
     },
     "execution_count": 33,
     "metadata": {},
     "output_type": "execute_result"
    }
   ],
   "source": [
    "# membership\n",
    "1 in T2"
   ]
  },
  {
   "cell_type": "markdown",
   "id": "df68485b-7aa3-44e3-8215-3a41cda13885",
   "metadata": {},
   "source": [
    "### 7. Functions"
   ]
  },
  {
   "cell_type": "code",
   "execution_count": 34,
   "id": "cb38adaf-6bc3-4ee9-9220-e78a963d38a2",
   "metadata": {},
   "outputs": [
    {
     "data": {
      "text/plain": [
       "5"
      ]
     },
     "execution_count": 34,
     "metadata": {},
     "output_type": "execute_result"
    }
   ],
   "source": [
    "len(T2)"
   ]
  },
  {
   "cell_type": "code",
   "execution_count": 35,
   "id": "d130aa48-d89c-4a9f-805c-834a34a84171",
   "metadata": {},
   "outputs": [
    {
     "data": {
      "text/plain": [
       "1"
      ]
     },
     "execution_count": 35,
     "metadata": {},
     "output_type": "execute_result"
    }
   ],
   "source": [
    "min(T2)"
   ]
  },
  {
   "cell_type": "code",
   "execution_count": 36,
   "id": "67df5b45-f65e-4b7f-abca-9ea7313c4cc4",
   "metadata": {},
   "outputs": [
    {
     "data": {
      "text/plain": [
       "5"
      ]
     },
     "execution_count": 36,
     "metadata": {},
     "output_type": "execute_result"
    }
   ],
   "source": [
    "max(T2)"
   ]
  },
  {
   "cell_type": "code",
   "execution_count": 37,
   "id": "2a3ec8f5-2823-4767-b13e-57d051e177fc",
   "metadata": {},
   "outputs": [
    {
     "data": {
      "text/plain": [
       "15"
      ]
     },
     "execution_count": 37,
     "metadata": {},
     "output_type": "execute_result"
    }
   ],
   "source": [
    "sum(T2)"
   ]
  },
  {
   "cell_type": "code",
   "execution_count": 38,
   "id": "5b021e55-efb9-4b64-a2ac-0754364c7377",
   "metadata": {},
   "outputs": [
    {
     "data": {
      "text/plain": [
       "[1, 2, 3, 4, 5]"
      ]
     },
     "execution_count": 38,
     "metadata": {},
     "output_type": "execute_result"
    }
   ],
   "source": [
    "sorted(T2)"
   ]
  },
  {
   "cell_type": "code",
   "execution_count": 39,
   "id": "57b8261f-38b1-463c-bee4-29cd85f8b6c5",
   "metadata": {},
   "outputs": [
    {
     "data": {
      "text/plain": [
       "[5, 4, 3, 2, 1]"
      ]
     },
     "execution_count": 39,
     "metadata": {},
     "output_type": "execute_result"
    }
   ],
   "source": [
    "sorted(T2, reverse = True)"
   ]
  },
  {
   "cell_type": "code",
   "execution_count": 40,
   "id": "55b64f47-6361-4fa9-b950-0223cad17145",
   "metadata": {},
   "outputs": [
    {
     "data": {
      "text/plain": [
       "0"
      ]
     },
     "execution_count": 40,
     "metadata": {},
     "output_type": "execute_result"
    }
   ],
   "source": [
    "# count\n",
    "t = (1, 2, 3, 4, 5)\n",
    "t.count(50)"
   ]
  },
  {
   "cell_type": "code",
   "execution_count": 41,
   "id": "16eae940-ce10-479a-ae4a-a0a7e6e429ac",
   "metadata": {},
   "outputs": [
    {
     "ename": "ValueError",
     "evalue": "tuple.index(x): x not in tuple",
     "output_type": "error",
     "traceback": [
      "\u001b[1;31m---------------------------------------------------------------------------\u001b[0m",
      "\u001b[1;31mValueError\u001b[0m                                Traceback (most recent call last)",
      "Cell \u001b[1;32mIn[41], line 2\u001b[0m\n\u001b[0;32m      1\u001b[0m \u001b[38;5;66;03m# index\u001b[39;00m\n\u001b[1;32m----> 2\u001b[0m t\u001b[38;5;241m.\u001b[39mindex(\u001b[38;5;241m50\u001b[39m)\n",
      "\u001b[1;31mValueError\u001b[0m: tuple.index(x): x not in tuple"
     ]
    }
   ],
   "source": [
    "# index\n",
    "t.index(50)"
   ]
  },
  {
   "cell_type": "markdown",
   "id": "77f96a01-68b5-49bf-8ef6-e9e273e8783a",
   "metadata": {},
   "source": [
    "## Lists vs Tuples\n",
    "### Syntax:\n",
    "- Lists: [ ]\n",
    "- Tuples: ( )\n",
    "### Mutability:\n",
    "- Lists: Mutable\n",
    "- Tuples: Immutable\n",
    "### Speed:\n",
    "- Lists: Slower (mutable)\n",
    "- Tuples: Faster (immutable)\n",
    "### Memory:\n",
    "- Lists: Higher\n",
    "- Tuples: Lower\n",
    "### Functionality:\n",
    "- Both: Indexing, slicing\n",
    "- Lists: More methods\n",
    "### Error-Prone:\n",
    "- Lists: Modifiable\n",
    "- Tuples: Safer\n",
    "### Use Case:\n",
    "- Lists: Dynamic\n",
    "- Tuples: Static"
   ]
  },
  {
   "cell_type": "code",
   "execution_count": null,
   "id": "9dce242b-df03-4bfa-b347-889593a31f22",
   "metadata": {},
   "outputs": [],
   "source": [
    "import time \n",
    "L = list(range(100000000))\n",
    "T = tuple(range(100000000))\n",
    "\n",
    "# List timing\n",
    "start = time.time()\n",
    "for i in L:\n",
    "  i*5\n",
    "print('List time', time.time()-start)\n",
    "\n",
    "# Tuple timing\n",
    "start = time.time()\n",
    "for i in T:\n",
    "  i*5\n",
    "print('Tuple time', time.time()-start)"
   ]
  },
  {
   "cell_type": "code",
   "execution_count": null,
   "id": "d33ea7a1-c602-4e5d-8bee-85e6b10b8073",
   "metadata": {},
   "outputs": [],
   "source": [
    "import sys\n",
    "L = list(range(1000))\n",
    "T = tuple(range(1000))\n",
    "print('List size', sys.getsizeof(L))\n",
    "print('Tuple size', sys.getsizeof(T))"
   ]
  },
  {
   "cell_type": "code",
   "execution_count": null,
   "id": "9799f22a-e367-4e7c-bd9d-8517e9724333",
   "metadata": {},
   "outputs": [],
   "source": [
    "a = [1, 2, 3]\n",
    "b = a\n",
    "a.append(4)\n",
    "print(a)\n",
    "print(b)"
   ]
  },
  {
   "cell_type": "code",
   "execution_count": null,
   "id": "7677f755-796d-4fe3-9058-58860dcd1fea",
   "metadata": {},
   "outputs": [],
   "source": [
    "a = (1, 2, 3)\n",
    "b = a\n",
    "a = a + (4,)\n",
    "print(a)\n",
    "print(b)"
   ]
  },
  {
   "cell_type": "markdown",
   "id": "3a2907cf-4ae9-442f-bdb0-96d4f80a0d1f",
   "metadata": {},
   "source": [
    "### Q. Why use Tuples?\n",
    "- Immutable; prevents changes.\n",
    "- Ensures data integrity.\n",
    "- Use for fixed collections.\n",
    "- Example:<br>\n",
    "    college_database = ('CS', 'Math', 'Physics')<br>\n",
    "    college_database[0] = 'Electronics'  # TypeError\n",
    "- Use for static data; lists for mutable."
   ]
  },
  {
   "cell_type": "markdown",
   "id": "e6f57e72-7b08-47d9-9934-3785dc2f8e0d",
   "metadata": {},
   "source": [
    "## Special Syntax"
   ]
  },
  {
   "cell_type": "code",
   "execution_count": null,
   "id": "d2c861a9-ae28-4723-94b3-393e28f0c521",
   "metadata": {},
   "outputs": [],
   "source": [
    "# tuple unpacking\n",
    "a, b, c = (1, 2, 3)\n",
    "print(a, b, c)"
   ]
  },
  {
   "cell_type": "code",
   "execution_count": null,
   "id": "cab9bc14-1c0b-4880-9de5-1a5d520c5d44",
   "metadata": {},
   "outputs": [],
   "source": [
    "a, b = (1, 2, 3)\n",
    "print(a, b)"
   ]
  },
  {
   "cell_type": "code",
   "execution_count": null,
   "id": "e9e585c2-6368-4766-a1b9-38e7415b0b0e",
   "metadata": {},
   "outputs": [],
   "source": [
    "a = 1\n",
    "b = 2\n",
    "a, b = b, a\n",
    "print(a, b)"
   ]
  },
  {
   "cell_type": "code",
   "execution_count": null,
   "id": "5504713f-f2b0-4f88-8631-0fd08c717782",
   "metadata": {},
   "outputs": [],
   "source": [
    "a, b, *others = (1, 2, 3, 4)\n",
    "print(a, b)\n",
    "print(others)"
   ]
  },
  {
   "cell_type": "code",
   "execution_count": null,
   "id": "249d45e4-885f-449e-b19a-ceb3a9d4df23",
   "metadata": {},
   "outputs": [],
   "source": [
    "# zipping tuples\n",
    "a = (1, 2, 3, 4)\n",
    "b = (5, 6, 7, 8)\n",
    "tuple(zip(a, b))"
   ]
  },
  {
   "cell_type": "code",
   "execution_count": null,
   "id": "0231c543-8385-49cd-90f3-fd7cc149b912",
   "metadata": {},
   "outputs": [],
   "source": []
  }
 ],
 "metadata": {
  "kernelspec": {
   "display_name": "Python 3 (ipykernel)",
   "language": "python",
   "name": "python3"
  },
  "language_info": {
   "codemirror_mode": {
    "name": "ipython",
    "version": 3
   },
   "file_extension": ".py",
   "mimetype": "text/x-python",
   "name": "python",
   "nbconvert_exporter": "python",
   "pygments_lexer": "ipython3",
   "version": "3.13.5"
  }
 },
 "nbformat": 4,
 "nbformat_minor": 5
}
