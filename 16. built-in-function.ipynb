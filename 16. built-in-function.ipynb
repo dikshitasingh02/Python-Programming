{
 "cells": [
  {
   "cell_type": "markdown",
   "id": "b09f5141-b945-4d13-8f40-4edcbc2ad44e",
   "metadata": {},
   "source": [
    "## 1. print"
   ]
  },
  {
   "cell_type": "code",
   "execution_count": 30,
   "id": "d74f4d27-edec-4823-940c-94f7f79e954a",
   "metadata": {},
   "outputs": [
    {
     "name": "stdout",
     "output_type": "stream",
     "text": [
      "Hello World\n"
     ]
    }
   ],
   "source": [
    "print(\"Hello World\")"
   ]
  },
  {
   "cell_type": "markdown",
   "id": "c6b91467-31ab-4f52-828b-b6f862eb4bf6",
   "metadata": {},
   "source": [
    "## 2. input"
   ]
  },
  {
   "cell_type": "code",
   "execution_count": 32,
   "id": "bb9fce3b-93fc-49e9-a33c-381e21104c88",
   "metadata": {},
   "outputs": [
    {
     "name": "stdin",
     "output_type": "stream",
     "text": [
      "Enter your name:  Dikshita Singh\n"
     ]
    },
    {
     "data": {
      "text/plain": [
       "'Dikshita Singh'"
      ]
     },
     "execution_count": 32,
     "metadata": {},
     "output_type": "execute_result"
    }
   ],
   "source": [
    "input(\"Enter your name: \")"
   ]
  },
  {
   "cell_type": "markdown",
   "id": "19e39a3c-15ce-414b-9426-02111c204dde",
   "metadata": {},
   "source": [
    "## 3. type"
   ]
  },
  {
   "cell_type": "code",
   "execution_count": 33,
   "id": "1260bf0b-13d5-4b9c-9dc2-727ecb12ca89",
   "metadata": {},
   "outputs": [
    {
     "data": {
      "text/plain": [
       "int"
      ]
     },
     "execution_count": 33,
     "metadata": {},
     "output_type": "execute_result"
    }
   ],
   "source": [
    "a = 3\n",
    "type(a)"
   ]
  },
  {
   "cell_type": "code",
   "execution_count": 34,
   "id": "40b7a01a-010d-442b-a42d-92bd37b9ccde",
   "metadata": {},
   "outputs": [
    {
     "data": {
      "text/plain": [
       "float"
      ]
     },
     "execution_count": 34,
     "metadata": {},
     "output_type": "execute_result"
    }
   ],
   "source": [
    "a = 3.5\n",
    "type(a)"
   ]
  },
  {
   "cell_type": "code",
   "execution_count": 35,
   "id": "e8f8cbd5-f4da-4163-aa1e-9aa006bc7e21",
   "metadata": {},
   "outputs": [
    {
     "data": {
      "text/plain": [
       "bool"
      ]
     },
     "execution_count": 35,
     "metadata": {},
     "output_type": "execute_result"
    }
   ],
   "source": [
    "a = True\n",
    "type(a)\n"
   ]
  },
  {
   "cell_type": "markdown",
   "id": "35d9a246-9f28-457f-93f2-94cf3bee6dcc",
   "metadata": {},
   "source": [
    "## 4. int etc."
   ]
  },
  {
   "cell_type": "code",
   "execution_count": 36,
   "id": "d4249262-7db4-4260-8b45-3114957c4335",
   "metadata": {},
   "outputs": [
    {
     "data": {
      "text/plain": [
       "5"
      ]
     },
     "execution_count": 36,
     "metadata": {},
     "output_type": "execute_result"
    }
   ],
   "source": [
    "int('5')\n",
    "# float\n",
    "# str\n",
    "# list\n",
    "# tuple"
   ]
  },
  {
   "cell_type": "markdown",
   "id": "3aa8c152-cb9b-45ec-b9b6-689f7c26a147",
   "metadata": {},
   "source": [
    "## 5. abs"
   ]
  },
  {
   "cell_type": "code",
   "execution_count": 37,
   "id": "7bb893ec-f001-4a8c-b8a6-7479c5497963",
   "metadata": {},
   "outputs": [
    {
     "data": {
      "text/plain": [
       "4"
      ]
     },
     "execution_count": 37,
     "metadata": {},
     "output_type": "execute_result"
    }
   ],
   "source": [
    "abs(4)"
   ]
  },
  {
   "cell_type": "code",
   "execution_count": 38,
   "id": "4c1f5646-cca0-47e6-8791-959653b40857",
   "metadata": {},
   "outputs": [
    {
     "data": {
      "text/plain": [
       "4"
      ]
     },
     "execution_count": 38,
     "metadata": {},
     "output_type": "execute_result"
    }
   ],
   "source": [
    "abs(-4)"
   ]
  },
  {
   "cell_type": "markdown",
   "id": "a8dea996-b7ef-40fb-9224-727cd36edde6",
   "metadata": {},
   "source": [
    "## 6. pow"
   ]
  },
  {
   "cell_type": "code",
   "execution_count": 39,
   "id": "bd726b9f-1b93-4d47-ae98-7edc00000cd0",
   "metadata": {},
   "outputs": [
    {
     "data": {
      "text/plain": [
       "8"
      ]
     },
     "execution_count": 39,
     "metadata": {},
     "output_type": "execute_result"
    }
   ],
   "source": [
    "pow(2, 3)"
   ]
  },
  {
   "cell_type": "code",
   "execution_count": 40,
   "id": "9bacc15a-49eb-4e8a-b88d-078db17e19b7",
   "metadata": {},
   "outputs": [
    {
     "data": {
      "text/plain": [
       "0.125"
      ]
     },
     "execution_count": 40,
     "metadata": {},
     "output_type": "execute_result"
    }
   ],
   "source": [
    "pow(2, -3)"
   ]
  },
  {
   "cell_type": "markdown",
   "id": "043da270-39ae-4c5d-906a-41ceb36dd10c",
   "metadata": {},
   "source": [
    "## 7. min/max"
   ]
  },
  {
   "cell_type": "code",
   "execution_count": 41,
   "id": "c216c5c4-e75a-4e02-870f-74be3157016d",
   "metadata": {},
   "outputs": [
    {
     "data": {
      "text/plain": [
       "0"
      ]
     },
     "execution_count": 41,
     "metadata": {},
     "output_type": "execute_result"
    }
   ],
   "source": [
    "min([2, 1, 3, 0])"
   ]
  },
  {
   "cell_type": "code",
   "execution_count": 42,
   "id": "093c505e-532d-4131-a407-8adbaf3fbd50",
   "metadata": {},
   "outputs": [
    {
     "data": {
      "text/plain": [
       "3"
      ]
     },
     "execution_count": 42,
     "metadata": {},
     "output_type": "execute_result"
    }
   ],
   "source": [
    "max([2, 1, 3, 0])"
   ]
  },
  {
   "cell_type": "code",
   "execution_count": 43,
   "id": "5fea738c-9702-4c57-bc86-a5f2add68c9e",
   "metadata": {},
   "outputs": [
    {
     "data": {
      "text/plain": [
       "'a'"
      ]
     },
     "execution_count": 43,
     "metadata": {},
     "output_type": "execute_result"
    }
   ],
   "source": [
    "min(\"kolkata\")"
   ]
  },
  {
   "cell_type": "code",
   "execution_count": 44,
   "id": "98c2be45-6a42-463a-8402-a7830c788514",
   "metadata": {},
   "outputs": [
    {
     "data": {
      "text/plain": [
       "'t'"
      ]
     },
     "execution_count": 44,
     "metadata": {},
     "output_type": "execute_result"
    }
   ],
   "source": [
    "max(\"kolkata\")"
   ]
  },
  {
   "cell_type": "markdown",
   "id": "0a83b2a5-f15b-47bb-9435-87a0cd25091e",
   "metadata": {},
   "source": [
    "## 8. round"
   ]
  },
  {
   "cell_type": "code",
   "execution_count": 45,
   "id": "51476dd0-cb92-4b3a-8fda-4be206c75fab",
   "metadata": {},
   "outputs": [
    {
     "name": "stdout",
     "output_type": "stream",
     "text": [
      "3.142857142857143\n"
     ]
    },
    {
     "data": {
      "text/plain": [
       "3"
      ]
     },
     "execution_count": 45,
     "metadata": {},
     "output_type": "execute_result"
    }
   ],
   "source": [
    "c = 22/7\n",
    "print(c)\n",
    "round(c)"
   ]
  },
  {
   "cell_type": "code",
   "execution_count": 46,
   "id": "55c21287-08ae-4672-bef9-eac3ebe68366",
   "metadata": {},
   "outputs": [
    {
     "data": {
      "text/plain": [
       "3.14"
      ]
     },
     "execution_count": 46,
     "metadata": {},
     "output_type": "execute_result"
    }
   ],
   "source": [
    "round(c, 2)"
   ]
  },
  {
   "cell_type": "markdown",
   "id": "47b2eeee-8b01-4f22-b32b-7d18e1e89116",
   "metadata": {},
   "source": [
    "## 9. divmod"
   ]
  },
  {
   "cell_type": "code",
   "execution_count": 47,
   "id": "1c345fed-c50d-43db-be09-df6366212cb3",
   "metadata": {},
   "outputs": [
    {
     "data": {
      "text/plain": [
       "(2, 1)"
      ]
     },
     "execution_count": 47,
     "metadata": {},
     "output_type": "execute_result"
    }
   ],
   "source": [
    "divmod(5, 2)"
   ]
  },
  {
   "cell_type": "markdown",
   "id": "0acf3395-06e6-4430-b28c-aa6adc73475e",
   "metadata": {},
   "source": [
    "## 10. bin/oct/hex"
   ]
  },
  {
   "cell_type": "code",
   "execution_count": 48,
   "id": "7cba915f-0f6f-40a3-b305-55812e2fc075",
   "metadata": {},
   "outputs": [
    {
     "data": {
      "text/plain": [
       "'0b100'"
      ]
     },
     "execution_count": 48,
     "metadata": {},
     "output_type": "execute_result"
    }
   ],
   "source": [
    "bin(4)"
   ]
  },
  {
   "cell_type": "code",
   "execution_count": 49,
   "id": "4710944f-95d5-4514-a478-fbda45c869b5",
   "metadata": {},
   "outputs": [
    {
     "data": {
      "text/plain": [
       "'0o4'"
      ]
     },
     "execution_count": 49,
     "metadata": {},
     "output_type": "execute_result"
    }
   ],
   "source": [
    "oct(4)"
   ]
  },
  {
   "cell_type": "code",
   "execution_count": 50,
   "id": "351d1c06-a7f6-4f5f-a5d7-5322c29fb858",
   "metadata": {},
   "outputs": [
    {
     "data": {
      "text/plain": [
       "'0x4'"
      ]
     },
     "execution_count": 50,
     "metadata": {},
     "output_type": "execute_result"
    }
   ],
   "source": [
    "hex(4)"
   ]
  },
  {
   "cell_type": "markdown",
   "id": "71f6825a-1b4a-4c5a-bd43-bcd9ff35cb46",
   "metadata": {},
   "source": [
    "## 11. id"
   ]
  },
  {
   "cell_type": "code",
   "execution_count": 51,
   "id": "64141b5d-60ee-4a65-aff8-b05b27192ffe",
   "metadata": {},
   "outputs": [
    {
     "data": {
      "text/plain": [
       "140705651602408"
      ]
     },
     "execution_count": 51,
     "metadata": {},
     "output_type": "execute_result"
    }
   ],
   "source": [
    "a = 3\n",
    "id(a)"
   ]
  },
  {
   "cell_type": "markdown",
   "id": "8a436d93-308e-4118-8345-4db2451db934",
   "metadata": {},
   "source": [
    "## 12. ord"
   ]
  },
  {
   "cell_type": "code",
   "execution_count": 52,
   "id": "a0391a63-3602-4f2d-8907-973865456bef",
   "metadata": {},
   "outputs": [
    {
     "data": {
      "text/plain": [
       "65"
      ]
     },
     "execution_count": 52,
     "metadata": {},
     "output_type": "execute_result"
    }
   ],
   "source": [
    "ord('A')"
   ]
  },
  {
   "cell_type": "code",
   "execution_count": 53,
   "id": "06a8ad4f-d8b5-4e8a-8a64-f04abe2cec6e",
   "metadata": {},
   "outputs": [
    {
     "data": {
      "text/plain": [
       "97"
      ]
     },
     "execution_count": 53,
     "metadata": {},
     "output_type": "execute_result"
    }
   ],
   "source": [
    "ord('a')"
   ]
  },
  {
   "cell_type": "markdown",
   "id": "5dbb0d70-353b-4cd1-8e4c-191d321216e0",
   "metadata": {},
   "source": [
    "## 13. len"
   ]
  },
  {
   "cell_type": "code",
   "execution_count": 54,
   "id": "3d8d55fb-103f-462e-99b3-5895ae32a47b",
   "metadata": {},
   "outputs": [
    {
     "data": {
      "text/plain": [
       "7"
      ]
     },
     "execution_count": 54,
     "metadata": {},
     "output_type": "execute_result"
    }
   ],
   "source": [
    "len('Kolkata')"
   ]
  },
  {
   "cell_type": "code",
   "execution_count": 55,
   "id": "db474529-36db-4bd7-a7b4-4a0aa68f874f",
   "metadata": {},
   "outputs": [
    {
     "data": {
      "text/plain": [
       "3"
      ]
     },
     "execution_count": 55,
     "metadata": {},
     "output_type": "execute_result"
    }
   ],
   "source": [
    "len([1, 2, 3])"
   ]
  },
  {
   "cell_type": "markdown",
   "id": "cc8c0a75-8f4c-4595-9142-866ad4c48640",
   "metadata": {},
   "source": [
    "## 14. sum"
   ]
  },
  {
   "cell_type": "code",
   "execution_count": 56,
   "id": "e67b6a8b-13f5-42b2-b8ec-d00ed4978147",
   "metadata": {},
   "outputs": [
    {
     "data": {
      "text/plain": [
       "15"
      ]
     },
     "execution_count": 56,
     "metadata": {},
     "output_type": "execute_result"
    }
   ],
   "source": [
    "sum([1, 2, 3, 4, 5])"
   ]
  },
  {
   "cell_type": "code",
   "execution_count": 57,
   "id": "e4f4511c-0897-4943-b25f-865815fa4326",
   "metadata": {},
   "outputs": [
    {
     "data": {
      "text/plain": [
       "15"
      ]
     },
     "execution_count": 57,
     "metadata": {},
     "output_type": "execute_result"
    }
   ],
   "source": [
    "sum({1, 2, 3, 4, 5})"
   ]
  },
  {
   "cell_type": "markdown",
   "id": "4a58c043-9cf9-44b7-9aac-0f534b21ae15",
   "metadata": {},
   "source": [
    "## 15. help"
   ]
  },
  {
   "cell_type": "code",
   "execution_count": 58,
   "id": "7ce0c6de-0c0d-4e06-8f1c-8890ceae05d5",
   "metadata": {},
   "outputs": [
    {
     "name": "stdout",
     "output_type": "stream",
     "text": [
      "Help on built-in function print in module builtins:\n",
      "\n",
      "print(*args, sep=' ', end='\\n', file=None, flush=False)\n",
      "    Prints the values to a stream, or to sys.stdout by default.\n",
      "\n",
      "    sep\n",
      "      string inserted between values, default a space.\n",
      "    end\n",
      "      string appended after the last value, default a newline.\n",
      "    file\n",
      "      a file-like object (stream); defaults to the current sys.stdout.\n",
      "    flush\n",
      "      whether to forcibly flush the stream.\n",
      "\n"
     ]
    }
   ],
   "source": [
    "help('print')"
   ]
  },
  {
   "cell_type": "code",
   "execution_count": 29,
   "id": "c95ff963-eb67-443a-a80d-c31046d8b689",
   "metadata": {},
   "outputs": [
    {
     "name": "stdout",
     "output_type": "stream",
     "text": [
      "Help on built-in function sum in module builtins:\n",
      "\n",
      "sum(iterable, /, start=0)\n",
      "    Return the sum of a 'start' value (default: 0) plus an iterable of numbers\n",
      "\n",
      "    When the iterable is empty, return the start value.\n",
      "    This function is intended specifically for use with numeric values and may\n",
      "    reject non-numeric types.\n",
      "\n"
     ]
    }
   ],
   "source": [
    "help('sum')"
   ]
  },
  {
   "cell_type": "code",
   "execution_count": null,
   "id": "d7ac7c6f-9a26-4ab7-885a-98e0d9135d73",
   "metadata": {},
   "outputs": [],
   "source": []
  }
 ],
 "metadata": {
  "kernelspec": {
   "display_name": "Python 3 (ipykernel)",
   "language": "python",
   "name": "python3"
  },
  "language_info": {
   "codemirror_mode": {
    "name": "ipython",
    "version": 3
   },
   "file_extension": ".py",
   "mimetype": "text/x-python",
   "name": "python",
   "nbconvert_exporter": "python",
   "pygments_lexer": "ipython3",
   "version": "3.13.5"
  }
 },
 "nbformat": 4,
 "nbformat_minor": 5
}
