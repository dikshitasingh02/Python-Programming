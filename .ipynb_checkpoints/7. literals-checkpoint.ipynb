{
 "cells": [
  {
   "cell_type": "markdown",
   "id": "bc4163bd-03fd-47cc-abfc-2718653c2496",
   "metadata": {},
   "source": [
    "## Literals\n",
    "Literals = basic data values for variables.\n",
    "Types in Python:\n",
    "- Numeric literals\n",
    "- String literals\n",
    "- Boolean literals\n",
    "- Special literals"
   ]
  },
  {
   "cell_type": "markdown",
   "id": "a278551a-4a8b-42ed-98c8-6da5526bbb3d",
   "metadata": {},
   "source": [
    "### 1. Numerical literals"
   ]
  },
  {
   "cell_type": "code",
   "execution_count": 1,
   "id": "a3cba8ac-45a1-46ed-8c40-72bbd74a448e",
   "metadata": {},
   "outputs": [
    {
     "name": "stdout",
     "output_type": "stream",
     "text": [
      "10 100 200 300\n",
      "10.5 150.0 0.0015\n",
      "3.14j 3.14 0.0\n"
     ]
    }
   ],
   "source": [
    "# Integer Literals\n",
    "a = 0b1010  # Binary\n",
    "b = 100     # Decimal\n",
    "c = 0o310   # Octal\n",
    "d = 0x12c   # Hex\n",
    "\n",
    "# Float Literals\n",
    "f1 = 10.5\n",
    "f2 = 1.5e2\n",
    "f3 = 1.5e-3\n",
    "\n",
    "# Complex Literal\n",
    "x = 3.14j\n",
    "\n",
    "print(a, b, c, d)\n",
    "print(f1, f2, f3)\n",
    "print(x, x.imag, x.real)"
   ]
  },
  {
   "cell_type": "markdown",
   "id": "2aa2af22-d51c-46f9-8010-e6b7b1fb76c8",
   "metadata": {},
   "source": [
    "### 2. String literals"
   ]
  },
  {
   "cell_type": "code",
   "execution_count": 2,
   "id": "6feafd87-d67f-462b-8810-5b7cb4d8cf02",
   "metadata": {},
   "outputs": [
    {
     "name": "stdout",
     "output_type": "stream",
     "text": [
      "This is Python\n",
      "This is Python\n",
      "C\n",
      "This is a multiline string with more than one line code.\n",
      "😀😆🤣\n",
      "raw \\n string\n"
     ]
    }
   ],
   "source": [
    "string = 'This is Python'\n",
    "strings = \"This is Python\"\n",
    "char = \"C\"\n",
    "multiline_str = \"\"\"This is a multiline string with more than one line code.\"\"\"\n",
    "unicode = u\"\\U0001f600\\U0001F606\\U0001F923\"\n",
    "raw_str = r\"raw \\n string\"\n",
    "\n",
    "print(string)\n",
    "print(strings)\n",
    "print(char)\n",
    "print(multiline_str)\n",
    "print(unicode)\n",
    "print(raw_str)"
   ]
  },
  {
   "cell_type": "markdown",
   "id": "bb116583-30a6-4a4a-897e-f9d5ea50f249",
   "metadata": {},
   "source": [
    "### 3. Boolean literals"
   ]
  },
  {
   "cell_type": "code",
   "execution_count": 3,
   "id": "f6e0dfb7-ad69-4016-bade-f0076c237c62",
   "metadata": {},
   "outputs": [
    {
     "name": "stdout",
     "output_type": "stream",
     "text": [
      "a: 5\n",
      "b: 10\n"
     ]
    }
   ],
   "source": [
    "a = True + 4   # True == 1\n",
    "b = False + 10 # False == 0\n",
    "\n",
    "print(\"a:\", a)\n",
    "print(\"b:\", b)"
   ]
  },
  {
   "cell_type": "markdown",
   "id": "1986b058-f97a-4c8f-a138-fc24dbe60d7c",
   "metadata": {},
   "source": [
    "### 4. Special literals"
   ]
  },
  {
   "cell_type": "code",
   "execution_count": 4,
   "id": "eaeb2329-6b19-4eba-b729-35c74562382c",
   "metadata": {},
   "outputs": [
    {
     "name": "stdout",
     "output_type": "stream",
     "text": [
      "None\n"
     ]
    }
   ],
   "source": [
    "a = None\n",
    "print(a)"
   ]
  },
  {
   "cell_type": "code",
   "execution_count": 5,
   "id": "c3782a99-3571-4057-a312-28f96e3f60d1",
   "metadata": {},
   "outputs": [],
   "source": [
    "# Variable Declaration\n",
    "k = None"
   ]
  },
  {
   "cell_type": "code",
   "execution_count": null,
   "id": "44e0cd9f-d347-4473-b1e5-99051aff50d0",
   "metadata": {},
   "outputs": [],
   "source": []
  }
 ],
 "metadata": {
  "kernelspec": {
   "display_name": "Python 3 (ipykernel)",
   "language": "python",
   "name": "python3"
  },
  "language_info": {
   "codemirror_mode": {
    "name": "ipython",
    "version": 3
   },
   "file_extension": ".py",
   "mimetype": "text/x-python",
   "name": "python",
   "nbconvert_exporter": "python",
   "pygments_lexer": "ipython3",
   "version": "3.13.5"
  }
 },
 "nbformat": 4,
 "nbformat_minor": 5
}
