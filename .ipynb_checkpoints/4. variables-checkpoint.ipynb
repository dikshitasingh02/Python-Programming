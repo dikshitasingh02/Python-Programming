{
 "cells": [
  {
   "cell_type": "markdown",
   "id": "5bf7899c-9b8a-4eed-a136-ec47377ffd62",
   "metadata": {},
   "source": [
    "### Static vs Dynamic Typing\n",
    "- Dynamic Typing (Python): Types change during execution.\n",
    "- Static Typing: Fixed types before runtime."
   ]
  },
  {
   "cell_type": "markdown",
   "id": "e4f2f628-c4cf-4c68-baef-6b6dccc5d3db",
   "metadata": {},
   "source": [
    "### Static vs Dynamic Binding:\n",
    "- Static Binding: Types fixed at compile-time.\n",
    "- Dynamic Binding: Types associated at runtime, changeable during execution."
   ]
  },
  {
   "cell_type": "markdown",
   "id": "5da40474-5c9c-4413-bd66-ac86b6ced106",
   "metadata": {},
   "source": [
    "### Stylish Declaration Techniques:\n",
    "- Clear, efficient variable/structure declarations in Python.\n",
    "- Use Python's flexibility for concise, readable code."
   ]
  },
  {
   "cell_type": "code",
   "execution_count": 1,
   "id": "42bf5c19-840c-44c0-9600-57ac22d625c4",
   "metadata": {},
   "outputs": [],
   "source": [
    "# C lang\n",
    "# int a = 5"
   ]
  },
  {
   "cell_type": "code",
   "execution_count": 2,
   "id": "2acd9463-3f31-476b-a825-3b12b809038d",
   "metadata": {},
   "outputs": [],
   "source": [
    "name = 'Dikshita'"
   ]
  },
  {
   "cell_type": "code",
   "execution_count": 3,
   "id": "6b07ed8d-eb6d-4c6e-9f6d-666b111a05a9",
   "metadata": {},
   "outputs": [
    {
     "name": "stdout",
     "output_type": "stream",
     "text": [
      "Dikshita\n"
     ]
    }
   ],
   "source": [
    "print(name)"
   ]
  },
  {
   "cell_type": "code",
   "execution_count": 22,
   "id": "83a88b05-3e8b-4a69-9035-19b790e3eadf",
   "metadata": {},
   "outputs": [
    {
     "name": "stdout",
     "output_type": "stream",
     "text": [
      "Hello There!\n"
     ]
    }
   ],
   "source": [
    "name = 'Hello There!'\n",
    "print(name)"
   ]
  },
  {
   "cell_type": "markdown",
   "id": "2aed3534-2235-45bc-9813-26164ddfe223",
   "metadata": {},
   "source": [
    "#### No Var Decl in Python\n",
    "- Use vars w/o prior decl.\n",
    "- Assign val directly; Python auto-creates."
   ]
  },
  {
   "cell_type": "code",
   "execution_count": 18,
   "id": "21012ae6-6fb3-4312-bedd-f2e7cbc2b6d4",
   "metadata": {},
   "outputs": [],
   "source": [
    "# Dynamic Typing (PHP)\n",
    "# $a = 5;\n",
    "\n",
    "# Static Typing (Java)\n",
    "# int a = 5;"
   ]
  },
  {
   "cell_type": "code",
   "execution_count": 23,
   "id": "b33760ab-ffc9-441f-90a0-190d54be9ace",
   "metadata": {},
   "outputs": [
    {
     "name": "stdout",
     "output_type": "stream",
     "text": [
      "Hello There!\n"
     ]
    }
   ],
   "source": [
    "print(name)"
   ]
  },
  {
   "cell_type": "code",
   "execution_count": 24,
   "id": "85b76f41-c32b-4ac6-9408-e99e6a5193a0",
   "metadata": {},
   "outputs": [
    {
     "name": "stdout",
     "output_type": "stream",
     "text": [
      "4\n"
     ]
    }
   ],
   "source": [
    "name = 4\n",
    "print(name)"
   ]
  },
  {
   "cell_type": "code",
   "execution_count": 25,
   "id": "23aba699-d3d2-4b03-912a-cc03bbcf59a8",
   "metadata": {},
   "outputs": [
    {
     "name": "stdout",
     "output_type": "stream",
     "text": [
      "True\n"
     ]
    }
   ],
   "source": [
    "name = True\n",
    "print(name)"
   ]
  },
  {
   "cell_type": "code",
   "execution_count": 26,
   "id": "3d581ce7-2fc3-4824-a2e9-b2b3f87e43e6",
   "metadata": {},
   "outputs": [
    {
     "name": "stdout",
     "output_type": "stream",
     "text": [
      "5\n",
      "Dikshita\n"
     ]
    }
   ],
   "source": [
    "# Dynamic Binding Example\n",
    "a = 5          # Assign integer\n",
    "print(a)\n",
    "\n",
    "a = 'Dikshita'   # Reassign string\n",
    "print(a)"
   ]
  },
  {
   "cell_type": "code",
   "execution_count": 28,
   "id": "1703b3bb-4930-4146-bf26-27a3879935bc",
   "metadata": {},
   "outputs": [],
   "source": [
    "# Static Binding Example\n",
    "# int a = 5"
   ]
  },
  {
   "cell_type": "code",
   "execution_count": 29,
   "id": "2175d144-9e83-4437-aa87-73aa8da65879",
   "metadata": {},
   "outputs": [
    {
     "name": "stdout",
     "output_type": "stream",
     "text": [
      "5\n",
      "6\n",
      "7\n"
     ]
    }
   ],
   "source": [
    "# special sytax\n",
    "a = 5;b=6;c=7\n",
    "print(a)\n",
    "print(b)\n",
    "print(c)"
   ]
  },
  {
   "cell_type": "code",
   "execution_count": 30,
   "id": "9facff2d-9a2d-4d11-b0cf-feb01360895f",
   "metadata": {},
   "outputs": [
    {
     "name": "stdout",
     "output_type": "stream",
     "text": [
      "5\n",
      "6\n",
      "7\n"
     ]
    }
   ],
   "source": [
    "a, b, c = 5, 6, 7\n",
    "\n",
    "print(a)\n",
    "print(b)\n",
    "print(c)"
   ]
  },
  {
   "cell_type": "code",
   "execution_count": 31,
   "id": "e9bbc80f-8a5b-4f0d-ba53-c947d620fe6c",
   "metadata": {},
   "outputs": [
    {
     "name": "stdout",
     "output_type": "stream",
     "text": [
      "6 6 6\n"
     ]
    }
   ],
   "source": [
    "a = b = c = 6\n",
    "\n",
    "print(a, b, c)"
   ]
  },
  {
   "cell_type": "code",
   "execution_count": null,
   "id": "4a5483cd-e877-4864-9a03-d744fdc36507",
   "metadata": {},
   "outputs": [],
   "source": []
  }
 ],
 "metadata": {
  "kernelspec": {
   "display_name": "Python 3 (ipykernel)",
   "language": "python",
   "name": "python3"
  },
  "language_info": {
   "codemirror_mode": {
    "name": "ipython",
    "version": 3
   },
   "file_extension": ".py",
   "mimetype": "text/x-python",
   "name": "python",
   "nbconvert_exporter": "python",
   "pygments_lexer": "ipython3",
   "version": "3.13.5"
  }
 },
 "nbformat": 4,
 "nbformat_minor": 5
}
