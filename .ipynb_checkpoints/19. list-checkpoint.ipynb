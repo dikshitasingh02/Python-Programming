{
 "cells": [
  {
   "cell_type": "markdown",
   "id": "2798877a-2dd3-4e85-a61b-c36b2b62f203",
   "metadata": {},
   "source": [
    "# List\n",
    "Collection in Python for sequences of diverse data types.\n",
    "## List vs Array\n",
    "- Array: Homogeneous; Contiguous memory; Fast; Numerical/Scientific use.\n",
    "- List: Heterogeneous; Non-contiguous memory; Programmer-friendly; General-purpose.<br>\n",
    "1.Create<br>\n",
    "2.Access<br>\n",
    "3.Edit<br>\n",
    "4.Add<br>\n",
    "5.Delete<br>\n",
    "6.Operations<br>\n",
    "7.Functions\n",
    "## Arrays vs. Lists in Memory:\n",
    "### - Arrays:\n",
    "- int arr[50]; ---> 50 contiguous memory blocks.\n",
    "- Elements stored in binary form at consecutive addresses.\n",
    "### - Lists:\n",
    "- list_example = [1, 2, 3] ---> Elements at different locations.\n",
    "- Stores references/pointers to elements, not the values."
   ]
  },
  {
   "cell_type": "code",
   "execution_count": 1,
   "id": "f02f23f9-e192-47b0-8b26-4100ba13aced",
   "metadata": {},
   "outputs": [
    {
     "name": "stdout",
     "output_type": "stream",
     "text": [
      "1628496531840\n",
      "140706772267944\n",
      "140706772267976\n",
      "140706772268008\n",
      "140706772267944\n",
      "140706772267976\n",
      "140706772268008\n"
     ]
    }
   ],
   "source": [
    "# proof --->\n",
    "L = [1, 2, 3]\n",
    "print(id(L))\n",
    "print(id(L[0]))\n",
    "print(id(L[1]))\n",
    "print(id(L[2]))\n",
    "print(id(1))\n",
    "print(id(2))\n",
    "print(id(3))"
   ]
  },
  {
   "cell_type": "markdown",
   "id": "4ffd77b6-73a9-4406-b8ec-37742d2a0115",
   "metadata": {},
   "source": [
    "## List Characteristics\n",
    "- Ordered\n",
    "- Mutable\n",
    "- Heterogeneous\n",
    "- Duplicates allowed\n",
    "- Dynamic size\n",
    "- Nesting supported\n",
    "- Indexable\n",
    "- Any object type"
   ]
  },
  {
   "cell_type": "markdown",
   "id": "7d15fade-10d8-4f40-aa22-7559c413865a",
   "metadata": {},
   "source": [
    "### 1. Create"
   ]
  },
  {
   "cell_type": "code",
   "execution_count": 5,
   "id": "fdbbd0a4-7009-49c4-b1b8-97c156626b29",
   "metadata": {},
   "outputs": [
    {
     "data": {
      "text/plain": [
       "[]"
      ]
     },
     "execution_count": 5,
     "metadata": {},
     "output_type": "execute_result"
    }
   ],
   "source": [
    "# Empty\n",
    "L = []\n",
    "L"
   ]
  },
  {
   "cell_type": "code",
   "execution_count": 6,
   "id": "07190ffc-672e-46cd-a7e2-4cab3504da55",
   "metadata": {},
   "outputs": [
    {
     "data": {
      "text/plain": [
       "[1, 2, 3, 4, 5]"
      ]
     },
     "execution_count": 6,
     "metadata": {},
     "output_type": "execute_result"
    }
   ],
   "source": [
    "# 1D ---> Homo\n",
    "L1 = [1, 2, 3, 4, 5]\n",
    "L1"
   ]
  },
  {
   "cell_type": "code",
   "execution_count": 7,
   "id": "dc7d9888-9f28-4216-941c-1a85173b05c4",
   "metadata": {},
   "outputs": [
    {
     "data": {
      "text/plain": [
       "['Hello', 4, 5, 6, True, (5+6j)]"
      ]
     },
     "execution_count": 7,
     "metadata": {},
     "output_type": "execute_result"
    }
   ],
   "source": [
    "# Hetrogenous\n",
    "L2 = [\"Hello\", 4, 5, 6, True, 5+6j]\n",
    "L2"
   ]
  },
  {
   "cell_type": "code",
   "execution_count": 8,
   "id": "9cbfcdf3-ec76-4444-b69a-654749ec922e",
   "metadata": {},
   "outputs": [
    {
     "data": {
      "text/plain": [
       "[1, 2, 3, [4, 5]]"
      ]
     },
     "execution_count": 8,
     "metadata": {},
     "output_type": "execute_result"
    }
   ],
   "source": [
    "# Multidimentional list:\n",
    "# 2D\n",
    "L3 = [1, 2, 3, [4, 5]]\n",
    "L3"
   ]
  },
  {
   "cell_type": "code",
   "execution_count": 9,
   "id": "57975d7b-88d0-4a37-9fdd-ffd3bc2ad659",
   "metadata": {},
   "outputs": [
    {
     "data": {
      "text/plain": [
       "[[[1, 2], [3, 4]], [[5, 6], [7, 8]]]"
      ]
     },
     "execution_count": 9,
     "metadata": {},
     "output_type": "execute_result"
    }
   ],
   "source": [
    "# 3D\n",
    "L4 = [[[1, 2], [3, 4]], [[5, 6], [7, 8]]]\n",
    "L4\n"
   ]
  },
  {
   "cell_type": "code",
   "execution_count": 10,
   "id": "c73460b2-a319-4fc9-8541-c21fad6d2f90",
   "metadata": {},
   "outputs": [
    {
     "data": {
      "text/plain": [
       "['S', 'a', 'u', 'r', 'a', 'b', 'h']"
      ]
     },
     "execution_count": 10,
     "metadata": {},
     "output_type": "execute_result"
    }
   ],
   "source": [
    "# Using Type Conversion\n",
    "L5 = list(\"Saurabh\")\n",
    "L5"
   ]
  },
  {
   "cell_type": "code",
   "execution_count": 11,
   "id": "ec0b4dad-a979-4e71-98c6-0d8385b10d46",
   "metadata": {},
   "outputs": [
    {
     "data": {
      "text/plain": [
       "[]"
      ]
     },
     "execution_count": 11,
     "metadata": {},
     "output_type": "execute_result"
    }
   ],
   "source": [
    "L6 = list()\n",
    "L6"
   ]
  },
  {
   "cell_type": "markdown",
   "id": "77d17a1a-1839-4ee3-8cce-401fd403bb96",
   "metadata": {},
   "source": [
    "### 2. Access"
   ]
  },
  {
   "cell_type": "code",
   "execution_count": 12,
   "id": "2537bb25-77b4-453f-8a52-a058a32d3dc7",
   "metadata": {},
   "outputs": [
    {
     "data": {
      "text/plain": [
       "[1, 2, 3, 4, 5]"
      ]
     },
     "execution_count": 12,
     "metadata": {},
     "output_type": "execute_result"
    }
   ],
   "source": [
    "L1"
   ]
  },
  {
   "cell_type": "code",
   "execution_count": 13,
   "id": "51d93228-8aff-436b-b6a8-eb70385f1f98",
   "metadata": {},
   "outputs": [
    {
     "data": {
      "text/plain": [
       "1"
      ]
     },
     "execution_count": 13,
     "metadata": {},
     "output_type": "execute_result"
    }
   ],
   "source": [
    "L1[0]"
   ]
  },
  {
   "cell_type": "code",
   "execution_count": 14,
   "id": "6b66a7cd-233c-4669-977b-01af309a06e4",
   "metadata": {},
   "outputs": [
    {
     "data": {
      "text/plain": [
       "5"
      ]
     },
     "execution_count": 14,
     "metadata": {},
     "output_type": "execute_result"
    }
   ],
   "source": [
    "L1[-1]"
   ]
  },
  {
   "cell_type": "code",
   "execution_count": 15,
   "id": "d0472172-d3ad-4d5d-a523-cc8dfda6dd1b",
   "metadata": {},
   "outputs": [
    {
     "data": {
      "text/plain": [
       "[2, 3]"
      ]
     },
     "execution_count": 15,
     "metadata": {},
     "output_type": "execute_result"
    }
   ],
   "source": [
    "# Slicing\n",
    "L1[1:3]"
   ]
  },
  {
   "cell_type": "code",
   "execution_count": 16,
   "id": "8bb2c1e3-37f6-4b8e-bfb4-ad5b7a895ffa",
   "metadata": {},
   "outputs": [
    {
     "data": {
      "text/plain": [
       "[5, 4, 3, 2, 1]"
      ]
     },
     "execution_count": 16,
     "metadata": {},
     "output_type": "execute_result"
    }
   ],
   "source": [
    "L1[::-1]"
   ]
  },
  {
   "cell_type": "code",
   "execution_count": 17,
   "id": "2c881d50-7387-4cc7-ad90-3fde857d428b",
   "metadata": {},
   "outputs": [
    {
     "data": {
      "text/plain": [
       "[1, 2, 3, [4, 5]]"
      ]
     },
     "execution_count": 17,
     "metadata": {},
     "output_type": "execute_result"
    }
   ],
   "source": [
    "L3"
   ]
  },
  {
   "cell_type": "code",
   "execution_count": 18,
   "id": "2df7ce5c-6a7c-434e-bcc6-273404d20bb1",
   "metadata": {},
   "outputs": [
    {
     "data": {
      "text/plain": [
       "1"
      ]
     },
     "execution_count": 18,
     "metadata": {},
     "output_type": "execute_result"
    }
   ],
   "source": [
    "L3[0]"
   ]
  },
  {
   "cell_type": "code",
   "execution_count": 19,
   "id": "c2eae6fd-45fe-48cc-ba39-9b04d34174c1",
   "metadata": {},
   "outputs": [
    {
     "data": {
      "text/plain": [
       "[4, 5]"
      ]
     },
     "execution_count": 19,
     "metadata": {},
     "output_type": "execute_result"
    }
   ],
   "source": [
    "L3[-1]"
   ]
  },
  {
   "cell_type": "code",
   "execution_count": 20,
   "id": "7b81ec87-1d94-43ff-b36f-e4cba09347d1",
   "metadata": {},
   "outputs": [
    {
     "data": {
      "text/plain": [
       "[4, 5]"
      ]
     },
     "execution_count": 20,
     "metadata": {},
     "output_type": "execute_result"
    }
   ],
   "source": [
    "x = L3[-1]\n",
    "x"
   ]
  },
  {
   "cell_type": "code",
   "execution_count": 21,
   "id": "d368e47a-82a9-47e0-a674-6a120c0646b3",
   "metadata": {},
   "outputs": [
    {
     "data": {
      "text/plain": [
       "4"
      ]
     },
     "execution_count": 21,
     "metadata": {},
     "output_type": "execute_result"
    }
   ],
   "source": [
    "x[0]"
   ]
  },
  {
   "cell_type": "code",
   "execution_count": 22,
   "id": "d481ca2a-95c2-4106-bd85-bcf7d9cda190",
   "metadata": {},
   "outputs": [
    {
     "data": {
      "text/plain": [
       "4"
      ]
     },
     "execution_count": 22,
     "metadata": {},
     "output_type": "execute_result"
    }
   ],
   "source": [
    "L3[-1][0]"
   ]
  },
  {
   "cell_type": "code",
   "execution_count": 23,
   "id": "24507256-1e51-4a29-9009-d38e3930b28a",
   "metadata": {},
   "outputs": [
    {
     "data": {
      "text/plain": [
       "5"
      ]
     },
     "execution_count": 23,
     "metadata": {},
     "output_type": "execute_result"
    }
   ],
   "source": [
    "L3[-1][-1]"
   ]
  },
  {
   "cell_type": "code",
   "execution_count": 24,
   "id": "7468e6cc-a5ad-4a4b-808c-2565437ee540",
   "metadata": {},
   "outputs": [
    {
     "data": {
      "text/plain": [
       "[[[1, 2], [3, 4]], [[5, 6], [7, 8]]]"
      ]
     },
     "execution_count": 24,
     "metadata": {},
     "output_type": "execute_result"
    }
   ],
   "source": [
    "L4"
   ]
  },
  {
   "cell_type": "code",
   "execution_count": 25,
   "id": "2dc3917c-e8eb-4b4f-9142-dc4be47e840a",
   "metadata": {},
   "outputs": [
    {
     "data": {
      "text/plain": [
       "7"
      ]
     },
     "execution_count": 25,
     "metadata": {},
     "output_type": "execute_result"
    }
   ],
   "source": [
    "L4[-1][-1][0]"
   ]
  },
  {
   "cell_type": "code",
   "execution_count": 26,
   "id": "9b9bc8bf-b7a3-4628-9b99-d33621ccdaeb",
   "metadata": {},
   "outputs": [
    {
     "data": {
      "text/plain": [
       "4"
      ]
     },
     "execution_count": 26,
     "metadata": {},
     "output_type": "execute_result"
    }
   ],
   "source": [
    "L4[0][1][1]"
   ]
  },
  {
   "cell_type": "markdown",
   "id": "ee33e67a-2f6f-4287-b005-56fb1c83c95f",
   "metadata": {},
   "source": [
    "### 3. Edit"
   ]
  },
  {
   "cell_type": "code",
   "execution_count": 27,
   "id": "1cdbbd88-6723-492d-a568-2186d0a59389",
   "metadata": {},
   "outputs": [
    {
     "data": {
      "text/plain": [
       "[1, 2, 3, 4, 5]"
      ]
     },
     "execution_count": 27,
     "metadata": {},
     "output_type": "execute_result"
    }
   ],
   "source": [
    "L1"
   ]
  },
  {
   "cell_type": "code",
   "execution_count": 28,
   "id": "7a512d1f-0573-4227-adc7-ed590e9fb3df",
   "metadata": {},
   "outputs": [
    {
     "data": {
      "text/plain": [
       "[100, 2, 3, 4, 5]"
      ]
     },
     "execution_count": 28,
     "metadata": {},
     "output_type": "execute_result"
    }
   ],
   "source": [
    "# Editing With Indexing\n",
    "L1[0] = 100\n",
    "L1\n",
    "# List in Python are Mutable"
   ]
  },
  {
   "cell_type": "code",
   "execution_count": 29,
   "id": "b83a2422-8e97-4c3b-a81f-4025c19ca63a",
   "metadata": {},
   "outputs": [
    {
     "data": {
      "text/plain": [
       "[100, 2, 3, 4, 500]"
      ]
     },
     "execution_count": 29,
     "metadata": {},
     "output_type": "execute_result"
    }
   ],
   "source": [
    "L1[-1] = 500\n",
    "L1"
   ]
  },
  {
   "cell_type": "code",
   "execution_count": 30,
   "id": "d984e702-3e24-42bf-b8db-309824660977",
   "metadata": {},
   "outputs": [
    {
     "data": {
      "text/plain": [
       "[100, 200, 300, 400, 500]"
      ]
     },
     "execution_count": 30,
     "metadata": {},
     "output_type": "execute_result"
    }
   ],
   "source": [
    "# Editing With Slicing\n",
    "L1[1:4] = [200, 300, 400]\n",
    "L1"
   ]
  },
  {
   "cell_type": "markdown",
   "id": "d08ef995-3d47-4780-90c3-fe04db04a880",
   "metadata": {},
   "source": [
    "### 4. Add\n",
    "- append()\n",
    "- extend()\n",
    "- insert()"
   ]
  },
  {
   "cell_type": "code",
   "execution_count": 31,
   "id": "3e374307-e83b-4ecb-9daf-b5d51fd8b10c",
   "metadata": {},
   "outputs": [
    {
     "data": {
      "text/plain": [
       "[100, 200, 300, 400, 500]"
      ]
     },
     "execution_count": 31,
     "metadata": {},
     "output_type": "execute_result"
    }
   ],
   "source": [
    "L1"
   ]
  },
  {
   "cell_type": "code",
   "execution_count": 32,
   "id": "7a6455a1-68c4-4522-a8d5-ca79cd054b8b",
   "metadata": {},
   "outputs": [
    {
     "data": {
      "text/plain": [
       "[100, 200, 300, 400, 500, 1000]"
      ]
     },
     "execution_count": 32,
     "metadata": {},
     "output_type": "execute_result"
    }
   ],
   "source": [
    "L1.append(1000)\n",
    "L1"
   ]
  },
  {
   "cell_type": "code",
   "execution_count": 33,
   "id": "0d8f76b5-c168-4da6-aabf-728a20604fff",
   "metadata": {},
   "outputs": [
    {
     "data": {
      "text/plain": [
       "[100, 200, 300, 400, 500, 1000, 'hello']"
      ]
     },
     "execution_count": 33,
     "metadata": {},
     "output_type": "execute_result"
    }
   ],
   "source": [
    "L1.append(\"hello\")\n",
    "L1"
   ]
  },
  {
   "cell_type": "code",
   "execution_count": 34,
   "id": "8626052b-6d28-4e6f-a8fe-8fe333393c97",
   "metadata": {},
   "outputs": [
    {
     "data": {
      "text/plain": [
       "[100, 200, 300, 400, 500, 1000, 'hello', 5000, 6000, 7000]"
      ]
     },
     "execution_count": 34,
     "metadata": {},
     "output_type": "execute_result"
    }
   ],
   "source": [
    "L1.extend([5000, 6000, 7000])\n",
    "L1"
   ]
  },
  {
   "cell_type": "code",
   "execution_count": 35,
   "id": "27fb48d8-29f8-42e9-9af5-48e323228ab8",
   "metadata": {},
   "outputs": [
    {
     "data": {
      "text/plain": [
       "[100, 200, 300, 400, 500, 1000, 'hello', 5000, 6000, 7000, [5, 6]]"
      ]
     },
     "execution_count": 35,
     "metadata": {},
     "output_type": "execute_result"
    }
   ],
   "source": [
    "L1.append([5, 6])\n",
    "L1"
   ]
  },
  {
   "cell_type": "code",
   "execution_count": 36,
   "id": "c0718918-c105-48c1-ac93-f2e1c113ffd2",
   "metadata": {},
   "outputs": [
    {
     "data": {
      "text/plain": [
       "[100,\n",
       " 200,\n",
       " 300,\n",
       " 400,\n",
       " 500,\n",
       " 1000,\n",
       " 'hello',\n",
       " 5000,\n",
       " 6000,\n",
       " 7000,\n",
       " [5, 6],\n",
       " 'g',\n",
       " 'o',\n",
       " 'a']"
      ]
     },
     "execution_count": 36,
     "metadata": {},
     "output_type": "execute_result"
    }
   ],
   "source": [
    "L1.extend(\"goa\")\n",
    "L1"
   ]
  },
  {
   "cell_type": "code",
   "execution_count": 37,
   "id": "1e741ed4-40fd-4376-b7b8-714f5cfe7d79",
   "metadata": {},
   "outputs": [
    {
     "data": {
      "text/plain": [
       "[100,\n",
       " 'world',\n",
       " 200,\n",
       " 300,\n",
       " 400,\n",
       " 500,\n",
       " 1000,\n",
       " 'hello',\n",
       " 5000,\n",
       " 6000,\n",
       " 7000,\n",
       " [5, 6],\n",
       " 'g',\n",
       " 'o',\n",
       " 'a']"
      ]
     },
     "execution_count": 37,
     "metadata": {},
     "output_type": "execute_result"
    }
   ],
   "source": [
    "L1.insert(1, \"world\")\n",
    "L1"
   ]
  },
  {
   "cell_type": "markdown",
   "id": "ba3e15b3-ec91-4273-82f3-689028bd48f3",
   "metadata": {},
   "source": [
    "### 5. Delete\n",
    "- del\n",
    "- .remove()\n",
    "- .pop()\n",
    "- .clear()"
   ]
  },
  {
   "cell_type": "code",
   "execution_count": 38,
   "id": "0256be85-b0dc-4086-afe0-5509f725c3bc",
   "metadata": {},
   "outputs": [
    {
     "data": {
      "text/plain": [
       "['Hello', 4, 5, 6, True, (5+6j)]"
      ]
     },
     "execution_count": 38,
     "metadata": {},
     "output_type": "execute_result"
    }
   ],
   "source": [
    "L2"
   ]
  },
  {
   "cell_type": "code",
   "execution_count": 39,
   "id": "61c86489-0fdd-4b9d-be0d-bf5327368bdd",
   "metadata": {},
   "outputs": [
    {
     "ename": "NameError",
     "evalue": "name 'L2' is not defined",
     "output_type": "error",
     "traceback": [
      "\u001b[1;31m---------------------------------------------------------------------------\u001b[0m",
      "\u001b[1;31mNameError\u001b[0m                                 Traceback (most recent call last)",
      "Cell \u001b[1;32mIn[39], line 2\u001b[0m\n\u001b[0;32m      1\u001b[0m \u001b[38;5;28;01mdel\u001b[39;00m L2\n\u001b[1;32m----> 2\u001b[0m L2\n",
      "\u001b[1;31mNameError\u001b[0m: name 'L2' is not defined"
     ]
    }
   ],
   "source": [
    "del L2\n",
    "L2"
   ]
  },
  {
   "cell_type": "code",
   "execution_count": null,
   "id": "67717287-77c3-4540-8940-52e9c6385983",
   "metadata": {},
   "outputs": [],
   "source": [
    "del L1[0]\n",
    "L1"
   ]
  },
  {
   "cell_type": "code",
   "execution_count": null,
   "id": "ac25cac5-faeb-4c71-aa6a-c134059a962d",
   "metadata": {},
   "outputs": [],
   "source": [
    "del L1[-4]\n",
    "L1"
   ]
  },
  {
   "cell_type": "code",
   "execution_count": null,
   "id": "8d12ae37-40b1-4cbd-9964-ad719124f4c9",
   "metadata": {},
   "outputs": [],
   "source": [
    "del L1[-3:]\n",
    "L1"
   ]
  },
  {
   "cell_type": "code",
   "execution_count": 40,
   "id": "b449490f-0b83-449a-b8c0-9b428e8aa543",
   "metadata": {},
   "outputs": [
    {
     "data": {
      "text/plain": [
       "[100,\n",
       " 'world',\n",
       " 200,\n",
       " 300,\n",
       " 400,\n",
       " 500,\n",
       " 1000,\n",
       " 5000,\n",
       " 6000,\n",
       " 7000,\n",
       " [5, 6],\n",
       " 'g',\n",
       " 'o',\n",
       " 'a']"
      ]
     },
     "execution_count": 40,
     "metadata": {},
     "output_type": "execute_result"
    }
   ],
   "source": [
    "L1.remove(\"hello\")\n",
    "L1"
   ]
  },
  {
   "cell_type": "code",
   "execution_count": 41,
   "id": "ee65338a-054f-48b8-a293-32399f293c4a",
   "metadata": {},
   "outputs": [
    {
     "data": {
      "text/plain": [
       "[100, 'world', 200, 300, 400, 500, 1000, 5000, 6000, 7000, [5, 6], 'g', 'o']"
      ]
     },
     "execution_count": 41,
     "metadata": {},
     "output_type": "execute_result"
    }
   ],
   "source": [
    "L1.pop()\n",
    "L1"
   ]
  },
  {
   "cell_type": "code",
   "execution_count": 42,
   "id": "0d71372f-63de-4815-9c1c-a7229f1fa8a3",
   "metadata": {},
   "outputs": [
    {
     "data": {
      "text/plain": [
       "[100, 'world', 200, 300, 400, 500, 1000, 5000, 6000, 7000, [5, 6], 'g']"
      ]
     },
     "execution_count": 42,
     "metadata": {},
     "output_type": "execute_result"
    }
   ],
   "source": [
    "L1.pop()\n",
    "L1"
   ]
  },
  {
   "cell_type": "code",
   "execution_count": 43,
   "id": "2597a75d-26d3-4035-819d-204a17b20ed5",
   "metadata": {},
   "outputs": [
    {
     "data": {
      "text/plain": [
       "[]"
      ]
     },
     "execution_count": 43,
     "metadata": {},
     "output_type": "execute_result"
    }
   ],
   "source": [
    "L1.clear()\n",
    "L1"
   ]
  },
  {
   "cell_type": "markdown",
   "id": "f9e57b57-8e9f-4f7e-9a1e-1def37c903c6",
   "metadata": {},
   "source": [
    "### 6. Operations\n",
    "- Arithmetic\n",
    "- Membership\n",
    "- Loop"
   ]
  },
  {
   "cell_type": "code",
   "execution_count": 44,
   "id": "b6b78df3-e2b5-4736-9cf9-e93d9ca8c542",
   "metadata": {},
   "outputs": [],
   "source": [
    "L = [1, 2, 3, 4]\n",
    "L1 = [5, 6, 7, 8]"
   ]
  },
  {
   "cell_type": "code",
   "execution_count": 45,
   "id": "8c258278-f444-449a-926b-82d7a8e82da8",
   "metadata": {},
   "outputs": [
    {
     "data": {
      "text/plain": [
       "[1, 2, 3, 4, 5, 6, 7, 8]"
      ]
     },
     "execution_count": 45,
     "metadata": {},
     "output_type": "execute_result"
    }
   ],
   "source": [
    "# Concatenation/Merge\n",
    "L + L1"
   ]
  },
  {
   "cell_type": "code",
   "execution_count": 46,
   "id": "d0da7f0d-002a-49be-a378-75e277acbb33",
   "metadata": {},
   "outputs": [
    {
     "data": {
      "text/plain": [
       "[1, 2, 3, 4]"
      ]
     },
     "execution_count": 46,
     "metadata": {},
     "output_type": "execute_result"
    }
   ],
   "source": [
    "L"
   ]
  },
  {
   "cell_type": "code",
   "execution_count": 47,
   "id": "37425ac6-bd7c-4dc0-9691-ee32ae804d17",
   "metadata": {},
   "outputs": [
    {
     "data": {
      "text/plain": [
       "[5, 6, 7, 8]"
      ]
     },
     "execution_count": 47,
     "metadata": {},
     "output_type": "execute_result"
    }
   ],
   "source": [
    "L1"
   ]
  },
  {
   "cell_type": "code",
   "execution_count": 48,
   "id": "813a1f65-477f-4ba5-b151-896789576b50",
   "metadata": {},
   "outputs": [
    {
     "data": {
      "text/plain": [
       "[1, 2, 3, 4, 1, 2, 3, 4, 1, 2, 3, 4]"
      ]
     },
     "execution_count": 48,
     "metadata": {},
     "output_type": "execute_result"
    }
   ],
   "source": [
    "L * 3"
   ]
  },
  {
   "cell_type": "code",
   "execution_count": 49,
   "id": "976cdf9b-910f-4c14-95aa-75e874c91f87",
   "metadata": {},
   "outputs": [
    {
     "name": "stdout",
     "output_type": "stream",
     "text": [
      "1\n",
      "2\n",
      "3\n",
      "4\n"
     ]
    }
   ],
   "source": [
    "# Loops\n",
    "for i in L:\n",
    "    print(i)"
   ]
  },
  {
   "cell_type": "code",
   "execution_count": 50,
   "id": "92b83b3b-ecd5-40cb-a72b-0ee858e0fd22",
   "metadata": {},
   "outputs": [
    {
     "data": {
      "text/plain": [
       "[1, 2, 3, [4, 5]]"
      ]
     },
     "execution_count": 50,
     "metadata": {},
     "output_type": "execute_result"
    }
   ],
   "source": [
    "L3"
   ]
  },
  {
   "cell_type": "code",
   "execution_count": 51,
   "id": "aa6e1a5f-28bb-4e07-b7b7-8353ce85002d",
   "metadata": {},
   "outputs": [
    {
     "name": "stdout",
     "output_type": "stream",
     "text": [
      "1\n",
      "2\n",
      "3\n",
      "[4, 5]\n"
     ]
    }
   ],
   "source": [
    "for i in L3:\n",
    "    print(i)"
   ]
  },
  {
   "cell_type": "code",
   "execution_count": 52,
   "id": "ca62d076-0fe3-44f7-b25f-05cb83a67c76",
   "metadata": {},
   "outputs": [
    {
     "data": {
      "text/plain": [
       "False"
      ]
     },
     "execution_count": 52,
     "metadata": {},
     "output_type": "execute_result"
    }
   ],
   "source": [
    "4 in L3"
   ]
  },
  {
   "cell_type": "code",
   "execution_count": 53,
   "id": "87d39b25-5115-4d4f-8dbb-2af00accd9f2",
   "metadata": {},
   "outputs": [
    {
     "data": {
      "text/plain": [
       "True"
      ]
     },
     "execution_count": 53,
     "metadata": {},
     "output_type": "execute_result"
    }
   ],
   "source": [
    "[4, 5] in L3"
   ]
  },
  {
   "cell_type": "markdown",
   "id": "17f1ba3d-0489-4975-8b10-6cbf0002495b",
   "metadata": {},
   "source": [
    "### 7. Functions\n",
    "- len()\n",
    "- min()\n",
    "- max()\n",
    "- sorted()"
   ]
  },
  {
   "cell_type": "code",
   "execution_count": 54,
   "id": "fcc47608-2079-4bcd-b870-46f4fc9c3e15",
   "metadata": {},
   "outputs": [
    {
     "data": {
      "text/plain": [
       "[1, 2, 3, 4]"
      ]
     },
     "execution_count": 54,
     "metadata": {},
     "output_type": "execute_result"
    }
   ],
   "source": [
    "L"
   ]
  },
  {
   "cell_type": "code",
   "execution_count": 55,
   "id": "ea4ab469-c342-4fee-958d-5ae8227f6a16",
   "metadata": {},
   "outputs": [
    {
     "data": {
      "text/plain": [
       "4"
      ]
     },
     "execution_count": 55,
     "metadata": {},
     "output_type": "execute_result"
    }
   ],
   "source": [
    "len(L)"
   ]
  },
  {
   "cell_type": "code",
   "execution_count": 56,
   "id": "07cfbd66-93e1-45f5-b756-8e90348a7a69",
   "metadata": {},
   "outputs": [
    {
     "data": {
      "text/plain": [
       "1"
      ]
     },
     "execution_count": 56,
     "metadata": {},
     "output_type": "execute_result"
    }
   ],
   "source": [
    "min(L)"
   ]
  },
  {
   "cell_type": "code",
   "execution_count": 57,
   "id": "119858f8-a4cb-496a-ac7d-d78d30afbb78",
   "metadata": {},
   "outputs": [
    {
     "data": {
      "text/plain": [
       "4"
      ]
     },
     "execution_count": 57,
     "metadata": {},
     "output_type": "execute_result"
    }
   ],
   "source": [
    "max(L)"
   ]
  },
  {
   "cell_type": "code",
   "execution_count": 58,
   "id": "bc01bc0e-fe00-4a35-9c02-cb79da70dce9",
   "metadata": {},
   "outputs": [
    {
     "data": {
      "text/plain": [
       "[1, 2, 3, 4]"
      ]
     },
     "execution_count": 58,
     "metadata": {},
     "output_type": "execute_result"
    }
   ],
   "source": [
    "sorted(L)"
   ]
  },
  {
   "cell_type": "code",
   "execution_count": 59,
   "id": "d9d4ecc4-bb47-4041-8956-3147841f2c34",
   "metadata": {},
   "outputs": [
    {
     "data": {
      "text/plain": [
       "[4, 3, 2, 1]"
      ]
     },
     "execution_count": 59,
     "metadata": {},
     "output_type": "execute_result"
    }
   ],
   "source": [
    "sorted(L, reverse = True)"
   ]
  },
  {
   "cell_type": "code",
   "execution_count": 60,
   "id": "b014317b-ae4d-4dc2-a8d1-994ab6b584a1",
   "metadata": {},
   "outputs": [
    {
     "data": {
      "text/plain": [
       "[1, 2, 3, 4]"
      ]
     },
     "execution_count": 60,
     "metadata": {},
     "output_type": "execute_result"
    }
   ],
   "source": [
    "L"
   ]
  },
  {
   "cell_type": "code",
   "execution_count": 61,
   "id": "2744838d-7081-4670-9471-8923ad792ca2",
   "metadata": {},
   "outputs": [],
   "source": [
    "L.sort(reverse = True)"
   ]
  },
  {
   "cell_type": "code",
   "execution_count": 62,
   "id": "ce71be65-4721-4276-8fe1-065dfec7d46d",
   "metadata": {},
   "outputs": [
    {
     "data": {
      "text/plain": [
       "[4, 3, 2, 1]"
      ]
     },
     "execution_count": 62,
     "metadata": {},
     "output_type": "execute_result"
    }
   ],
   "source": [
    "L"
   ]
  },
  {
   "cell_type": "code",
   "execution_count": 63,
   "id": "be60b06f-4a40-465c-ae67-caee072ede22",
   "metadata": {},
   "outputs": [],
   "source": [
    "L.sort()"
   ]
  },
  {
   "cell_type": "code",
   "execution_count": 64,
   "id": "9ee8ed04-97a2-4a67-855b-572d885c2c1e",
   "metadata": {},
   "outputs": [
    {
     "data": {
      "text/plain": [
       "1"
      ]
     },
     "execution_count": 64,
     "metadata": {},
     "output_type": "execute_result"
    }
   ],
   "source": [
    "# count \n",
    "L = [1, 2, 1, 3, 4, 1, 5]\n",
    "L.count(5)"
   ]
  },
  {
   "cell_type": "code",
   "execution_count": 65,
   "id": "df4e230d-7963-498d-93b6-7c7fccf1a2e1",
   "metadata": {},
   "outputs": [
    {
     "data": {
      "text/plain": [
       "[1, 2, 1, 3, 4, 1, 5]"
      ]
     },
     "execution_count": 65,
     "metadata": {},
     "output_type": "execute_result"
    }
   ],
   "source": [
    "L"
   ]
  },
  {
   "cell_type": "code",
   "execution_count": 66,
   "id": "b3ad5abb-3998-4085-8423-822cd86d17f6",
   "metadata": {},
   "outputs": [
    {
     "data": {
      "text/plain": [
       "3"
      ]
     },
     "execution_count": 66,
     "metadata": {},
     "output_type": "execute_result"
    }
   ],
   "source": [
    "# index\n",
    "L.index(3)"
   ]
  },
  {
   "cell_type": "code",
   "execution_count": 67,
   "id": "861accda-3c9e-4e87-97d2-d7d32ae69789",
   "metadata": {},
   "outputs": [
    {
     "name": "stdout",
     "output_type": "stream",
     "text": [
      "[0, 7, 5, 1, 2]\n"
     ]
    }
   ],
   "source": [
    "# reverse\n",
    "L = [2, 1, 5, 7, 0]\n",
    "# permanently reverses the list\n",
    "L.reverse()\n",
    "print(L)"
   ]
  },
  {
   "cell_type": "code",
   "execution_count": 68,
   "id": "0db628a8-80fb-42d5-bc26-9ccedabf9be1",
   "metadata": {},
   "outputs": [
    {
     "name": "stdout",
     "output_type": "stream",
     "text": [
      "[2, 1, 5, 7, 0]\n",
      "[0, 1, 2, 5, 7]\n",
      "[2, 1, 5, 7, 0]\n",
      "[0, 1, 2, 5, 7]\n"
     ]
    }
   ],
   "source": [
    "# sort (vs sorted)\n",
    "L = [2, 1, 5, 7, 0]\n",
    "print(L)\n",
    "print(sorted(L)) # New sorted list\n",
    "print(L)         # Original list (unchanged)\n",
    "L.sort()\n",
    "print(L)         # Original list (sorted)"
   ]
  },
  {
   "cell_type": "code",
   "execution_count": 69,
   "id": "0ea5c268-77e0-40a6-a445-540581cdeb59",
   "metadata": {},
   "outputs": [
    {
     "name": "stdout",
     "output_type": "stream",
     "text": [
      "[2, 1, 5, 7, 0]\n",
      "1628502234432\n",
      "[2, 1, 5, 7, 0]\n",
      "1628510822080\n"
     ]
    }
   ],
   "source": [
    "# copy ---> shallow\n",
    "L = [2, 1, 5, 7, 0]\n",
    "print(L)\n",
    "print(id(L))\n",
    "L1 = L.copy()\n",
    "print(L1)\n",
    "print(id(L1))"
   ]
  },
  {
   "cell_type": "code",
   "execution_count": 70,
   "id": "9c319734-29ed-4ba4-b63b-a4eb655e326f",
   "metadata": {},
   "outputs": [
    {
     "data": {
      "text/plain": [
       "'Hello How Are You'"
      ]
     },
     "execution_count": 70,
     "metadata": {},
     "output_type": "execute_result"
    }
   ],
   "source": [
    "\"hello how are you\".title()"
   ]
  },
  {
   "cell_type": "code",
   "execution_count": 71,
   "id": "c70960bf-6227-45e3-97ad-0f84cb9c594c",
   "metadata": {},
   "outputs": [
    {
     "name": "stdout",
     "output_type": "stream",
     "text": [
      "['How', 'Are', 'You?']\n",
      "How Are You?\n"
     ]
    }
   ],
   "source": [
    "# Title Case a String Without title()\n",
    "sample = \"how are you?\"\n",
    "sample.split()\n",
    "L = []\n",
    "for i in sample.split():\n",
    "    L.append(i.capitalize())\n",
    "print(L)\n",
    "print(\" \".join(L))"
   ]
  },
  {
   "cell_type": "code",
   "execution_count": 72,
   "id": "51b1aa2c-2a09-48e4-b3e2-2ced5a3a88a9",
   "metadata": {},
   "outputs": [
    {
     "name": "stdout",
     "output_type": "stream",
     "text": [
      "saurabh\n"
     ]
    }
   ],
   "source": [
    "sample = \"saurabh@gmail.com\"\n",
    "print(sample[:sample.find(\"@\")])"
   ]
  },
  {
   "cell_type": "code",
   "execution_count": 73,
   "id": "ac3ddddc-fe30-433b-9846-bd7174a7d44d",
   "metadata": {},
   "outputs": [
    {
     "name": "stdout",
     "output_type": "stream",
     "text": [
      "[1, 2, 3, 4]\n"
     ]
    }
   ],
   "source": [
    "L1 = [1, 1, 2, 2, 3, 3, 4, 4]\n",
    "# Output: L2 = [1, 2, 3, 4]\n",
    "L = []\n",
    "for i in L1:\n",
    "    if i not in L:\n",
    "        L.append(i)\n",
    "print(L)    "
   ]
  },
  {
   "cell_type": "markdown",
   "id": "1fc24563-2017-4b43-99bb-08eccc3a524e",
   "metadata": {},
   "source": [
    "## List Comprehension\n",
    "Compact list creation.\n",
    "newlist = [expresion for item in iterable if condition == True]<br>\n",
    "Example:<br>\n",
    "squares = [x**2 for x in range(10)] ---> squares 0-9.\n",
    "#### Advantages\n",
    "- Efficient: Time & space.\n",
    "- Concise: Fewer lines.\n",
    "- Formulaic: Iteration ---> expression."
   ]
  },
  {
   "cell_type": "code",
   "execution_count": 74,
   "id": "35f39e7c-d0a1-468a-8045-add439abc3ad",
   "metadata": {},
   "outputs": [
    {
     "data": {
      "text/plain": [
       "[1, 2, 3, 4, 5, 6, 7]"
      ]
     },
     "execution_count": 74,
     "metadata": {},
     "output_type": "execute_result"
    }
   ],
   "source": [
    "L = [1, 2, 3, 4, 5, 6, 7]\n",
    "L"
   ]
  },
  {
   "cell_type": "code",
   "execution_count": 75,
   "id": "3d2983f3-c47c-4d41-8440-0a23f5e9c001",
   "metadata": {},
   "outputs": [
    {
     "data": {
      "text/plain": [
       "[2, 4, 6, 8, 10, 12, 14]"
      ]
     },
     "execution_count": 75,
     "metadata": {},
     "output_type": "execute_result"
    }
   ],
   "source": [
    "L1 = [item * 2 for item in L]\n",
    "L1"
   ]
  },
  {
   "cell_type": "code",
   "execution_count": 76,
   "id": "c9cbfc53-c5c6-4c37-ba45-b5f4f5919aa9",
   "metadata": {},
   "outputs": [
    {
     "data": {
      "text/plain": [
       "[0, 1, 4, 9, 16, 25, 36, 49, 64, 81]"
      ]
     },
     "execution_count": 76,
     "metadata": {},
     "output_type": "execute_result"
    }
   ],
   "source": [
    "L2 = [i**2 for i in range(10)]\n",
    "L2"
   ]
  },
  {
   "cell_type": "code",
   "execution_count": 77,
   "id": "583cb9f8-f213-4fe9-8a6e-cc70780fad56",
   "metadata": {},
   "outputs": [
    {
     "data": {
      "text/plain": [
       "[1, 9, 25, 49, 81]"
      ]
     },
     "execution_count": 77,
     "metadata": {},
     "output_type": "execute_result"
    }
   ],
   "source": [
    "L3 = [i**2 for i in range(10) if i%2!=0]\n",
    "L3"
   ]
  },
  {
   "cell_type": "code",
   "execution_count": 78,
   "id": "5feb220f-26f3-478c-8180-ccf4f1999ea1",
   "metadata": {},
   "outputs": [
    {
     "data": {
      "text/plain": [
       "['Apple', 'Orange', 'Mango', 'Guava']"
      ]
     },
     "execution_count": 78,
     "metadata": {},
     "output_type": "execute_result"
    }
   ],
   "source": [
    "fruits = ['Apple', 'Orange', 'Mango', 'Guava']\n",
    "fruits"
   ]
  },
  {
   "cell_type": "code",
   "execution_count": 79,
   "id": "3ff41385-ca2a-4100-9a9c-b00e2f66d574",
   "metadata": {},
   "outputs": [
    {
     "data": {
      "text/plain": [
       "['Orange']"
      ]
     },
     "execution_count": 79,
     "metadata": {},
     "output_type": "execute_result"
    }
   ],
   "source": [
    "L4 = [fruit for fruit in fruits if fruit[0]==\"O\"]\n",
    "L4"
   ]
  },
  {
   "cell_type": "code",
   "execution_count": 80,
   "id": "24d18795-541e-4160-beb6-127154dcf10d",
   "metadata": {},
   "outputs": [
    {
     "name": "stdout",
     "output_type": "stream",
     "text": [
      "[1, 2, 3, 4, 5, 6, 7, 8, 9, 10]\n"
     ]
    }
   ],
   "source": [
    "# Add 1-10 to list\n",
    "L = []\n",
    "for i in range(1, 11):\n",
    "  L.append(i)\n",
    "print(L)"
   ]
  },
  {
   "cell_type": "code",
   "execution_count": 81,
   "id": "06b13b69-21ae-4bf2-8b1b-fa67c310417e",
   "metadata": {},
   "outputs": [
    {
     "name": "stdout",
     "output_type": "stream",
     "text": [
      "[1, 2, 3, 4, 5, 6, 7, 8, 9, 10]\n"
     ]
    }
   ],
   "source": [
    "L = [i for i in range(1, 11)]\n",
    "print(L)"
   ]
  },
  {
   "cell_type": "code",
   "execution_count": 82,
   "id": "4a34db1f-9a13-450d-bba9-697bff8eb2a1",
   "metadata": {},
   "outputs": [
    {
     "data": {
      "text/plain": [
       "[-6, -9, -12]"
      ]
     },
     "execution_count": 82,
     "metadata": {},
     "output_type": "execute_result"
    }
   ],
   "source": [
    "# Scalar Multiplication\n",
    "v = [2, 3, 4] # Vector\n",
    "s = -3        # Scalar\n",
    "# [-6, -9, -12]\n",
    "[s*i for i in v]"
   ]
  },
  {
   "cell_type": "code",
   "execution_count": 83,
   "id": "e8c085c9-cc58-4b11-89ac-1841337bf228",
   "metadata": {},
   "outputs": [
    {
     "data": {
      "text/plain": [
       "[1, 4, 9, 16, 25]"
      ]
     },
     "execution_count": 83,
     "metadata": {},
     "output_type": "execute_result"
    }
   ],
   "source": [
    "# Add squares\n",
    "L = [1, 2, 3, 4, 5]\n",
    "[i**2 for i in L]"
   ]
  },
  {
   "cell_type": "code",
   "execution_count": 84,
   "id": "2ea3a338-2b9a-4ddc-b7a9-a67f874aaf86",
   "metadata": {},
   "outputs": [
    {
     "data": {
      "text/plain": [
       "[5, 10, 15, 20, 25, 30, 35, 40, 45, 50]"
      ]
     },
     "execution_count": 84,
     "metadata": {},
     "output_type": "execute_result"
    }
   ],
   "source": [
    "# Print nums divisible by 5 from 1 to 50\n",
    "[i for i in range(1, 51) if i%5 == 0]"
   ]
  },
  {
   "cell_type": "code",
   "execution_count": 85,
   "id": "ec74a7a0-d875-4173-8c54-4a2d569c61af",
   "metadata": {},
   "outputs": [
    {
     "data": {
      "text/plain": [
       "['python', 'php']"
      ]
     },
     "execution_count": 85,
     "metadata": {},
     "output_type": "execute_result"
    }
   ],
   "source": [
    "# Languages starting with 'p'\n",
    "languages = ['java', 'python', 'php', 'c', 'javascript']\n",
    "[language for language in languages if language.startswith('p')]"
   ]
  },
  {
   "cell_type": "code",
   "execution_count": 86,
   "id": "48fcad2b-925b-46d5-91b0-c920deb31dbc",
   "metadata": {},
   "outputs": [
    {
     "data": {
      "text/plain": [
       "['apple']"
      ]
     },
     "execution_count": 86,
     "metadata": {},
     "output_type": "execute_result"
    }
   ],
   "source": [
    "# Nested If with List Comprehension\n",
    "basket = ['apple', 'guava', 'cherry', 'banana']\n",
    "my_fruits = ['apple', 'kiwi', 'grapes', 'banana']\n",
    "# Add fruits from `my_fruits` that are in `basket` and start with 'a'\n",
    "[fruit for fruit in my_fruits if fruit in basket if fruit.startswith('a')]"
   ]
  },
  {
   "cell_type": "code",
   "execution_count": 87,
   "id": "5749baae-0c30-4f46-977e-f3769050c114",
   "metadata": {},
   "outputs": [
    {
     "data": {
      "text/plain": [
       "[[1, 2, 3], [2, 4, 6], [3, 6, 9]]"
      ]
     },
     "execution_count": 87,
     "metadata": {},
     "output_type": "execute_result"
    }
   ],
   "source": [
    "# 3x3 Matrix via Nested List Comprehension\n",
    "[[i*j for i in range(1, 4)] for j in range(1, 4)]"
   ]
  },
  {
   "cell_type": "code",
   "execution_count": 88,
   "id": "f54e412f-6647-4e3e-8fec-ff2356b2f2e0",
   "metadata": {},
   "outputs": [
    {
     "data": {
      "text/plain": [
       "[5, 6, 7, 8, 10, 12, 14, 16, 15, 18, 21, 24, 20, 24, 28, 32]"
      ]
     },
     "execution_count": 88,
     "metadata": {},
     "output_type": "execute_result"
    }
   ],
   "source": [
    "# Cartesian Products ---> List Comprehension on 2 lists together\n",
    "L1 = [1, 2, 3, 4]\n",
    "L2 = [5, 6, 7, 8]\n",
    "[i*j for i in L1 for j in L2]"
   ]
  },
  {
   "cell_type": "markdown",
   "id": "d452a5b2-d1a3-4285-98c9-3c1058195bce",
   "metadata": {},
   "source": [
    "## List Traversal\n",
    "#### 1. Itemwise\n",
    "#### 2. Indexwise"
   ]
  },
  {
   "cell_type": "code",
   "execution_count": 89,
   "id": "3fffad26-cac1-4f34-9a37-54bdef5fa383",
   "metadata": {},
   "outputs": [
    {
     "name": "stdout",
     "output_type": "stream",
     "text": [
      "1\n",
      "2\n",
      "3\n",
      "4\n"
     ]
    }
   ],
   "source": [
    "# Itemwise\n",
    "L = [1, 2, 3, 4]\n",
    "for i in L:\n",
    "  print(i)"
   ]
  },
  {
   "cell_type": "code",
   "execution_count": 90,
   "id": "e1812d9a-9ae8-43cb-ba7d-9eae98cae88f",
   "metadata": {},
   "outputs": [
    {
     "name": "stdout",
     "output_type": "stream",
     "text": [
      "1\n",
      "2\n",
      "3\n",
      "4\n"
     ]
    }
   ],
   "source": [
    "# Indexwise\n",
    "L = [1, 2, 3, 4]\n",
    "for i in range(0, len(L)):\n",
    "  print(L[i])"
   ]
  },
  {
   "cell_type": "markdown",
   "id": "4fb0af0b-7040-4368-92ae-b17b90f8140b",
   "metadata": {},
   "source": [
    "## Zip\n",
    "#### zip() Function:\n",
    "- Yields zip obj: iterator of tuples.\n",
    "- Combines 1st items of each iterator, then 2nd, etc.\n",
    "- Example:<br>\n",
    "    list1 = [1, 2, 3]<br>\n",
    "    list2 = ['a', 'b', 'c']<br>\n",
    "    zipped = zip(list1, list2)<br>\n",
    "    print(list(zipped))  # Output: [(1, 'a'), (2, 'b'), (3, 'c')]\n",
    "#### Length Mismatch:\n",
    "- Shortest iterator determines output length."
   ]
  },
  {
   "cell_type": "code",
   "execution_count": 91,
   "id": "8c914e38-aa10-482d-b913-50664017a0b9",
   "metadata": {},
   "outputs": [
    {
     "data": {
      "text/plain": [
       "[0, 0, 0, 0]"
      ]
     },
     "execution_count": 91,
     "metadata": {},
     "output_type": "execute_result"
    }
   ],
   "source": [
    "# Add items of 2 lists indexwise\n",
    "L1 = [1, 2, 3, 4]\n",
    "L2 = [-1, -2, -3, -4]\n",
    "list(zip(L1, L2)) \n",
    "[i+j for i, j in zip(L1, L2)]"
   ]
  },
  {
   "cell_type": "code",
   "execution_count": 92,
   "id": "18ac80d6-4dd7-4a29-a955-35f25b81beff",
   "metadata": {},
   "outputs": [
    {
     "name": "stdout",
     "output_type": "stream",
     "text": [
      "[1, 2, <built-in function print>, <class 'type'>, <bound method Kernel.raw_input of <ipykernel.ipkernel.IPythonKernel object at 0x0000017B2871D160>>]\n"
     ]
    }
   ],
   "source": [
    "L = [1, 2, print, type, input]\n",
    "print(L)"
   ]
  },
  {
   "cell_type": "markdown",
   "id": "8c395196-a055-4cda-b60d-c6899eb3297b",
   "metadata": {},
   "source": [
    "## Disadvantages of Python Lists\n",
    "- Slow\n",
    "- Risky usage\n",
    "- High memory usage"
   ]
  },
  {
   "cell_type": "code",
   "execution_count": 93,
   "id": "6cced3f0-a7d5-4015-b03d-276ead5b5bde",
   "metadata": {},
   "outputs": [
    {
     "name": "stdout",
     "output_type": "stream",
     "text": [
      "[1, 2, 3]\n",
      "[1, 2, 3]\n",
      "[1, 2, 3, 4]\n",
      "[1, 2, 3]\n"
     ]
    }
   ],
   "source": [
    "a = [1, 2, 3]\n",
    "b = a.copy()\n",
    "print(a)\n",
    "print(b)\n",
    "a.append(4)\n",
    "print(a)\n",
    "print(b)\n",
    "# lists are mutable"
   ]
  },
  {
   "cell_type": "markdown",
   "id": "30235fb2-a2bb-47f1-b6fd-cdbdd5e74b40",
   "metadata": {},
   "source": [
    "## List Programs"
   ]
  },
  {
   "cell_type": "code",
   "execution_count": 94,
   "id": "69e325de-074b-4337-b946-039680cd8633",
   "metadata": {},
   "outputs": [
    {
     "name": "stdout",
     "output_type": "stream",
     "text": [
      "Odd numbers: [1, 3, 5]\n",
      "Even numbers: [2, 4, 6]\n"
     ]
    }
   ],
   "source": [
    "# Split list into odd and even\n",
    "L = [1, 2, 3, 4, 5, 6]\n",
    "\n",
    "# Odd numbers\n",
    "odd_numbers = [x for x in L if x % 2 != 0]\n",
    "\n",
    "# Even numbers\n",
    "even_numbers = [x for x in L if x % 2 == 0]\n",
    "\n",
    "print(\"Odd numbers:\", odd_numbers)\n",
    "print(\"Even numbers:\", even_numbers)"
   ]
  },
  {
   "cell_type": "code",
   "execution_count": 96,
   "id": "4d570c0b-4e2f-4eae-a927-3b32c3b4bb3c",
   "metadata": {},
   "outputs": [
    {
     "name": "stdin",
     "output_type": "stream",
     "text": [
      "Enter the list elements separated by spaces:  123456\n"
     ]
    },
    {
     "name": "stdout",
     "output_type": "stream",
     "text": [
      "The input list is: [123456]\n"
     ]
    }
   ],
   "source": [
    "# List Input from User\n",
    "\n",
    "# 1. Prompt input\n",
    "input_string = input(\"Enter the list elements separated by spaces: \")\n",
    "\n",
    "# 2. Split string\n",
    "string_list = input_string.split()\n",
    "\n",
    "# 3. Convert to integers\n",
    "integer_list = [int(item) for item in string_list]\n",
    "\n",
    "# 4. Output\n",
    "print(\"The input list is:\", integer_list)"
   ]
  },
  {
   "cell_type": "code",
   "execution_count": 97,
   "id": "ec326ebc-a062-4dda-921f-c035aca04d48",
   "metadata": {},
   "outputs": [
    {
     "name": "stdout",
     "output_type": "stream",
     "text": [
      "Merged list: [1, 2, 3, 4, 5, 6, 7, 8]\n",
      "Merged list: [1, 2, 3, 4, 5, 6, 7, 8]\n"
     ]
    }
   ],
   "source": [
    "# Merge 2 Lists Without + Operator\n",
    "L1 = [1, 2, 3, 4]\n",
    "L2 = [5, 6, 7, 8]\n",
    "\n",
    "# 1. Using `extend()` Method\n",
    "L1 = [1, 2, 3, 4]\n",
    "L2 = [5, 6, 7, 8]\n",
    "# Merge L2 into L1\n",
    "L1.extend(L2)\n",
    "print(\"Merged list:\", L1)\n",
    "\n",
    "# 2. Using for Loop\n",
    "L1 = [1, 2, 3, 4]\n",
    "L2 = [5, 6, 7, 8]\n",
    "# Merge L2 into L1 using a loop\n",
    "for element in L2:\n",
    "    L1.append(element)\n",
    "print(\"Merged list:\", L1)"
   ]
  },
  {
   "cell_type": "code",
   "execution_count": 98,
   "id": "b8c2df80-6a77-48ef-8e46-02ebfc70d35e",
   "metadata": {},
   "outputs": [
    {
     "name": "stdout",
     "output_type": "stream",
     "text": [
      "Updated list: [1, 2, 300, 4, 5, 300]\n"
     ]
    }
   ],
   "source": [
    "# Replace item in list\n",
    "L = [1, 2, 3, 4, 5, 3]\n",
    "# replace 3 with 300\n",
    "\n",
    "L = [1, 2, 3, 4, 5, 3]\n",
    "old_item = 3\n",
    "new_item = 300\n",
    "# Iterate through the list and replace old_item with new_item\n",
    "for i in range(len(L)):\n",
    "    if L[i] == old_item:\n",
    "        L[i] = new_item\n",
    "print(\"Updated list:\", L)"
   ]
  },
  {
   "cell_type": "code",
   "execution_count": 99,
   "id": "949e14d3-11e4-4fe2-b532-e62b294c5b22",
   "metadata": {},
   "outputs": [
    {
     "name": "stdout",
     "output_type": "stream",
     "text": [
      "1D list: [1, 2, 3, 4, 5, 6, 7, 8, 9]\n"
     ]
    }
   ],
   "source": [
    "# Convert 2D to 1D List\n",
    "\n",
    "# Define 2D list\n",
    "L2D = [[1, 2, 3], [4, 5, 6], [7, 8, 9]]\n",
    "\n",
    "# Initialize 1D list\n",
    "L1D = []\n",
    "\n",
    "# Flatten 2D to 1D\n",
    "for sublist in L2D:\n",
    "    for item in sublist:\n",
    "        L1D.append(item)\n",
    "print(\"1D list:\", L1D)"
   ]
  },
  {
   "cell_type": "code",
   "execution_count": 100,
   "id": "e11c27ee-b6a8-44fc-92d7-e6b33206b7b4",
   "metadata": {},
   "outputs": [
    {
     "name": "stdout",
     "output_type": "stream",
     "text": [
      "List with duplicates removed: [1, 2, 3, 4, 5]\n"
     ]
    }
   ],
   "source": [
    "# Remove Duplicates from List\n",
    "L = [1, 2, 1, 2, 3, 4, 5, 3, 4]\n",
    "\n",
    "# Convert to set ---> Removes duplicates; Convert back to list.\n",
    "L_unique = list(set(L))\n",
    "\n",
    "print(\"List with duplicates removed:\", L_unique)"
   ]
  },
  {
   "cell_type": "code",
   "execution_count": 101,
   "id": "5fc8ffea-e056-42a8-9814-dc5fa9576b2c",
   "metadata": {},
   "outputs": [
    {
     "name": "stdout",
     "output_type": "stream",
     "text": [
      "L1 is in ascending order: True\n",
      "L2 is in ascending order: False\n"
     ]
    }
   ],
   "source": [
    "# Check if list is ascending\n",
    "def is_ascending(L):\n",
    "    for i in range(len(L) - 1):\n",
    "        if L[i] > L[i + 1]:\n",
    "            return False\n",
    "    return True\n",
    "\n",
    "# Test\n",
    "L1 = [1, 2, 3, 4, 5]\n",
    "L2 = [1, 3, 2, 4, 5]\n",
    "\n",
    "print(\"L1 is in ascending order:\", is_ascending(L1))\n",
    "print(\"L2 is in ascending order:\", is_ascending(L2))"
   ]
  },
  {
   "cell_type": "code",
   "execution_count": null,
   "id": "6e53d081-d119-40e4-8a3a-f0af71a126fa",
   "metadata": {},
   "outputs": [],
   "source": []
  }
 ],
 "metadata": {
  "kernelspec": {
   "display_name": "Python 3 (ipykernel)",
   "language": "python",
   "name": "python3"
  },
  "language_info": {
   "codemirror_mode": {
    "name": "ipython",
    "version": 3
   },
   "file_extension": ".py",
   "mimetype": "text/x-python",
   "name": "python",
   "nbconvert_exporter": "python",
   "pygments_lexer": "ipython3",
   "version": "3.13.5"
  }
 },
 "nbformat": 4,
 "nbformat_minor": 5
}
