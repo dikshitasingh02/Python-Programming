{
 "cells": [
  {
   "cell_type": "markdown",
   "id": "2b866010-07d1-42e5-b408-45cfcefe75ac",
   "metadata": {},
   "source": [
    "# Strings\n",
    "#### Seq. of Chars\n",
    "In Python: Unicode Chars\n",
    "\n",
    "#### Ops:\n",
    "- Create\n",
    "- Access\n",
    "- Add Chars\n",
    "- Edit\n",
    "- Delete\n",
    "- Ops on Strings\n",
    "- String Functions"
   ]
  },
  {
   "cell_type": "markdown",
   "id": "65ec0ff2-ca02-4c16-8dfd-453ea7bb63fd",
   "metadata": {},
   "source": [
    "## 1. Create"
   ]
  },
  {
   "cell_type": "code",
   "execution_count": 1,
   "id": "a1c1dbfc-85ce-4d98-b90b-b752d6a684f5",
   "metadata": {},
   "outputs": [
    {
     "name": "stdout",
     "output_type": "stream",
     "text": [
      "Hello\n"
     ]
    }
   ],
   "source": [
    "c = 'Hello'\n",
    "print(c)"
   ]
  },
  {
   "cell_type": "code",
   "execution_count": 2,
   "id": "7f631aa7-507d-445f-b7e6-aa63d5969337",
   "metadata": {},
   "outputs": [
    {
     "name": "stdout",
     "output_type": "stream",
     "text": [
      "Hello\n"
     ]
    }
   ],
   "source": [
    "c = \"Hello\"\n",
    "print(c)\n"
   ]
  },
  {
   "cell_type": "code",
   "execution_count": 3,
   "id": "d05dfa09-d80e-4ac8-8499-d6f63f74e0c5",
   "metadata": {},
   "outputs": [
    {
     "ename": "SyntaxError",
     "evalue": "unterminated string literal (detected at line 1) (2132155197.py, line 1)",
     "output_type": "error",
     "traceback": [
      "\u001b[1;36m  Cell \u001b[1;32mIn[3], line 1\u001b[1;36m\u001b[0m\n\u001b[1;33m    'It's raining outside'\u001b[0m\n\u001b[1;37m                         ^\u001b[0m\n\u001b[1;31mSyntaxError\u001b[0m\u001b[1;31m:\u001b[0m unterminated string literal (detected at line 1)\n"
     ]
    }
   ],
   "source": [
    "'It's raining outside'"
   ]
  },
  {
   "cell_type": "code",
   "execution_count": 4,
   "id": "a3cd3a21-ec7e-4e51-b1fd-8ef978daafcf",
   "metadata": {},
   "outputs": [
    {
     "data": {
      "text/plain": [
       "\"It's raining outside\""
      ]
     },
     "execution_count": 4,
     "metadata": {},
     "output_type": "execute_result"
    }
   ],
   "source": [
    "\"It's raining outside\""
   ]
  },
  {
   "cell_type": "code",
   "execution_count": 5,
   "id": "45c0ac10-bf9c-4133-b742-1906c2c5ace5",
   "metadata": {},
   "outputs": [
    {
     "name": "stdout",
     "output_type": "stream",
     "text": [
      "Hello\n"
     ]
    }
   ],
   "source": [
    "c = '''Hello''' # multi-line string\n",
    "print(c)"
   ]
  },
  {
   "cell_type": "code",
   "execution_count": 6,
   "id": "7410ea62-ab45-46be-9620-7c3ba5097af8",
   "metadata": {},
   "outputs": [
    {
     "name": "stdout",
     "output_type": "stream",
     "text": [
      "Hello\n"
     ]
    }
   ],
   "source": [
    "c = \"\"\"Hello\"\"\"\n",
    "print(c)"
   ]
  },
  {
   "cell_type": "code",
   "execution_count": 7,
   "id": "47d0f9bd-f79d-45ff-a162-7f28025c9a16",
   "metadata": {},
   "outputs": [
    {
     "data": {
      "text/plain": [
       "'Hello'"
      ]
     },
     "execution_count": 7,
     "metadata": {},
     "output_type": "execute_result"
    }
   ],
   "source": [
    "c = str(\"Hello\")\n",
    "c"
   ]
  },
  {
   "cell_type": "markdown",
   "id": "9569d802-318c-4d7f-a9d8-80c49c2f5ecb",
   "metadata": {},
   "source": [
    "## 2. Access\n",
    "### Accessing Substrings from a String"
   ]
  },
  {
   "cell_type": "code",
   "execution_count": 8,
   "id": "fc4192ee-5583-40ad-950a-20db05ba1ee1",
   "metadata": {},
   "outputs": [
    {
     "name": "stdout",
     "output_type": "stream",
     "text": [
      "hello\n"
     ]
    }
   ],
   "source": [
    "# Concept of Indexing\n",
    "c = \"hello\"\n",
    "print(c)"
   ]
  },
  {
   "cell_type": "code",
   "execution_count": 9,
   "id": "2a328536-0d1c-45cc-9a9f-2642c4572155",
   "metadata": {},
   "outputs": [
    {
     "name": "stdout",
     "output_type": "stream",
     "text": [
      "h\n"
     ]
    }
   ],
   "source": [
    "print(c[0])"
   ]
  },
  {
   "cell_type": "markdown",
   "id": "1a7c73db-c2c6-4c06-8212-f361a9837d68",
   "metadata": {},
   "source": [
    "Indexing Types:\n",
    "- Positive\n",
    "- Negative"
   ]
  },
  {
   "cell_type": "code",
   "execution_count": 10,
   "id": "a07052b3-47f7-4d60-bd22-4b6426429e1a",
   "metadata": {},
   "outputs": [
    {
     "name": "stdout",
     "output_type": "stream",
     "text": [
      "o\n"
     ]
    }
   ],
   "source": [
    "print(c[-1])"
   ]
  },
  {
   "cell_type": "code",
   "execution_count": 11,
   "id": "76a4c459-c3c1-4f0f-a9e8-90885d7ecce9",
   "metadata": {},
   "outputs": [
    {
     "name": "stdout",
     "output_type": "stream",
     "text": [
      "Hello World\n"
     ]
    }
   ],
   "source": [
    "#slicing\n",
    "c = \"Hello World\"\n",
    "print(c)"
   ]
  },
  {
   "cell_type": "code",
   "execution_count": 12,
   "id": "4638dfee-a148-48cf-a148-6c0425e00d01",
   "metadata": {},
   "outputs": [
    {
     "name": "stdout",
     "output_type": "stream",
     "text": [
      "Hello\n"
     ]
    }
   ],
   "source": [
    "print(c[0:5])"
   ]
  },
  {
   "cell_type": "code",
   "execution_count": 13,
   "id": "00a549a3-5b07-4d4b-b031-7de13ace9603",
   "metadata": {},
   "outputs": [
    {
     "name": "stdout",
     "output_type": "stream",
     "text": [
      "llo World\n"
     ]
    }
   ],
   "source": [
    "print(c[2:])"
   ]
  },
  {
   "cell_type": "code",
   "execution_count": 14,
   "id": "e9ed3d48-6d40-4d63-83d5-bef094a5e5f9",
   "metadata": {},
   "outputs": [
    {
     "name": "stdout",
     "output_type": "stream",
     "text": [
      "Hell\n"
     ]
    }
   ],
   "source": [
    "print(c[:4])"
   ]
  },
  {
   "cell_type": "code",
   "execution_count": 15,
   "id": "5f74f7d2-fa40-4ddf-8fd2-6d52fd8aae72",
   "metadata": {},
   "outputs": [
    {
     "name": "stdout",
     "output_type": "stream",
     "text": [
      "Hello World\n"
     ]
    }
   ],
   "source": [
    "print(c[:])"
   ]
  },
  {
   "cell_type": "code",
   "execution_count": 16,
   "id": "d6af4d5e-8d34-4d56-9862-d6e325970d56",
   "metadata": {},
   "outputs": [
    {
     "name": "stdout",
     "output_type": "stream",
     "text": [
      "lo\n"
     ]
    }
   ],
   "source": [
    "print(c[2:6:2])"
   ]
  },
  {
   "cell_type": "code",
   "execution_count": 17,
   "id": "03d596b1-f2de-40aa-a473-627d4683c524",
   "metadata": {},
   "outputs": [
    {
     "name": "stdout",
     "output_type": "stream",
     "text": [
      "HlW\n"
     ]
    }
   ],
   "source": [
    "print(c[0:8:3])\n"
   ]
  },
  {
   "cell_type": "code",
   "execution_count": 18,
   "id": "d0773752-b2b2-4731-a0a1-0b01f1ed52f2",
   "metadata": {},
   "outputs": [
    {
     "name": "stdout",
     "output_type": "stream",
     "text": [
      "\n"
     ]
    }
   ],
   "source": [
    "print(c[0:6:-1])"
   ]
  },
  {
   "cell_type": "code",
   "execution_count": 19,
   "id": "8629bd2a-3ffa-4ccc-9cd4-84837c492ac1",
   "metadata": {},
   "outputs": [
    {
     "name": "stdout",
     "output_type": "stream",
     "text": [
      "Wr\n"
     ]
    }
   ],
   "source": [
    "print(c[-5:-1:2])"
   ]
  },
  {
   "cell_type": "code",
   "execution_count": 20,
   "id": "4f088cbd-babd-41d2-8451-c64355cbaf83",
   "metadata": {},
   "outputs": [
    {
     "name": "stdout",
     "output_type": "stream",
     "text": [
      "dlroW olleH\n"
     ]
    }
   ],
   "source": [
    "print(c[::-1])"
   ]
  },
  {
   "cell_type": "code",
   "execution_count": 21,
   "id": "93bbe725-6fd8-4b0d-82d2-7ee72969d578",
   "metadata": {},
   "outputs": [
    {
     "name": "stdout",
     "output_type": "stream",
     "text": [
      "dlro\n"
     ]
    }
   ],
   "source": [
    "print(c[-1:-5:-1])"
   ]
  },
  {
   "cell_type": "markdown",
   "id": "2246337c-323e-4ca9-b5b0-76a844148dd8",
   "metadata": {},
   "source": [
    "## 3. Add Chars"
   ]
  },
  {
   "cell_type": "code",
   "execution_count": 22,
   "id": "48d9f7b6-c195-43f7-af40-05095966a0f6",
   "metadata": {},
   "outputs": [],
   "source": [
    "string1 = \"Hello\"\n",
    "string2 = 'World'"
   ]
  },
  {
   "cell_type": "code",
   "execution_count": 23,
   "id": "83a4a9b2-7ac6-4684-a148-b086bdf8972d",
   "metadata": {},
   "outputs": [
    {
     "data": {
      "text/plain": [
       "'Hello World'"
      ]
     },
     "execution_count": 23,
     "metadata": {},
     "output_type": "execute_result"
    }
   ],
   "source": [
    "new_string = string1 + \" \" + string2\n",
    "new_string"
   ]
  },
  {
   "cell_type": "code",
   "execution_count": 24,
   "id": "f9e45a7d-7f7d-475e-a60c-4b7bed0b3b7b",
   "metadata": {},
   "outputs": [
    {
     "data": {
      "text/plain": [
       "'Hello, how are you?'"
      ]
     },
     "execution_count": 24,
     "metadata": {},
     "output_type": "execute_result"
    }
   ],
   "source": [
    "another_string = string1 + \", how are you?\"\n",
    "another_string"
   ]
  },
  {
   "cell_type": "markdown",
   "id": "3020668a-ce06-4d96-9408-7f66b3f5b08f",
   "metadata": {},
   "source": [
    "## 4. Edit & 5. Delete"
   ]
  },
  {
   "cell_type": "code",
   "execution_count": 25,
   "id": "08f11f13-a1e5-4547-afa7-5814b2cd245b",
   "metadata": {},
   "outputs": [
    {
     "name": "stdout",
     "output_type": "stream",
     "text": [
      "Hello\n"
     ]
    }
   ],
   "source": [
    "c = \"Hello\"\n",
    "print(c)\n"
   ]
  },
  {
   "cell_type": "code",
   "execution_count": 26,
   "id": "b8c81389-cd68-4bb8-9d5a-11414cc0ec1e",
   "metadata": {},
   "outputs": [
    {
     "ename": "TypeError",
     "evalue": "'str' object does not support item assignment",
     "output_type": "error",
     "traceback": [
      "\u001b[1;31m---------------------------------------------------------------------------\u001b[0m",
      "\u001b[1;31mTypeError\u001b[0m                                 Traceback (most recent call last)",
      "Cell \u001b[1;32mIn[26], line 1\u001b[0m\n\u001b[1;32m----> 1\u001b[0m c[\u001b[38;5;241m0\u001b[39m] \u001b[38;5;241m=\u001b[39m \u001b[38;5;124m'\u001b[39m\u001b[38;5;124mX\u001b[39m\u001b[38;5;124m'\u001b[39m\n",
      "\u001b[1;31mTypeError\u001b[0m: 'str' object does not support item assignment"
     ]
    }
   ],
   "source": [
    "c[0] = 'X'\n",
    "# Strings are a Immutable Data Types"
   ]
  },
  {
   "cell_type": "code",
   "execution_count": null,
   "id": "7c4a0ebd-7515-480c-8686-9ba1ada5d420",
   "metadata": {},
   "outputs": [],
   "source": [
    "c = \"World\"\n",
    "print(c)"
   ]
  },
  {
   "cell_type": "code",
   "execution_count": null,
   "id": "301fd133-3b0b-4720-beda-22f67478b00a",
   "metadata": {},
   "outputs": [],
   "source": [
    "c[5] = \"X\""
   ]
  },
  {
   "cell_type": "code",
   "execution_count": null,
   "id": "1e8828b8-b7e3-4154-9338-63a0695348c4",
   "metadata": {},
   "outputs": [],
   "source": [
    "# Deletion\n",
    "c"
   ]
  },
  {
   "cell_type": "code",
   "execution_count": null,
   "id": "c025ef68-9256-47ae-8dc0-28f246f20c45",
   "metadata": {},
   "outputs": [],
   "source": [
    "del c"
   ]
  },
  {
   "cell_type": "code",
   "execution_count": null,
   "id": "93c6aa03-3907-443c-bfc2-597d69a5746f",
   "metadata": {},
   "outputs": [],
   "source": [
    "print(c)"
   ]
  },
  {
   "cell_type": "code",
   "execution_count": null,
   "id": "a244b994-3062-406d-8bbe-794cc959c5ad",
   "metadata": {},
   "outputs": [],
   "source": [
    "c = \"hello\""
   ]
  },
  {
   "cell_type": "code",
   "execution_count": null,
   "id": "01ea2de9-6c06-4a95-8f79-39bb378b963e",
   "metadata": {},
   "outputs": [],
   "source": [
    "print(c)"
   ]
  },
  {
   "cell_type": "code",
   "execution_count": 27,
   "id": "6e02c6cf-499c-4e06-a90c-c8d1599f9b2e",
   "metadata": {},
   "outputs": [
    {
     "ename": "TypeError",
     "evalue": "'str' object doesn't support item deletion",
     "output_type": "error",
     "traceback": [
      "\u001b[1;31m---------------------------------------------------------------------------\u001b[0m",
      "\u001b[1;31mTypeError\u001b[0m                                 Traceback (most recent call last)",
      "Cell \u001b[1;32mIn[27], line 1\u001b[0m\n\u001b[1;32m----> 1\u001b[0m \u001b[38;5;28;01mdel\u001b[39;00m c[\u001b[38;5;241m0\u001b[39m]\n",
      "\u001b[1;31mTypeError\u001b[0m: 'str' object doesn't support item deletion"
     ]
    }
   ],
   "source": [
    "del c[0]"
   ]
  },
  {
   "cell_type": "code",
   "execution_count": 28,
   "id": "ab593261-9366-4d8e-a5fd-7d62b04abfe4",
   "metadata": {},
   "outputs": [
    {
     "ename": "TypeError",
     "evalue": "'str' object does not support item deletion",
     "output_type": "error",
     "traceback": [
      "\u001b[1;31m---------------------------------------------------------------------------\u001b[0m",
      "\u001b[1;31mTypeError\u001b[0m                                 Traceback (most recent call last)",
      "Cell \u001b[1;32mIn[28], line 1\u001b[0m\n\u001b[1;32m----> 1\u001b[0m \u001b[38;5;28;01mdel\u001b[39;00m c[:\u001b[38;5;241m3\u001b[39m:\u001b[38;5;241m2\u001b[39m]\n",
      "\u001b[1;31mTypeError\u001b[0m: 'str' object does not support item deletion"
     ]
    }
   ],
   "source": [
    "del c[:3:2]"
   ]
  },
  {
   "cell_type": "markdown",
   "id": "04ecb406-8a52-43f1-bb75-54e17dc5a85e",
   "metadata": {},
   "source": [
    "## 6. Ops on Strings\n",
    "- Arithmetic: Concatenation (+), Repetition (*)\n",
    "- Relational: Equality (==), Inequality (!=), Comparison (<, >, <=, >=)\n",
    "- Logical: and, or, not\n",
    "- Loops: for loop, while loop\n",
    "- Membership: in, not in"
   ]
  },
  {
   "cell_type": "code",
   "execution_count": 29,
   "id": "948fab32-a15f-43ab-acce-e656fa0e157f",
   "metadata": {},
   "outputs": [
    {
     "data": {
      "text/plain": [
       "'Hello-World'"
      ]
     },
     "execution_count": 29,
     "metadata": {},
     "output_type": "execute_result"
    }
   ],
   "source": [
    "# Arithmetic\n",
    "\"Hello\" + \"-\" + \"World\""
   ]
  },
  {
   "cell_type": "code",
   "execution_count": 30,
   "id": "c996ed54-1d48-460e-ac2b-83cb6b770b01",
   "metadata": {},
   "outputs": [
    {
     "name": "stdout",
     "output_type": "stream",
     "text": [
      "**************************************************\n"
     ]
    }
   ],
   "source": [
    "print(\"*\"*50)"
   ]
  },
  {
   "cell_type": "code",
   "execution_count": 31,
   "id": "fee7b825-b089-4a6e-ad12-1026ed3aae7d",
   "metadata": {},
   "outputs": [
    {
     "name": "stdout",
     "output_type": "stream",
     "text": [
      "HelloHelloHelloHello\n"
     ]
    }
   ],
   "source": [
    "print(\"Hello\"*4)"
   ]
  },
  {
   "cell_type": "code",
   "execution_count": 32,
   "id": "f7d7b73c-d62c-4489-9e76-873dab6566a7",
   "metadata": {},
   "outputs": [
    {
     "data": {
      "text/plain": [
       "False"
      ]
     },
     "execution_count": 32,
     "metadata": {},
     "output_type": "execute_result"
    }
   ],
   "source": [
    "# Relational\n",
    "\"Hello\" == \"World\""
   ]
  },
  {
   "cell_type": "code",
   "execution_count": 33,
   "id": "11e69886-52e2-4938-be02-7c1c66b0b904",
   "metadata": {},
   "outputs": [
    {
     "data": {
      "text/plain": [
       "True"
      ]
     },
     "execution_count": 33,
     "metadata": {},
     "output_type": "execute_result"
    }
   ],
   "source": [
    "\"Hello\" != \"World\""
   ]
  },
  {
   "cell_type": "code",
   "execution_count": 34,
   "id": "dd327faa-f254-47f6-87d9-e3146b9605f2",
   "metadata": {},
   "outputs": [
    {
     "data": {
      "text/plain": [
       "False"
      ]
     },
     "execution_count": 34,
     "metadata": {},
     "output_type": "execute_result"
    }
   ],
   "source": [
    "\"Mumbai\" > \"Pune\" # Lexiographically"
   ]
  },
  {
   "cell_type": "code",
   "execution_count": 35,
   "id": "b777dad9-e879-4607-80d3-1711f34b2594",
   "metadata": {},
   "outputs": [
    {
     "data": {
      "text/plain": [
       "False"
      ]
     },
     "execution_count": 35,
     "metadata": {},
     "output_type": "execute_result"
    }
   ],
   "source": [
    "\"Goa\" > \"Kolkata\""
   ]
  },
  {
   "cell_type": "code",
   "execution_count": 36,
   "id": "7898ab81-fbb8-47cd-8a57-be7f140a7d0f",
   "metadata": {},
   "outputs": [
    {
     "data": {
      "text/plain": [
       "False"
      ]
     },
     "execution_count": 36,
     "metadata": {},
     "output_type": "execute_result"
    }
   ],
   "source": [
    "\"kol\" < \"Kol\""
   ]
  },
  {
   "cell_type": "code",
   "execution_count": 37,
   "id": "b5b5d640-6889-4c27-92e9-8f302d8dae36",
   "metadata": {},
   "outputs": [
    {
     "data": {
      "text/plain": [
       "'World'"
      ]
     },
     "execution_count": 37,
     "metadata": {},
     "output_type": "execute_result"
    }
   ],
   "source": [
    "# Logical\n",
    "\"Hello\" and \"World\""
   ]
  },
  {
   "cell_type": "code",
   "execution_count": 38,
   "id": "84e06aac-c426-428a-908e-2ee412b09ace",
   "metadata": {},
   "outputs": [],
   "source": [
    "# \"\"        ---> False\n",
    "# \"Hello\" ---> True"
   ]
  },
  {
   "cell_type": "code",
   "execution_count": 39,
   "id": "a7055deb-cfb6-41c2-ace7-693948a20bf8",
   "metadata": {},
   "outputs": [
    {
     "data": {
      "text/plain": [
       "''"
      ]
     },
     "execution_count": 39,
     "metadata": {},
     "output_type": "execute_result"
    }
   ],
   "source": [
    "\"\" and \"Hello\""
   ]
  },
  {
   "cell_type": "code",
   "execution_count": 40,
   "id": "f0c2ba82-fd9d-44df-bdd3-f6f9e2f324d9",
   "metadata": {},
   "outputs": [
    {
     "data": {
      "text/plain": [
       "'World'"
      ]
     },
     "execution_count": 40,
     "metadata": {},
     "output_type": "execute_result"
    }
   ],
   "source": [
    "\"\" or \"World\""
   ]
  },
  {
   "cell_type": "code",
   "execution_count": 41,
   "id": "cd09d51e-e36e-47c6-8f51-4123643101b1",
   "metadata": {},
   "outputs": [
    {
     "data": {
      "text/plain": [
       "'Hello'"
      ]
     },
     "execution_count": 41,
     "metadata": {},
     "output_type": "execute_result"
    }
   ],
   "source": [
    "\"Hello\" or \"World\""
   ]
  },
  {
   "cell_type": "code",
   "execution_count": 42,
   "id": "3e9ac751-2ec9-4820-b032-f860682489be",
   "metadata": {},
   "outputs": [
    {
     "data": {
      "text/plain": [
       "'World'"
      ]
     },
     "execution_count": 42,
     "metadata": {},
     "output_type": "execute_result"
    }
   ],
   "source": [
    "\"Hello\" and \"World\""
   ]
  },
  {
   "cell_type": "code",
   "execution_count": 43,
   "id": "78ba5e06-0d5b-4230-9c90-88f8477143aa",
   "metadata": {},
   "outputs": [
    {
     "data": {
      "text/plain": [
       "False"
      ]
     },
     "execution_count": 43,
     "metadata": {},
     "output_type": "execute_result"
    }
   ],
   "source": [
    "not \"Hello\""
   ]
  },
  {
   "cell_type": "code",
   "execution_count": 44,
   "id": "64008bbf-cf6b-4740-85e9-7f555c1b5eef",
   "metadata": {},
   "outputs": [
    {
     "name": "stdout",
     "output_type": "stream",
     "text": [
      "False\n"
     ]
    }
   ],
   "source": [
    "print(not \"Hello\")"
   ]
  },
  {
   "cell_type": "code",
   "execution_count": 45,
   "id": "53d15745-9aaf-4d08-9689-c04a55eefb0a",
   "metadata": {},
   "outputs": [
    {
     "data": {
      "text/plain": [
       "True"
      ]
     },
     "execution_count": 45,
     "metadata": {},
     "output_type": "execute_result"
    }
   ],
   "source": [
    "not \"\""
   ]
  },
  {
   "cell_type": "code",
   "execution_count": 46,
   "id": "6be757e1-a1c1-46ee-99fa-b782e62824d6",
   "metadata": {},
   "outputs": [
    {
     "name": "stdout",
     "output_type": "stream",
     "text": [
      "H\n",
      "e\n",
      "l\n",
      "l\n",
      "o\n",
      " \n",
      "W\n",
      "o\n",
      "r\n",
      "l\n",
      "d\n"
     ]
    }
   ],
   "source": [
    "# Loops on Strings\n",
    "c = \"Hello World\"\n",
    "for i in c:\n",
    "    print(i)"
   ]
  },
  {
   "cell_type": "code",
   "execution_count": 47,
   "id": "0506d643-7a46-4c05-b6ee-bd654cc88128",
   "metadata": {},
   "outputs": [
    {
     "name": "stdout",
     "output_type": "stream",
     "text": [
      "l\n",
      "l\n",
      "o\n",
      " \n",
      "W\n"
     ]
    }
   ],
   "source": [
    "for i in c[2:7]:\n",
    "    print(i)"
   ]
  },
  {
   "cell_type": "code",
   "execution_count": 48,
   "id": "c602f88e-ec24-454f-8fa5-9c8876df1d6b",
   "metadata": {},
   "outputs": [
    {
     "name": "stdout",
     "output_type": "stream",
     "text": [
      "l\n",
      "o\n",
      "W\n"
     ]
    }
   ],
   "source": [
    "for i in c[2:7:2]:\n",
    "    print(i)"
   ]
  },
  {
   "cell_type": "code",
   "execution_count": 49,
   "id": "14babfab-2ccc-4673-9c17-f83797fb5bfe",
   "metadata": {},
   "outputs": [
    {
     "name": "stdout",
     "output_type": "stream",
     "text": [
      "d\n",
      "l\n",
      "r\n",
      "o\n",
      "W\n",
      " \n",
      "o\n",
      "l\n",
      "l\n",
      "e\n",
      "H\n"
     ]
    }
   ],
   "source": [
    "for i in c[::-1]:\n",
    "    print(i)"
   ]
  },
  {
   "cell_type": "code",
   "execution_count": 50,
   "id": "88d291d5-bad0-4468-a0b6-37c3eace6f17",
   "metadata": {},
   "outputs": [
    {
     "data": {
      "text/plain": [
       "'Hello World'"
      ]
     },
     "execution_count": 50,
     "metadata": {},
     "output_type": "execute_result"
    }
   ],
   "source": [
    "# Membership\n",
    "c"
   ]
  },
  {
   "cell_type": "code",
   "execution_count": 51,
   "id": "005634b0-3b73-4bd5-b854-fe3f71f9ab4e",
   "metadata": {},
   "outputs": [
    {
     "data": {
      "text/plain": [
       "True"
      ]
     },
     "execution_count": 51,
     "metadata": {},
     "output_type": "execute_result"
    }
   ],
   "source": [
    "'H' in c"
   ]
  },
  {
   "cell_type": "code",
   "execution_count": 52,
   "id": "dd588972-d9a7-4de8-816c-f1e5307f961b",
   "metadata": {},
   "outputs": [
    {
     "data": {
      "text/plain": [
       "False"
      ]
     },
     "execution_count": 52,
     "metadata": {},
     "output_type": "execute_result"
    }
   ],
   "source": [
    "'h' in c"
   ]
  },
  {
   "cell_type": "code",
   "execution_count": 53,
   "id": "b4584cab-d098-462c-9744-c18c867b41f9",
   "metadata": {},
   "outputs": [
    {
     "data": {
      "text/plain": [
       "False"
      ]
     },
     "execution_count": 53,
     "metadata": {},
     "output_type": "execute_result"
    }
   ],
   "source": [
    "'World' not in c"
   ]
  },
  {
   "cell_type": "markdown",
   "id": "cb222206-3f14-4f60-a44d-1ecacf299e2a",
   "metadata": {},
   "source": [
    "## 7. String Functions\n",
    "### 1. Common Functions\n",
    "- len()\n",
    "- max()\n",
    "- min()\n",
    "- sorted()"
   ]
  },
  {
   "cell_type": "code",
   "execution_count": 54,
   "id": "4dbc410e-5a4e-472e-a935-dc1d1c793e27",
   "metadata": {},
   "outputs": [
    {
     "data": {
      "text/plain": [
       "7"
      ]
     },
     "execution_count": 54,
     "metadata": {},
     "output_type": "execute_result"
    }
   ],
   "source": [
    "c = 'kolkata'\n",
    "len(c)"
   ]
  },
  {
   "cell_type": "code",
   "execution_count": 55,
   "id": "43911c52-47d5-4fdf-974c-46c206832438",
   "metadata": {},
   "outputs": [
    {
     "data": {
      "text/plain": [
       "'t'"
      ]
     },
     "execution_count": 55,
     "metadata": {},
     "output_type": "execute_result"
    }
   ],
   "source": [
    "max(c)"
   ]
  },
  {
   "cell_type": "code",
   "execution_count": 56,
   "id": "de4a7067-6e32-47df-96f6-e7707ea45007",
   "metadata": {},
   "outputs": [
    {
     "data": {
      "text/plain": [
       "'a'"
      ]
     },
     "execution_count": 56,
     "metadata": {},
     "output_type": "execute_result"
    }
   ],
   "source": [
    "min(c)"
   ]
  },
  {
   "cell_type": "code",
   "execution_count": 57,
   "id": "fc9c1fc5-cdfa-453e-96d4-d14921a5b379",
   "metadata": {},
   "outputs": [
    {
     "data": {
      "text/plain": [
       "['a', 'a', 'k', 'k', 'l', 'o', 't']"
      ]
     },
     "execution_count": 57,
     "metadata": {},
     "output_type": "execute_result"
    }
   ],
   "source": [
    "sorted(c)"
   ]
  },
  {
   "cell_type": "code",
   "execution_count": 58,
   "id": "d316160b-4983-45e0-93d3-d06e948d732d",
   "metadata": {},
   "outputs": [
    {
     "data": {
      "text/plain": [
       "['t', 'o', 'l', 'k', 'k', 'a', 'a']"
      ]
     },
     "execution_count": 58,
     "metadata": {},
     "output_type": "execute_result"
    }
   ],
   "source": [
    "sorted(c, reverse=True)"
   ]
  },
  {
   "cell_type": "markdown",
   "id": "f15728fa-4ae5-4315-8a2b-d4e05fa774f3",
   "metadata": {},
   "source": [
    "### 2. Capitalize/Title/Upper/Lower/Swapcase"
   ]
  },
  {
   "cell_type": "code",
   "execution_count": 59,
   "id": "162e0301-1435-4933-a698-2bc6c8658cb2",
   "metadata": {},
   "outputs": [
    {
     "data": {
      "text/plain": [
       "'Kolkata'"
      ]
     },
     "execution_count": 59,
     "metadata": {},
     "output_type": "execute_result"
    }
   ],
   "source": [
    "c\n",
    "c.capitalize()"
   ]
  },
  {
   "cell_type": "code",
   "execution_count": 60,
   "id": "78872d69-9abc-4160-8a80-b8c95eee7640",
   "metadata": {},
   "outputs": [
    {
     "data": {
      "text/plain": [
       "'kolkata'"
      ]
     },
     "execution_count": 60,
     "metadata": {},
     "output_type": "execute_result"
    }
   ],
   "source": [
    "c"
   ]
  },
  {
   "cell_type": "code",
   "execution_count": 61,
   "id": "09d62561-b6ea-4e37-9c7f-ac9f265d2f64",
   "metadata": {},
   "outputs": [
    {
     "data": {
      "text/plain": [
       "'It is raining today'"
      ]
     },
     "execution_count": 61,
     "metadata": {},
     "output_type": "execute_result"
    }
   ],
   "source": [
    "'it is raining today'.capitalize()"
   ]
  },
  {
   "cell_type": "code",
   "execution_count": 62,
   "id": "d6dd429f-dc89-4b4d-a5c4-e88e14b355c2",
   "metadata": {},
   "outputs": [
    {
     "data": {
      "text/plain": [
       "'It Is Raining Today'"
      ]
     },
     "execution_count": 62,
     "metadata": {},
     "output_type": "execute_result"
    }
   ],
   "source": [
    "'it is raining today'.title()"
   ]
  },
  {
   "cell_type": "code",
   "execution_count": 63,
   "id": "71954c15-add6-463f-8c85-305999c8532f",
   "metadata": {},
   "outputs": [
    {
     "data": {
      "text/plain": [
       "'kolkata'"
      ]
     },
     "execution_count": 63,
     "metadata": {},
     "output_type": "execute_result"
    }
   ],
   "source": [
    "c.upper().lower()"
   ]
  },
  {
   "cell_type": "code",
   "execution_count": 64,
   "id": "4b7cacff-fae1-47cd-935a-b47d7cb389ed",
   "metadata": {},
   "outputs": [
    {
     "data": {
      "text/plain": [
       "'kOlKaTa'"
      ]
     },
     "execution_count": 64,
     "metadata": {},
     "output_type": "execute_result"
    }
   ],
   "source": [
    "\"KoLkAtA\".swapcase()"
   ]
  },
  {
   "cell_type": "markdown",
   "id": "faebef56-723c-4e09-93d2-69c7d9aeecb4",
   "metadata": {},
   "source": [
    "### 3. Count"
   ]
  },
  {
   "cell_type": "code",
   "execution_count": 65,
   "id": "baf5c61a-c6cd-4bd5-9e27-fef78c2b27d4",
   "metadata": {},
   "outputs": [
    {
     "data": {
      "text/plain": [
       "4"
      ]
     },
     "execution_count": 65,
     "metadata": {},
     "output_type": "execute_result"
    }
   ],
   "source": [
    "\"it is raining\".count(\"i\")"
   ]
  },
  {
   "cell_type": "code",
   "execution_count": 66,
   "id": "1cf5f7b3-0d0d-42c1-9906-6108687cdec7",
   "metadata": {},
   "outputs": [
    {
     "data": {
      "text/plain": [
       "1"
      ]
     },
     "execution_count": 66,
     "metadata": {},
     "output_type": "execute_result"
    }
   ],
   "source": [
    "\"it is raining\".count(\"ing\")"
   ]
  },
  {
   "cell_type": "code",
   "execution_count": 67,
   "id": "3b505973-072c-4a5e-8b2e-94d40052cb56",
   "metadata": {},
   "outputs": [
    {
     "data": {
      "text/plain": [
       "0"
      ]
     },
     "execution_count": 67,
     "metadata": {},
     "output_type": "execute_result"
    }
   ],
   "source": [
    "\"it is raining\".count(\"x\")"
   ]
  },
  {
   "cell_type": "markdown",
   "id": "f25baac2-d733-4960-950e-77ecf5dc9aca",
   "metadata": {},
   "source": [
    "### 4. Find/Index"
   ]
  },
  {
   "cell_type": "code",
   "execution_count": 68,
   "id": "7b5570b0-9e0b-4cee-a6f1-a66896144980",
   "metadata": {},
   "outputs": [
    {
     "data": {
      "text/plain": [
       "0"
      ]
     },
     "execution_count": 68,
     "metadata": {},
     "output_type": "execute_result"
    }
   ],
   "source": [
    "\"it is raining\".find(\"i\")"
   ]
  },
  {
   "cell_type": "code",
   "execution_count": 69,
   "id": "3873a793-fc28-490e-8ddc-0ef446d5c016",
   "metadata": {},
   "outputs": [
    {
     "data": {
      "text/plain": [
       "12"
      ]
     },
     "execution_count": 69,
     "metadata": {},
     "output_type": "execute_result"
    }
   ],
   "source": [
    "\"it is raining\".find(\"g\")"
   ]
  },
  {
   "cell_type": "code",
   "execution_count": 70,
   "id": "8ae74541-de91-4e77-979c-c32f8b2eb972",
   "metadata": {},
   "outputs": [
    {
     "data": {
      "text/plain": [
       "6"
      ]
     },
     "execution_count": 70,
     "metadata": {},
     "output_type": "execute_result"
    }
   ],
   "source": [
    "\"it is raining\".find(\"raining\")"
   ]
  },
  {
   "cell_type": "code",
   "execution_count": 71,
   "id": "1fa50736-2ca4-4154-a92b-762b17e5f420",
   "metadata": {},
   "outputs": [
    {
     "data": {
      "text/plain": [
       "-1"
      ]
     },
     "execution_count": 71,
     "metadata": {},
     "output_type": "execute_result"
    }
   ],
   "source": [
    "\"it is raining\".find(\"x\")"
   ]
  },
  {
   "cell_type": "code",
   "execution_count": 72,
   "id": "237ee56e-47be-4074-9773-282e76525dc5",
   "metadata": {},
   "outputs": [
    {
     "data": {
      "text/plain": [
       "6"
      ]
     },
     "execution_count": 72,
     "metadata": {},
     "output_type": "execute_result"
    }
   ],
   "source": [
    "\"it is raining\".index(\"raining\")"
   ]
  },
  {
   "cell_type": "code",
   "execution_count": 73,
   "id": "3cf05279-3b8b-4f26-822d-d27d9fded245",
   "metadata": {},
   "outputs": [
    {
     "ename": "ValueError",
     "evalue": "substring not found",
     "output_type": "error",
     "traceback": [
      "\u001b[1;31m---------------------------------------------------------------------------\u001b[0m",
      "\u001b[1;31mValueError\u001b[0m                                Traceback (most recent call last)",
      "Cell \u001b[1;32mIn[73], line 1\u001b[0m\n\u001b[1;32m----> 1\u001b[0m \u001b[38;5;124m\"\u001b[39m\u001b[38;5;124mit is raining\u001b[39m\u001b[38;5;124m\"\u001b[39m\u001b[38;5;241m.\u001b[39mindex(\u001b[38;5;124m\"\u001b[39m\u001b[38;5;124mx\u001b[39m\u001b[38;5;124m\"\u001b[39m)\n",
      "\u001b[1;31mValueError\u001b[0m: substring not found"
     ]
    }
   ],
   "source": [
    "\"it is raining\".index(\"x\")\n"
   ]
  },
  {
   "cell_type": "markdown",
   "id": "7ab2072d-7c3e-42ad-8c43-25aba31aa866",
   "metadata": {},
   "source": [
    "### 5. endswith/startswith"
   ]
  },
  {
   "cell_type": "code",
   "execution_count": 74,
   "id": "06ee5f9c-ca75-41dd-b910-0eebdf01abde",
   "metadata": {},
   "outputs": [
    {
     "data": {
      "text/plain": [
       "True"
      ]
     },
     "execution_count": 74,
     "metadata": {},
     "output_type": "execute_result"
    }
   ],
   "source": [
    "\"it is raining\".endswith(\"ing\")"
   ]
  },
  {
   "cell_type": "code",
   "execution_count": 75,
   "id": "e1cb2446-82c3-4703-9953-b440f74ead1a",
   "metadata": {},
   "outputs": [
    {
     "data": {
      "text/plain": [
       "False"
      ]
     },
     "execution_count": 75,
     "metadata": {},
     "output_type": "execute_result"
    }
   ],
   "source": [
    "\"it is raining\".endswith(\"ingf\")"
   ]
  },
  {
   "cell_type": "code",
   "execution_count": 76,
   "id": "15df131d-e06d-40a9-87f3-c66fce98f769",
   "metadata": {},
   "outputs": [
    {
     "data": {
      "text/plain": [
       "True"
      ]
     },
     "execution_count": 76,
     "metadata": {},
     "output_type": "execute_result"
    }
   ],
   "source": [
    "\"it is raining\".startswith(\"it\")"
   ]
  },
  {
   "cell_type": "markdown",
   "id": "7b989452-c666-4931-b3d3-641a4dca46fb",
   "metadata": {},
   "source": [
    "### 6. format"
   ]
  },
  {
   "cell_type": "code",
   "execution_count": 77,
   "id": "33889e92-06f8-4b9a-b9b2-8178353bbfe1",
   "metadata": {},
   "outputs": [
    {
     "data": {
      "text/plain": [
       "'Hello my name is Dikshita and I am 22'"
      ]
     },
     "execution_count": 77,
     "metadata": {},
     "output_type": "execute_result"
    }
   ],
   "source": [
    "\"Hello my name is {} and I am {}\".format(\"Dikshita\", 22)"
   ]
  },
  {
   "cell_type": "code",
   "execution_count": 78,
   "id": "40a7e3f6-9ba9-4691-bd92-5cfe7f5f108b",
   "metadata": {},
   "outputs": [
    {
     "data": {
      "text/plain": [
       "'Hello my name is 22 and I am Dikshita'"
      ]
     },
     "execution_count": 78,
     "metadata": {},
     "output_type": "execute_result"
    }
   ],
   "source": [
    "\"Hello my name is {1} and I am {0}\".format(\"Dikshita\", 22)"
   ]
  },
  {
   "cell_type": "code",
   "execution_count": 79,
   "id": "795b1cd0-8074-49a7-8e6f-416f4b13c17c",
   "metadata": {},
   "outputs": [
    {
     "data": {
      "text/plain": [
       "'Hello my name is Dikshita and I am 22'"
      ]
     },
     "execution_count": 79,
     "metadata": {},
     "output_type": "execute_result"
    }
   ],
   "source": [
    "\"Hello my name is {name} and I am {age}\".format(name = \"Dikshita\", age = 22)"
   ]
  },
  {
   "cell_type": "code",
   "execution_count": 80,
   "id": "04c85970-23dd-4e66-b83a-a4ff8ae5f421",
   "metadata": {},
   "outputs": [
    {
     "data": {
      "text/plain": [
       "'Hello my name is 22 and I am Dikshita'"
      ]
     },
     "execution_count": 80,
     "metadata": {},
     "output_type": "execute_result"
    }
   ],
   "source": [
    "\"Hello my name is {age} and I am {name}\".format(name = \"Dikshita\", age = 22)"
   ]
  },
  {
   "cell_type": "code",
   "execution_count": 81,
   "id": "401ba54e-15b1-4c4f-9b7d-9e5ef5f65ee9",
   "metadata": {},
   "outputs": [
    {
     "data": {
      "text/plain": [
       "'Hello my name is Dikshita and I am Dikshita'"
      ]
     },
     "execution_count": 81,
     "metadata": {},
     "output_type": "execute_result"
    }
   ],
   "source": [
    "\"Hello my name is {name} and I am {name}\".format(name = \"Dikshita\", age = 22, weight = 90)"
   ]
  },
  {
   "cell_type": "markdown",
   "id": "8e8a92d7-98f2-47d8-933b-d41da8ed6007",
   "metadata": {},
   "source": [
    "### 7. isalnum/isalpha/isdecimal/isdigit/isidentifier"
   ]
  },
  {
   "cell_type": "code",
   "execution_count": 82,
   "id": "5cd59e30-a98d-462d-861a-b9ffb09e24a0",
   "metadata": {},
   "outputs": [
    {
     "data": {
      "text/plain": [
       "True"
      ]
     },
     "execution_count": 82,
     "metadata": {},
     "output_type": "execute_result"
    }
   ],
   "source": [
    "\"FLAT20\".isalnum() # Alphanumeric"
   ]
  },
  {
   "cell_type": "code",
   "execution_count": 83,
   "id": "18514f4d-f3b3-47d1-a9f5-9d260ec7fc71",
   "metadata": {},
   "outputs": [
    {
     "data": {
      "text/plain": [
       "False"
      ]
     },
     "execution_count": 83,
     "metadata": {},
     "output_type": "execute_result"
    }
   ],
   "source": [
    "\"FLAT20&\".isalnum()"
   ]
  },
  {
   "cell_type": "code",
   "execution_count": 84,
   "id": "5197d550-34e9-49bc-bc80-05fcac64351a",
   "metadata": {},
   "outputs": [
    {
     "data": {
      "text/plain": [
       "True"
      ]
     },
     "execution_count": 84,
     "metadata": {},
     "output_type": "execute_result"
    }
   ],
   "source": [
    "\"FLAT\".isalpha() # Alphabetic"
   ]
  },
  {
   "cell_type": "code",
   "execution_count": 85,
   "id": "4f202a45-14c5-485c-93e0-301e215ba88f",
   "metadata": {},
   "outputs": [
    {
     "data": {
      "text/plain": [
       "False"
      ]
     },
     "execution_count": 85,
     "metadata": {},
     "output_type": "execute_result"
    }
   ],
   "source": [
    "\"FLAT20\".isalpha()"
   ]
  },
  {
   "cell_type": "code",
   "execution_count": 86,
   "id": "6b8f599a-fac9-4f42-9dec-5a268620716b",
   "metadata": {},
   "outputs": [
    {
     "data": {
      "text/plain": [
       "True"
      ]
     },
     "execution_count": 86,
     "metadata": {},
     "output_type": "execute_result"
    }
   ],
   "source": [
    "\"20\".isdigit()"
   ]
  },
  {
   "cell_type": "code",
   "execution_count": 87,
   "id": "b3c34d94-6b6b-478f-b4e5-3523346b191a",
   "metadata": {},
   "outputs": [
    {
     "data": {
      "text/plain": [
       "False"
      ]
     },
     "execution_count": 87,
     "metadata": {},
     "output_type": "execute_result"
    }
   ],
   "source": [
    "\"Hello World\".isidentifier()"
   ]
  },
  {
   "cell_type": "code",
   "execution_count": 88,
   "id": "3d2484ed-43aa-4625-be79-8d0678b0dd6a",
   "metadata": {},
   "outputs": [
    {
     "data": {
      "text/plain": [
       "True"
      ]
     },
     "execution_count": 88,
     "metadata": {},
     "output_type": "execute_result"
    }
   ],
   "source": [
    "\"Hello_World\".isidentifier()"
   ]
  },
  {
   "cell_type": "markdown",
   "id": "8aa4b032-ddac-4fcf-bf08-d2929c9940d5",
   "metadata": {},
   "source": [
    "### 8. Split"
   ]
  },
  {
   "cell_type": "code",
   "execution_count": 89,
   "id": "42081dc4-6f34-4f98-9846-fb66bbdb3d66",
   "metadata": {},
   "outputs": [
    {
     "data": {
      "text/plain": [
       "['who', 'is', 'the', 'pm', 'of', 'india']"
      ]
     },
     "execution_count": 89,
     "metadata": {},
     "output_type": "execute_result"
    }
   ],
   "source": [
    "\"who is the pm of india\".split()"
   ]
  },
  {
   "cell_type": "code",
   "execution_count": 90,
   "id": "4ca1d41d-9ea9-4c3e-8126-8924f37edb56",
   "metadata": {},
   "outputs": [
    {
     "data": {
      "text/plain": [
       "['who is the ', ' of india']"
      ]
     },
     "execution_count": 90,
     "metadata": {},
     "output_type": "execute_result"
    }
   ],
   "source": [
    "\"who is the pm of india\".split(\"pm\")"
   ]
  },
  {
   "cell_type": "code",
   "execution_count": 91,
   "id": "52e76fce-78ee-4144-924d-e45381d51127",
   "metadata": {},
   "outputs": [
    {
     "data": {
      "text/plain": [
       "['who ', 's the pm of ', 'nd', 'a']"
      ]
     },
     "execution_count": 91,
     "metadata": {},
     "output_type": "execute_result"
    }
   ],
   "source": [
    "\"who is the pm of india\".split(\"i\")"
   ]
  },
  {
   "cell_type": "code",
   "execution_count": 92,
   "id": "fe94fc2a-3237-444e-b090-dd281b716d7e",
   "metadata": {},
   "outputs": [
    {
     "data": {
      "text/plain": [
       "['who is the pm of india']"
      ]
     },
     "execution_count": 92,
     "metadata": {},
     "output_type": "execute_result"
    }
   ],
   "source": [
    "\"who is the pm of india\".split(\"x\")"
   ]
  },
  {
   "cell_type": "markdown",
   "id": "ecdf93ce-98ec-4bc5-a7af-27ff6b803410",
   "metadata": {},
   "source": [
    "### 9. Join"
   ]
  },
  {
   "cell_type": "code",
   "execution_count": 93,
   "id": "7a89fa62-c4ae-41e0-b06c-f9bc2d3720c1",
   "metadata": {},
   "outputs": [
    {
     "data": {
      "text/plain": [
       "'who is the pm of india'"
      ]
     },
     "execution_count": 93,
     "metadata": {},
     "output_type": "execute_result"
    }
   ],
   "source": [
    "\" \".join(['who', 'is', 'the', 'pm', 'of', 'india'])"
   ]
  },
  {
   "cell_type": "code",
   "execution_count": 94,
   "id": "700e8d52-709f-4d91-9d07-56fa1b17557f",
   "metadata": {},
   "outputs": [
    {
     "data": {
      "text/plain": [
       "'who-is-the-pm-of-india'"
      ]
     },
     "execution_count": 94,
     "metadata": {},
     "output_type": "execute_result"
    }
   ],
   "source": [
    "\"-\".join(['who', 'is', 'the', 'pm', 'of', 'india'])"
   ]
  },
  {
   "cell_type": "markdown",
   "id": "207892ae-80df-434a-8d9c-8ff483db6f09",
   "metadata": {},
   "source": [
    "### 10. Replace"
   ]
  },
  {
   "cell_type": "code",
   "execution_count": 95,
   "id": "8a3dfca5-781b-4699-a7da-53ad56b3da10",
   "metadata": {},
   "outputs": [
    {
     "data": {
      "text/plain": [
       "'Hi my name is Daksh'"
      ]
     },
     "execution_count": 95,
     "metadata": {},
     "output_type": "execute_result"
    }
   ],
   "source": [
    "\"Hi my name is Dikshita\".replace(\"Dikshita\", \"Daksh\")"
   ]
  },
  {
   "cell_type": "markdown",
   "id": "7977ec0f-36f6-4a33-afa2-f122278c1f2c",
   "metadata": {},
   "source": [
    "### 11. Strip"
   ]
  },
  {
   "cell_type": "code",
   "execution_count": 96,
   "id": "164930e8-5115-4346-b53d-b868866457c8",
   "metadata": {},
   "outputs": [
    {
     "data": {
      "text/plain": [
       "'          Dikshita           '"
      ]
     },
     "execution_count": 96,
     "metadata": {},
     "output_type": "execute_result"
    }
   ],
   "source": [
    "name = \"          Dikshita           \"\n",
    "name"
   ]
  },
  {
   "cell_type": "code",
   "execution_count": 97,
   "id": "c090163c-acb0-43ba-93dc-280b1d8b1053",
   "metadata": {},
   "outputs": [
    {
     "data": {
      "text/plain": [
       "'Hi          Dikshita           '"
      ]
     },
     "execution_count": 97,
     "metadata": {},
     "output_type": "execute_result"
    }
   ],
   "source": [
    "\"Hi\" + name"
   ]
  },
  {
   "cell_type": "code",
   "execution_count": 98,
   "id": "0f9acd3b-5928-4d50-ad06-6b2df68c67a5",
   "metadata": {},
   "outputs": [
    {
     "data": {
      "text/plain": [
       "'Dikshita'"
      ]
     },
     "execution_count": 98,
     "metadata": {},
     "output_type": "execute_result"
    }
   ],
   "source": [
    "name.strip()"
   ]
  },
  {
   "cell_type": "markdown",
   "id": "305e81b9-68ad-4665-b0f6-15d043919e62",
   "metadata": {},
   "source": [
    "### Example Programs"
   ]
  },
  {
   "cell_type": "code",
   "execution_count": 99,
   "id": "ec6e9eb9-7ab5-46c5-a703-6ce30da61192",
   "metadata": {},
   "outputs": [
    {
     "name": "stdin",
     "output_type": "stream",
     "text": [
      "enter the string:  Dikshita\n"
     ]
    },
    {
     "name": "stdout",
     "output_type": "stream",
     "text": [
      "length of string is 8\n"
     ]
    }
   ],
   "source": [
    "# 1. Length of String without len()\n",
    "s = input('enter the string: ')\n",
    "counter = 0\n",
    "for i in s:\n",
    "  counter += 1\n",
    "print('length of string is', counter)"
   ]
  },
  {
   "cell_type": "code",
   "execution_count": 100,
   "id": "84812376-466f-4ada-90a5-b598652ec734",
   "metadata": {},
   "outputs": [
    {
     "name": "stdin",
     "output_type": "stream",
     "text": [
      "enter the email:  dikshita@gmail.com\n"
     ]
    },
    {
     "name": "stdout",
     "output_type": "stream",
     "text": [
      "dikshita\n"
     ]
    }
   ],
   "source": [
    "# 2. Extract username from email\n",
    "# Eg: sample@gmail.com ---> sample\n",
    "s = input('enter the email: ')\n",
    "pos = s.index('@')\n",
    "print(s[0:pos])"
   ]
  },
  {
   "cell_type": "code",
   "execution_count": 102,
   "id": "1d08d295-3026-4454-8323-135eb8c9a0f6",
   "metadata": {},
   "outputs": [
    {
     "name": "stdin",
     "output_type": "stream",
     "text": [
      "enter the email:  dikshita@gmail.com\n",
      "what would like to search for:  a\n"
     ]
    },
    {
     "name": "stdout",
     "output_type": "stream",
     "text": [
      "frequency 2\n"
     ]
    }
   ],
   "source": [
    "# 3. Count character frequency in a string\n",
    "s = input('enter the email: ')\n",
    "term = input('what would like to search for: ')\n",
    "counter = 0\n",
    "for i in s:\n",
    "  if i == term:\n",
    "    counter += 1\n",
    "print('frequency', counter)"
   ]
  },
  {
   "cell_type": "code",
   "execution_count": 103,
   "id": "4f9b7d96-d002-4264-bc5f-f72394b96e20",
   "metadata": {},
   "outputs": [
    {
     "name": "stdin",
     "output_type": "stream",
     "text": [
      "enter the string:  Dikshita Singh\n",
      "what would like to remove:  s\n"
     ]
    },
    {
     "name": "stdout",
     "output_type": "stream",
     "text": [
      "Dikhita Singh\n"
     ]
    }
   ],
   "source": [
    "# 4. Remove Character from String\n",
    "s = input('enter the string: ')\n",
    "term = input('what would like to remove: ')\n",
    "result = ''\n",
    "for i in s:\n",
    "  if i != term:\n",
    "    result += i\n",
    "print(result)"
   ]
  },
  {
   "cell_type": "code",
   "execution_count": 104,
   "id": "973fe19a-f052-4035-a06a-a05293b45f0d",
   "metadata": {},
   "outputs": [
    {
     "name": "stdin",
     "output_type": "stream",
     "text": [
      "enter the string:  madam\n"
     ]
    },
    {
     "name": "stdout",
     "output_type": "stream",
     "text": [
      "Palindrome\n"
     ]
    }
   ],
   "source": [
    "# 5. Check if a string is a palindrome\n",
    "s = input('enter the string: ')\n",
    "flag = True\n",
    "for i in range(0,len(s)//2):\n",
    "  if s[i] != s[len(s) - i -1]:\n",
    "    flag = False\n",
    "    print('Not a Palindrome')\n",
    "    break\n",
    "if flag:\n",
    "  print('Palindrome')"
   ]
  },
  {
   "cell_type": "code",
   "execution_count": 105,
   "id": "d3f50ca8-037c-4b1b-b4e9-1dde68962e85",
   "metadata": {},
   "outputs": [
    {
     "name": "stdin",
     "output_type": "stream",
     "text": [
      "enter the string:  hi how are you\n"
     ]
    },
    {
     "name": "stdout",
     "output_type": "stream",
     "text": [
      "['hi', 'how', 'are', 'you']\n"
     ]
    }
   ],
   "source": [
    "# 6. Word Count Without split()\n",
    "s = input('enter the string: ')\n",
    "L = []\n",
    "temp = ''\n",
    "for i in s:\n",
    "  if i != ' ':\n",
    "    temp += i\n",
    "  else:\n",
    "    L.append(temp)\n",
    "    temp = ''\n",
    "L.append(temp)\n",
    "print(L)"
   ]
  },
  {
   "cell_type": "code",
   "execution_count": 106,
   "id": "3bc39c48-c904-4a9b-851c-677c934b0957",
   "metadata": {},
   "outputs": [
    {
     "name": "stdin",
     "output_type": "stream",
     "text": [
      "enter the string:  Hi my name is Dikshita\n"
     ]
    },
    {
     "name": "stdout",
     "output_type": "stream",
     "text": [
      "Hi My Name Is Dikshita\n"
     ]
    }
   ],
   "source": [
    "# 7. Convert String to Title Case (No title())\n",
    "s = input('enter the string: ')\n",
    "L = []\n",
    "for i in s.split():\n",
    "  L.append(i[0].upper() + i[1:].lower())\n",
    "print(\" \".join(L))"
   ]
  },
  {
   "cell_type": "code",
   "execution_count": 107,
   "id": "3dd97755-f06e-445d-99d5-95f0b1e20be1",
   "metadata": {},
   "outputs": [
    {
     "name": "stdin",
     "output_type": "stream",
     "text": [
      "enter the number:  345\n"
     ]
    },
    {
     "name": "stdout",
     "output_type": "stream",
     "text": [
      "345\n",
      "<class 'str'>\n"
     ]
    }
   ],
   "source": [
    "# 8. Integer to String Conversion\n",
    "number = int(input('enter the number: '))\n",
    "digits = '0123456789'\n",
    "result = ''\n",
    "while number != 0:\n",
    "  result = digits[number % 10] + result\n",
    "  number //= 10\n",
    "print(result)\n",
    "print(type(result))\n"
   ]
  },
  {
   "cell_type": "code",
   "execution_count": null,
   "id": "d172e7af-af3f-4b50-a76e-738404952814",
   "metadata": {},
   "outputs": [],
   "source": []
  }
 ],
 "metadata": {
  "kernelspec": {
   "display_name": "Python 3 (ipykernel)",
   "language": "python",
   "name": "python3"
  },
  "language_info": {
   "codemirror_mode": {
    "name": "ipython",
    "version": 3
   },
   "file_extension": ".py",
   "mimetype": "text/x-python",
   "name": "python",
   "nbconvert_exporter": "python",
   "pygments_lexer": "ipython3",
   "version": "3.13.5"
  }
 },
 "nbformat": 4,
 "nbformat_minor": 5
}
