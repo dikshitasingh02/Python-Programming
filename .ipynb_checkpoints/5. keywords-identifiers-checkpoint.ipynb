{
 "cells": [
  {
   "cell_type": "markdown",
   "id": "4cffacb9-4bf4-4aae-9cce-f41d7f7de04d",
   "metadata": {},
   "source": [
    "## Keywords\n",
    "#### Python is case sensitive\n",
    "- Keywords: reserved words, special meanings\n",
    "- Cannot use as variable names"
   ]
  },
  {
   "cell_type": "code",
   "execution_count": 1,
   "id": "aefa6bb7-7498-406c-927d-1ca40b3cbda3",
   "metadata": {},
   "outputs": [
    {
     "name": "stdout",
     "output_type": "stream",
     "text": [
      "['False', 'None', 'True', 'and', 'as', 'assert', 'async', 'await', 'break', 'class', 'continue', 'def', 'del', 'elif', 'else', 'except', 'finally', 'for', 'from', 'global', 'if', 'import', 'in', 'is', 'lambda', 'nonlocal', 'not', 'or', 'pass', 'raise', 'return', 'try', 'while', 'with', 'yield']\n"
     ]
    }
   ],
   "source": [
    "# Python has 33 keywords.\n",
    "import keyword\n",
    "print(keyword.kwlist)"
   ]
  },
  {
   "cell_type": "markdown",
   "id": "194aefe3-0cd4-4363-8236-a89cce6256ef",
   "metadata": {},
   "source": [
    "## Identifiers\n",
    "### Identifier are name for var, func, class, module, etc.\n",
    "### Rules:\n",
    "- Start with letter or _\n",
    "- Followed by letters, digits, _\n",
    "- Not a Python keyword"
   ]
  },
  {
   "cell_type": "code",
   "execution_count": 3,
   "id": "7b7772df-528e-4610-95b5-597a61f11ab1",
   "metadata": {},
   "outputs": [
    {
     "name": "stdout",
     "output_type": "stream",
     "text": [
      "John\n"
     ]
    }
   ],
   "source": [
    "name = 'John'\n",
    "print(name)"
   ]
  },
  {
   "cell_type": "code",
   "execution_count": 4,
   "id": "a8e138d0-9283-4e96-9e1b-aab5df210e30",
   "metadata": {},
   "outputs": [
    {
     "name": "stdout",
     "output_type": "stream",
     "text": [
      "Diksita\n"
     ]
    }
   ],
   "source": [
    "_ = 'Diksita'\n",
    "print(_)"
   ]
  },
  {
   "cell_type": "code",
   "execution_count": 5,
   "id": "48e43621-68e8-457f-9c78-82ee7f61cbc4",
   "metadata": {},
   "outputs": [
    {
     "name": "stdout",
     "output_type": "stream",
     "text": [
      "Dikshita\n"
     ]
    }
   ],
   "source": [
    "first_name = 'Dikshita'\n",
    "print(first_name)"
   ]
  },
  {
   "cell_type": "code",
   "execution_count": 6,
   "id": "d02d53e6-412a-415e-bb7a-6239882dc395",
   "metadata": {},
   "outputs": [
    {
     "ename": "SyntaxError",
     "evalue": "cannot assign to False (415459139.py, line 1)",
     "output_type": "error",
     "traceback": [
      "\u001b[1;36m  Cell \u001b[1;32mIn[6], line 1\u001b[1;36m\u001b[0m\n\u001b[1;33m    False = 'Dikshita'\u001b[0m\n\u001b[1;37m    ^\u001b[0m\n\u001b[1;31mSyntaxError\u001b[0m\u001b[1;31m:\u001b[0m cannot assign to False\n"
     ]
    }
   ],
   "source": [
    "False = 'Dikshita'\n",
    "print(False)"
   ]
  },
  {
   "cell_type": "code",
   "execution_count": null,
   "id": "f66fc4ca-7a16-488b-b050-950920016703",
   "metadata": {},
   "outputs": [],
   "source": []
  }
 ],
 "metadata": {
  "kernelspec": {
   "display_name": "Python 3 (ipykernel)",
   "language": "python",
   "name": "python3"
  },
  "language_info": {
   "codemirror_mode": {
    "name": "ipython",
    "version": 3
   },
   "file_extension": ".py",
   "mimetype": "text/x-python",
   "name": "python",
   "nbconvert_exporter": "python",
   "pygments_lexer": "ipython3",
   "version": "3.13.5"
  }
 },
 "nbformat": 4,
 "nbformat_minor": 5
}
