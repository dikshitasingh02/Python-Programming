{
 "cells": [
  {
   "cell_type": "markdown",
   "id": "bca14799-b7fc-438d-a45e-589595a1d4ad",
   "metadata": {},
   "source": [
    "# Recursion\n",
    "Function calls itself\n",
    "\n",
    "## Advantages:\n",
    "- No loops needed.\n",
    "- Solves problems without iteration.\n",
    "\"To understand recursion you must understand recursion\"\n",
    "\n",
    "## Iterative Vs Recursive\n",
    "### a*b"
   ]
  },
  {
   "cell_type": "code",
   "execution_count": 1,
   "id": "129da4e4-3f92-49ea-a8c0-26cc6e1cb9cf",
   "metadata": {},
   "outputs": [
    {
     "name": "stdout",
     "output_type": "stream",
     "text": [
      "12\n"
     ]
    }
   ],
   "source": [
    "# iterative method\n",
    "def multiply(a, b):\n",
    "    result = 0\n",
    "    for i in range(b):\n",
    "        result += a\n",
    "    print(result)\n",
    "multiply(3, 4)"
   ]
  },
  {
   "cell_type": "code",
   "execution_count": 2,
   "id": "faaa31fe-a876-4e10-a158-0d9cad034f4f",
   "metadata": {},
   "outputs": [],
   "source": [
    "# Recursive Method\n",
    "\n",
    "# 1. Base Case: Define stopping condition.\n",
    "\n",
    "# 2. Decompose: Break main problem into smaller subproblems until base case is reached.\n",
    "\n",
    "def mul(a, b):\n",
    "    if b == 1:\n",
    "        return a\n",
    "    else:\n",
    "        return a + mul(a, b-1)"
   ]
  },
  {
   "cell_type": "code",
   "execution_count": 3,
   "id": "cc1bb0f4-9f15-4409-adb6-9fdcf13c9953",
   "metadata": {},
   "outputs": [
    {
     "name": "stdout",
     "output_type": "stream",
     "text": [
      "12\n"
     ]
    }
   ],
   "source": [
    "print(mul(3, 4))"
   ]
  },
  {
   "cell_type": "code",
   "execution_count": 4,
   "id": "4416f423-6783-4f42-a681-41a22d4f1c90",
   "metadata": {},
   "outputs": [
    {
     "name": "stdout",
     "output_type": "stream",
     "text": [
      "120\n"
     ]
    }
   ],
   "source": [
    "# Factorial via Recursion\n",
    "def fact(number):\n",
    "    if number == 1:\n",
    "        return 1\n",
    "    else:\n",
    "        return number * fact(number-1)\n",
    "print(fact(5))"
   ]
  },
  {
   "cell_type": "code",
   "execution_count": 5,
   "id": "833b3c63-baa3-4709-aae6-13c5fb9c585d",
   "metadata": {},
   "outputs": [],
   "source": [
    "# Palindrome\n",
    "def palin(text):\n",
    "    if len(text) <= 1:\n",
    "        print(\"palindrome\")\n",
    "    else:\n",
    "        if text[0] == text[-1]:\n",
    "            palin(text[1:-1])\n",
    "        else:\n",
    "            print(\"not a palindrome\")"
   ]
  },
  {
   "cell_type": "code",
   "execution_count": 6,
   "id": "a043a622-95bd-488a-a3fa-668183d8795c",
   "metadata": {},
   "outputs": [
    {
     "name": "stdout",
     "output_type": "stream",
     "text": [
      "palindrome\n"
     ]
    }
   ],
   "source": [
    "palin(\"madam\")"
   ]
  },
  {
   "cell_type": "code",
   "execution_count": 7,
   "id": "ea6a5857-1be3-43f4-8dbc-c0c5b462476e",
   "metadata": {},
   "outputs": [
    {
     "name": "stdout",
     "output_type": "stream",
     "text": [
      "palindrome\n"
     ]
    }
   ],
   "source": [
    "palin(\"malayalam\")"
   ]
  },
  {
   "cell_type": "code",
   "execution_count": 8,
   "id": "6b503278-29ca-4aeb-970d-9e220fc59322",
   "metadata": {},
   "outputs": [
    {
     "name": "stdout",
     "output_type": "stream",
     "text": [
      "not a palindrome\n"
     ]
    }
   ],
   "source": [
    "palin(\"python\")"
   ]
  },
  {
   "cell_type": "code",
   "execution_count": 9,
   "id": "762f6124-5512-4cd1-887c-a82d6afe3162",
   "metadata": {},
   "outputs": [
    {
     "name": "stdout",
     "output_type": "stream",
     "text": [
      "palindrome\n"
     ]
    }
   ],
   "source": [
    "palin(\"abba\")"
   ]
  },
  {
   "cell_type": "code",
   "execution_count": 10,
   "id": "63ee750b-5922-4153-90c9-50b66be05600",
   "metadata": {},
   "outputs": [
    {
     "name": "stdout",
     "output_type": "stream",
     "text": [
      "233\n"
     ]
    }
   ],
   "source": [
    "# The Rabbit Problem: Fibonacci Number\n",
    "\n",
    "# Scenario ---> 2 newborn rabbits: 1 male + 1 female monthly.\n",
    "#               Reproduce after 1 month, immortality.\n",
    "\n",
    "def fib(m):\n",
    "    if m == 0 or m == 1:\n",
    "        return 1\n",
    "    else:\n",
    "        return fib(m-1) + fib(m-2)\n",
    "print(fib(12)) # T = O(2^n)\n",
    "\n",
    "# Key Concepts:\n",
    "#     Fibonacci Sequence\n",
    "#     Reproduction Rate\n",
    "#     Population Growth"
   ]
  },
  {
   "cell_type": "code",
   "execution_count": 11,
   "id": "ad0af446-aa31-431d-921d-b4c604923a70",
   "metadata": {},
   "outputs": [
    {
     "name": "stdout",
     "output_type": "stream",
     "text": [
      "233\n",
      "0.0005936622619628906\n"
     ]
    }
   ],
   "source": [
    "import time\n",
    "start = time.time()\n",
    "print(fib(12))\n",
    "print(time.time() - start)"
   ]
  },
  {
   "cell_type": "code",
   "execution_count": 12,
   "id": "97cf7bfb-ef3e-4333-bb77-db86d485cbbc",
   "metadata": {},
   "outputs": [
    {
     "name": "stdout",
     "output_type": "stream",
     "text": [
      "75025\n",
      "7.076735973358154\n"
     ]
    }
   ],
   "source": [
    "print(fib(24))\n",
    "print(time.time() - start)"
   ]
  },
  {
   "cell_type": "code",
   "execution_count": 14,
   "id": "5950fb18-00a9-45a6-a06f-924cba0fd1d8",
   "metadata": {},
   "outputs": [
    {
     "name": "stdout",
     "output_type": "stream",
     "text": [
      "24157817\n",
      "38.654499530792236\n"
     ]
    }
   ],
   "source": [
    "print(fib(36))\n",
    "print(time.time() - start)"
   ]
  },
  {
   "cell_type": "markdown",
   "id": "a18873d0-28c7-44a0-be24-905ec0e95374",
   "metadata": {},
   "source": [
    "# Memoization\n",
    "Memoization refers to remembering method call results based on inputs.\n",
    "- Returns cached results, avoiding recomputation.\n",
    "- Speeds up computations; stores previous results.\n",
    "- Used in dynamic programming for recursive solutions.\n",
    "- Reduces time complexity; avoids redundant calculations.\n",
    "- Optimizes recursive algorithms by reusing results."
   ]
  },
  {
   "cell_type": "code",
   "execution_count": 15,
   "id": "036b04e0-701c-4333-a16c-009a10f7b0b8",
   "metadata": {},
   "outputs": [
    {
     "name": "stdout",
     "output_type": "stream",
     "text": [
      "7778742049\n"
     ]
    }
   ],
   "source": [
    "def memo(m, d):\n",
    "    if m in d:\n",
    "        return d[m]\n",
    "    else:\n",
    "        d[m] = memo(m-1, d) + memo(m-2, d)\n",
    "        return d[m]\n",
    "d = {0:1, 1:1}\n",
    "print(memo(48, d))"
   ]
  },
  {
   "cell_type": "code",
   "execution_count": 16,
   "id": "9738dc9c-b297-4a0d-a546-9f229051a854",
   "metadata": {},
   "outputs": [
    {
     "name": "stdout",
     "output_type": "stream",
     "text": [
      "7778742049\n",
      "77.0003411769867\n"
     ]
    }
   ],
   "source": [
    "print(memo(48, d))\n",
    "print(time.time() - start)"
   ]
  },
  {
   "cell_type": "code",
   "execution_count": 17,
   "id": "26f2f6e6-b142-46e7-b5d5-e6dbf42b00b6",
   "metadata": {},
   "outputs": [
    {
     "name": "stdout",
     "output_type": "stream",
     "text": [
      "225591516161936330872512695036072072046011324913758190588638866418474627738686883405015987052796968498626\n",
      "82.85600066184998\n"
     ]
    }
   ],
   "source": [
    "print(memo(500, d))\n",
    "print(time.time() - start)"
   ]
  },
  {
   "cell_type": "code",
   "execution_count": 18,
   "id": "e32ca2c2-0b46-4140-9913-9f675830bce2",
   "metadata": {},
   "outputs": [
    {
     "name": "stdout",
     "output_type": "stream",
     "text": [
      "70330367711422815821835254877183549770181269836358732742604905087154537118196933579742249494562611733487750449241765991088186363265450223647106012053374121273867339111198139373125598767690091902245245323403501\n",
      "88.72016024589539\n"
     ]
    }
   ],
   "source": [
    "print(memo(1000, d))\n",
    "print(time.time() - start)"
   ]
  },
  {
   "cell_type": "code",
   "execution_count": 20,
   "id": "bfe1a926-64b5-425b-bfa3-939628c2478e",
   "metadata": {},
   "outputs": [],
   "source": [
    "# print(d) # Dict in memory, execution time reduced"
   ]
  },
  {
   "cell_type": "code",
   "execution_count": 21,
   "id": "e9c4a2bd-0f88-4082-938e-87def2f45967",
   "metadata": {},
   "outputs": [
    {
     "name": "stdout",
     "output_type": "stream",
     "text": [
      "[[], ['1'], ['2'], ['1', '2'], ['3'], ['1', '3'], ['2', '3'], ['1', '2', '3']]\n",
      "8\n"
     ]
    }
   ],
   "source": [
    "# Recursive PowerSet Function in Python\n",
    "\n",
    "# PowerSet: Given set S, return power set P(S) (all subsets of S).\n",
    "\n",
    "# Input: String\n",
    "# Output: Array of Strings (power set)\n",
    "\n",
    "# Example: S = \"123\", P(S) = ['', '1', '2', '3', '12', '13', '23', '123']\n",
    "\n",
    "def powerset1(xs):\n",
    "    res = [[]]\n",
    "    if len(xs) <= 0:\n",
    "        return \"Please Enter a parameter\"\n",
    "    if len(xs) == 1:\n",
    "        res.append([xs[0]])\n",
    "        return res\n",
    "    else:\n",
    "        z = []\n",
    "        for i in powerset1(xs[1:]):\n",
    "            z.append(i)\n",
    "            z.append([xs[0]] + i) \n",
    "        return z\n",
    "\n",
    "final = powerset1('123')\n",
    "print(final)\n",
    "print(len(final))"
   ]
  },
  {
   "cell_type": "code",
   "execution_count": null,
   "id": "4c09040d-3c6f-46a0-9fb1-0e91cf95ee44",
   "metadata": {},
   "outputs": [],
   "source": []
  }
 ],
 "metadata": {
  "kernelspec": {
   "display_name": "Python 3 (ipykernel)",
   "language": "python",
   "name": "python3"
  },
  "language_info": {
   "codemirror_mode": {
    "name": "ipython",
    "version": 3
   },
   "file_extension": ".py",
   "mimetype": "text/x-python",
   "name": "python",
   "nbconvert_exporter": "python",
   "pygments_lexer": "ipython3",
   "version": "3.13.5"
  }
 },
 "nbformat": 4,
 "nbformat_minor": 5
}
