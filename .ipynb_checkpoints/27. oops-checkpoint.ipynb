{
 "cells": [
  {
   "cell_type": "markdown",
   "id": "1761197c-c6d4-47cb-80f0-5b0b49e6130d",
   "metadata": {},
   "source": [
    "# OBJECT-ORIENTED PROGRAMMING\n",
    "**OOP** is a programming paradigm using objects & classes."
   ]
  },
  {
   "cell_type": "markdown",
   "id": "330eb9c9-3d85-41aa-a87b-c70c43eb71ee",
   "metadata": {},
   "source": [
    "### The Observation"
   ]
  },
  {
   "cell_type": "code",
   "execution_count": 1,
   "id": "95b02351-036f-45d0-aa78-c56ee15f6007",
   "metadata": {},
   "outputs": [],
   "source": [
    "L = [1, 2, 3, 4]"
   ]
  },
  {
   "cell_type": "code",
   "execution_count": 2,
   "id": "27e46fd1-92ed-4e00-b0eb-2ba6f15cb2d2",
   "metadata": {},
   "outputs": [
    {
     "data": {
      "text/plain": [
       "[1, 2, 3, 4]"
      ]
     },
     "execution_count": 2,
     "metadata": {},
     "output_type": "execute_result"
    }
   ],
   "source": [
    "L"
   ]
  },
  {
   "cell_type": "code",
   "execution_count": 3,
   "id": "28876274-aa53-42ae-8fd6-cdd8d47672d2",
   "metadata": {},
   "outputs": [
    {
     "ename": "AttributeError",
     "evalue": "'list' object has no attribute 'upper'",
     "output_type": "error",
     "traceback": [
      "\u001b[1;31m---------------------------------------------------------------------------\u001b[0m",
      "\u001b[1;31mAttributeError\u001b[0m                            Traceback (most recent call last)",
      "Cell \u001b[1;32mIn[3], line 1\u001b[0m\n\u001b[1;32m----> 1\u001b[0m L\u001b[38;5;241m.\u001b[39mupper()\n",
      "\u001b[1;31mAttributeError\u001b[0m: 'list' object has no attribute 'upper'"
     ]
    }
   ],
   "source": [
    "L.upper()"
   ]
  },
  {
   "cell_type": "code",
   "execution_count": 4,
   "id": "b33b8496-d4d8-416c-a2d8-89964c666fcb",
   "metadata": {},
   "outputs": [],
   "source": [
    "city = 'Kolkata'"
   ]
  },
  {
   "cell_type": "code",
   "execution_count": 5,
   "id": "761bf0ba-2d12-4752-ae54-2d46615d9b92",
   "metadata": {},
   "outputs": [
    {
     "ename": "AttributeError",
     "evalue": "'str' object has no attribute 'append'",
     "output_type": "error",
     "traceback": [
      "\u001b[1;31m---------------------------------------------------------------------------\u001b[0m",
      "\u001b[1;31mAttributeError\u001b[0m                            Traceback (most recent call last)",
      "Cell \u001b[1;32mIn[5], line 1\u001b[0m\n\u001b[1;32m----> 1\u001b[0m city\u001b[38;5;241m.\u001b[39mappend(\u001b[38;5;124m'\u001b[39m\u001b[38;5;124ma\u001b[39m\u001b[38;5;124m'\u001b[39m)\n",
      "\u001b[1;31mAttributeError\u001b[0m: 'str' object has no attribute 'append'"
     ]
    }
   ],
   "source": [
    "city.append('a')"
   ]
  },
  {
   "cell_type": "code",
   "execution_count": 6,
   "id": "45021ad1-d2a3-405a-8a78-009e31dc9574",
   "metadata": {},
   "outputs": [],
   "source": [
    "a = 3"
   ]
  },
  {
   "cell_type": "code",
   "execution_count": 7,
   "id": "513b9ff6-1be3-4321-b89b-2d16b6c98202",
   "metadata": {},
   "outputs": [
    {
     "ename": "AttributeError",
     "evalue": "'int' object has no attribute 'upper'",
     "output_type": "error",
     "traceback": [
      "\u001b[1;31m---------------------------------------------------------------------------\u001b[0m",
      "\u001b[1;31mAttributeError\u001b[0m                            Traceback (most recent call last)",
      "Cell \u001b[1;32mIn[7], line 1\u001b[0m\n\u001b[1;32m----> 1\u001b[0m a\u001b[38;5;241m.\u001b[39mupper()\n",
      "\u001b[1;31mAttributeError\u001b[0m: 'int' object has no attribute 'upper'"
     ]
    }
   ],
   "source": [
    "a.upper()"
   ]
  },
  {
   "cell_type": "markdown",
   "id": "5d3b6c2d-d287-495f-8cbd-da60f8ee2787",
   "metadata": {},
   "source": [
    "### \"Everything in Python is an Object\"\n",
    "### But, What is an Object?  \n",
    "### What is OOP?  \n",
    "### The PROBLEM!  \n",
    "### Generality to Specificity  \n",
    "\n",
    "**The Core Fundamental Feature of OOP:**  \n",
    "*One of the core fundamental features of OOP is the ability to create **Custom Data Types** tailored to specific needs (e.g., LinkedIn platform).*  \n",
    "\n",
    "**Without OOP:**  \n",
    "- **Reliance on primitive data types:** `int`, `list`, `tuple`  \n",
    "- **Less optimal** Not tailored, harder to manage  \n",
    "\n",
    "**With OOP:**  \n",
    "- **Custom Types:** Efficient, intuitive, scalable  \n",
    "- **Encapsulation:** Better feature management  \n",
    "- **Manageable Codebase**  \n",
    "\n",
    "### So, What is Object Oriented Programming?  \n",
    "***Key Concepts of OOP:***  \n",
    "- **Object**  \n",
    "- **Class**  \n",
    "- **Polymorphism**  \n",
    "- **Encapsulation**  \n",
    "- **Inheritance**  \n",
    "- **Abstraction**  \n"
   ]
  },
  {
   "cell_type": "markdown",
   "id": "0f01ed70-b4e0-403f-a8f1-f99e274f9395",
   "metadata": {},
   "source": [
    "## CLASS\n",
    "- Blueprint for objects\n",
    "- Defines object behavior\n",
    "  \n",
    "*(from now onwards variable == object)*"
   ]
  },
  {
   "cell_type": "code",
   "execution_count": 8,
   "id": "4ab7b166-a3b2-4eea-abf6-268a679204bc",
   "metadata": {},
   "outputs": [],
   "source": [
    "a = 2"
   ]
  },
  {
   "cell_type": "code",
   "execution_count": 9,
   "id": "8fcd493d-7642-4878-b145-0f34a81eb78a",
   "metadata": {},
   "outputs": [
    {
     "data": {
      "text/plain": [
       "int"
      ]
     },
     "execution_count": 9,
     "metadata": {},
     "output_type": "execute_result"
    }
   ],
   "source": [
    "type(a)"
   ]
  },
  {
   "cell_type": "code",
   "execution_count": 10,
   "id": "710bd155-8e60-4f6e-bc5f-7342f91ac2f5",
   "metadata": {},
   "outputs": [
    {
     "data": {
      "text/plain": [
       "[1, 2, 3, 4]"
      ]
     },
     "execution_count": 10,
     "metadata": {},
     "output_type": "execute_result"
    }
   ],
   "source": [
    "L"
   ]
  },
  {
   "cell_type": "markdown",
   "id": "72c5f710-a73f-4e02-925e-083b6e78d7ec",
   "metadata": {},
   "source": [
    "In Python,\n",
    "\n",
    "Datatype = Class\n",
    "\n",
    "Variable = Object of Class"
   ]
  },
  {
   "cell_type": "markdown",
   "id": "0236fbee-763a-41cd-8783-7465b240d68f",
   "metadata": {},
   "source": [
    "**Class:**\n",
    "\n",
    "1. **Attributes:** Data/Properties<br>\n",
    "2. **Methods:** Functions/Behavior"
   ]
  },
  {
   "cell_type": "markdown",
   "id": "572b76a5-d16d-4714-a2a8-8bde775f321c",
   "metadata": {},
   "source": [
    "### Class Basic Structure"
   ]
  },
  {
   "cell_type": "code",
   "execution_count": null,
   "id": "719df3b9-9310-4a48-a7a5-451021812173",
   "metadata": {},
   "outputs": [],
   "source": [
    "class Car:\n",
    "    color = \"blue\"   # data\n",
    "    model = \"sports\" # data\n",
    "    def calculate_avg_speed(km, time): # method\n",
    "        # some code"
   ]
  },
  {
   "cell_type": "code",
   "execution_count": null,
   "id": "5f6c08e1-82b9-4069-8a95-8db05fa31c2f",
   "metadata": {},
   "outputs": [],
   "source": [
    "# Naming Conventions:\n",
    "\n",
    "Class names    ---> PascalCase\n",
    "\n",
    "Data/functions ---> snake_case\n",
    "\n",
    "# Examples:\n",
    "\n",
    "PascalCase     ---> ThisIsPascalCase\n",
    "\n",
    "CamelCase      ---> thisIsCamelCase\n",
    "\n",
    "snake_case     ---> snake_case"
   ]
  },
  {
   "cell_type": "code",
   "execution_count": null,
   "id": "ba878bcd-3b8b-472c-9061-bd1b19210a76",
   "metadata": {},
   "outputs": [],
   "source": [
    "Class Representation:\n",
    "\n",
    "+-------------------------+ \n",
    "|          - Car          |\n",
    "|-------------------------| \n",
    "|         - Color         | \n",
    "|        - mileage        | # attributes/data (private)\n",
    "|         - engine        |\n",
    "|-------------------------|\n",
    "|     + cal_avg_speed     | \n",
    "|     + open_airbags      | # methods/functions (public)\n",
    "|       + show_gps        |\n",
    "+-------------------------+"
   ]
  },
  {
   "cell_type": "markdown",
   "id": "a47ce8d4-4650-4450-ab59-dee5a5bb1483",
   "metadata": {},
   "source": [
    "## OBJECT\n",
    "**Object** is an instance of a **Class**\n",
    "\n",
    "**Class** is the data type; **Object** is a variable of a **Class**"
   ]
  },
  {
   "cell_type": "code",
   "execution_count": null,
   "id": "538faf87-cae9-4b34-b804-36f773e98482",
   "metadata": {},
   "outputs": [],
   "source": [
    "# Object Examples:\n",
    "\n",
    "1. Car     ---> WagonR      | wagonr     = Car()\n",
    "2. Sports  ---> Gilli Danda | gillidanda = Sports()\n",
    "3. Animals ---> Langoor     | langoor    = Animals()"
   ]
  },
  {
   "cell_type": "code",
   "execution_count": 13,
   "id": "93a4a53d-85e0-4d38-8e7f-f50b1b336c98",
   "metadata": {},
   "outputs": [],
   "source": [
    "L = [1, 2, 3] # Obj Literal ---> Built-in classes"
   ]
  },
  {
   "cell_type": "code",
   "execution_count": 14,
   "id": "aed07ea7-b779-4043-b14e-1ca5cdd5e8f4",
   "metadata": {},
   "outputs": [
    {
     "data": {
      "text/plain": [
       "[1, 2, 3]"
      ]
     },
     "execution_count": 14,
     "metadata": {},
     "output_type": "execute_result"
    }
   ],
   "source": [
    "L"
   ]
  },
  {
   "cell_type": "code",
   "execution_count": 15,
   "id": "b0ac872a-282a-43a3-9d22-25d4870952f8",
   "metadata": {},
   "outputs": [],
   "source": [
    "L = list()"
   ]
  },
  {
   "cell_type": "code",
   "execution_count": 16,
   "id": "b6d5db76-8cac-4c49-92a0-7547a0bc37ab",
   "metadata": {},
   "outputs": [
    {
     "data": {
      "text/plain": [
       "[]"
      ]
     },
     "execution_count": 16,
     "metadata": {},
     "output_type": "execute_result"
    }
   ],
   "source": [
    "L"
   ]
  },
  {
   "cell_type": "code",
   "execution_count": 17,
   "id": "58f2b337-edbf-4865-95d3-ea21a8b00d82",
   "metadata": {},
   "outputs": [],
   "source": [
    "city = str()"
   ]
  },
  {
   "cell_type": "code",
   "execution_count": 18,
   "id": "8d1d7f4f-e7ce-4720-aada-8d384b70fbb4",
   "metadata": {},
   "outputs": [
    {
     "data": {
      "text/plain": [
       "''"
      ]
     },
     "execution_count": 18,
     "metadata": {},
     "output_type": "execute_result"
    }
   ],
   "source": [
    "city"
   ]
  },
  {
   "cell_type": "code",
   "execution_count": null,
   "id": "1664dad0-c4d2-44bf-b41e-497bb7a4605a",
   "metadata": {},
   "outputs": [],
   "source": []
  }
 ],
 "metadata": {
  "kernelspec": {
   "display_name": "Python 3 (ipykernel)",
   "language": "python",
   "name": "python3"
  },
  "language_info": {
   "codemirror_mode": {
    "name": "ipython",
    "version": 3
   },
   "file_extension": ".py",
   "mimetype": "text/x-python",
   "name": "python",
   "nbconvert_exporter": "python",
   "pygments_lexer": "ipython3",
   "version": "3.13.5"
  }
 },
 "nbformat": 4,
 "nbformat_minor": 5
}
