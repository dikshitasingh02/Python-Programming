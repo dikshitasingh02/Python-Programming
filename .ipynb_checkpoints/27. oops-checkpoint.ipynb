{
 "cells": [
  {
   "cell_type": "markdown",
   "id": "1761197c-c6d4-47cb-80f0-5b0b49e6130d",
   "metadata": {},
   "source": [
    "# OBJECT-ORIENTED PROGRAMMING\n",
    "**OOP** is a programming paradigm using objects & classes."
   ]
  },
  {
   "cell_type": "markdown",
   "id": "330eb9c9-3d85-41aa-a87b-c70c43eb71ee",
   "metadata": {},
   "source": [
    "### The Observation"
   ]
  },
  {
   "cell_type": "code",
   "execution_count": 2,
   "id": "95b02351-036f-45d0-aa78-c56ee15f6007",
   "metadata": {},
   "outputs": [],
   "source": [
    "L = [1, 2, 3, 4]"
   ]
  },
  {
   "cell_type": "code",
   "execution_count": 3,
   "id": "27e46fd1-92ed-4e00-b0eb-2ba6f15cb2d2",
   "metadata": {},
   "outputs": [
    {
     "data": {
      "text/plain": [
       "[1, 2, 3, 4]"
      ]
     },
     "execution_count": 3,
     "metadata": {},
     "output_type": "execute_result"
    }
   ],
   "source": [
    "L"
   ]
  },
  {
   "cell_type": "code",
   "execution_count": 4,
   "id": "28876274-aa53-42ae-8fd6-cdd8d47672d2",
   "metadata": {},
   "outputs": [
    {
     "ename": "AttributeError",
     "evalue": "'list' object has no attribute 'upper'",
     "output_type": "error",
     "traceback": [
      "\u001b[1;31m---------------------------------------------------------------------------\u001b[0m",
      "\u001b[1;31mAttributeError\u001b[0m                            Traceback (most recent call last)",
      "Cell \u001b[1;32mIn[4], line 1\u001b[0m\n\u001b[1;32m----> 1\u001b[0m L\u001b[38;5;241m.\u001b[39mupper()\n",
      "\u001b[1;31mAttributeError\u001b[0m: 'list' object has no attribute 'upper'"
     ]
    }
   ],
   "source": [
    "L.upper()"
   ]
  },
  {
   "cell_type": "code",
   "execution_count": 5,
   "id": "b33b8496-d4d8-416c-a2d8-89964c666fcb",
   "metadata": {},
   "outputs": [],
   "source": [
    "city = 'Kolkata'"
   ]
  },
  {
   "cell_type": "code",
   "execution_count": 6,
   "id": "761bf0ba-2d12-4752-ae54-2d46615d9b92",
   "metadata": {},
   "outputs": [
    {
     "ename": "AttributeError",
     "evalue": "'str' object has no attribute 'append'",
     "output_type": "error",
     "traceback": [
      "\u001b[1;31m---------------------------------------------------------------------------\u001b[0m",
      "\u001b[1;31mAttributeError\u001b[0m                            Traceback (most recent call last)",
      "Cell \u001b[1;32mIn[6], line 1\u001b[0m\n\u001b[1;32m----> 1\u001b[0m city\u001b[38;5;241m.\u001b[39mappend(\u001b[38;5;124m'\u001b[39m\u001b[38;5;124ma\u001b[39m\u001b[38;5;124m'\u001b[39m)\n",
      "\u001b[1;31mAttributeError\u001b[0m: 'str' object has no attribute 'append'"
     ]
    }
   ],
   "source": [
    "city.append('a')"
   ]
  },
  {
   "cell_type": "code",
   "execution_count": 7,
   "id": "45021ad1-d2a3-405a-8a78-009e31dc9574",
   "metadata": {},
   "outputs": [],
   "source": [
    "a = 3"
   ]
  },
  {
   "cell_type": "code",
   "execution_count": 8,
   "id": "513b9ff6-1be3-4321-b89b-2d16b6c98202",
   "metadata": {},
   "outputs": [
    {
     "ename": "AttributeError",
     "evalue": "'int' object has no attribute 'upper'",
     "output_type": "error",
     "traceback": [
      "\u001b[1;31m---------------------------------------------------------------------------\u001b[0m",
      "\u001b[1;31mAttributeError\u001b[0m                            Traceback (most recent call last)",
      "Cell \u001b[1;32mIn[8], line 1\u001b[0m\n\u001b[1;32m----> 1\u001b[0m a\u001b[38;5;241m.\u001b[39mupper()\n",
      "\u001b[1;31mAttributeError\u001b[0m: 'int' object has no attribute 'upper'"
     ]
    }
   ],
   "source": [
    "a.upper()"
   ]
  },
  {
   "cell_type": "markdown",
   "id": "5d3b6c2d-d287-495f-8cbd-da60f8ee2787",
   "metadata": {},
   "source": [
    "### \"Everything in Python is an Object\"\n",
    "### But, What is an Object?  \n",
    "### What is OOP?  \n",
    "### The PROBLEM!  \n",
    "### Generality to Specificity  \n",
    "\n",
    "**The Core Fundamental Feature of OOP:**  \n",
    "*One of the core fundamental features of OOP is the ability to create **Custom Data Types** tailored to specific needs (e.g., LinkedIn platform).*  \n",
    "\n",
    "**Without OOP:**  \n",
    "- **Reliance on primitive data types:** `int`, `list`, `tuple`  \n",
    "- **Less optimal** Not tailored, harder to manage  \n",
    "\n",
    "**With OOP:**  \n",
    "- **Custom Types:** Efficient, intuitive, scalable  \n",
    "- **Encapsulation:** Better feature management  \n",
    "- **Manageable Codebase**  \n",
    "\n",
    "### So, What is Object Oriented Programming?  \n",
    "***Key Concepts of OOP:***  \n",
    "- **Object**  \n",
    "- **Class**  \n",
    "- **Polymorphism**  \n",
    "- **Encapsulation**  \n",
    "- **Inheritance**  \n",
    "- **Abstraction**  \n"
   ]
  },
  {
   "cell_type": "markdown",
   "id": "0f01ed70-b4e0-403f-a8f1-f99e274f9395",
   "metadata": {},
   "source": [
    "## CLASS\n",
    "- Blueprint for objects\n",
    "- Defines object behavior\n",
    "  \n",
    "*(from now onwards variable == object)*"
   ]
  },
  {
   "cell_type": "code",
   "execution_count": 9,
   "id": "4ab7b166-a3b2-4eea-abf6-268a679204bc",
   "metadata": {},
   "outputs": [],
   "source": [
    "a = 2"
   ]
  },
  {
   "cell_type": "code",
   "execution_count": 10,
   "id": "8fcd493d-7642-4878-b145-0f34a81eb78a",
   "metadata": {},
   "outputs": [
    {
     "data": {
      "text/plain": [
       "int"
      ]
     },
     "execution_count": 10,
     "metadata": {},
     "output_type": "execute_result"
    }
   ],
   "source": [
    "type(a)"
   ]
  },
  {
   "cell_type": "code",
   "execution_count": 11,
   "id": "710bd155-8e60-4f6e-bc5f-7342f91ac2f5",
   "metadata": {},
   "outputs": [
    {
     "data": {
      "text/plain": [
       "[1, 2, 3, 4]"
      ]
     },
     "execution_count": 11,
     "metadata": {},
     "output_type": "execute_result"
    }
   ],
   "source": [
    "L"
   ]
  },
  {
   "cell_type": "markdown",
   "id": "72c5f710-a73f-4e02-925e-083b6e78d7ec",
   "metadata": {},
   "source": [
    "In Python,\n",
    "\n",
    "Datatype = Class\n",
    "\n",
    "Variable = Object of Class"
   ]
  },
  {
   "cell_type": "markdown",
   "id": "0236fbee-763a-41cd-8783-7465b240d68f",
   "metadata": {},
   "source": [
    "**Class:**\n",
    "\n",
    "1. **Attributes:** Data/Properties<br>\n",
    "2. **Methods:** Functions/Behavior"
   ]
  },
  {
   "cell_type": "markdown",
   "id": "572b76a5-d16d-4714-a2a8-8bde775f321c",
   "metadata": {},
   "source": [
    "### Class Basic Structure"
   ]
  },
  {
   "cell_type": "code",
   "execution_count": null,
   "id": "719df3b9-9310-4a48-a7a5-451021812173",
   "metadata": {},
   "outputs": [],
   "source": [
    "class Car:\n",
    "    color = \"blue\"   # data\n",
    "    model = \"sports\" # data\n",
    "    def calculate_avg_speed(km, time): # method\n",
    "        # some code"
   ]
  },
  {
   "cell_type": "code",
   "execution_count": null,
   "id": "5f6c08e1-82b9-4069-8a95-8db05fa31c2f",
   "metadata": {},
   "outputs": [],
   "source": [
    "# Naming Conventions:\n",
    "\n",
    "Class names    ---> PascalCase\n",
    "\n",
    "Data/functions ---> snake_case\n",
    "\n",
    "# Examples:\n",
    "\n",
    "PascalCase     ---> ThisIsPascalCase\n",
    "\n",
    "CamelCase      ---> thisIsCamelCase\n",
    "\n",
    "snake_case     ---> snake_case"
   ]
  },
  {
   "cell_type": "code",
   "execution_count": null,
   "id": "ba878bcd-3b8b-472c-9061-bd1b19210a76",
   "metadata": {},
   "outputs": [],
   "source": [
    "Class Representation:\n",
    "\n",
    "+-------------------------+ \n",
    "|          - Car          |\n",
    "|-------------------------| \n",
    "|         - Color         | \n",
    "|        - mileage        | # attributes/data (private)\n",
    "|         - engine        |\n",
    "|-------------------------|\n",
    "|     + cal_avg_speed     | \n",
    "|     + open_airbags      | # methods/functions (public)\n",
    "|       + show_gps        |\n",
    "+-------------------------+"
   ]
  },
  {
   "cell_type": "markdown",
   "id": "a47ce8d4-4650-4450-ab59-dee5a5bb1483",
   "metadata": {},
   "source": [
    "## OBJECT\n",
    "**Object** is an instance of a **Class**\n",
    "\n",
    "**Class** is the data type; **Object** is a variable of a **Class**"
   ]
  },
  {
   "cell_type": "code",
   "execution_count": null,
   "id": "12361ca6-87fa-4c24-a9a5-b15742bd47f9",
   "metadata": {},
   "outputs": [],
   "source": [
    "# Object Examples:\n",
    "\n",
    "1. Car     ---> WagonR      | wagonr     = Car()\n",
    "2. Sports  ---> Gilli Danda | gillidanda = Sports()\n",
    "3. Animals ---> Langoor     | langoor    = Animals()"
   ]
  },
  {
   "cell_type": "code",
   "execution_count": 13,
   "id": "93a4a53d-85e0-4d38-8e7f-f50b1b336c98",
   "metadata": {},
   "outputs": [],
   "source": [
    "L = [1, 2, 3] # Obj Literal ---> Built-in classes"
   ]
  },
  {
   "cell_type": "code",
   "execution_count": 12,
   "id": "aed07ea7-b779-4043-b14e-1ca5cdd5e8f4",
   "metadata": {},
   "outputs": [
    {
     "data": {
      "text/plain": [
       "[1, 2, 3, 4]"
      ]
     },
     "execution_count": 12,
     "metadata": {},
     "output_type": "execute_result"
    }
   ],
   "source": [
    "L"
   ]
  },
  {
   "cell_type": "code",
   "execution_count": 13,
   "id": "b0ac872a-282a-43a3-9d22-25d4870952f8",
   "metadata": {},
   "outputs": [],
   "source": [
    "L = list()"
   ]
  },
  {
   "cell_type": "code",
   "execution_count": 14,
   "id": "b6d5db76-8cac-4c49-92a0-7547a0bc37ab",
   "metadata": {},
   "outputs": [
    {
     "data": {
      "text/plain": [
       "[]"
      ]
     },
     "execution_count": 14,
     "metadata": {},
     "output_type": "execute_result"
    }
   ],
   "source": [
    "L"
   ]
  },
  {
   "cell_type": "code",
   "execution_count": 15,
   "id": "58f2b337-edbf-4865-95d3-ea21a8b00d82",
   "metadata": {},
   "outputs": [],
   "source": [
    "city = str()"
   ]
  },
  {
   "cell_type": "code",
   "execution_count": 16,
   "id": "8d1d7f4f-e7ce-4720-aada-8d384b70fbb4",
   "metadata": {},
   "outputs": [
    {
     "data": {
      "text/plain": [
       "''"
      ]
     },
     "execution_count": 16,
     "metadata": {},
     "output_type": "execute_result"
    }
   ],
   "source": [
    "city"
   ]
  },
  {
   "cell_type": "markdown",
   "id": "d17d4e1e-2c21-4513-bed9-d1430161b50d",
   "metadata": {},
   "source": [
    "### Practical Implementation of Class and Object"
   ]
  },
  {
   "cell_type": "markdown",
   "id": "a0be5bbd-90a6-4edb-af58-74206e1b792d",
   "metadata": {},
   "source": [
    "### Lets Create a Class"
   ]
  },
  {
   "cell_type": "markdown",
   "id": "94a458ee-5555-4ffe-a3f6-884bf59bd265",
   "metadata": {},
   "source": [
    "Functions Vs Methods:\n",
    "\n",
    "Methods   ---> Defined inside a class.\n",
    "          ---> Accessed via object of the class.\n",
    "\n",
    "Functions ---> Not inside a class.\n",
    "          ---> General, accessible everywhere."
   ]
  },
  {
   "cell_type": "markdown",
   "id": "a895d044-8327-41a9-a409-396d0b8bcdfb",
   "metadata": {},
   "source": [
    "len(L) ---> Function\n",
    "            General-purpose, applicable to types like `str`, `int`."
   ]
  },
  {
   "cell_type": "code",
   "execution_count": null,
   "id": "52955009-7056-4262-be85-5ed6549410f2",
   "metadata": {},
   "outputs": [],
   "source": [
    "L.append(1) ---> Method\n",
    "                 Defined in `list` class; usable only with `list` objects."
   ]
  },
  {
   "cell_type": "code",
   "execution_count": 17,
   "id": "b406d45d-d4bc-4c08-8f5a-8ce36dd19143",
   "metadata": {},
   "outputs": [
    {
     "data": {
      "text/plain": [
       "[]"
      ]
     },
     "execution_count": 17,
     "metadata": {},
     "output_type": "execute_result"
    }
   ],
   "source": [
    "L"
   ]
  },
  {
   "cell_type": "markdown",
   "id": "48225fa2-a9f7-41f2-abb0-e490838dc1db",
   "metadata": {},
   "source": [
    "Functions Inside Class will be called Methods."
   ]
  },
  {
   "cell_type": "code",
   "execution_count": 1,
   "id": "3d546ae9-da6f-478a-92e5-1c3ada7f47c0",
   "metadata": {},
   "outputs": [],
   "source": [
    "class Atm:\n",
    "    __counter = 1 # static/class var\n",
    "    \n",
    "    def __init__(self): # `__init__` ---> Constructor\n",
    "                        # Special method inside a class.\n",
    "                        # Initializes instance members.\n",
    "                        # Executes automatically on object creation.\n",
    "\n",
    "        self.__pin = \"\"\n",
    "        self.__balance = 0\n",
    "        \n",
    "        self.sno = Atm.__counter # instance var\n",
    "        Atm.__counter = Atm.__counter + 1\n",
    "        print(id(self))\n",
    "        self.__menu()\n",
    "    \n",
    "    @staticmethod\n",
    "    def get_counter():\n",
    "        return Atm.__counter\n",
    "    \n",
    "    @staticmethod\n",
    "    def set_counter(new):\n",
    "        if type(new) == int:\n",
    "            Atm.__counter = new\n",
    "        else:\n",
    "            print('Not Allowed')\n",
    "    \n",
    "    def get_pin(self):\n",
    "        return self.__pin\n",
    "    \n",
    "    def set_pin(self, new_pin):\n",
    "        if type(new_pin) == str:\n",
    "            self.__pin = new_pin\n",
    "            print(\"Pin changed\")\n",
    "        else:\n",
    "            print(\"Not allowed\")\n",
    "        \n",
    "    def __menu(self):\n",
    "        user_input = input(\"\"\"\n",
    "                    Hello, how would you like to proceed?\n",
    "                    1. Enter 1 to create pin\n",
    "                    2. Enter 2 to deposit\n",
    "                    3. Enter 3 to withdraw\n",
    "                    4. Enter 4 to check balance\n",
    "                    5. Enter 5 to exit\n",
    "        \"\"\")\n",
    "        if user_input == \"1\":\n",
    "            self.create_pin()\n",
    "        elif user_input == \"2\":\n",
    "            self.deposit()\n",
    "        elif user_input == \"3\":\n",
    "            self.withdraw()\n",
    "        elif user_input == \"4\":\n",
    "            self.check_balance()\n",
    "        else:\n",
    "            print(\"bye\")\n",
    "            \n",
    "    def create_pin(self):\n",
    "        self.__pin = input(\"Enter your pin: \")\n",
    "        print(\"Pin set successfully\")\n",
    "        \n",
    "    def deposit(self):\n",
    "        temp = input(\"Enter your pin: \")\n",
    "        if temp == self.__pin:\n",
    "            amount = int(input(\"Enter the amount: \"))\n",
    "            self.__balance = self.__balance + amount\n",
    "            print(\"Deposit successful\")\n",
    "        else:\n",
    "            print(\"Invalid pin\")\n",
    "    \n",
    "    def withdraw(self):\n",
    "        temp = input(\"Enter your pin: \")\n",
    "        if temp == self.__pin:\n",
    "            amount = int(input(\"Enter the amount: \"))\n",
    "            if amount <= self.__balance:\n",
    "                self.__balance = self.__balance - amount\n",
    "                print(\"Operation successful\")\n",
    "            else:\n",
    "                print(\"insufficient funds\")\n",
    "        else:\n",
    "            print(\"invalid pin\")\n",
    "    \n",
    "    def check_balance(self):\n",
    "        temp = input(\"Enter your pin: \")\n",
    "        if temp == self.__pin:\n",
    "            print(self.__balance)\n",
    "        else:\n",
    "            print(\"invalid pin\")"
   ]
  },
  {
   "cell_type": "code",
   "execution_count": 19,
   "id": "16d933ad-6ef3-450d-941e-dfb137ee1d8a",
   "metadata": {},
   "outputs": [
    {
     "name": "stdout",
     "output_type": "stream",
     "text": [
      "1798932883040\n"
     ]
    },
    {
     "name": "stdin",
     "output_type": "stream",
     "text": [
      "\n",
      "                    Hello, how would you like to proceed?\n",
      "                    1. Enter 1 to create pin\n",
      "                    2. Enter 2 to deposit\n",
      "                    3. Enter 3 to withdraw\n",
      "                    4. Enter 4 to check balance\n",
      "                    5. Enter 5 to exit\n",
      "         1\n",
      "Enter your pin:  1234\n"
     ]
    },
    {
     "name": "stdout",
     "output_type": "stream",
     "text": [
      "Pin set successfully\n"
     ]
    }
   ],
   "source": [
    "sbi = Atm()"
   ]
  },
  {
   "cell_type": "code",
   "execution_count": 20,
   "id": "984ad76b-23e5-45f2-9b01-46d716120ceb",
   "metadata": {},
   "outputs": [
    {
     "name": "stdin",
     "output_type": "stream",
     "text": [
      "Enter your pin:  1234\n",
      "Enter the amount:  50000\n"
     ]
    },
    {
     "name": "stdout",
     "output_type": "stream",
     "text": [
      "Deposit successful\n"
     ]
    }
   ],
   "source": [
    "sbi.deposit()"
   ]
  },
  {
   "cell_type": "code",
   "execution_count": 21,
   "id": "aae9d8dc-3d37-462e-a14b-17fb8691e637",
   "metadata": {},
   "outputs": [
    {
     "name": "stdin",
     "output_type": "stream",
     "text": [
      "Enter your pin:  1234\n"
     ]
    },
    {
     "name": "stdout",
     "output_type": "stream",
     "text": [
      "50000\n"
     ]
    }
   ],
   "source": [
    "sbi.check_balance()"
   ]
  },
  {
   "cell_type": "code",
   "execution_count": 22,
   "id": "e48fee0c-c3c9-4c8b-b843-002a549afdfa",
   "metadata": {},
   "outputs": [
    {
     "name": "stdin",
     "output_type": "stream",
     "text": [
      "Enter your pin:  1234\n",
      "Enter the amount:  10000\n"
     ]
    },
    {
     "name": "stdout",
     "output_type": "stream",
     "text": [
      "Operation successful\n"
     ]
    }
   ],
   "source": [
    "sbi.withdraw()"
   ]
  },
  {
   "cell_type": "code",
   "execution_count": 23,
   "id": "9a1fee29-2c39-49d2-9691-cf2ada23648c",
   "metadata": {},
   "outputs": [
    {
     "name": "stdin",
     "output_type": "stream",
     "text": [
      "Enter your pin:  123\n"
     ]
    },
    {
     "name": "stdout",
     "output_type": "stream",
     "text": [
      "invalid pin\n"
     ]
    }
   ],
   "source": [
    "sbi.check_balance()"
   ]
  },
  {
   "cell_type": "code",
   "execution_count": 24,
   "id": "5afe7b0d-01a0-4e97-b131-526fd71d94f7",
   "metadata": {},
   "outputs": [
    {
     "name": "stdout",
     "output_type": "stream",
     "text": [
      "1798944417552\n"
     ]
    },
    {
     "name": "stdin",
     "output_type": "stream",
     "text": [
      "\n",
      "                    Hello, how would you like to proceed?\n",
      "                    1. Enter 1 to create pin\n",
      "                    2. Enter 2 to deposit\n",
      "                    3. Enter 3 to withdraw\n",
      "                    4. Enter 4 to check balance\n",
      "                    5. Enter 5 to exit\n",
      "         1\n",
      "Enter your pin:  3214\n"
     ]
    },
    {
     "name": "stdout",
     "output_type": "stream",
     "text": [
      "Pin set successfully\n"
     ]
    }
   ],
   "source": [
    "hdfc = Atm()"
   ]
  },
  {
   "cell_type": "code",
   "execution_count": 25,
   "id": "d0dbbd58-6f70-4d19-8f22-fd98e502c5fa",
   "metadata": {},
   "outputs": [
    {
     "name": "stdin",
     "output_type": "stream",
     "text": [
      "Enter your pin:  3214\n",
      "Enter the amount:  100000\n"
     ]
    },
    {
     "name": "stdout",
     "output_type": "stream",
     "text": [
      "Deposit successful\n"
     ]
    }
   ],
   "source": [
    "hdfc.deposit()"
   ]
  },
  {
   "cell_type": "code",
   "execution_count": 27,
   "id": "c1281060-e2f7-4516-9536-565f0a07bdeb",
   "metadata": {},
   "outputs": [
    {
     "name": "stdin",
     "output_type": "stream",
     "text": [
      "Enter your pin:  1234\n"
     ]
    },
    {
     "name": "stdout",
     "output_type": "stream",
     "text": [
      "40000\n"
     ]
    }
   ],
   "source": [
    "sbi.check_balance()"
   ]
  },
  {
   "cell_type": "code",
   "execution_count": 28,
   "id": "c01697f2-ff6a-449c-83a9-0590a02ae92b",
   "metadata": {},
   "outputs": [
    {
     "name": "stdin",
     "output_type": "stream",
     "text": [
      "Enter your pin:  3214\n"
     ]
    },
    {
     "name": "stdout",
     "output_type": "stream",
     "text": [
      "100000\n"
     ]
    }
   ],
   "source": [
    "hdfc.check_balance()"
   ]
  },
  {
   "cell_type": "code",
   "execution_count": 6,
   "id": "f97f17bf-34fc-469f-a45c-ec9f7f5c1309",
   "metadata": {},
   "outputs": [],
   "source": [
    "# Constructor ---> Special/Magic/Dunder Methods"
   ]
  },
  {
   "cell_type": "code",
   "execution_count": 29,
   "id": "d82ccb5d-d8eb-43ee-8a47-ed152eba13b0",
   "metadata": {},
   "outputs": [
    {
     "data": {
      "text/plain": [
       "['__abs__',\n",
       " '__add__',\n",
       " '__and__',\n",
       " '__bool__',\n",
       " '__ceil__',\n",
       " '__class__',\n",
       " '__delattr__',\n",
       " '__dir__',\n",
       " '__divmod__',\n",
       " '__doc__',\n",
       " '__eq__',\n",
       " '__float__',\n",
       " '__floor__',\n",
       " '__floordiv__',\n",
       " '__format__',\n",
       " '__ge__',\n",
       " '__getattribute__',\n",
       " '__getnewargs__',\n",
       " '__getstate__',\n",
       " '__gt__',\n",
       " '__hash__',\n",
       " '__index__',\n",
       " '__init__',\n",
       " '__init_subclass__',\n",
       " '__int__',\n",
       " '__invert__',\n",
       " '__le__',\n",
       " '__lshift__',\n",
       " '__lt__',\n",
       " '__mod__',\n",
       " '__mul__',\n",
       " '__ne__',\n",
       " '__neg__',\n",
       " '__new__',\n",
       " '__or__',\n",
       " '__pos__',\n",
       " '__pow__',\n",
       " '__radd__',\n",
       " '__rand__',\n",
       " '__rdivmod__',\n",
       " '__reduce__',\n",
       " '__reduce_ex__',\n",
       " '__repr__',\n",
       " '__rfloordiv__',\n",
       " '__rlshift__',\n",
       " '__rmod__',\n",
       " '__rmul__',\n",
       " '__ror__',\n",
       " '__round__',\n",
       " '__rpow__',\n",
       " '__rrshift__',\n",
       " '__rshift__',\n",
       " '__rsub__',\n",
       " '__rtruediv__',\n",
       " '__rxor__',\n",
       " '__setattr__',\n",
       " '__sizeof__',\n",
       " '__str__',\n",
       " '__sub__',\n",
       " '__subclasshook__',\n",
       " '__truediv__',\n",
       " '__trunc__',\n",
       " '__xor__',\n",
       " 'as_integer_ratio',\n",
       " 'bit_count',\n",
       " 'bit_length',\n",
       " 'conjugate',\n",
       " 'denominator',\n",
       " 'from_bytes',\n",
       " 'imag',\n",
       " 'is_integer',\n",
       " 'numerator',\n",
       " 'real',\n",
       " 'to_bytes']"
      ]
     },
     "execution_count": 29,
     "metadata": {},
     "output_type": "execute_result"
    }
   ],
   "source": [
    "dir(int)"
   ]
  },
  {
   "cell_type": "markdown",
   "id": "dccf0969-e683-4791-a39c-8baf826ed71a",
   "metadata": {},
   "source": [
    "## Magic Methods\n",
    "Predefined (e.g., `__and__`, `__bool__`,` __float__`)\n",
    "\n",
    "Triggered automatically, not called directly by objects.\n",
    "\n",
    "Constructor is a magic method invoked during object creation."
   ]
  },
  {
   "cell_type": "code",
   "execution_count": null,
   "id": "37920649-3ba4-47cf-aa6a-9f2bcbc9fa21",
   "metadata": {},
   "outputs": [],
   "source": [
    "# What is Utility of Constructor?\n",
    "\n",
    "Special method auto-executed at app start.\n",
    "\n",
    "Handles ---> DB/Internet/Hardware connectivity\n",
    "             Initial configurations"
   ]
  },
  {
   "cell_type": "code",
   "execution_count": null,
   "id": "102a6ab6-16db-4918-a532-914d89980a70",
   "metadata": {},
   "outputs": [],
   "source": [
    "# Highly Philosophical Perspective:\n",
    "\n",
    "If World  == Class\n",
    "   God    == Programmer\n",
    "   Humans == Object\n",
    " \n",
    "Code Not Controlled by Humans == ?\n",
    "\n",
    "Breathing, Eating, Drinking is under human control\n",
    "\n",
    "But, ---> D E A T H\n",
    "\n",
    "Death is controlled by constructor (God)\n",
    "\n",
    "constructor's code includes death at birth"
   ]
  },
  {
   "cell_type": "markdown",
   "id": "40cae754-2153-4dc5-9452-9b80ae09eda2",
   "metadata": {},
   "source": [
    "### `self`"
   ]
  },
  {
   "cell_type": "code",
   "execution_count": 30,
   "id": "5ed6cb19-4655-4271-ba29-06eece768d51",
   "metadata": {},
   "outputs": [
    {
     "name": "stdout",
     "output_type": "stream",
     "text": [
      "1798944416592\n"
     ]
    },
    {
     "name": "stdin",
     "output_type": "stream",
     "text": [
      "\n",
      "                    Hello, how would you like to proceed?\n",
      "                    1. Enter 1 to create pin\n",
      "                    2. Enter 2 to deposit\n",
      "                    3. Enter 3 to withdraw\n",
      "                    4. Enter 4 to check balance\n",
      "                    5. Enter 5 to exit\n",
      "         5\n"
     ]
    },
    {
     "name": "stdout",
     "output_type": "stream",
     "text": [
      "bye\n"
     ]
    }
   ],
   "source": [
    "sbi = Atm()"
   ]
  },
  {
   "cell_type": "code",
   "execution_count": 31,
   "id": "eb93addd-e7d3-4dfb-8eb9-61985747fafa",
   "metadata": {},
   "outputs": [
    {
     "data": {
      "text/plain": [
       "1798944416592"
      ]
     },
     "execution_count": 31,
     "metadata": {},
     "output_type": "execute_result"
    }
   ],
   "source": [
    "id(sbi)"
   ]
  },
  {
   "cell_type": "code",
   "execution_count": null,
   "id": "5132b466-91c7-4a2b-b83f-1eed67b53fab",
   "metadata": {},
   "outputs": [],
   "source": [
    "# sbi = self"
   ]
  },
  {
   "cell_type": "code",
   "execution_count": 32,
   "id": "ff4b9314-672d-467c-837e-a281751d3e38",
   "metadata": {},
   "outputs": [
    {
     "name": "stdout",
     "output_type": "stream",
     "text": [
      "1798930049504\n"
     ]
    },
    {
     "name": "stdin",
     "output_type": "stream",
     "text": [
      "\n",
      "                    Hello, how would you like to proceed?\n",
      "                    1. Enter 1 to create pin\n",
      "                    2. Enter 2 to deposit\n",
      "                    3. Enter 3 to withdraw\n",
      "                    4. Enter 4 to check balance\n",
      "                    5. Enter 5 to exit\n",
      "         5\n"
     ]
    },
    {
     "name": "stdout",
     "output_type": "stream",
     "text": [
      "bye\n"
     ]
    }
   ],
   "source": [
    "hdfc = Atm()"
   ]
  },
  {
   "cell_type": "code",
   "execution_count": 33,
   "id": "899bba55-e713-4263-ab5b-783e64b6b983",
   "metadata": {},
   "outputs": [
    {
     "data": {
      "text/plain": [
       "1798930049504"
      ]
     },
     "execution_count": 33,
     "metadata": {},
     "output_type": "execute_result"
    }
   ],
   "source": [
    "id(hdfc)"
   ]
  },
  {
   "cell_type": "code",
   "execution_count": null,
   "id": "6d5707f1-9ebb-47d2-bfa3-25b43aaa5261",
   "metadata": {},
   "outputs": [],
   "source": [
    "# hdfc = self"
   ]
  },
  {
   "cell_type": "code",
   "execution_count": 34,
   "id": "369616be-0421-49f6-bdc7-e67de14f3df1",
   "metadata": {},
   "outputs": [
    {
     "data": {
      "text/plain": [
       "1798944416592"
      ]
     },
     "execution_count": 34,
     "metadata": {},
     "output_type": "execute_result"
    }
   ],
   "source": [
    "id(sbi)"
   ]
  },
  {
   "cell_type": "markdown",
   "id": "5101dc7f-b51e-4c0f-829e-451eae40de8f",
   "metadata": {},
   "source": [
    "*`self` refers to the current object instance.*"
   ]
  },
  {
   "cell_type": "markdown",
   "id": "1d67630f-f37d-4d55-90b0-2b20f8acb6de",
   "metadata": {},
   "source": [
    "### The need of self\n",
    "`class` holds data & methods; access via object.\n",
    "\n",
    "`self` refers to current object; needed for inter-method/data access within a class.\n",
    "\n",
    "Methods can't access other methods/data directly without `self`."
   ]
  },
  {
   "cell_type": "markdown",
   "id": "586382f6-f54d-4a0f-b6fe-bef4831f95a4",
   "metadata": {},
   "source": [
    "### Creating Custom Data Type (Fraction) & Corresponding Methods to Add, Sub, Mul and Divide Fractions"
   ]
  },
  {
   "cell_type": "code",
   "execution_count": 2,
   "id": "9a2b05a6-a139-405d-b2d1-cfb881234861",
   "metadata": {},
   "outputs": [],
   "source": [
    "class Fraction:\n",
    "    \n",
    "    def __init__(self, n, d):\n",
    "        self.num = n\n",
    "        self.den = d\n",
    "        \n",
    "    def __str__(self):\n",
    "        return\"{}/{}\".format(self.num, self.den)\n",
    "    \n",
    "    def __add__(self, other):\n",
    "        temp_num = self.num * other.den + other.num * self.den\n",
    "        temp_den = self.den * other.den\n",
    "        return\"{}/{}\".format(temp_num, temp_den)\n",
    "    \n",
    "    def __sub__(self, other):\n",
    "        temp_num = self.num * other.den - other.num * self.den\n",
    "        temp_den = self.den * other.den\n",
    "        return\"{}/{}\".format(temp_num, temp_den)\n",
    "    \n",
    "    def __mul__(self, other):\n",
    "        temp_num = self.num * other.num\n",
    "        temp_den = self.den * other.den\n",
    "        return\"{}/{}\".format(temp_num, temp_den)\n",
    "    \n",
    "    def __truediv__(self, other):\n",
    "        temp_num = self.num * other.den\n",
    "        temp_den = self.den * other.num\n",
    "        return\"{}/{}\".format(temp_num, temp_den)"
   ]
  },
  {
   "cell_type": "code",
   "execution_count": 2,
   "id": "083e7db3-c192-4348-b71e-b76b9f5ad79e",
   "metadata": {},
   "outputs": [],
   "source": [
    "x = Fraction(4, 5)"
   ]
  },
  {
   "cell_type": "code",
   "execution_count": 3,
   "id": "ed9d7ce7-28e0-4024-a017-3e1e04bd1d01",
   "metadata": {},
   "outputs": [
    {
     "name": "stdout",
     "output_type": "stream",
     "text": [
      "4/5\n"
     ]
    }
   ],
   "source": [
    "print(x)"
   ]
  },
  {
   "cell_type": "code",
   "execution_count": 4,
   "id": "8a2fa513-c7c8-43ca-add7-1af18625a1a3",
   "metadata": {},
   "outputs": [
    {
     "data": {
      "text/plain": [
       "__main__.Fraction"
      ]
     },
     "execution_count": 4,
     "metadata": {},
     "output_type": "execute_result"
    }
   ],
   "source": [
    "type(x)"
   ]
  },
  {
   "cell_type": "code",
   "execution_count": 5,
   "id": "3ffb1c61-57e3-43ca-8275-d99b9e792034",
   "metadata": {},
   "outputs": [],
   "source": [
    "y = Fraction(5, 6)"
   ]
  },
  {
   "cell_type": "code",
   "execution_count": 6,
   "id": "0f9c6463-2cf6-488d-a608-81ff74752391",
   "metadata": {},
   "outputs": [
    {
     "name": "stdout",
     "output_type": "stream",
     "text": [
      "5/6\n"
     ]
    }
   ],
   "source": [
    "print(y)"
   ]
  },
  {
   "cell_type": "code",
   "execution_count": 7,
   "id": "072be46e-6cf0-44e1-bedf-aac7e5a52da5",
   "metadata": {},
   "outputs": [],
   "source": [
    "L = [1, 2, 3, x]"
   ]
  },
  {
   "cell_type": "code",
   "execution_count": 8,
   "id": "e696638f-6d48-4cf4-8939-cc0ba7226039",
   "metadata": {},
   "outputs": [
    {
     "data": {
      "text/plain": [
       "[1, 2, 3, <__main__.Fraction at 0x1b2158b3cb0>]"
      ]
     },
     "execution_count": 8,
     "metadata": {},
     "output_type": "execute_result"
    }
   ],
   "source": [
    "L"
   ]
  },
  {
   "cell_type": "code",
   "execution_count": 9,
   "id": "351fc07b-0a46-41eb-8608-496cda3d447d",
   "metadata": {},
   "outputs": [
    {
     "name": "stdout",
     "output_type": "stream",
     "text": [
      "49/30\n"
     ]
    }
   ],
   "source": [
    "print(x + y)"
   ]
  },
  {
   "cell_type": "code",
   "execution_count": 10,
   "id": "e59d4e40-7101-4b60-9c75-7bf67a460a99",
   "metadata": {},
   "outputs": [
    {
     "name": "stdout",
     "output_type": "stream",
     "text": [
      "-1/30\n"
     ]
    }
   ],
   "source": [
    "print(x - y)"
   ]
  },
  {
   "cell_type": "code",
   "execution_count": 11,
   "id": "651c6d1b-f775-449e-9a49-8818d0ed8141",
   "metadata": {},
   "outputs": [
    {
     "name": "stdout",
     "output_type": "stream",
     "text": [
      "20/30\n"
     ]
    }
   ],
   "source": [
    "print(x * y)"
   ]
  },
  {
   "cell_type": "code",
   "execution_count": 13,
   "id": "8a094799-1437-47a8-87b8-ecd0f8a1750a",
   "metadata": {},
   "outputs": [
    {
     "name": "stdout",
     "output_type": "stream",
     "text": [
      "24/25\n"
     ]
    }
   ],
   "source": [
    "print(x / y)"
   ]
  },
  {
   "cell_type": "markdown",
   "id": "e5028526-0111-4b8b-bcc0-7be70423af36",
   "metadata": {},
   "source": [
    "## ENCAPSULATION"
   ]
  },
  {
   "cell_type": "markdown",
   "id": "7219c72c-9a85-4e3c-b772-4e869fabde86",
   "metadata": {},
   "source": [
    "### Instance Variable\n",
    "Unique value per object.\n",
    "\n",
    "Defined inside the constructor (e.g.,`self.pin`,`self.balance`).\n",
    "\n",
    "Different values for each object."
   ]
  },
  {
   "cell_type": "code",
   "execution_count": 5,
   "id": "cac04486-f5ba-44c2-8904-10c2988210b6",
   "metadata": {},
   "outputs": [
    {
     "name": "stdout",
     "output_type": "stream",
     "text": [
      "1370612733600\n"
     ]
    },
    {
     "name": "stdin",
     "output_type": "stream",
     "text": [
      "\n",
      "                    Hello, how would you like to proceed?\n",
      "                    1. Enter 1 to create pin\n",
      "                    2. Enter 2 to deposit\n",
      "                    3. Enter 3 to withdraw\n",
      "                    4. Enter 4 to check balance\n",
      "                    5. Enter 5 to exit\n",
      "         1\n",
      "Enter your pin:  1234\n"
     ]
    },
    {
     "name": "stdout",
     "output_type": "stream",
     "text": [
      "Pin set successfully\n"
     ]
    }
   ],
   "source": [
    "sbi = Atm()"
   ]
  },
  {
   "cell_type": "code",
   "execution_count": 6,
   "id": "c84a95bb-18ac-483f-853c-c89d1995e4c9",
   "metadata": {},
   "outputs": [
    {
     "ename": "AttributeError",
     "evalue": "'Atm' object has no attribute 'balance'",
     "output_type": "error",
     "traceback": [
      "\u001b[1;31m---------------------------------------------------------------------------\u001b[0m",
      "\u001b[1;31mAttributeError\u001b[0m                            Traceback (most recent call last)",
      "Cell \u001b[1;32mIn[6], line 1\u001b[0m\n\u001b[1;32m----> 1\u001b[0m sbi\u001b[38;5;241m.\u001b[39mbalance\n",
      "\u001b[1;31mAttributeError\u001b[0m: 'Atm' object has no attribute 'balance'"
     ]
    }
   ],
   "source": [
    "sbi.balance"
   ]
  },
  {
   "cell_type": "code",
   "execution_count": 7,
   "id": "41d6952d-0c6e-4a11-ac91-621e4aa61414",
   "metadata": {},
   "outputs": [],
   "source": [
    "sbi.balance = 'ahjhaja'"
   ]
  },
  {
   "cell_type": "code",
   "execution_count": 8,
   "id": "ffb225a7-8fbc-4957-86e5-a21a5f802682",
   "metadata": {},
   "outputs": [
    {
     "name": "stdin",
     "output_type": "stream",
     "text": [
      "Enter your pin:  1234\n",
      "Enter the amount:  50000\n"
     ]
    },
    {
     "name": "stdout",
     "output_type": "stream",
     "text": [
      "Deposit successful\n"
     ]
    }
   ],
   "source": [
    "sbi.deposit()"
   ]
  },
  {
   "cell_type": "code",
   "execution_count": null,
   "id": "4278cb3d-0f0a-4d7b-8c66-7650186c77ba",
   "metadata": {},
   "outputs": [],
   "source": [
    "# Class Data Encapsulation:\n",
    "\n",
    "Data should not be left exposed in a class.\n",
    "\n",
    "Java   ---> Use access modifiers (e.g., `private`) to hide data.\n",
    "\n",
    "Python ---> Use `__` prefix (e.g., `self.__pin`, `self.__balance`) for data hiding."
   ]
  },
  {
   "cell_type": "code",
   "execution_count": 9,
   "id": "cd51cc1a-b207-4bf8-9057-c5c8bd50cd8d",
   "metadata": {},
   "outputs": [
    {
     "name": "stdout",
     "output_type": "stream",
     "text": [
      "1370624252560\n"
     ]
    },
    {
     "name": "stdin",
     "output_type": "stream",
     "text": [
      "\n",
      "                    Hello, how would you like to proceed?\n",
      "                    1. Enter 1 to create pin\n",
      "                    2. Enter 2 to deposit\n",
      "                    3. Enter 3 to withdraw\n",
      "                    4. Enter 4 to check balance\n",
      "                    5. Enter 5 to exit\n",
      "         1\n",
      "Enter your pin:  1234\n"
     ]
    },
    {
     "name": "stdout",
     "output_type": "stream",
     "text": [
      "Pin set successfully\n"
     ]
    }
   ],
   "source": [
    "sbi = Atm()"
   ]
  },
  {
   "cell_type": "markdown",
   "id": "9de5ef5f-210c-48cd-b4e0-19048126a68d",
   "metadata": {},
   "source": [
    "*Class Design ---> Hide (Encapsulate ) data members & Hide non-public methods.*"
   ]
  },
  {
   "cell_type": "code",
   "execution_count": null,
   "id": "a3a737ae-16fd-4729-81f7-ad5ba411e1aa",
   "metadata": {},
   "outputs": [],
   "source": [
    "# Python Name Mangling:\n",
    "\n",
    "How does it hide? What happens behind the scenes?\n",
    "\n",
    "Atm\n",
    "__pin\n",
    "\n",
    "python interpreter internally converts __pin ---> _Atm__pin\n",
    "\n",
    "Why?\n",
    "Name mangling to prevent direct access."
   ]
  },
  {
   "cell_type": "code",
   "execution_count": 10,
   "id": "a6da6737-dc4b-431f-a01f-ddd760a7aba8",
   "metadata": {},
   "outputs": [],
   "source": [
    "sbi.__balance = \"abcdefg\""
   ]
  },
  {
   "cell_type": "code",
   "execution_count": 11,
   "id": "ab3705a1-e2ff-4ef2-b2b3-756ed1f681c4",
   "metadata": {},
   "outputs": [
    {
     "name": "stdin",
     "output_type": "stream",
     "text": [
      "Enter your pin:  1234\n",
      "Enter the amount:  50000\n"
     ]
    },
    {
     "name": "stdout",
     "output_type": "stream",
     "text": [
      "Deposit successful\n"
     ]
    }
   ],
   "source": [
    "sbi.deposit()"
   ]
  },
  {
   "cell_type": "code",
   "execution_count": 12,
   "id": "2070757a-3334-455b-9db6-d6491fd8e1ec",
   "metadata": {},
   "outputs": [
    {
     "name": "stdin",
     "output_type": "stream",
     "text": [
      "Enter your pin:  1234\n"
     ]
    },
    {
     "name": "stdout",
     "output_type": "stream",
     "text": [
      "50000\n"
     ]
    }
   ],
   "source": [
    "sbi.check_balance() # no error"
   ]
  },
  {
   "cell_type": "code",
   "execution_count": null,
   "id": "a0b1dd80-a004-49bd-a00c-cbedbb242165",
   "metadata": {},
   "outputs": [],
   "source": [
    "the above code worked because,\n",
    "\n",
    "`__balance` ---> `_Atm__balance` (name mangling)\n",
    "\n",
    "`sbi.__balance` = `\"\"`, creates `__balance` in `Atm` but unused.\n",
    "\n",
    "`__balance` not used; `_Atm__balance` is used.\n",
    "\n",
    "`__balance` creation doesn't affect code logic due to `__balance` not being utilized.\n",
    "\n",
    "Code logic remains unchanged; class functionality remains unaffected."
   ]
  },
  {
   "cell_type": "code",
   "execution_count": 13,
   "id": "d61a8717-5500-4904-b444-0e30da8bfe4d",
   "metadata": {},
   "outputs": [],
   "source": [
    "# Suprising thing:\n",
    "\n",
    "sbi._Atm__balance = \"wgwwg\""
   ]
  },
  {
   "cell_type": "code",
   "execution_count": 14,
   "id": "35b2b70b-7f90-45a4-99ef-7cb30e3d0475",
   "metadata": {},
   "outputs": [
    {
     "name": "stdin",
     "output_type": "stream",
     "text": [
      "Enter your pin:  1234\n",
      "Enter the amount:  20000\n"
     ]
    },
    {
     "ename": "TypeError",
     "evalue": "can only concatenate str (not \"int\") to str",
     "output_type": "error",
     "traceback": [
      "\u001b[1;31m---------------------------------------------------------------------------\u001b[0m",
      "\u001b[1;31mTypeError\u001b[0m                                 Traceback (most recent call last)",
      "Cell \u001b[1;32mIn[14], line 1\u001b[0m\n\u001b[1;32m----> 1\u001b[0m sbi\u001b[38;5;241m.\u001b[39mdeposit()\n",
      "Cell \u001b[1;32mIn[4], line 66\u001b[0m, in \u001b[0;36mAtm.deposit\u001b[1;34m(self)\u001b[0m\n\u001b[0;32m     64\u001b[0m \u001b[38;5;28;01mif\u001b[39;00m temp \u001b[38;5;241m==\u001b[39m \u001b[38;5;28mself\u001b[39m\u001b[38;5;241m.\u001b[39m__pin:\n\u001b[0;32m     65\u001b[0m     amount \u001b[38;5;241m=\u001b[39m \u001b[38;5;28mint\u001b[39m(\u001b[38;5;28minput\u001b[39m(\u001b[38;5;124m\"\u001b[39m\u001b[38;5;124mEnter the amount: \u001b[39m\u001b[38;5;124m\"\u001b[39m))\n\u001b[1;32m---> 66\u001b[0m     \u001b[38;5;28mself\u001b[39m\u001b[38;5;241m.\u001b[39m__balance \u001b[38;5;241m=\u001b[39m \u001b[38;5;28mself\u001b[39m\u001b[38;5;241m.\u001b[39m__balance \u001b[38;5;241m+\u001b[39m amount\n\u001b[0;32m     67\u001b[0m     \u001b[38;5;28mprint\u001b[39m(\u001b[38;5;124m\"\u001b[39m\u001b[38;5;124mDeposit successful\u001b[39m\u001b[38;5;124m\"\u001b[39m)\n\u001b[0;32m     68\u001b[0m \u001b[38;5;28;01melse\u001b[39;00m:\n",
      "\u001b[1;31mTypeError\u001b[0m: can only concatenate str (not \"int\") to str"
     ]
    }
   ],
   "source": [
    "sbi.deposit() # code crashed"
   ]
  },
  {
   "cell_type": "code",
   "execution_count": null,
   "id": "29180e2a-cdb9-49cb-a636-4f8f86b31037",
   "metadata": {},
   "outputs": [],
   "source": [
    "# Python Variable Privacy:\n",
    "\n",
    "`__balance` ---> Name-mangled to `_Atm__balance`.\n",
    "\n",
    "_Truly private_ is not a concept in Python.\n",
    "\n",
    "`__balance` is _pseudo-private_, but accessible via `_Atm__balance` if known."
   ]
  },
  {
   "cell_type": "markdown",
   "id": "e4e29db7-1882-4d64-8929-cf98d663871f",
   "metadata": {},
   "source": [
    "Reason for Why \"**Nothing in Python is Truly Private**\"?\n",
    "\n",
    "\"Python targets adults; privacy is a convention, not enforcement.\"\n",
    "\n",
    "`__balance` indicates intent for privacy; **convention**\n",
    "\n",
    "`__` prefix suggests private elements; use with caution, understanding implications."
   ]
  },
  {
   "cell_type": "code",
   "execution_count": null,
   "id": "f13c6870-cbbe-4329-8253-df14d1bbeffe",
   "metadata": {},
   "outputs": [],
   "source": [
    "Also, for every Data Members we can create 2 Functions:\n",
    "\n",
    "Getter ---> Retrieve value\n",
    "         &\n",
    "Setter ---> Update value\n",
    "\n",
    "Although we have hidden Pin and Balance,\n",
    "But if needed, `get_pin()` & `set_pin()` to get and set pin."
   ]
  },
  {
   "cell_type": "code",
   "execution_count": 16,
   "id": "25fcc8da-a8b1-460f-a16c-9b8f7b69186e",
   "metadata": {},
   "outputs": [
    {
     "name": "stdout",
     "output_type": "stream",
     "text": [
      "1370609953248\n"
     ]
    },
    {
     "name": "stdin",
     "output_type": "stream",
     "text": [
      "\n",
      "                    Hello, how would you like to proceed?\n",
      "                    1. Enter 1 to create pin\n",
      "                    2. Enter 2 to deposit\n",
      "                    3. Enter 3 to withdraw\n",
      "                    4. Enter 4 to check balance\n",
      "                    5. Enter 5 to exit\n",
      "         1\n",
      "Enter your pin:  1234\n"
     ]
    },
    {
     "name": "stdout",
     "output_type": "stream",
     "text": [
      "Pin set successfully\n"
     ]
    }
   ],
   "source": [
    "sbi = Atm()"
   ]
  },
  {
   "cell_type": "code",
   "execution_count": 17,
   "id": "ee274276-af85-4c17-a362-728a1affd931",
   "metadata": {},
   "outputs": [
    {
     "data": {
      "text/plain": [
       "'1234'"
      ]
     },
     "execution_count": 17,
     "metadata": {},
     "output_type": "execute_result"
    }
   ],
   "source": [
    "sbi.get_pin()"
   ]
  },
  {
   "cell_type": "code",
   "execution_count": 18,
   "id": "1c9d2c78-663e-49be-9804-f10c6dc28d06",
   "metadata": {},
   "outputs": [
    {
     "name": "stdout",
     "output_type": "stream",
     "text": [
      "Pin changed\n"
     ]
    }
   ],
   "source": [
    "sbi.set_pin(\"235235\")"
   ]
  },
  {
   "cell_type": "code",
   "execution_count": 19,
   "id": "5823f76f-c5b2-40b3-ac17-cd2ee26d8f4c",
   "metadata": {},
   "outputs": [
    {
     "data": {
      "text/plain": [
       "'235235'"
      ]
     },
     "execution_count": 19,
     "metadata": {},
     "output_type": "execute_result"
    }
   ],
   "source": [
    "sbi.get_pin()"
   ]
  },
  {
   "cell_type": "code",
   "execution_count": null,
   "id": "21038ea9-6ca3-40a0-9dc7-322ca258a936",
   "metadata": {},
   "outputs": [],
   "source": [
    "# let's set a Rule ---> PIN must be a String"
   ]
  },
  {
   "cell_type": "code",
   "execution_count": 20,
   "id": "a922010a-3119-45b4-bd51-9388adb33b85",
   "metadata": {},
   "outputs": [
    {
     "name": "stdout",
     "output_type": "stream",
     "text": [
      "Not allowed\n"
     ]
    }
   ],
   "source": [
    "sbi.set_pin(5.6)"
   ]
  },
  {
   "cell_type": "code",
   "execution_count": null,
   "id": "5b9510c3-3f69-4f87-b154-ee335b2b5bcd",
   "metadata": {},
   "outputs": [],
   "source": [
    "Whats the purpose of `get` and `set` functions if,\n",
    "`sbi.set_pin` & `sbi.pin` ---> Same functionality\n",
    "\n",
    "Purpose ---> Hide Data & Control Access (Encapsulation)\n",
    "\n",
    "controlled access (sbi.get_pin/sbi.set_pin) vs. direct access (sbi.pin)\n",
    "\n",
    "Input values are processed through functions this allows logical control over data."
   ]
  },
  {
   "cell_type": "code",
   "execution_count": null,
   "id": "de8114d3-802d-4f00-bfbf-975a6071c706",
   "metadata": {},
   "outputs": [],
   "source": [
    "sbi.set_pin(\"2345\") # Encapsulation"
   ]
  },
  {
   "cell_type": "code",
   "execution_count": null,
   "id": "465d0b91-3938-41e5-8663-7efefb8d9fa8",
   "metadata": {},
   "outputs": [],
   "source": [
    "Summary:\n",
    "\n",
    "The whole idea is to prevent direct public access to data to avoid breaches.\n",
    "\n",
    "Solution:\n",
    "Hide data using `__`.\n",
    "\n",
    "if anyone wants access, must follow 2 methods:\n",
    "1. `get` ---> Fetch value.\n",
    "2. `set` ---> Modify value under set conditions.\n",
    "        \n",
    "Protecting our Data, Access Data via Functions, Set Data via Logic.\n",
    "\n",
    "Concept ---> Encapsulation i.e. Protect and Access data through controlled methods.\n",
    "\n",
    "Use getter and setter functions.\n",
    "\n",
    "Data is protected and accessible through controlled means."
   ]
  },
  {
   "cell_type": "code",
   "execution_count": null,
   "id": "5117be69-b728-46e4-9101-e657731d8c66",
   "metadata": {},
   "outputs": [],
   "source": [
    "Class diagram:\n",
    "\n",
    "+-------------------------------------+\n",
    "|              - Atm                  |\n",
    "|-------------------------------------|\n",
    "|              - pin                  |\n",
    "|            - balance                | \n",
    "|-------------------------------------|\n",
    "|           - __init__()              |\n",
    "|              - menu                 |\n",
    "|           + change_pin()            |     \n",
    "|             + deposit               |\n",
    "|             + withdraw              |\n",
    "|          + check_balance()          |\n",
    "+-------------------------------------+"
   ]
  },
  {
   "cell_type": "markdown",
   "id": "d731cfc5-8cd9-489a-9923-4c7db588d057",
   "metadata": {},
   "source": [
    "### Reference Variable"
   ]
  },
  {
   "cell_type": "code",
   "execution_count": 3,
   "id": "5e4cdaa5-8435-4404-9a5c-434b82541fed",
   "metadata": {},
   "outputs": [
    {
     "name": "stdout",
     "output_type": "stream",
     "text": [
      "1847147057840\n"
     ]
    },
    {
     "name": "stdin",
     "output_type": "stream",
     "text": [
      "\n",
      "                    Hello, how would you like to proceed?\n",
      "                    1. Enter 1 to create pin\n",
      "                    2. Enter 2 to deposit\n",
      "                    3. Enter 3 to withdraw\n",
      "                    4. Enter 4 to check balance\n",
      "                    5. Enter 5 to exit\n",
      "         1\n",
      "Enter your pin:  1234\n"
     ]
    },
    {
     "name": "stdout",
     "output_type": "stream",
     "text": [
      "Pin set successfully\n"
     ]
    },
    {
     "data": {
      "text/plain": [
       "<__main__.Atm at 0x1ae128b52b0>"
      ]
     },
     "execution_count": 3,
     "metadata": {},
     "output_type": "execute_result"
    }
   ],
   "source": [
    "Atm()"
   ]
  },
  {
   "cell_type": "code",
   "execution_count": null,
   "id": "b38616de-f6a4-42b9-ba1c-1eed5fbea42e",
   "metadata": {},
   "outputs": [],
   "source": [
    "Object created but unusable.\n",
    "\n",
    "Reason ---> Not stored in any variable.\n",
    "\n",
    "Result ---> Object lost, memory inaccessible."
   ]
  },
  {
   "cell_type": "code",
   "execution_count": 4,
   "id": "871aa8fe-8c59-45e1-97c4-a1a0958e06a9",
   "metadata": {},
   "outputs": [
    {
     "name": "stdout",
     "output_type": "stream",
     "text": [
      "1847158594512\n"
     ]
    },
    {
     "name": "stdin",
     "output_type": "stream",
     "text": [
      "\n",
      "                    Hello, how would you like to proceed?\n",
      "                    1. Enter 1 to create pin\n",
      "                    2. Enter 2 to deposit\n",
      "                    3. Enter 3 to withdraw\n",
      "                    4. Enter 4 to check balance\n",
      "                    5. Enter 5 to exit\n",
      "         1\n",
      "Enter your pin:  1234\n"
     ]
    },
    {
     "name": "stdout",
     "output_type": "stream",
     "text": [
      "Pin set successfully\n"
     ]
    }
   ],
   "source": [
    "# whenever creating object, write this code:\n",
    "\n",
    "sbi = Atm()"
   ]
  },
  {
   "cell_type": "code",
   "execution_count": null,
   "id": "f91140e0-6c82-4e4b-a7bb-4a8a2ae8381e",
   "metadata": {},
   "outputs": [],
   "source": [
    "# Reference vs. Object:\n",
    "\n",
    "reference ---> `sbi`\n",
    "object    ---> `Atm()`\n",
    "\n",
    "`sbi` ≠ object\n",
    "`sbi` is a reference variable\n",
    "`sbi` points to the memory address of the actual object `Atm()`"
   ]
  },
  {
   "cell_type": "markdown",
   "id": "e30950fc-66f3-4c1e-a819-b20bb94af88e",
   "metadata": {},
   "source": [
    "### Pass by Reference"
   ]
  },
  {
   "cell_type": "code",
   "execution_count": 1,
   "id": "546a3d19-ece7-4882-8077-05e309f2b18f",
   "metadata": {},
   "outputs": [
    {
     "name": "stdout",
     "output_type": "stream",
     "text": [
      "Dikshita\n"
     ]
    }
   ],
   "source": [
    "class Customer:\n",
    "    def __init__(self, name):\n",
    "        self.name = name\n",
    "\n",
    "cust = Customer(\"Dikshita\")\n",
    "print(cust.name)"
   ]
  },
  {
   "cell_type": "code",
   "execution_count": 2,
   "id": "1738adb1-f22c-4e6e-90d3-667b49b00234",
   "metadata": {},
   "outputs": [
    {
     "name": "stdout",
     "output_type": "stream",
     "text": [
      "Hello Dikshita\n"
     ]
    }
   ],
   "source": [
    "class Customer:\n",
    "    def __init__(self, name):\n",
    "        self.name = name\n",
    "\n",
    "def greet(customer):\n",
    "    print(\"Hello\", customer.name)\n",
    "        \n",
    "cust = Customer(\"Dikshita\")\n",
    "greet(cust)\n",
    "\n",
    "# Passed class object 'cust' to 'greet()'\n",
    "# Function receives object, accesses its attributes"
   ]
  },
  {
   "cell_type": "code",
   "execution_count": 4,
   "id": "730f7570-d550-46c7-b174-7c3cf3d3f86e",
   "metadata": {},
   "outputs": [
    {
     "name": "stdout",
     "output_type": "stream",
     "text": [
      "Hello Dikshita madam\n"
     ]
    }
   ],
   "source": [
    "class Customer:\n",
    "    def __init__(self, name, gender):\n",
    "        self.name = name\n",
    "        self.gender = gender\n",
    "\n",
    "def greet(customer):\n",
    "    if customer.gender == \"Male\":\n",
    "        print(\"Hello\", customer.name, \"sir\")\n",
    "    else:\n",
    "        print(\"Hello\", customer.name, \"madam\")\n",
    "        \n",
    "cust = Customer(\"Dikshita\", \"Female\")\n",
    "greet(cust)"
   ]
  },
  {
   "cell_type": "markdown",
   "id": "c285bafe-6744-4072-9223-8ea764cde0d9",
   "metadata": {},
   "source": [
    "In Python, all data types(e.g., int, str, list, dict) are object.\n",
    "\n",
    "Custom class instances = objects too.\n",
    "\n",
    "Everything in Python is an object and behaves uniformly."
   ]
  },
  {
   "cell_type": "code",
   "execution_count": 6,
   "id": "e70a3e52-e7f8-41c6-a9fe-6df85688ec2f",
   "metadata": {},
   "outputs": [
    {
     "name": "stdout",
     "output_type": "stream",
     "text": [
      "Hello Ankita ma'am\n",
      "Dikshita\n"
     ]
    }
   ],
   "source": [
    "class Customer:\n",
    "    def __init__(self, name, gender):\n",
    "        self.name = name\n",
    "        self.gender = gender\n",
    "\n",
    "def greet(customer):\n",
    "    if customer.gender == \"Male\":\n",
    "        print(\"Hello\", customer.name, \"sir\")\n",
    "    else:\n",
    "        print(\"Hello\", customer.name, \"ma'am\")\n",
    "    \n",
    "    cust2 = Customer(\"Dikshita\", \"Male\")\n",
    "    return cust2\n",
    "        \n",
    "cust = Customer(\"Ankita\", \"Female\")\n",
    "new_cust = greet(cust)\n",
    "print(new_cust.name)"
   ]
  },
  {
   "cell_type": "markdown",
   "id": "8c3f5e96-c512-406e-b5f4-c9f5d154352e",
   "metadata": {},
   "source": [
    "## learned 2 concepts\n",
    "1. Class Object as Argument: Pass own class objects as function arguments.\n",
    "\n",
    "2. Class Object as Return: Functions can return class objects.\n",
    "\n",
    "Custom class objects = int, str, dict, list in behavior."
   ]
  },
  {
   "cell_type": "code",
   "execution_count": 7,
   "id": "4bba5997-a641-4f38-acc6-9cf20f3d7b0b",
   "metadata": {},
   "outputs": [
    {
     "name": "stdout",
     "output_type": "stream",
     "text": [
      "2080161545056\n"
     ]
    }
   ],
   "source": [
    "# Pass by Reference:\n",
    "\n",
    "class Customer:\n",
    "    def __init__(self, name):\n",
    "        self.name = name\n",
    "        \n",
    "def greet(customer):\n",
    "    pass\n",
    "\n",
    "cust = Customer(\"Ankita\")\n",
    "print(id(cust))"
   ]
  },
  {
   "cell_type": "code",
   "execution_count": 8,
   "id": "a6a5717d-61e0-43a7-a5ee-d69a7da38e94",
   "metadata": {},
   "outputs": [
    {
     "name": "stdout",
     "output_type": "stream",
     "text": [
      "2080161545392\n",
      "2080161545392\n"
     ]
    }
   ],
   "source": [
    "class Customer:\n",
    "    def __init__(self, name):\n",
    "        self.name = name\n",
    "        \n",
    "def greet(customer):\n",
    "    print(id(customer))\n",
    "\n",
    "cust = Customer(\"Ankita\")\n",
    "print(id(cust))\n",
    "greet(cust)"
   ]
  },
  {
   "cell_type": "code",
   "execution_count": 9,
   "id": "46d62851-0b1f-4a5a-be8a-922a085d1402",
   "metadata": {},
   "outputs": [],
   "source": [
    "# Aliasing:\n",
    "\n",
    "a = 3\n",
    "b = a"
   ]
  },
  {
   "cell_type": "code",
   "execution_count": 10,
   "id": "08d579bf-14dd-4f5e-9dbe-3777e7c55457",
   "metadata": {},
   "outputs": [
    {
     "data": {
      "text/plain": [
       "140710256358376"
      ]
     },
     "execution_count": 10,
     "metadata": {},
     "output_type": "execute_result"
    }
   ],
   "source": [
    "id(a)"
   ]
  },
  {
   "cell_type": "code",
   "execution_count": 11,
   "id": "4a0ce9d8-b477-46ca-a5b1-e0d97b6cd627",
   "metadata": {},
   "outputs": [
    {
     "data": {
      "text/plain": [
       "140710256358376"
      ]
     },
     "execution_count": 11,
     "metadata": {},
     "output_type": "execute_result"
    }
   ],
   "source": [
    "id(b)"
   ]
  },
  {
   "cell_type": "markdown",
   "id": "3ccfb9c9-2617-4559-8f7b-54d14d1b99ee",
   "metadata": {},
   "source": [
    "(customer)----->(Object)<--------(cust)\n",
    "|                                     |\n",
    "|                                     |\n",
    "|                                     |\n",
    "+---------------(greet)---------------+"
   ]
  },
  {
   "cell_type": "code",
   "execution_count": 12,
   "id": "caedc963-1166-4d51-a081-67ade6210fc6",
   "metadata": {},
   "outputs": [
    {
     "name": "stdout",
     "output_type": "stream",
     "text": [
      "Dikshita\n"
     ]
    }
   ],
   "source": [
    "class Customer:\n",
    "    def __init__(self, name):\n",
    "        self.name = name\n",
    "        \n",
    "def greet(customer):\n",
    "    customer.name = \"Dikshita\"\n",
    "    print(customer.name)\n",
    "\n",
    "cust = Customer(\"Ankita\")\n",
    "greet(cust)"
   ]
  },
  {
   "cell_type": "code",
   "execution_count": 14,
   "id": "81ce30f8-7ea4-4999-b218-e6cc8f279fe6",
   "metadata": {},
   "outputs": [
    {
     "name": "stdout",
     "output_type": "stream",
     "text": [
      "Dikshita\n",
      "Dikshita\n"
     ]
    }
   ],
   "source": [
    "class Customer:\n",
    "    def __init__(self, name):\n",
    "        self.name = name\n",
    "        \n",
    "def greet(customer):\n",
    "    customer.name = \"Dikshita\"\n",
    "    print(customer.name)\n",
    "\n",
    "cust = Customer(\"Ankita\")\n",
    "greet(cust)\n",
    "print(cust.name)"
   ]
  },
  {
   "cell_type": "code",
   "execution_count": null,
   "id": "f2e4390f-b6d8-4d8f-8803-ff893109ae2c",
   "metadata": {},
   "outputs": [],
   "source": [
    "# Object Mutation in Functions:\n",
    "\n",
    "Passing obj to func ---> func modifies obj ---> Original obj reflects changes."
   ]
  },
  {
   "cell_type": "code",
   "execution_count": 15,
   "id": "e509f2ec-65d4-49f3-b345-ebdec7939044",
   "metadata": {},
   "outputs": [
    {
     "name": "stdout",
     "output_type": "stream",
     "text": [
      "2080161545392\n",
      "2080161545392\n",
      "Dikshita\n",
      "2080161545392\n",
      "Dikshita\n"
     ]
    }
   ],
   "source": [
    "class Customer:\n",
    "    def __init__(self, name):\n",
    "        self.name = name\n",
    "        \n",
    "def greet(customer):\n",
    "    print(id(customer))\n",
    "    customer.name = \"Dikshita\"\n",
    "    print(customer.name)\n",
    "    print(id(customer))\n",
    "\n",
    "cust = Customer(\"Ankita\")\n",
    "print(id(cust))\n",
    "greet(cust)\n",
    "print(cust.name)"
   ]
  },
  {
   "cell_type": "markdown",
   "id": "4fb47010-48f0-4287-85b0-32cb579bbd96",
   "metadata": {},
   "source": [
    "*class objects are mutable like lists, dict, sets.*"
   ]
  },
  {
   "cell_type": "code",
   "execution_count": 16,
   "id": "adcdcbf2-0e27-4dfd-aa8c-f0b8264cd153",
   "metadata": {},
   "outputs": [
    {
     "name": "stdout",
     "output_type": "stream",
     "text": [
      "2080163300288\n",
      "[1, 2, 3, 4]\n",
      "2080163300288\n",
      "2080163300288\n",
      "[1, 2, 3, 4, 5]\n"
     ]
    }
   ],
   "source": [
    "def change(L):\n",
    "    print(id(L))\n",
    "    L.append(5)\n",
    "    print(id(L))\n",
    "\n",
    "L1 = [1, 2, 3, 4]\n",
    "print(id(L1))\n",
    "print(L1)\n",
    "\n",
    "change(L1)\n",
    "\n",
    "print(L1)"
   ]
  },
  {
   "cell_type": "code",
   "execution_count": 17,
   "id": "e1192780-e089-431e-ada1-7f9e756ff46e",
   "metadata": {},
   "outputs": [
    {
     "name": "stdout",
     "output_type": "stream",
     "text": [
      "2080163211392\n",
      "[1, 2, 3, 4]\n",
      "2080163174848\n",
      "2080163174848\n",
      "[1, 2, 3, 4]\n"
     ]
    }
   ],
   "source": [
    "def change(L):\n",
    "    print(id(L))\n",
    "    L.append(5)\n",
    "    print(id(L))\n",
    "\n",
    "L1 = [1, 2, 3, 4]\n",
    "print(id(L1))\n",
    "print(L1)\n",
    "\n",
    "change(L1[:])\n",
    "\n",
    "print(L1)"
   ]
  },
  {
   "cell_type": "markdown",
   "id": "7e9dae48-1f33-4a2a-816f-fb1fc975abbb",
   "metadata": {},
   "source": [
    "### Function Call - List Passing\n",
    "Avoid passing original list; inter operations may alter the original list.\n",
    "\n",
    "Use \"cloning\" to prevent external changes."
   ]
  },
  {
   "cell_type": "code",
   "execution_count": 1,
   "id": "ad326ec7-320f-49e4-8bdd-baef92ec48f7",
   "metadata": {},
   "outputs": [
    {
     "name": "stdout",
     "output_type": "stream",
     "text": [
      "2199794090128\n",
      "(1, 2, 3, 4)\n",
      "2199794090128\n",
      "2199751826432\n",
      "(1, 2, 3, 4)\n"
     ]
    }
   ],
   "source": [
    "def change(L):\n",
    "    print(id(L))\n",
    "    L = L + (5, 6)\n",
    "    print(id(L))\n",
    "\n",
    "L1 = (1, 2, 3, 4)\n",
    "print(id(L1))\n",
    "print(L1)\n",
    "\n",
    "change(L1)\n",
    "\n",
    "print(L1)"
   ]
  },
  {
   "cell_type": "code",
   "execution_count": null,
   "id": "f4654db0-cc6a-4eeb-876f-abe8f5c45508",
   "metadata": {},
   "outputs": [],
   "source": [
    "Conclusion ---> In Pass by Reference, changes to mutable data types (objects) affect the original.\n",
    "                But in Immutable Types, No effect on the original (int, str) when passed."
   ]
  },
  {
   "cell_type": "markdown",
   "id": "23876af2-9c27-4929-962c-03fccd29d4dd",
   "metadata": {},
   "source": [
    "### Collection of Objects"
   ]
  },
  {
   "cell_type": "code",
   "execution_count": 3,
   "id": "dacb1f83-57e5-46e3-8d1f-e859e2635b5a",
   "metadata": {},
   "outputs": [
    {
     "name": "stdout",
     "output_type": "stream",
     "text": [
      "<__main__.Customer object at 0x000002002DD83CB0>\n",
      "<__main__.Customer object at 0x000002002DD6D590>\n",
      "<__main__.Customer object at 0x000002002DD6D810>\n"
     ]
    }
   ],
   "source": [
    "class Customer:\n",
    "    def __init__(self, name, age):\n",
    "        self.name = name\n",
    "        self.age = age\n",
    "\n",
    "c1 = Customer(\"Dikshita\", 34)\n",
    "c2 = Customer(\"Ankit\", 45)\n",
    "c3 = Customer(\"Neha\", 32)\n",
    "\n",
    "L = [c1, c2, c3]\n",
    "\n",
    "for i in L:\n",
    "    print(i)"
   ]
  },
  {
   "cell_type": "code",
   "execution_count": 4,
   "id": "54b8858b-f794-4b46-8c51-d63212fc313a",
   "metadata": {},
   "outputs": [
    {
     "name": "stdout",
     "output_type": "stream",
     "text": [
      "Dikshita 34\n",
      "Ankit 45\n",
      "Neha 32\n"
     ]
    }
   ],
   "source": [
    "for i in L:\n",
    "    print(i.name, i.age)"
   ]
  },
  {
   "cell_type": "code",
   "execution_count": 5,
   "id": "14136596-5f5d-464a-b3d3-8138fa74357f",
   "metadata": {},
   "outputs": [
    {
     "name": "stdout",
     "output_type": "stream",
     "text": [
      "I am Dikshita and I am 34\n",
      "I am Ankit and I am 45\n",
      "I am Neha and I am 32\n"
     ]
    }
   ],
   "source": [
    "class Customer:\n",
    "    def __init__(self, name, age):\n",
    "        self.name = name\n",
    "        self.age = age\n",
    "    \n",
    "    def intro(self):\n",
    "        print(\"I am\", self.name, \"and I am\", self.age)\n",
    "c1 = Customer(\"Dikshita\", 34)\n",
    "c2 = Customer(\"Ankit\", 45)\n",
    "c3 = Customer(\"Neha\", 32)\n",
    "\n",
    "L = [c1, c2, c3]\n",
    "\n",
    "for i in L:\n",
    "    i.intro()"
   ]
  },
  {
   "cell_type": "code",
   "execution_count": null,
   "id": "5c9d2b5e-d978-4f28-9041-2fc94117f0d2",
   "metadata": {},
   "outputs": [],
   "source": [
    "# Looping & Objects:\n",
    "\n",
    "Loop + List ---> treat list as object; compatible with looping.\n",
    "Dict/Tuple  ---> compatible with loops, same approach as lists in loops.\n",
    "Sets        ---> immutable data types only; incompatible with mutable objects in loops."
   ]
  },
  {
   "cell_type": "markdown",
   "id": "2a73ee21-76fc-44d4-96b7-68474c651453",
   "metadata": {},
   "source": [
    "***Object Collection:** Lists, tuples, dicts can store custom class objects*"
   ]
  },
  {
   "cell_type": "markdown",
   "id": "6c5ab7af-0178-47d4-949c-e5e3c3fbc6ea",
   "metadata": {},
   "source": [
    "### Static Variables and Methods"
   ]
  },
  {
   "cell_type": "code",
   "execution_count": null,
   "id": "45a553b1-1ed9-4b96-8e37-5cb3cb1d1122",
   "metadata": {},
   "outputs": [],
   "source": [
    "# Back to ATM Code Enhancement\n",
    "# Like adding unique serial number for each user."
   ]
  },
  {
   "cell_type": "code",
   "execution_count": 2,
   "id": "38e4fd70-f6d1-4c8b-970b-33dc8a0bc123",
   "metadata": {},
   "outputs": [
    {
     "name": "stdout",
     "output_type": "stream",
     "text": [
      "2199673650352\n"
     ]
    },
    {
     "name": "stdin",
     "output_type": "stream",
     "text": [
      "\n",
      "                    Hello, how would you like to proceed?\n",
      "                    1. Enter 1 to create pin\n",
      "                    2. Enter 2 to deposit\n",
      "                    3. Enter 3 to withdraw\n",
      "                    4. Enter 4 to check balance\n",
      "                    5. Enter 5 to exit\n",
      "         1\n",
      "Enter your pin:  1234\n"
     ]
    },
    {
     "name": "stdout",
     "output_type": "stream",
     "text": [
      "Pin set successfully\n"
     ]
    }
   ],
   "source": [
    "c1 = Atm()"
   ]
  },
  {
   "cell_type": "code",
   "execution_count": 3,
   "id": "cad50a6e-1f44-436d-9162-66c5219cceab",
   "metadata": {},
   "outputs": [
    {
     "name": "stdout",
     "output_type": "stream",
     "text": [
      "2199673541072\n"
     ]
    },
    {
     "name": "stdin",
     "output_type": "stream",
     "text": [
      "\n",
      "                    Hello, how would you like to proceed?\n",
      "                    1. Enter 1 to create pin\n",
      "                    2. Enter 2 to deposit\n",
      "                    3. Enter 3 to withdraw\n",
      "                    4. Enter 4 to check balance\n",
      "                    5. Enter 5 to exit\n",
      "         1\n",
      "Enter your pin:  2345\n"
     ]
    },
    {
     "name": "stdout",
     "output_type": "stream",
     "text": [
      "Pin set successfully\n"
     ]
    }
   ],
   "source": [
    "c2 = Atm()"
   ]
  },
  {
   "cell_type": "code",
   "execution_count": 4,
   "id": "9ddc0435-1cae-4927-aa62-f0792ee5315e",
   "metadata": {},
   "outputs": [
    {
     "name": "stdout",
     "output_type": "stream",
     "text": [
      "2199649623952\n"
     ]
    },
    {
     "name": "stdin",
     "output_type": "stream",
     "text": [
      "\n",
      "                    Hello, how would you like to proceed?\n",
      "                    1. Enter 1 to create pin\n",
      "                    2. Enter 2 to deposit\n",
      "                    3. Enter 3 to withdraw\n",
      "                    4. Enter 4 to check balance\n",
      "                    5. Enter 5 to exit\n",
      "         1\n",
      "Enter your pin:  3456\n"
     ]
    },
    {
     "name": "stdout",
     "output_type": "stream",
     "text": [
      "Pin set successfully\n"
     ]
    }
   ],
   "source": [
    "c3 = Atm()"
   ]
  },
  {
   "cell_type": "code",
   "execution_count": 5,
   "id": "9f6d9b59-4194-4c59-8709-0d7194e658b8",
   "metadata": {},
   "outputs": [
    {
     "data": {
      "text/plain": [
       "1"
      ]
     },
     "execution_count": 5,
     "metadata": {},
     "output_type": "execute_result"
    }
   ],
   "source": [
    "c1.sno"
   ]
  },
  {
   "cell_type": "code",
   "execution_count": 6,
   "id": "3129d3bb-a507-4630-89ff-a4d8a676b539",
   "metadata": {},
   "outputs": [
    {
     "data": {
      "text/plain": [
       "2"
      ]
     },
     "execution_count": 6,
     "metadata": {},
     "output_type": "execute_result"
    }
   ],
   "source": [
    "c2.sno"
   ]
  },
  {
   "cell_type": "code",
   "execution_count": 7,
   "id": "b31c0e9a-2035-48a7-9dc8-1c4671e811ca",
   "metadata": {},
   "outputs": [
    {
     "data": {
      "text/plain": [
       "3"
      ]
     },
     "execution_count": 7,
     "metadata": {},
     "output_type": "execute_result"
    }
   ],
   "source": [
    "c3.sno"
   ]
  },
  {
   "cell_type": "code",
   "execution_count": null,
   "id": "26e3a9a3-6c64-4b47-be44-ffacb34dba35",
   "metadata": {},
   "outputs": [],
   "source": [
    "Code Issue: Constructor Reinitialization\n",
    "\n",
    "Problem:   `self.sno` resets on each object creation.\n",
    "\n",
    "`self.sno = 0`  ---> Re-initializes on each object creation.\n",
    "\n",
    "`self.sno += 1` ---> No persistent increment, always starts at 0."
   ]
  },
  {
   "cell_type": "markdown",
   "id": "791af4c9-7ff0-4fc9-9e98-ac11d61fc7ea",
   "metadata": {},
   "source": [
    "### Variable Types\n",
    "1. Instance Variable: Unique per object (e.g., pin, balance, GPA).\n",
    "\n",
    "2. Static/Class Variable: Same across objects (e.g., IFSC code, Degree no.)."
   ]
  },
  {
   "cell_type": "code",
   "execution_count": null,
   "id": "09b0a61b-d33a-4a77-804d-2a8275b45756",
   "metadata": {},
   "outputs": [],
   "source": [
    "# Now for this ATM Code we will create a Static Variable\n",
    "\n",
    "Note ---> Static Variable is Defined outside constructor.\n",
    "          Instance Variable is Defined inside constructor."
   ]
  },
  {
   "cell_type": "code",
   "execution_count": null,
   "id": "f37cbe7d-0305-4be8-8707-ce3f9698d63f",
   "metadata": {},
   "outputs": [],
   "source": [
    "To access instance var     ---> `self.var`\n",
    "\n",
    "To access class/static var ---> `Class.var`\n",
    "\n",
    "`self.sno`    = `Atm.counter`\n",
    "\n",
    "`Atm.counter` += `1`"
   ]
  },
  {
   "cell_type": "code",
   "execution_count": 8,
   "id": "b754a512-6817-4027-9f76-b004b23462dd",
   "metadata": {},
   "outputs": [
    {
     "name": "stdout",
     "output_type": "stream",
     "text": [
      "2199674886160\n"
     ]
    },
    {
     "name": "stdin",
     "output_type": "stream",
     "text": [
      "\n",
      "                    Hello, how would you like to proceed?\n",
      "                    1. Enter 1 to create pin\n",
      "                    2. Enter 2 to deposit\n",
      "                    3. Enter 3 to withdraw\n",
      "                    4. Enter 4 to check balance\n",
      "                    5. Enter 5 to exit\n",
      "         5\n"
     ]
    },
    {
     "name": "stdout",
     "output_type": "stream",
     "text": [
      "bye\n"
     ]
    }
   ],
   "source": [
    "c1 = Atm()"
   ]
  },
  {
   "cell_type": "code",
   "execution_count": 9,
   "id": "b2598076-40b8-4c25-bfa0-a28e2fd5af17",
   "metadata": {},
   "outputs": [
    {
     "name": "stdout",
     "output_type": "stream",
     "text": [
      "2199674885856\n"
     ]
    },
    {
     "name": "stdin",
     "output_type": "stream",
     "text": [
      "\n",
      "                    Hello, how would you like to proceed?\n",
      "                    1. Enter 1 to create pin\n",
      "                    2. Enter 2 to deposit\n",
      "                    3. Enter 3 to withdraw\n",
      "                    4. Enter 4 to check balance\n",
      "                    5. Enter 5 to exit\n",
      "         5\n"
     ]
    },
    {
     "name": "stdout",
     "output_type": "stream",
     "text": [
      "bye\n"
     ]
    }
   ],
   "source": [
    "c2 = Atm()"
   ]
  },
  {
   "cell_type": "code",
   "execution_count": 10,
   "id": "8e21c9f0-2a27-4882-be9d-00886e204d24",
   "metadata": {},
   "outputs": [
    {
     "name": "stdout",
     "output_type": "stream",
     "text": [
      "2199674842160\n"
     ]
    },
    {
     "name": "stdin",
     "output_type": "stream",
     "text": [
      "\n",
      "                    Hello, how would you like to proceed?\n",
      "                    1. Enter 1 to create pin\n",
      "                    2. Enter 2 to deposit\n",
      "                    3. Enter 3 to withdraw\n",
      "                    4. Enter 4 to check balance\n",
      "                    5. Enter 5 to exit\n",
      "         5\n"
     ]
    },
    {
     "name": "stdout",
     "output_type": "stream",
     "text": [
      "bye\n"
     ]
    }
   ],
   "source": [
    "c3 = Atm()"
   ]
  },
  {
   "cell_type": "code",
   "execution_count": 11,
   "id": "7cd7b3fb-b71e-442f-9f73-22142810e9e9",
   "metadata": {},
   "outputs": [
    {
     "data": {
      "text/plain": [
       "4"
      ]
     },
     "execution_count": 11,
     "metadata": {},
     "output_type": "execute_result"
    }
   ],
   "source": [
    "c1.sno"
   ]
  },
  {
   "cell_type": "code",
   "execution_count": 12,
   "id": "8bdce626-4a2b-4643-aa82-4942be2156e4",
   "metadata": {},
   "outputs": [
    {
     "data": {
      "text/plain": [
       "5"
      ]
     },
     "execution_count": 12,
     "metadata": {},
     "output_type": "execute_result"
    }
   ],
   "source": [
    "c2.sno"
   ]
  },
  {
   "cell_type": "code",
   "execution_count": 13,
   "id": "df71b467-b1de-41ec-a68d-eb124121c0c1",
   "metadata": {},
   "outputs": [
    {
     "data": {
      "text/plain": [
       "6"
      ]
     },
     "execution_count": 13,
     "metadata": {},
     "output_type": "execute_result"
    }
   ],
   "source": [
    "c3.sno"
   ]
  },
  {
   "cell_type": "code",
   "execution_count": 14,
   "id": "0688e501-5094-4a40-8adc-de5b10bdb05f",
   "metadata": {},
   "outputs": [
    {
     "ename": "AttributeError",
     "evalue": "'Atm' object has no attribute 'counter'",
     "output_type": "error",
     "traceback": [
      "\u001b[1;31m---------------------------------------------------------------------------\u001b[0m",
      "\u001b[1;31mAttributeError\u001b[0m                            Traceback (most recent call last)",
      "Cell \u001b[1;32mIn[14], line 1\u001b[0m\n\u001b[1;32m----> 1\u001b[0m c3\u001b[38;5;241m.\u001b[39mcounter\n",
      "\u001b[1;31mAttributeError\u001b[0m: 'Atm' object has no attribute 'counter'"
     ]
    }
   ],
   "source": [
    "c3.counter # counter value in memory = 4"
   ]
  },
  {
   "cell_type": "code",
   "execution_count": 15,
   "id": "c5354f96-e710-46cb-9db1-2c594084ae0e",
   "metadata": {},
   "outputs": [
    {
     "ename": "AttributeError",
     "evalue": "'Atm' object has no attribute 'counter'",
     "output_type": "error",
     "traceback": [
      "\u001b[1;31m---------------------------------------------------------------------------\u001b[0m",
      "\u001b[1;31mAttributeError\u001b[0m                            Traceback (most recent call last)",
      "Cell \u001b[1;32mIn[15], line 1\u001b[0m\n\u001b[1;32m----> 1\u001b[0m c2\u001b[38;5;241m.\u001b[39mcounter\n",
      "\u001b[1;31mAttributeError\u001b[0m: 'Atm' object has no attribute 'counter'"
     ]
    }
   ],
   "source": [
    "c2.counter"
   ]
  },
  {
   "cell_type": "code",
   "execution_count": 16,
   "id": "1337be7a-e617-4730-a7cf-eadd404ab3b2",
   "metadata": {},
   "outputs": [
    {
     "ename": "AttributeError",
     "evalue": "'Atm' object has no attribute 'counter'",
     "output_type": "error",
     "traceback": [
      "\u001b[1;31m---------------------------------------------------------------------------\u001b[0m",
      "\u001b[1;31mAttributeError\u001b[0m                            Traceback (most recent call last)",
      "Cell \u001b[1;32mIn[16], line 1\u001b[0m\n\u001b[1;32m----> 1\u001b[0m c1\u001b[38;5;241m.\u001b[39mcounter\n",
      "\u001b[1;31mAttributeError\u001b[0m: 'Atm' object has no attribute 'counter'"
     ]
    }
   ],
   "source": [
    "c1.counter"
   ]
  },
  {
   "cell_type": "code",
   "execution_count": 17,
   "id": "ab28d9b0-57f5-4146-85d6-b17a82ac2dae",
   "metadata": {},
   "outputs": [
    {
     "ename": "AttributeError",
     "evalue": "type object 'Atm' has no attribute 'counter'",
     "output_type": "error",
     "traceback": [
      "\u001b[1;31m---------------------------------------------------------------------------\u001b[0m",
      "\u001b[1;31mAttributeError\u001b[0m                            Traceback (most recent call last)",
      "Cell \u001b[1;32mIn[17], line 1\u001b[0m\n\u001b[1;32m----> 1\u001b[0m Atm\u001b[38;5;241m.\u001b[39mcounter\n",
      "\u001b[1;31mAttributeError\u001b[0m: type object 'Atm' has no attribute 'counter'"
     ]
    }
   ],
   "source": [
    "Atm.counter"
   ]
  },
  {
   "cell_type": "markdown",
   "id": "97d9fb7f-2c9a-4660-8f3c-415370bbd149",
   "metadata": {},
   "source": [
    "### Static Variables Need\n",
    "- Shared data (e.g., bank/college name)\n",
    "- Object-wide counters\n",
    "- Use static variables for shared/static data"
   ]
  },
  {
   "cell_type": "code",
   "execution_count": 18,
   "id": "4db7ce28-daf7-4b0c-a420-e580ffb4e1ac",
   "metadata": {},
   "outputs": [
    {
     "ename": "AttributeError",
     "evalue": "type object 'Atm' has no attribute 'counter'",
     "output_type": "error",
     "traceback": [
      "\u001b[1;31m---------------------------------------------------------------------------\u001b[0m",
      "\u001b[1;31mAttributeError\u001b[0m                            Traceback (most recent call last)",
      "Cell \u001b[1;32mIn[18], line 1\u001b[0m\n\u001b[1;32m----> 1\u001b[0m Atm\u001b[38;5;241m.\u001b[39mcounter\n",
      "\u001b[1;31mAttributeError\u001b[0m: type object 'Atm' has no attribute 'counter'"
     ]
    }
   ],
   "source": [
    "Atm.counter"
   ]
  },
  {
   "cell_type": "code",
   "execution_count": 19,
   "id": "dd42f4a1-f282-4b0b-b6f7-b34a4896dcbd",
   "metadata": {},
   "outputs": [],
   "source": [
    "Atm.counter = 'wrgwrg'"
   ]
  },
  {
   "cell_type": "code",
   "execution_count": 20,
   "id": "6e9039e8-31e2-43c4-b70f-b28486053da8",
   "metadata": {},
   "outputs": [
    {
     "name": "stdout",
     "output_type": "stream",
     "text": [
      "2199689366800\n"
     ]
    },
    {
     "name": "stdin",
     "output_type": "stream",
     "text": [
      "\n",
      "                    Hello, how would you like to proceed?\n",
      "                    1. Enter 1 to create pin\n",
      "                    2. Enter 2 to deposit\n",
      "                    3. Enter 3 to withdraw\n",
      "                    4. Enter 4 to check balance\n",
      "                    5. Enter 5 to exit\n",
      "         5\n"
     ]
    },
    {
     "name": "stdout",
     "output_type": "stream",
     "text": [
      "bye\n"
     ]
    }
   ],
   "source": [
    "c1 = Atm()"
   ]
  },
  {
   "cell_type": "code",
   "execution_count": 21,
   "id": "5a4df9fa-9b88-4254-8eb8-86133555496c",
   "metadata": {},
   "outputs": [],
   "source": [
    "# Solution ---> Add `__counter` = 1 in Atm class.\n",
    "\n",
    "def __init__(self):\n",
    "    self.__pin = \"\"\n",
    "    self.__balance = 0\n",
    "    self.sno = Atm.__counter\n",
    "    Atm.__counter += 1\n",
    "\n",
    "# Changes now immutable.\n",
    "# But, need to update counter functionality.\n",
    "\n",
    "def get_counter(self):\n",
    "    return Atm.__counter\n",
    "\n",
    "def set_counter(self, new):\n",
    "    if isinstance(new, int):\n",
    "        Atm.__counter = new\n",
    "    else:\n",
    "        print('Not Allowed')"
   ]
  },
  {
   "cell_type": "code",
   "execution_count": 22,
   "id": "a3028d75-80a9-414c-8297-58751e2070a9",
   "metadata": {},
   "outputs": [
    {
     "data": {
      "text/plain": [
       "8"
      ]
     },
     "execution_count": 22,
     "metadata": {},
     "output_type": "execute_result"
    }
   ],
   "source": [
    "Atm.get_counter()"
   ]
  },
  {
   "cell_type": "code",
   "execution_count": 23,
   "id": "3798a571-66b7-4ca0-8740-54f61dd2c2ab",
   "metadata": {},
   "outputs": [
    {
     "ename": "SyntaxError",
     "evalue": "invalid character '’' (U+2019) (4033291762.py, line 5)",
     "output_type": "error",
     "traceback": [
      "\u001b[1;36m  Cell \u001b[1;32mIn[23], line 5\u001b[1;36m\u001b[0m\n\u001b[1;33m    Static methods don’t take self; use @staticmethod decorator.\u001b[0m\n\u001b[1;37m                      ^\u001b[0m\n\u001b[1;31mSyntaxError\u001b[0m\u001b[1;31m:\u001b[0m invalid character '’' (U+2019)\n"
     ]
    }
   ],
   "source": [
    "# Static Methods:\n",
    "\n",
    "In `get_counter()`; no `self` needed; uses class var.\n",
    "\n",
    "Static methods don’t take self; use @staticmethod decorator.\n",
    "\n",
    "`@staticmethod` ---> Methods that doesn’t require object instance for access.\n",
    "\n",
    "@staticmethod\n",
    "def get_counter():\n",
    "    return Atm.__counter\n",
    "    \n",
    "@staticmethod\n",
    "def set_counter(new):\n",
    "    if type(new) == int:\n",
    "        Atm.counter = new\n",
    "    else:\n",
    "        print('Not Allowed')"
   ]
  },
  {
   "cell_type": "code",
   "execution_count": 24,
   "id": "eb4e819a-797a-42b2-89d2-a18ca11d39ab",
   "metadata": {},
   "outputs": [
    {
     "data": {
      "text/plain": [
       "8"
      ]
     },
     "execution_count": 24,
     "metadata": {},
     "output_type": "execute_result"
    }
   ],
   "source": [
    "Atm.get_counter()"
   ]
  },
  {
   "cell_type": "code",
   "execution_count": 25,
   "id": "05708e59-f466-4995-baed-1d252a900ff4",
   "metadata": {},
   "outputs": [],
   "source": [
    "Atm.set_counter(5)"
   ]
  },
  {
   "cell_type": "code",
   "execution_count": 26,
   "id": "4614644b-9f4c-44c4-ab06-e77779b46626",
   "metadata": {},
   "outputs": [
    {
     "data": {
      "text/plain": [
       "5"
      ]
     },
     "execution_count": 26,
     "metadata": {},
     "output_type": "execute_result"
    }
   ],
   "source": [
    "Atm.get_counter()"
   ]
  },
  {
   "cell_type": "markdown",
   "id": "95925e66-797f-439d-83c1-4bda3b7bcded",
   "metadata": {},
   "source": [
    "`@staticmethods` ---> *Accessed w/o objects; Used for static vars.*"
   ]
  },
  {
   "cell_type": "markdown",
   "id": "cd6384e4-4759-4b8b-ab1c-19ac54f3f47d",
   "metadata": {},
   "source": [
    "### Class Relationship - Aggregation"
   ]
  },
  {
   "cell_type": "code",
   "execution_count": null,
   "id": "de2bb066-4292-4c5c-8c25-ec99783684c6",
   "metadata": {},
   "outputs": [],
   "source": [
    "So far, used only Single Class.\n",
    "But in Real-World Scenario i.e.\n",
    "Large Apps ---> involves multiple classes ---> involves complex inter-class relationships."
   ]
  },
  {
   "cell_type": "markdown",
   "id": "b0e7e8c8-e0af-4818-8dc3-893f89afd384",
   "metadata": {},
   "source": [
    "#### Relationships\n",
    "- Aggregation (Has-A)\n",
    "- Inheritance (Is-A)"
   ]
  },
  {
   "cell_type": "code",
   "execution_count": null,
   "id": "88843d9c-855a-4aa4-87ff-29eb3fce7e84",
   "metadata": {},
   "outputs": [],
   "source": [
    "# Aggregation Ex:\n",
    "\n",
    "Customer   ---> Has-A ---> Address\n",
    "\n",
    "# Inheritance Ex:\n",
    "\n",
    "Smartphone ---> Is-A  ---> Product\n",
    "\n",
    "Car        ---> Is-A  ---> Vehicle"
   ]
  },
  {
   "cell_type": "code",
   "execution_count": null,
   "id": "e640b5fc-3c5d-4ffe-9951-f78b154b9613",
   "metadata": {},
   "outputs": [],
   "source": [
    "Class Diagram - Aggregation:\n",
    "\n",
    "+--------------------+          1          +-------------------+\n",
    "|     Department     |<------------------->|     Employee      |\n",
    "+--------------------+                     +-------------------+\n",
    "| - name: str        |                     | - name: str       |\n",
    "| - location: str    |                     | - employeeID: int |\n",
    "+--------------------+                     +-------------------+\n",
    "| + addEmployee()    |                     | + getDetails()    |\n",
    "| + removeEmployee() |                     | + updateDetails() |\n",
    "+--------------------+                     +-------------------+\n",
    "         1..*                                       1..*        "
   ]
  },
  {
   "cell_type": "code",
   "execution_count": 8,
   "id": "354a09f6-6dea-4b03-813e-7b91deef55db",
   "metadata": {},
   "outputs": [
    {
     "name": "stdout",
     "output_type": "stream",
     "text": [
      "<__main__.Address object at 0x0000021127623B60>\n"
     ]
    }
   ],
   "source": [
    "class Customer:\n",
    "  def __init__(self, name, gender, address):\n",
    "    self.name = name\n",
    "    self.gender = gender\n",
    "    self.address = address\n",
    "\n",
    "class Address:\n",
    "  def __init__(self, city, pincode, state):\n",
    "      self.city = city\n",
    "      self.pincode = pincode\n",
    "      self.state = state\n",
    "\n",
    "add = Address('Rajasthan', 342560, 'WB')\n",
    "cust = Customer('Dikshita', 'Female', add)\n",
    "\n",
    "print(cust.address)"
   ]
  },
  {
   "cell_type": "code",
   "execution_count": 4,
   "id": "6c3a05cc-e6aa-4405-bc2a-eb01be24bf71",
   "metadata": {},
   "outputs": [
    {
     "name": "stdout",
     "output_type": "stream",
     "text": [
      "Rajasthan\n"
     ]
    }
   ],
   "source": [
    "print(cust.address.city)"
   ]
  },
  {
   "cell_type": "code",
   "execution_count": 7,
   "id": "6f04980b-d365-4dd4-bf83-4ee7d453e8d2",
   "metadata": {},
   "outputs": [
    {
     "name": "stdout",
     "output_type": "stream",
     "text": [
      "342560\n"
     ]
    }
   ],
   "source": [
    "print(cust.address.pincode)"
   ]
  },
  {
   "cell_type": "markdown",
   "id": "3473d5d0-4a1d-47ce-ac93-fcf1f5ca00ff",
   "metadata": {},
   "source": [
    "*When creating an object, if another object is passed, the new object behaves like the passed one.*"
   ]
  },
  {
   "cell_type": "code",
   "execution_count": 9,
   "id": "0df52ffb-a2d6-485f-a237-4c24f40f81d7",
   "metadata": {},
   "outputs": [
    {
     "name": "stdout",
     "output_type": "stream",
     "text": [
      "122011\n"
     ]
    }
   ],
   "source": [
    "class Customer:\n",
    "    def __init__(self, name, gender, address):\n",
    "        self.name = name\n",
    "        self.gender = gender\n",
    "        self.address = address\n",
    "\n",
    "    def edit_profile(self, new_name, new_city, new_pin, new_state):\n",
    "        self.name = new_name\n",
    "        self.address.change_address(new_city, new_pin, new_state)\n",
    "\n",
    "class Address:\n",
    "    def __init__(self, city, pincode, state):\n",
    "      self.city = city\n",
    "      self.pincode = pincode\n",
    "      self.state = state\n",
    "    \n",
    "    def change_address(self, new_city, new_pin, new_state):\n",
    "        self.cityy = new_city\n",
    "        self.pincode = new_pin\n",
    "        self.state = new_state\n",
    "\n",
    "add = Address('Kolkata', 700156, 'WB')\n",
    "cust = Customer('Dikshita', 'Female', add)\n",
    "cust.edit_profile('Ankita', 'Gurgaon', 122011, 'haryana')\n",
    "print(cust.address.pincode)\n",
    "\n",
    "# `Customer` class non-functional\n",
    "# Relies on `Address` class for operations"
   ]
  },
  {
   "cell_type": "markdown",
   "id": "8eb17e87-628b-4a67-a67d-7d3e226b9921",
   "metadata": {},
   "source": [
    "### INHERITANCE\n",
    "Real-world concept; means to inherit."
   ]
  },
  {
   "cell_type": "code",
   "execution_count": null,
   "id": "f31f1093-4193-4774-8f8b-7c85df5ae76a",
   "metadata": {},
   "outputs": [],
   "source": [
    "OOP ---> Real-world problem-solving.\n",
    "Aligns with real-world concepts"
   ]
  },
  {
   "cell_type": "markdown",
   "id": "caaa9ec4-bbc2-4b89-8991-fee18784cd43",
   "metadata": {},
   "source": [
    "### Inheritance Benefits\n",
    "**DRY Principle:** \"Don't Repeat Yourself\"\n",
    "\n",
    "Avoid redundant code; Reuse existing code via inheritance.\n",
    "\n",
    "### Inheritance Code Reusability\n",
    "Saves Time; Concise, Optimized Code; Effective."
   ]
  },
  {
   "cell_type": "code",
   "execution_count": null,
   "id": "b71314aa-0957-45d0-9e78-697215420f46",
   "metadata": {},
   "outputs": [],
   "source": [
    "# Note: Inheritence Direction ---> Upward\n",
    "\n",
    "Ex ---> `Student` inherits from `User` (e.g., login, registration).\n",
    "        `User` cannot inherit from `Student`.\n",
    "\n",
    "i.e Child inherits properties/data from Parent."
   ]
  },
  {
   "cell_type": "code",
   "execution_count": null,
   "id": "74a4305b-2996-4c85-8ae5-31029df58111",
   "metadata": {},
   "outputs": [],
   "source": [
    "In Inheritence,\n",
    "\n",
    "Child Inherits        ---> Data Members, Methods, Constructor\n",
    "      Doesn't Inherit ---> Private Members"
   ]
  },
  {
   "cell_type": "code",
   "execution_count": 2,
   "id": "a0a7f47c-4935-429c-8db1-d0b528fbeff6",
   "metadata": {},
   "outputs": [
    {
     "name": "stdout",
     "output_type": "stream",
     "text": [
      "Enroll\n",
      "Review\n",
      "login\n",
      "Register\n"
     ]
    }
   ],
   "source": [
    "class User: # Parent\n",
    "    \n",
    "    def login(self):\n",
    "        print('login')\n",
    "    \n",
    "    def register(self):\n",
    "        print('Register')\n",
    "\n",
    "class Student(User): # Child\n",
    "    \n",
    "    def enroll(self):\n",
    "        print('Enroll')\n",
    "    \n",
    "    def review(self):\n",
    "        print('Review')  \n",
    "\n",
    "stu1 = Student()\n",
    "\n",
    "stu1.enroll()\n",
    "stu1.review()\n",
    "stu1.login()\n",
    "stu1.register()"
   ]
  },
  {
   "cell_type": "code",
   "execution_count": 3,
   "id": "a88eb728-b94b-42e2-901f-cc7e7167bf12",
   "metadata": {},
   "outputs": [
    {
     "ename": "AttributeError",
     "evalue": "'User' object has no attribute 'enroll'",
     "output_type": "error",
     "traceback": [
      "\u001b[1;31m---------------------------------------------------------------------------\u001b[0m",
      "\u001b[1;31mAttributeError\u001b[0m                            Traceback (most recent call last)",
      "Cell \u001b[1;32mIn[3], line 22\u001b[0m\n\u001b[0;32m     18\u001b[0m         \u001b[38;5;28mprint\u001b[39m(\u001b[38;5;124m'\u001b[39m\u001b[38;5;124mReview\u001b[39m\u001b[38;5;124m'\u001b[39m)\n\u001b[0;32m     20\u001b[0m u \u001b[38;5;241m=\u001b[39m User()\n\u001b[1;32m---> 22\u001b[0m u\u001b[38;5;241m.\u001b[39menroll()\n\u001b[0;32m     23\u001b[0m u\u001b[38;5;241m.\u001b[39mreview()\n\u001b[0;32m     24\u001b[0m u\u001b[38;5;241m.\u001b[39mlogin()\n",
      "\u001b[1;31mAttributeError\u001b[0m: 'User' object has no attribute 'enroll'"
     ]
    }
   ],
   "source": [
    "# The reverse is not true\n",
    "# i.e., parent can't access child\n",
    "\n",
    "class User: # Parent\n",
    "    \n",
    "    def login(self):\n",
    "        print('login')\n",
    "    \n",
    "    def register(self):\n",
    "        print('Register')\n",
    "\n",
    "class Student(User): # Child\n",
    "    \n",
    "    def enroll(self):\n",
    "        print('Enroll')\n",
    "    \n",
    "    def review(self):\n",
    "        print('Review')\n",
    "\n",
    "u = User()\n",
    "\n",
    "u.enroll()\n",
    "u.review()\n",
    "u.login()\n",
    "u.register()"
   ]
  },
  {
   "cell_type": "raw",
   "id": "786214eb-b6cb-4d1f-a13c-e374537a8070",
   "metadata": {},
   "source": [
    "Class Diagram - Inheritence:\n",
    "\n",
    "               +-------------+\n",
    "               |   Animal    |\n",
    "               +-------------+\n",
    "               | - name: str |\n",
    "               | - age: int  |\n",
    "               +-------------+\n",
    "               | + eat()     |\n",
    "               | + sleep()   |\n",
    "               +-------------+\n",
    "              /       |       \\\n",
    "             /        |        \\\n",
    "            /         |         \\\n",
    "+----------+     +----------+    +---------+\n",
    "|   Dog    |     |   Cat    |    | Hamster |\n",
    "+----------+     +----------+    +---------+\n",
    "| - breed  |     | - color  |    | - size  |\n",
    "+----------+     +----------+    +---------+\n",
    "| + bark() |     | + meow() |    | + run() |\n",
    "+----------+     +----------+    +---------+"
   ]
  },
  {
   "cell_type": "markdown",
   "id": "ff25f864-afa2-40ec-9684-f079511985be",
   "metadata": {},
   "source": [
    "#### Ex 1 - Inheriting Constructer"
   ]
  },
  {
   "cell_type": "code",
   "execution_count": 4,
   "id": "92a24a94-c0a9-49ae-9b32-35bfc3de3654",
   "metadata": {},
   "outputs": [
    {
     "name": "stdout",
     "output_type": "stream",
     "text": [
      "Inside phone constructor\n"
     ]
    }
   ],
   "source": [
    "# Constructor Ex:\n",
    "\n",
    "class Phone:\n",
    "    def __init__(self, price, brand, camera):\n",
    "        print (\"Inside phone constructor\")\n",
    "        self.price = price\n",
    "        self.brand = brand\n",
    "        self.camera = camera\n",
    "\n",
    "class SmartPhone(Phone):\n",
    "    pass\n",
    "\n",
    "s = SmartPhone(20000, \"Apple\", 13)\n"
   ]
  },
  {
   "cell_type": "code",
   "execution_count": 5,
   "id": "e4c381ea-2a19-4164-b76f-d16f610204b8",
   "metadata": {},
   "outputs": [
    {
     "name": "stdout",
     "output_type": "stream",
     "text": [
      "Apple\n"
     ]
    }
   ],
   "source": [
    "print(s.brand)"
   ]
  },
  {
   "cell_type": "code",
   "execution_count": null,
   "id": "e1760900-f206-4717-b0d3-141fc4aa3076",
   "metadata": {},
   "outputs": [],
   "source": [
    "`class B` inherits `class A`\n",
    "\n",
    "No constructor in `B` ---> `A`'s constructor invoked\n",
    "\n",
    "Parent class constructor used if child lacks one"
   ]
  },
  {
   "cell_type": "markdown",
   "id": "f58b1a0d-dbbf-45c8-b129-fb66025a23c7",
   "metadata": {},
   "source": [
    "#### Ex 2 - Inheiting Private Members"
   ]
  },
  {
   "cell_type": "code",
   "execution_count": 6,
   "id": "113e675c-0d9d-4d8c-ae09-49defad46388",
   "metadata": {},
   "outputs": [
    {
     "name": "stdout",
     "output_type": "stream",
     "text": [
      "Inside phone constructor\n"
     ]
    },
    {
     "ename": "AttributeError",
     "evalue": "'SmartPhone' object has no attribute '__brand'",
     "output_type": "error",
     "traceback": [
      "\u001b[1;31m---------------------------------------------------------------------------\u001b[0m",
      "\u001b[1;31mAttributeError\u001b[0m                            Traceback (most recent call last)",
      "Cell \u001b[1;32mIn[6], line 12\u001b[0m\n\u001b[0;32m      9\u001b[0m     \u001b[38;5;28;01mpass\u001b[39;00m\n\u001b[0;32m     11\u001b[0m s \u001b[38;5;241m=\u001b[39m SmartPhone(\u001b[38;5;241m20000\u001b[39m, \u001b[38;5;124m\"\u001b[39m\u001b[38;5;124mApple\u001b[39m\u001b[38;5;124m\"\u001b[39m, \u001b[38;5;241m13\u001b[39m)\n\u001b[1;32m---> 12\u001b[0m \u001b[38;5;28mprint\u001b[39m(s\u001b[38;5;241m.\u001b[39m__brand)\n",
      "\u001b[1;31mAttributeError\u001b[0m: 'SmartPhone' object has no attribute '__brand'"
     ]
    }
   ],
   "source": [
    "class Phone:\n",
    "    def __init__(self, price, brand, camera):\n",
    "        print (\"Inside phone constructor\")\n",
    "        self.price = price\n",
    "        self.__brand = brand\n",
    "        self.camera = camera\n",
    "\n",
    "class SmartPhone(Phone):\n",
    "    pass\n",
    "\n",
    "s = SmartPhone(20000, \"Apple\", 13)\n",
    "print(s.__brand)"
   ]
  },
  {
   "cell_type": "markdown",
   "id": "64ec26f6-ef90-4a04-9ac4-71dbb9030f65",
   "metadata": {},
   "source": [
    "*Hidden parent members not accessible by child class.*"
   ]
  },
  {
   "cell_type": "markdown",
   "id": "9c5d1076-116e-40ab-8649-7e93d036135e",
   "metadata": {},
   "source": [
    "## POLYMORPHISM"
   ]
  },
  {
   "cell_type": "markdown",
   "id": "1d45681b-1e64-4b1c-9114-2919f3cad001",
   "metadata": {},
   "source": [
    "### Ex 3 - Polymorphism"
   ]
  },
  {
   "cell_type": "code",
   "execution_count": 1,
   "id": "a3c56d0b-2b66-498e-bf7f-eb5f0ffa8ce1",
   "metadata": {},
   "outputs": [
    {
     "name": "stdout",
     "output_type": "stream",
     "text": [
      "Inside phone constructor\n",
      "Buying a smartphone\n"
     ]
    }
   ],
   "source": [
    "# Method Overriding:\n",
    "\n",
    "class Phone:\n",
    "    def __init__(self, price, brand, camera):\n",
    "        print (\"Inside phone constructor\")\n",
    "        self.__price = price\n",
    "        self.brand = brand\n",
    "        self.camera = camera\n",
    "\n",
    "    def buy(self):\n",
    "        print(\"Buying a phone\")\n",
    "\n",
    "class SmartPhone(Phone):\n",
    "    def buy(self):\n",
    "        print(\"Buying a smartphone\")\n",
    "\n",
    "s = SmartPhone(20000, \"Apple\", 13)\n",
    "\n",
    "s.buy()"
   ]
  },
  {
   "cell_type": "markdown",
   "id": "ebce6e8c-4141-490f-b90c-9bd84b23841a",
   "metadata": {},
   "source": [
    "### Method Overriding\n",
    "Child Class method overrides Parent Class method if they have the same name.\n",
    "\n",
    "Child Class method is called in case of name conflict.\n",
    "\n",
    "Parent Class method is overridden by Child Class method."
   ]
  },
  {
   "cell_type": "markdown",
   "id": "ac6faea6-67ed-4c03-a4ba-88fc6ce8293a",
   "metadata": {},
   "source": [
    "### Polymorphism\n",
    "- **Method Overriding**\n",
    "- **Method Overloading**:\n",
    "- **Operator Overloading**"
   ]
  },
  {
   "cell_type": "markdown",
   "id": "55b29901-b83e-4494-ade6-2d2c81d1e631",
   "metadata": {},
   "source": [
    "### Ex - Class Parent"
   ]
  },
  {
   "cell_type": "code",
   "execution_count": 2,
   "id": "2cbd67b6-cbd8-414a-817f-cd0b236e4907",
   "metadata": {},
   "outputs": [
    {
     "name": "stdout",
     "output_type": "stream",
     "text": [
      "100\n",
      "This is in child class\n"
     ]
    }
   ],
   "source": [
    "class Parent:\n",
    "    def __init__(self, num):\n",
    "        self.__num = num\n",
    "    def get_num(self):\n",
    "        return self.__num\n",
    "\n",
    "class Child(Parent):\n",
    "    def show(self):\n",
    "        print(\"This is in child class\")\n",
    "        \n",
    "son = Child(100,)\n",
    "print(son.get_num())\n",
    "son.show()"
   ]
  },
  {
   "cell_type": "markdown",
   "id": "22b38d5a-671f-446b-a0ad-235c2b1bb59d",
   "metadata": {},
   "source": [
    "### Ex - 2"
   ]
  },
  {
   "cell_type": "code",
   "execution_count": 3,
   "id": "2c82a970-e33b-4816-b9a8-5536b6338410",
   "metadata": {},
   "outputs": [
    {
     "ename": "AttributeError",
     "evalue": "'Child' object has no attribute '_Parent__num'",
     "output_type": "error",
     "traceback": [
      "\u001b[1;31m---------------------------------------------------------------------------\u001b[0m",
      "\u001b[1;31mAttributeError\u001b[0m                            Traceback (most recent call last)",
      "Cell \u001b[1;32mIn[3], line 14\u001b[0m\n\u001b[0;32m     11\u001b[0m         \u001b[38;5;28;01mreturn\u001b[39;00m \u001b[38;5;28mself\u001b[39m\u001b[38;5;241m.\u001b[39m__val\n\u001b[0;32m     13\u001b[0m son \u001b[38;5;241m=\u001b[39m Child(\u001b[38;5;241m100\u001b[39m, \u001b[38;5;241m10\u001b[39m)\n\u001b[1;32m---> 14\u001b[0m \u001b[38;5;28mprint\u001b[39m(\u001b[38;5;124m\"\u001b[39m\u001b[38;5;124mParent: Num:\u001b[39m\u001b[38;5;124m\"\u001b[39m, son\u001b[38;5;241m.\u001b[39mget_num())\n\u001b[0;32m     15\u001b[0m \u001b[38;5;28mprint\u001b[39m(\u001b[38;5;124m\"\u001b[39m\u001b[38;5;124mChild: Val:\u001b[39m\u001b[38;5;124m\"\u001b[39m, son\u001b[38;5;241m.\u001b[39mget_val())\n",
      "Cell \u001b[1;32mIn[3], line 5\u001b[0m, in \u001b[0;36mParent.get_num\u001b[1;34m(self)\u001b[0m\n\u001b[0;32m      4\u001b[0m \u001b[38;5;28;01mdef\u001b[39;00m\u001b[38;5;250m \u001b[39m\u001b[38;5;21mget_num\u001b[39m(\u001b[38;5;28mself\u001b[39m):\n\u001b[1;32m----> 5\u001b[0m     \u001b[38;5;28;01mreturn\u001b[39;00m \u001b[38;5;28mself\u001b[39m\u001b[38;5;241m.\u001b[39m__num\n",
      "\u001b[1;31mAttributeError\u001b[0m: 'Child' object has no attribute '_Parent__num'"
     ]
    }
   ],
   "source": [
    "class Parent:\n",
    "    def __init__(self, num):\n",
    "        self.__num = num\n",
    "    def get_num(self):\n",
    "        return self.__num\n",
    "\n",
    "class Child(Parent):\n",
    "    def __init__(self, val, num):\n",
    "        self.__val = val\n",
    "    def get_val(self):\n",
    "        return self.__val\n",
    "        \n",
    "son = Child(100, 10)\n",
    "print(\"Parent: Num:\", son.get_num())\n",
    "print(\"Child: Val:\", son.get_val())"
   ]
  },
  {
   "cell_type": "code",
   "execution_count": null,
   "id": "7f8c4ae8-eadd-4b77-a279-36642b32a239",
   "metadata": {},
   "outputs": [],
   "source": [
    "No Child Constructor      ---> Parent Constructor invoked automatically.\n",
    "\n",
    "Child Constructor present ---> Parent Constructor not called."
   ]
  },
  {
   "cell_type": "markdown",
   "id": "fd4283cd-60bc-4782-871e-60c6db0459a9",
   "metadata": {},
   "source": [
    "### Ex - 3"
   ]
  },
  {
   "cell_type": "code",
   "execution_count": 4,
   "id": "82f3c2b6-ecc0-4877-b689-9d0414ca148d",
   "metadata": {},
   "outputs": [
    {
     "name": "stdout",
     "output_type": "stream",
     "text": [
      "class A : 100\n"
     ]
    }
   ],
   "source": [
    "class A:\n",
    "    def __init__(self):\n",
    "        self.var1 = 100\n",
    "    def display1(self, var1):\n",
    "        print(\"class A :\", self.var1)\n",
    "\n",
    "class B(A):\n",
    "    def display2(self, var1):\n",
    "        print(\"class B :\", self.var1)\n",
    "\n",
    "obj = B()\n",
    "obj.display1(200)"
   ]
  },
  {
   "cell_type": "markdown",
   "id": "7b99c83d-0fb6-4a22-a3d6-f95f0cdcb6ba",
   "metadata": {},
   "source": [
    "### User of super()"
   ]
  },
  {
   "cell_type": "markdown",
   "id": "50f18c3b-b1e6-4e66-a290-991a7560b05c",
   "metadata": {},
   "source": [
    "### Ex - Super"
   ]
  },
  {
   "cell_type": "code",
   "execution_count": 1,
   "id": "47ad4937-fe0b-466a-ba52-ff7236303a48",
   "metadata": {},
   "outputs": [
    {
     "name": "stdout",
     "output_type": "stream",
     "text": [
      "Inside phone constructor\n",
      "Buying a smartphone\n",
      "Buying a phone\n"
     ]
    }
   ],
   "source": [
    "class Phone:\n",
    "    def __init__(self, price, brand, camera):\n",
    "        print (\"Inside phone constructor\")\n",
    "        self.__price = price\n",
    "        self.brand = brand\n",
    "        self.camera = camera\n",
    "    def buy(self):\n",
    "        print (\"Buying a phone\")\n",
    "\n",
    "class SmartPhone(Phone):\n",
    "    def buy(self):\n",
    "        print (\"Buying a smartphone\")\n",
    "        super().buy() # Call parent buy()\n",
    "\n",
    "s = SmartPhone(20000, \"Apple\", 13)\n",
    "s.buy()"
   ]
  },
  {
   "cell_type": "code",
   "execution_count": 2,
   "id": "dcccb83b-284f-491f-9ff7-65cd0a5f1255",
   "metadata": {},
   "outputs": [
    {
     "ename": "AttributeError",
     "evalue": "'SmartPhone' object has no attribute 'super'",
     "output_type": "error",
     "traceback": [
      "\u001b[1;31m---------------------------------------------------------------------------\u001b[0m",
      "\u001b[1;31mAttributeError\u001b[0m                            Traceback (most recent call last)",
      "Cell \u001b[1;32mIn[2], line 3\u001b[0m\n\u001b[0;32m      1\u001b[0m \u001b[38;5;66;03m# `super` keyword is invalid outside class.\u001b[39;00m\n\u001b[1;32m----> 3\u001b[0m s\u001b[38;5;241m.\u001b[39msuper()\u001b[38;5;241m.\u001b[39mbuy()\n",
      "\u001b[1;31mAttributeError\u001b[0m: 'SmartPhone' object has no attribute 'super'"
     ]
    }
   ],
   "source": [
    "# `super` keyword is invalid outside class.\n",
    "\n",
    "s.super().buy()"
   ]
  },
  {
   "cell_type": "markdown",
   "id": "6e7c25cf-0a94-4755-ba4c-e6a074ac057c",
   "metadata": {},
   "source": [
    "### `super` keyword\n",
    "1.Accesses parent class methods<br>\n",
    "2.Accesses parent class constructor\n",
    "\n",
    "Does NOT access parent class attributes"
   ]
  },
  {
   "cell_type": "markdown",
   "id": "9d9f1d53-eaf8-479d-8924-2f1e072e6089",
   "metadata": {},
   "source": [
    "### Ex - Super with Constructor"
   ]
  },
  {
   "cell_type": "code",
   "execution_count": 3,
   "id": "95cd6968-c21f-4a41-b72d-640c0b48c361",
   "metadata": {},
   "outputs": [
    {
     "name": "stdout",
     "output_type": "stream",
     "text": [
      "Inside smartphone constructor\n",
      "Inside phone constructor\n",
      "Inside smartphone constructor\n",
      "Android\n",
      "Samsung\n"
     ]
    }
   ],
   "source": [
    "class Phone:\n",
    "    def __init__(self, price, brand, camera):\n",
    "        print (\"Inside phone constructor\")\n",
    "        self.__price = price\n",
    "        self.brand = brand\n",
    "        self.camera = camera\n",
    "\n",
    "class SmartPhone(Phone):\n",
    "    def __init__(self, price, brand, camera, os, ram):\n",
    "        print('Inside smartphone constructor')\n",
    "        super().__init__(price, brand, camera)\n",
    "        self.os = os\n",
    "        self.ram = ram\n",
    "        print (\"Inside smartphone constructor\")\n",
    "\n",
    "s = SmartPhone(20000, \"Samsung\", 12, \"Android\", 2)\n",
    "print(s.os)\n",
    "print(s.brand)"
   ]
  },
  {
   "cell_type": "code",
   "execution_count": null,
   "id": "b23830fc-c849-4999-9ffe-1cb4128b51b4",
   "metadata": {},
   "outputs": [],
   "source": [
    "# Task Delegation in Inheritance:\n",
    "\n",
    "Child class handles its tasks.\n",
    "\n",
    "Reuses parent class tasks via `super` in constructor.\n",
    "\n",
    "Initialization ---> Half by child, rest via parent with `super`."
   ]
  },
  {
   "cell_type": "markdown",
   "id": "39e5efdf-1a67-4375-9a59-2ce9af68f52e",
   "metadata": {},
   "source": [
    "### Ex - Super"
   ]
  },
  {
   "cell_type": "code",
   "execution_count": 5,
   "id": "669450e7-f961-44cd-ab81-30fac285c66d",
   "metadata": {},
   "outputs": [
    {
     "name": "stdout",
     "output_type": "stream",
     "text": [
      "100\n",
      "200\n"
     ]
    }
   ],
   "source": [
    "class Parent:\n",
    "    def __init__(self, num):\n",
    "      self.__num = num\n",
    "    def get_num(self):\n",
    "      return self.__num\n",
    "\n",
    "class Child(Parent):\n",
    "    def __init__(self, num, val):\n",
    "      super().__init__(num)\n",
    "      self.__val = val\n",
    "    def get_val(self):\n",
    "      return self.__val\n",
    "      \n",
    "son = Child(100, 200)\n",
    "print(son.get_num())\n",
    "print(son.get_val())"
   ]
  },
  {
   "cell_type": "code",
   "execution_count": 6,
   "id": "8fd21f5f-cfa8-4ff1-ac1c-493dea089c7a",
   "metadata": {},
   "outputs": [
    {
     "name": "stdout",
     "output_type": "stream",
     "text": [
      "100\n",
      "200\n"
     ]
    }
   ],
   "source": [
    "class Parent:\n",
    "    def __init__(self):\n",
    "        self.num = 100\n",
    "\n",
    "class Child(Parent):\n",
    "    def __init__(self):\n",
    "        super().__init__()\n",
    "        self.var = 200\n",
    "    def show(self):\n",
    "        print(self.num)\n",
    "        print(self.var)\n",
    "\n",
    "son = Child()\n",
    "son.show()"
   ]
  },
  {
   "cell_type": "markdown",
   "id": "5b4540c4-821c-416e-b7ea-1b0a1b74a75f",
   "metadata": {},
   "source": [
    "Access parent attribute in child class via `self`.\n",
    "\n",
    "`self` = current object (`son`).\n",
    "\n",
    "If accessible externally, accessible internally too."
   ]
  },
  {
   "cell_type": "code",
   "execution_count": 7,
   "id": "986f7e40-3342-42f8-b49c-46e3f06912e8",
   "metadata": {},
   "outputs": [
    {
     "name": "stdout",
     "output_type": "stream",
     "text": [
      "Parent: 100\n",
      "Child: 10\n"
     ]
    }
   ],
   "source": [
    "class Parent:\n",
    "    def __init__(self):\n",
    "        self.__num = 100\n",
    "    def show(self):\n",
    "        print(\"Parent:\", self.__num)\n",
    "\n",
    "class Child(Parent):\n",
    "    def __init__(self):\n",
    "        super().__init__()\n",
    "        self.__var = 10\n",
    "    def show(self):\n",
    "        print(\"Child:\", self.__var)\n",
    "\n",
    "dad = Parent()\n",
    "dad.show()\n",
    "son = Child()\n",
    "son.show()"
   ]
  },
  {
   "cell_type": "code",
   "execution_count": null,
   "id": "aa76ac2c-a74c-48b6-b87f-ede8f798035c",
   "metadata": {},
   "outputs": [],
   "source": [
    "# Inheritance Summary:\n",
    "\n",
    "Class Inheritance allows one class to inherit from another; enhances code reuse.\n",
    "\n",
    "Inherited Members ---> Constructors, Attributes, Methods.\n",
    "\n",
    "Parent can’t access Child.\n",
    "\n",
    "Private members are not directly accessible in Child.\n",
    "\n",
    "Child can override parent’s methods/attributes.\n",
    "\n",
    "`super()`         ---> Calls parent’s methods/constructor."
   ]
  },
  {
   "cell_type": "markdown",
   "id": "2ecbe765-1eca-4d02-905a-225a0a1e7e2b",
   "metadata": {},
   "source": [
    "### Types of inheritance\n",
    "1. Single Inheritance\n",
    "2. Multilevel Inheritance\n",
    "3. Hierarchical Inheritance\n",
    "4. Multiple Inheritance (Diamond Problem)\n",
    "5. Hybrid Inheritance"
   ]
  },
  {
   "cell_type": "raw",
   "id": "1ef49fe3-ed33-4a49-9658-d54fea824306",
   "metadata": {},
   "source": [
    "Single Inheritance       Multilevel Inheritance                  Hierarchical Inheritance\n",
    "\n",
    "+-------------+          +-------------+                         +-------------+\n",
    "|   Animal    |          |   Animal    |                         |   Animal    |\n",
    "+-------------+          +-------------+                         +-------------+\n",
    "| - name: str |          | - name: str |                         | - name: str |\n",
    "| - age: int  |          | - age: int  |                         | - age: int  |\n",
    "+-------------+          +-------------+                         +-------------+\n",
    "| + eat()     |          | + eat()     |                         | + eat()     |\n",
    "| + sleep()   |          | + sleep()   |                         | + sleep()   |  \n",
    "+-------------+          +-------------+                         +-------------+  \n",
    "       |                        |                               /       |       \\\n",
    "       |                        |                              /        |        \\\n",
    "       |                        |                             /         |         \\\n",
    "+--------------+         +--------------+         +----------+    +----------+     +---------+\n",
    "|     Dog      |         |     Pet      |         |   Dog    |    |   Cat    |     | Hamster |\n",
    "+--------------+         +--------------+         +----------+    +----------+     +---------+\n",
    "| - breed: str |         | - owner: str |         | - breed  |    | - color  |     | - size  |\n",
    "+--------------+         +--------------+         +----------+    +----------+     +---------+\n",
    "| + bark()     |         | + play()     |         | + bark() |    | + meow() |     | + run() |\n",
    "+--------------+         +--------------+         +----------+    +----------+     +---------+\n",
    "                                 |         \n",
    "                                 |   \n",
    "                                 |   \n",
    "                         +--------------+\n",
    "                         |     Dog      |\n",
    "                         +--------------+\n",
    "                         | - breed: str |\n",
    "                         +--------------+\n",
    "                         | + bark()     |\n",
    "                         +--------------+"
   ]
  },
  {
   "cell_type": "markdown",
   "id": "1ebc3840-bcca-4a46-80d7-b52fe58ab9a8",
   "metadata": {},
   "source": [
    "Multiple Inheritance (Diamond Problem)\n",
    "\n",
    "     +------------------+\n",
    "     |      Animal      |\n",
    "     +------------------+\n",
    "     |   - name: str    |\n",
    "     |   - age: int     |\n",
    "     +------------------+\n",
    "     |   + eat()        |\n",
    "     |   + sleep()      |\n",
    "     +------------------+\n",
    "        /           \\\n",
    "       /             \\\n",
    "      /               \\\n",
    "+----------+     +----------+\n",
    "|   Dog    |     |   Cat    |\n",
    "+----------+     +----------+ \n",
    "| - breed  |     | - color  | \n",
    "+----------+     +----------+  \n",
    "| + bark() |     | + meow() |\n",
    "+----------+     +----------+\n",
    "      \\               /\n",
    "       \\             /\n",
    "        \\           /\n",
    "     +------------------+\n",
    "     |     PetOwner     |\n",
    "     +------------------+\n",
    "     | - ownerName: str |\n",
    "     +------------------+\n",
    "     | + feed()         |\n",
    "     | + play()         |\n",
    "     +------------------+\n",
    "\n",
    "Hybrid Inheritance\n",
    "\n",
    "                            +------------------+\n",
    "                            |      Animal      |         \n",
    "                            +------------------+\n",
    "                            |   - name: str    |          \n",
    "                            |   - age: int     |          \n",
    "                            +------------------+\n",
    "                            |   + eat()        |          \n",
    "                            |   + sleep()      |          \n",
    "                            +------------------+\n",
    "                           /                    \\\n",
    "                          /                      \\\n",
    "                         /                        \\ \n",
    "          +-------------+                          +----------------+\n",
    "          |    Dog      |                          |      Cat       |\n",
    "          +-------------+                          +----------------+ \n",
    "          |  - breed    |                          |    - color     | \n",
    "          +-------------+                          +----------------+  \n",
    "          |  + bark()   |                          |    + meow()    |\n",
    "          +-------------+                          +----------------+\n",
    "         /               \\                        /                  \\\n",
    "        /                 \\                      /                    \\\n",
    "       /                   \\                    /                      \\       \n",
    "+-------------+     +-------------+     +----------------+     +----------------+\n",
    "|  Labrador   |     |   Bulldog   |     |    Siamese     |     |    Persian     |\n",
    "+-------------+     +-------------+     +----------------+     +----------------+\n",
    "| - size: str |     | - size: str |     | - pattern: str |     | - furType: str |\n",
    "+-------------+     +-------------+     +----------------+     +----------------+\n",
    "| + fetch()   |     | + guard()   |     | + purr()       |     | + groom()      |\n",
    "+-------------+     +-------------+     +----------------+     +----------------+\n",
    "                                   \\                          /\n",
    "                                    \\                        /\n",
    "                                     \\                      / \n",
    "                                      +--------------------+\n",
    "                                      |      PetOwner      |\n",
    "                                      +--------------------+\n",
    "                                      | - ownerName: str   |\n",
    "                                      +--------------------+\n",
    "                                      | + feed()           |\n",
    "                                      | + play()           |\n",
    "                                      +--------------------+"
   ]
  },
  {
   "cell_type": "raw",
   "id": "b0f0165a-1f8c-451e-aae8-8be8721cb075",
   "metadata": {},
   "source": [
    "# Multiple Inheritance:\n",
    "\n",
    "Java   ---> Not Supported\n",
    "\n",
    "Python ---> Supported"
   ]
  },
  {
   "cell_type": "markdown",
   "id": "aa306965-5283-4e26-822c-22a6a9b07200",
   "metadata": {},
   "source": [
    "### Ex - Single level Inheritence"
   ]
  },
  {
   "cell_type": "code",
   "execution_count": 1,
   "id": "ff09d319-ce1e-4544-8d54-3ee13ca6159d",
   "metadata": {},
   "outputs": [
    {
     "name": "stdout",
     "output_type": "stream",
     "text": [
      "Inside phone constructor\n",
      "Buying a phone\n"
     ]
    }
   ],
   "source": [
    "class Phone:\n",
    "    def __init__(self, price, brand, camera):\n",
    "        print (\"Inside phone constructor\")\n",
    "        self.__price = price\n",
    "        self.brand = brand\n",
    "        self.camera = camera\n",
    "    def buy(self):\n",
    "        print (\"Buying a phone\")\n",
    "    def return_phone(self):\n",
    "        print(\"Returning a phone\")\n",
    "\n",
    "class SmartPhone(Phone):\n",
    "    pass\n",
    "\n",
    "SmartPhone(1000, \"Apple\", \"13px\").buy()"
   ]
  },
  {
   "cell_type": "markdown",
   "id": "d633e1a5-79ad-4d25-ace7-f9760011f506",
   "metadata": {},
   "source": [
    "### Ex - Multilevel level Inheritence"
   ]
  },
  {
   "cell_type": "code",
   "execution_count": 1,
   "id": "70db8b8c-d669-422b-87fe-046a3f1e9930",
   "metadata": {},
   "outputs": [
    {
     "name": "stdout",
     "output_type": "stream",
     "text": [
      "Inside phone constructor\n",
      "Inside phone constructor\n",
      "Buying a phone\n",
      "Product customer review\n",
      "Product customer review\n"
     ]
    }
   ],
   "source": [
    "class Product:\n",
    "    def review(self):\n",
    "        print (\"Product customer review\")\n",
    "\n",
    "class Phone(Product):\n",
    "    def __init__(self, price, brand, camera):\n",
    "        print (\"Inside phone constructor\")\n",
    "        self.__price = price\n",
    "        self.brand = brand\n",
    "        self.camera = camera\n",
    "    def buy(self):\n",
    "        print (\"Buying a phone\")\n",
    "\n",
    "class SmartPhone(Phone):\n",
    "    pass\n",
    "\n",
    "s = SmartPhone(20000, \"Apple\", 12)\n",
    "p = Phone(1000, \"Samsung\", 1)\n",
    "\n",
    "s.buy()\n",
    "s.review()\n",
    "p.review()"
   ]
  },
  {
   "cell_type": "markdown",
   "id": "484e023d-4018-44df-bcc9-2b65817e3cf1",
   "metadata": {},
   "source": [
    "### Ex - Hierarchical Inheritence"
   ]
  },
  {
   "cell_type": "code",
   "execution_count": 1,
   "id": "89b2dd02-89b8-43f6-a553-c7162f719cc8",
   "metadata": {},
   "outputs": [
    {
     "name": "stdout",
     "output_type": "stream",
     "text": [
      "Inside phone constructor\n",
      "Buying a phone\n"
     ]
    }
   ],
   "source": [
    "class Phone:\n",
    "    def __init__(self, price, brand, camera):\n",
    "        print (\"Inside phone constructor\")\n",
    "        self.__price = price\n",
    "        self.brand = brand\n",
    "        self.camera = camera\n",
    "    def buy(self):\n",
    "        print (\"Buying a phone\")\n",
    "    def return_phone(self):\n",
    "        print(\"Returning a phone\")\n",
    "\n",
    "class SmartPhone(Phone):\n",
    "    pass\n",
    "\n",
    "class FeaturePhone(Phone):\n",
    "    pass\n",
    "\n",
    "SmartPhone(1000, \"Apple\", \"13px\").buy()"
   ]
  },
  {
   "cell_type": "markdown",
   "id": "dd0f973a-73a5-4aae-b340-4d22c182c5d4",
   "metadata": {},
   "source": [
    "### Ex - Multiple Inheritence"
   ]
  },
  {
   "cell_type": "code",
   "execution_count": 1,
   "id": "608d40a7-8f31-4f44-a752-5f6bd5e302f3",
   "metadata": {},
   "outputs": [
    {
     "name": "stdout",
     "output_type": "stream",
     "text": [
      "Inside phone constructor\n",
      "Buying a phone\n",
      "Customer review\n"
     ]
    }
   ],
   "source": [
    "class Phone:\n",
    "    def __init__(self, price, brand, camera):\n",
    "        print (\"Inside phone constructor\")\n",
    "        self.__price = price\n",
    "        self.brand = brand\n",
    "        self.camera = camera\n",
    "    def buy(self):\n",
    "        print (\"Buying a phone\")\n",
    "        \n",
    "class Product:\n",
    "    def review(self):\n",
    "        print (\"Customer review\")\n",
    "\n",
    "class SmartPhone(Phone, Product):\n",
    "    pass\n",
    "\n",
    "s = SmartPhone(20000, \"Apple\", 12)\n",
    "\n",
    "s.buy()\n",
    "s.review()"
   ]
  },
  {
   "cell_type": "markdown",
   "id": "650bc2de-cc27-452a-84e8-d2c16fbabe0b",
   "metadata": {},
   "source": [
    "### MRO - Method Resolution Order"
   ]
  },
  {
   "cell_type": "code",
   "execution_count": 1,
   "id": "47040588-063b-4bc4-a5b8-b5e33f1342a2",
   "metadata": {},
   "outputs": [
    {
     "name": "stdout",
     "output_type": "stream",
     "text": [
      "Inside phone constructor\n",
      "Product buy method\n"
     ]
    }
   ],
   "source": [
    "class Phone:\n",
    "    def __init__(self, price, brand, camera):\n",
    "        print (\"Inside phone constructor\")\n",
    "        self.__price = price\n",
    "        self.brand = brand\n",
    "        self.camera = camera\n",
    "    def buy(self):\n",
    "        print (\"Buying a phone\")\n",
    "\n",
    "class Product:\n",
    "    def buy(self):\n",
    "        print (\"Product buy method\")\n",
    "\n",
    "# MRO: Product ---> Phone\n",
    "class SmartPhone(Product, Phone):\n",
    "    pass\n",
    "\n",
    "s = SmartPhone(20000, \"Apple\", 12)\n",
    "s.buy()"
   ]
  },
  {
   "cell_type": "raw",
   "id": "72be8e66-ec17-458e-970e-bf38f76adf49",
   "metadata": {},
   "source": [
    "MRO ---> Order of inheritance determines priority.\n",
    "         In conflict, methods from first-inherited classes execute."
   ]
  },
  {
   "cell_type": "code",
   "execution_count": null,
   "id": "6f36a229-2020-4482-8d6a-84ad9e5156c5",
   "metadata": {},
   "outputs": [],
   "source": []
  }
 ],
 "metadata": {
  "kernelspec": {
   "display_name": "Python 3 (ipykernel)",
   "language": "python",
   "name": "python3"
  },
  "language_info": {
   "codemirror_mode": {
    "name": "ipython",
    "version": 3
   },
   "file_extension": ".py",
   "mimetype": "text/x-python",
   "name": "python",
   "nbconvert_exporter": "python",
   "pygments_lexer": "ipython3",
   "version": "3.13.5"
  }
 },
 "nbformat": 4,
 "nbformat_minor": 5
}
