{
 "cells": [
  {
   "cell_type": "markdown",
   "id": "c683e290-e5de-4080-958c-92d38431c1c1",
   "metadata": {},
   "source": [
    "## if-else"
   ]
  },
  {
   "cell_type": "code",
   "execution_count": 1,
   "id": "b4537153-0fd5-4f18-8f8a-16a853acab98",
   "metadata": {},
   "outputs": [
    {
     "name": "stdin",
     "output_type": "stream",
     "text": [
      "Enter your email:  sample@gmail.com\n",
      "Enter your email password:  4321\n"
     ]
    },
    {
     "name": "stdout",
     "output_type": "stream",
     "text": [
      "Password incorrect\n"
     ]
    },
    {
     "name": "stdin",
     "output_type": "stream",
     "text": [
      "Enter Password again:  1234\n"
     ]
    },
    {
     "name": "stdout",
     "output_type": "stream",
     "text": [
      "Finally correct\n"
     ]
    }
   ],
   "source": [
    "# correct email - sample@gmail.com\n",
    "# password = 1234\n",
    "\n",
    "email = input(\"Enter your email: \")\n",
    "if \"@\" in email:\n",
    "    password = input(\"Enter your email password: \")\n",
    "    \n",
    "    if email == \"sample@gmail.com\" and password == \"1234\":\n",
    "        print(\"Welcome\")\n",
    "    elif email == \"sample@gmail.com\" and password != \"1234\":\n",
    "        print(\"Password incorrect\")\n",
    "        password = input(\"Enter Password again: \")\n",
    "        if password ==\"1234\":\n",
    "            print(\"Finally correct\")\n",
    "        else:\n",
    "            print(\"Still incorrect\")\n",
    "    else:\n",
    "        print(\"Incorrect credentials\")\n",
    "else:\n",
    "    print(\"Email incorrect write again: \")"
   ]
  },
  {
   "cell_type": "code",
   "execution_count": 2,
   "id": "0fddacaf-322f-494f-b163-e9789f44ba16",
   "metadata": {},
   "outputs": [],
   "source": [
    "# if-else Examples\n",
    "# 1. Min of 3 Numbers\n",
    "# 2. Menu Driven Program"
   ]
  },
  {
   "cell_type": "code",
   "execution_count": 3,
   "id": "87ea86ab-067b-450a-9cb5-5437b8060837",
   "metadata": {},
   "outputs": [
    {
     "name": "stdin",
     "output_type": "stream",
     "text": [
      "first num:  4\n",
      "second num:  1\n",
      "third num:  10\n"
     ]
    },
    {
     "name": "stdout",
     "output_type": "stream",
     "text": [
      "smallest is 1\n"
     ]
    }
   ],
   "source": [
    "# 1. Min of 3 Numbers\n",
    "a = int(input('first num: '))\n",
    "b = int(input('second num: '))\n",
    "c = int(input('third num: '))\n",
    "\n",
    "if a < b and a < c:\n",
    "    print('smallest is', a)\n",
    "elif b < c:\n",
    "    print('smallest is', b)\n",
    "else:\n",
    "    print('smallest is', c)"
   ]
  },
  {
   "cell_type": "code",
   "execution_count": 4,
   "id": "b6e84ea4-d673-4a6a-87fc-74a4cfa07b37",
   "metadata": {},
   "outputs": [
    {
     "name": "stdin",
     "output_type": "stream",
     "text": [
      "\n",
      "Hi! how can I help you.\n",
      "1. Enter 1 for pin change\n",
      "2. Enter 2 for balance check\n",
      "3. Enter 3 for withdrawl\n",
      "4. Enter 4 for exit\n",
      " 2\n"
     ]
    },
    {
     "name": "stdout",
     "output_type": "stream",
     "text": [
      "balance\n"
     ]
    }
   ],
   "source": [
    "# 2. Menu-Driven Calculator\n",
    "menu = input(\"\"\"\n",
    "Hi! how can I help you.\n",
    "1. Enter 1 for pin change\n",
    "2. Enter 2 for balance check\n",
    "3. Enter 3 for withdrawl\n",
    "4. Enter 4 for exit\n",
    "\"\"\")\n",
    "\n",
    "if menu == '1':\n",
    "  print('pin change')\n",
    "elif menu == '2':\n",
    "  print('balance')\n",
    "else:\n",
    "  print('exit')"
   ]
  },
  {
   "cell_type": "code",
   "execution_count": null,
   "id": "c9c693ff-1ac0-40f4-a316-2bb2c8538633",
   "metadata": {},
   "outputs": [],
   "source": []
  }
 ],
 "metadata": {
  "kernelspec": {
   "display_name": "Python 3 (ipykernel)",
   "language": "python",
   "name": "python3"
  },
  "language_info": {
   "codemirror_mode": {
    "name": "ipython",
    "version": 3
   },
   "file_extension": ".py",
   "mimetype": "text/x-python",
   "name": "python",
   "nbconvert_exporter": "python",
   "pygments_lexer": "ipython3",
   "version": "3.13.5"
  }
 },
 "nbformat": 4,
 "nbformat_minor": 5
}
