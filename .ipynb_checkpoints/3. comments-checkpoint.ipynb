{
 "cells": [
  {
   "cell_type": "code",
   "execution_count": 1,
   "id": "e6142632-7310-433f-898f-ac9ea80f9478",
   "metadata": {},
   "outputs": [],
   "source": [
    "# comments\n"
   ]
  },
  {
   "cell_type": "code",
   "execution_count": 2,
   "id": "cb3dd3a3-8b41-4150-9f54-723d12ec43dc",
   "metadata": {},
   "outputs": [],
   "source": [
    "# this is a comment"
   ]
  },
  {
   "cell_type": "code",
   "execution_count": 3,
   "id": "432faf64-ce10-4ceb-8dee-0581fa3da7b0",
   "metadata": {},
   "outputs": [],
   "source": [
    "# my name is Dikshita\n",
    "# I love python"
   ]
  },
  {
   "cell_type": "code",
   "execution_count": null,
   "id": "fcd85c33-369a-42f3-9325-6286f361036f",
   "metadata": {},
   "outputs": [],
   "source": []
  }
 ],
 "metadata": {
  "kernelspec": {
   "display_name": "Python 3 (ipykernel)",
   "language": "python",
   "name": "python3"
  },
  "language_info": {
   "codemirror_mode": {
    "name": "ipython",
    "version": 3
   },
   "file_extension": ".py",
   "mimetype": "text/x-python",
   "name": "python",
   "nbconvert_exporter": "python",
   "pygments_lexer": "ipython3",
   "version": "3.13.5"
  }
 },
 "nbformat": 4,
 "nbformat_minor": 5
}
